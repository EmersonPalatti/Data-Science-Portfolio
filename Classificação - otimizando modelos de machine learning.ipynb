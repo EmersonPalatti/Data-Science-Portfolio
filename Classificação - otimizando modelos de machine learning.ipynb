{
 "cells": [
  {
   "cell_type": "markdown",
   "metadata": {
    "id": "fiS9Vv8dfYJS"
   },
   "source": [
    "# Conhecendo os dados"
   ]
  },
  {
   "cell_type": "code",
   "execution_count": 1,
   "metadata": {
    "id": "K45UDhHQuvYo"
   },
   "outputs": [],
   "source": [
    "import pandas as pd"
   ]
  },
  {
   "cell_type": "code",
   "execution_count": 2,
   "metadata": {
    "colab": {
     "base_uri": "https://localhost:8080/",
     "height": 206
    },
    "id": "pX1itUnVZ1yU",
    "outputId": "b3dc463d-0e3f-493a-d80e-edc8b0a9cac1"
   },
   "outputs": [
    {
     "data": {
      "text/html": [
       "<div>\n",
       "<style scoped>\n",
       "    .dataframe tbody tr th:only-of-type {\n",
       "        vertical-align: middle;\n",
       "    }\n",
       "\n",
       "    .dataframe tbody tr th {\n",
       "        vertical-align: top;\n",
       "    }\n",
       "\n",
       "    .dataframe thead th {\n",
       "        text-align: right;\n",
       "    }\n",
       "</style>\n",
       "<table border=\"1\" class=\"dataframe\">\n",
       "  <thead>\n",
       "    <tr style=\"text-align: right;\">\n",
       "      <th></th>\n",
       "      <th>receita_cliente</th>\n",
       "      <th>anuidade_emprestimo</th>\n",
       "      <th>anos_casa_propria</th>\n",
       "      <th>telefone_trab</th>\n",
       "      <th>avaliacao_cidade</th>\n",
       "      <th>score_1</th>\n",
       "      <th>score_2</th>\n",
       "      <th>score_3</th>\n",
       "      <th>score_social</th>\n",
       "      <th>troca_telefone</th>\n",
       "      <th>inadimplente</th>\n",
       "    </tr>\n",
       "  </thead>\n",
       "  <tbody>\n",
       "    <tr>\n",
       "      <th>0</th>\n",
       "      <td>16855.246324</td>\n",
       "      <td>2997.000000</td>\n",
       "      <td>12.157324</td>\n",
       "      <td>0</td>\n",
       "      <td>2.0</td>\n",
       "      <td>0.501213</td>\n",
       "      <td>0.003109</td>\n",
       "      <td>0.513171</td>\n",
       "      <td>0.117428</td>\n",
       "      <td>243.0</td>\n",
       "      <td>1</td>\n",
       "    </tr>\n",
       "    <tr>\n",
       "      <th>1</th>\n",
       "      <td>13500.000000</td>\n",
       "      <td>2776.050000</td>\n",
       "      <td>12.157324</td>\n",
       "      <td>0</td>\n",
       "      <td>2.0</td>\n",
       "      <td>0.501213</td>\n",
       "      <td>0.269730</td>\n",
       "      <td>0.513171</td>\n",
       "      <td>0.097900</td>\n",
       "      <td>617.0</td>\n",
       "      <td>0</td>\n",
       "    </tr>\n",
       "    <tr>\n",
       "      <th>2</th>\n",
       "      <td>11250.000000</td>\n",
       "      <td>2722.188351</td>\n",
       "      <td>12.157324</td>\n",
       "      <td>0</td>\n",
       "      <td>3.0</td>\n",
       "      <td>0.701396</td>\n",
       "      <td>0.518625</td>\n",
       "      <td>0.700184</td>\n",
       "      <td>0.118600</td>\n",
       "      <td>9.0</td>\n",
       "      <td>0</td>\n",
       "    </tr>\n",
       "    <tr>\n",
       "      <th>3</th>\n",
       "      <td>27000.000000</td>\n",
       "      <td>6750.000000</td>\n",
       "      <td>3.000000</td>\n",
       "      <td>0</td>\n",
       "      <td>2.0</td>\n",
       "      <td>0.501213</td>\n",
       "      <td>0.649571</td>\n",
       "      <td>0.513171</td>\n",
       "      <td>0.047400</td>\n",
       "      <td>300.0</td>\n",
       "      <td>0</td>\n",
       "    </tr>\n",
       "    <tr>\n",
       "      <th>4</th>\n",
       "      <td>22500.000000</td>\n",
       "      <td>3097.800000</td>\n",
       "      <td>12.157324</td>\n",
       "      <td>0</td>\n",
       "      <td>2.0</td>\n",
       "      <td>0.440744</td>\n",
       "      <td>0.509677</td>\n",
       "      <td>0.513171</td>\n",
       "      <td>0.014400</td>\n",
       "      <td>2913.0</td>\n",
       "      <td>1</td>\n",
       "    </tr>\n",
       "  </tbody>\n",
       "</table>\n",
       "</div>"
      ],
      "text/plain": [
       "   receita_cliente  anuidade_emprestimo  anos_casa_propria  telefone_trab  \\\n",
       "0     16855.246324          2997.000000          12.157324              0   \n",
       "1     13500.000000          2776.050000          12.157324              0   \n",
       "2     11250.000000          2722.188351          12.157324              0   \n",
       "3     27000.000000          6750.000000           3.000000              0   \n",
       "4     22500.000000          3097.800000          12.157324              0   \n",
       "\n",
       "   avaliacao_cidade   score_1   score_2   score_3  score_social  \\\n",
       "0               2.0  0.501213  0.003109  0.513171      0.117428   \n",
       "1               2.0  0.501213  0.269730  0.513171      0.097900   \n",
       "2               3.0  0.701396  0.518625  0.700184      0.118600   \n",
       "3               2.0  0.501213  0.649571  0.513171      0.047400   \n",
       "4               2.0  0.440744  0.509677  0.513171      0.014400   \n",
       "\n",
       "   troca_telefone  inadimplente  \n",
       "0           243.0             1  \n",
       "1           617.0             0  \n",
       "2             9.0             0  \n",
       "3           300.0             0  \n",
       "4          2913.0             1  "
      ]
     },
     "execution_count": 2,
     "metadata": {},
     "output_type": "execute_result"
    }
   ],
   "source": [
    "df = pd.read_csv(r'C:\\Users\\enama\\OneDrive\\Alura\\Data Science\\Machine Learning com Python Classificação\\4. Classificação otimizando modelos de machine learning\\dados_inadimplencia.csv')\n",
    "df.head()"
   ]
  },
  {
   "cell_type": "code",
   "execution_count": 3,
   "metadata": {
    "colab": {
     "base_uri": "https://localhost:8080/"
    },
    "id": "vqY-KziMZ5la",
    "outputId": "bd169afd-d9a9-48f9-fd1b-78a5ee9a4e67"
   },
   "outputs": [
    {
     "name": "stdout",
     "output_type": "stream",
     "text": [
      "<class 'pandas.core.frame.DataFrame'>\n",
      "RangeIndex: 14578 entries, 0 to 14577\n",
      "Data columns (total 11 columns):\n",
      " #   Column               Non-Null Count  Dtype  \n",
      "---  ------               --------------  -----  \n",
      " 0   receita_cliente      14578 non-null  float64\n",
      " 1   anuidade_emprestimo  14578 non-null  float64\n",
      " 2   anos_casa_propria    14578 non-null  float64\n",
      " 3   telefone_trab        14578 non-null  int64  \n",
      " 4   avaliacao_cidade     14578 non-null  float64\n",
      " 5   score_1              14578 non-null  float64\n",
      " 6   score_2              14578 non-null  float64\n",
      " 7   score_3              14578 non-null  float64\n",
      " 8   score_social         14578 non-null  float64\n",
      " 9   troca_telefone       14578 non-null  float64\n",
      " 10  inadimplente         14578 non-null  int64  \n",
      "dtypes: float64(9), int64(2)\n",
      "memory usage: 1.2 MB\n"
     ]
    }
   ],
   "source": [
    "df.info()"
   ]
  },
  {
   "cell_type": "code",
   "execution_count": 4,
   "metadata": {
    "colab": {
     "base_uri": "https://localhost:8080/",
     "height": 178
    },
    "id": "o7-JV69zaF-F",
    "outputId": "0e56f743-3060-428a-efe7-5517f5811bff"
   },
   "outputs": [
    {
     "data": {
      "text/plain": [
       "inadimplente\n",
       "0    67.65\n",
       "1    32.35\n",
       "Name: proportion, dtype: float64"
      ]
     },
     "execution_count": 4,
     "metadata": {},
     "output_type": "execute_result"
    }
   ],
   "source": [
    "df['inadimplente'].value_counts(normalize=True).round(4)*100"
   ]
  },
  {
   "cell_type": "markdown",
   "metadata": {
    "id": "7iaecueWfiRN"
   },
   "source": [
    "# Separando os dados"
   ]
  },
  {
   "cell_type": "code",
   "execution_count": 5,
   "metadata": {
    "id": "9v9GFQCIaTYs"
   },
   "outputs": [],
   "source": [
    "x = df.drop('inadimplente', axis=1)\n",
    "y = df['inadimplente']"
   ]
  },
  {
   "cell_type": "code",
   "execution_count": 6,
   "metadata": {
    "id": "M3RRBuxBaj7M"
   },
   "outputs": [],
   "source": [
    "from sklearn.model_selection import train_test_split"
   ]
  },
  {
   "cell_type": "code",
   "execution_count": 7,
   "metadata": {
    "id": "cdBIo0zWaoqG"
   },
   "outputs": [],
   "source": [
    "x_train, x_test, y_train, y_test = train_test_split(x, y, test_size=0.33,\n",
    "                                                    random_state=42,\n",
    "                                                    stratify=y)"
   ]
  },
  {
   "cell_type": "code",
   "execution_count": 8,
   "metadata": {
    "id": "ILUq8jXEa-jP"
   },
   "outputs": [],
   "source": [
    "from sklearn.tree import DecisionTreeClassifier"
   ]
  },
  {
   "cell_type": "markdown",
   "metadata": {
    "id": "tMr9xCjyfeSa"
   },
   "source": [
    "# DecisionTreeClassifier"
   ]
  },
  {
   "cell_type": "code",
   "execution_count": 9,
   "metadata": {
    "colab": {
     "base_uri": "https://localhost:8080/",
     "height": 80
    },
    "id": "8uVj1eQtcYpZ",
    "outputId": "8d772e2c-e3e6-4d31-a3a9-193957751e06"
   },
   "outputs": [
    {
     "data": {
      "text/html": [
       "<style>#sk-container-id-1 {\n",
       "  /* Definition of color scheme common for light and dark mode */\n",
       "  --sklearn-color-text: black;\n",
       "  --sklearn-color-line: gray;\n",
       "  /* Definition of color scheme for unfitted estimators */\n",
       "  --sklearn-color-unfitted-level-0: #fff5e6;\n",
       "  --sklearn-color-unfitted-level-1: #f6e4d2;\n",
       "  --sklearn-color-unfitted-level-2: #ffe0b3;\n",
       "  --sklearn-color-unfitted-level-3: chocolate;\n",
       "  /* Definition of color scheme for fitted estimators */\n",
       "  --sklearn-color-fitted-level-0: #f0f8ff;\n",
       "  --sklearn-color-fitted-level-1: #d4ebff;\n",
       "  --sklearn-color-fitted-level-2: #b3dbfd;\n",
       "  --sklearn-color-fitted-level-3: cornflowerblue;\n",
       "\n",
       "  /* Specific color for light theme */\n",
       "  --sklearn-color-text-on-default-background: var(--sg-text-color, var(--theme-code-foreground, var(--jp-content-font-color1, black)));\n",
       "  --sklearn-color-background: var(--sg-background-color, var(--theme-background, var(--jp-layout-color0, white)));\n",
       "  --sklearn-color-border-box: var(--sg-text-color, var(--theme-code-foreground, var(--jp-content-font-color1, black)));\n",
       "  --sklearn-color-icon: #696969;\n",
       "\n",
       "  @media (prefers-color-scheme: dark) {\n",
       "    /* Redefinition of color scheme for dark theme */\n",
       "    --sklearn-color-text-on-default-background: var(--sg-text-color, var(--theme-code-foreground, var(--jp-content-font-color1, white)));\n",
       "    --sklearn-color-background: var(--sg-background-color, var(--theme-background, var(--jp-layout-color0, #111)));\n",
       "    --sklearn-color-border-box: var(--sg-text-color, var(--theme-code-foreground, var(--jp-content-font-color1, white)));\n",
       "    --sklearn-color-icon: #878787;\n",
       "  }\n",
       "}\n",
       "\n",
       "#sk-container-id-1 {\n",
       "  color: var(--sklearn-color-text);\n",
       "}\n",
       "\n",
       "#sk-container-id-1 pre {\n",
       "  padding: 0;\n",
       "}\n",
       "\n",
       "#sk-container-id-1 input.sk-hidden--visually {\n",
       "  border: 0;\n",
       "  clip: rect(1px 1px 1px 1px);\n",
       "  clip: rect(1px, 1px, 1px, 1px);\n",
       "  height: 1px;\n",
       "  margin: -1px;\n",
       "  overflow: hidden;\n",
       "  padding: 0;\n",
       "  position: absolute;\n",
       "  width: 1px;\n",
       "}\n",
       "\n",
       "#sk-container-id-1 div.sk-dashed-wrapped {\n",
       "  border: 1px dashed var(--sklearn-color-line);\n",
       "  margin: 0 0.4em 0.5em 0.4em;\n",
       "  box-sizing: border-box;\n",
       "  padding-bottom: 0.4em;\n",
       "  background-color: var(--sklearn-color-background);\n",
       "}\n",
       "\n",
       "#sk-container-id-1 div.sk-container {\n",
       "  /* jupyter's `normalize.less` sets `[hidden] { display: none; }`\n",
       "     but bootstrap.min.css set `[hidden] { display: none !important; }`\n",
       "     so we also need the `!important` here to be able to override the\n",
       "     default hidden behavior on the sphinx rendered scikit-learn.org.\n",
       "     See: https://github.com/scikit-learn/scikit-learn/issues/21755 */\n",
       "  display: inline-block !important;\n",
       "  position: relative;\n",
       "}\n",
       "\n",
       "#sk-container-id-1 div.sk-text-repr-fallback {\n",
       "  display: none;\n",
       "}\n",
       "\n",
       "div.sk-parallel-item,\n",
       "div.sk-serial,\n",
       "div.sk-item {\n",
       "  /* draw centered vertical line to link estimators */\n",
       "  background-image: linear-gradient(var(--sklearn-color-text-on-default-background), var(--sklearn-color-text-on-default-background));\n",
       "  background-size: 2px 100%;\n",
       "  background-repeat: no-repeat;\n",
       "  background-position: center center;\n",
       "}\n",
       "\n",
       "/* Parallel-specific style estimator block */\n",
       "\n",
       "#sk-container-id-1 div.sk-parallel-item::after {\n",
       "  content: \"\";\n",
       "  width: 100%;\n",
       "  border-bottom: 2px solid var(--sklearn-color-text-on-default-background);\n",
       "  flex-grow: 1;\n",
       "}\n",
       "\n",
       "#sk-container-id-1 div.sk-parallel {\n",
       "  display: flex;\n",
       "  align-items: stretch;\n",
       "  justify-content: center;\n",
       "  background-color: var(--sklearn-color-background);\n",
       "  position: relative;\n",
       "}\n",
       "\n",
       "#sk-container-id-1 div.sk-parallel-item {\n",
       "  display: flex;\n",
       "  flex-direction: column;\n",
       "}\n",
       "\n",
       "#sk-container-id-1 div.sk-parallel-item:first-child::after {\n",
       "  align-self: flex-end;\n",
       "  width: 50%;\n",
       "}\n",
       "\n",
       "#sk-container-id-1 div.sk-parallel-item:last-child::after {\n",
       "  align-self: flex-start;\n",
       "  width: 50%;\n",
       "}\n",
       "\n",
       "#sk-container-id-1 div.sk-parallel-item:only-child::after {\n",
       "  width: 0;\n",
       "}\n",
       "\n",
       "/* Serial-specific style estimator block */\n",
       "\n",
       "#sk-container-id-1 div.sk-serial {\n",
       "  display: flex;\n",
       "  flex-direction: column;\n",
       "  align-items: center;\n",
       "  background-color: var(--sklearn-color-background);\n",
       "  padding-right: 1em;\n",
       "  padding-left: 1em;\n",
       "}\n",
       "\n",
       "\n",
       "/* Toggleable style: style used for estimator/Pipeline/ColumnTransformer box that is\n",
       "clickable and can be expanded/collapsed.\n",
       "- Pipeline and ColumnTransformer use this feature and define the default style\n",
       "- Estimators will overwrite some part of the style using the `sk-estimator` class\n",
       "*/\n",
       "\n",
       "/* Pipeline and ColumnTransformer style (default) */\n",
       "\n",
       "#sk-container-id-1 div.sk-toggleable {\n",
       "  /* Default theme specific background. It is overwritten whether we have a\n",
       "  specific estimator or a Pipeline/ColumnTransformer */\n",
       "  background-color: var(--sklearn-color-background);\n",
       "}\n",
       "\n",
       "/* Toggleable label */\n",
       "#sk-container-id-1 label.sk-toggleable__label {\n",
       "  cursor: pointer;\n",
       "  display: block;\n",
       "  width: 100%;\n",
       "  margin-bottom: 0;\n",
       "  padding: 0.5em;\n",
       "  box-sizing: border-box;\n",
       "  text-align: center;\n",
       "}\n",
       "\n",
       "#sk-container-id-1 label.sk-toggleable__label-arrow:before {\n",
       "  /* Arrow on the left of the label */\n",
       "  content: \"▸\";\n",
       "  float: left;\n",
       "  margin-right: 0.25em;\n",
       "  color: var(--sklearn-color-icon);\n",
       "}\n",
       "\n",
       "#sk-container-id-1 label.sk-toggleable__label-arrow:hover:before {\n",
       "  color: var(--sklearn-color-text);\n",
       "}\n",
       "\n",
       "/* Toggleable content - dropdown */\n",
       "\n",
       "#sk-container-id-1 div.sk-toggleable__content {\n",
       "  max-height: 0;\n",
       "  max-width: 0;\n",
       "  overflow: hidden;\n",
       "  text-align: left;\n",
       "  /* unfitted */\n",
       "  background-color: var(--sklearn-color-unfitted-level-0);\n",
       "}\n",
       "\n",
       "#sk-container-id-1 div.sk-toggleable__content.fitted {\n",
       "  /* fitted */\n",
       "  background-color: var(--sklearn-color-fitted-level-0);\n",
       "}\n",
       "\n",
       "#sk-container-id-1 div.sk-toggleable__content pre {\n",
       "  margin: 0.2em;\n",
       "  border-radius: 0.25em;\n",
       "  color: var(--sklearn-color-text);\n",
       "  /* unfitted */\n",
       "  background-color: var(--sklearn-color-unfitted-level-0);\n",
       "}\n",
       "\n",
       "#sk-container-id-1 div.sk-toggleable__content.fitted pre {\n",
       "  /* unfitted */\n",
       "  background-color: var(--sklearn-color-fitted-level-0);\n",
       "}\n",
       "\n",
       "#sk-container-id-1 input.sk-toggleable__control:checked~div.sk-toggleable__content {\n",
       "  /* Expand drop-down */\n",
       "  max-height: 200px;\n",
       "  max-width: 100%;\n",
       "  overflow: auto;\n",
       "}\n",
       "\n",
       "#sk-container-id-1 input.sk-toggleable__control:checked~label.sk-toggleable__label-arrow:before {\n",
       "  content: \"▾\";\n",
       "}\n",
       "\n",
       "/* Pipeline/ColumnTransformer-specific style */\n",
       "\n",
       "#sk-container-id-1 div.sk-label input.sk-toggleable__control:checked~label.sk-toggleable__label {\n",
       "  color: var(--sklearn-color-text);\n",
       "  background-color: var(--sklearn-color-unfitted-level-2);\n",
       "}\n",
       "\n",
       "#sk-container-id-1 div.sk-label.fitted input.sk-toggleable__control:checked~label.sk-toggleable__label {\n",
       "  background-color: var(--sklearn-color-fitted-level-2);\n",
       "}\n",
       "\n",
       "/* Estimator-specific style */\n",
       "\n",
       "/* Colorize estimator box */\n",
       "#sk-container-id-1 div.sk-estimator input.sk-toggleable__control:checked~label.sk-toggleable__label {\n",
       "  /* unfitted */\n",
       "  background-color: var(--sklearn-color-unfitted-level-2);\n",
       "}\n",
       "\n",
       "#sk-container-id-1 div.sk-estimator.fitted input.sk-toggleable__control:checked~label.sk-toggleable__label {\n",
       "  /* fitted */\n",
       "  background-color: var(--sklearn-color-fitted-level-2);\n",
       "}\n",
       "\n",
       "#sk-container-id-1 div.sk-label label.sk-toggleable__label,\n",
       "#sk-container-id-1 div.sk-label label {\n",
       "  /* The background is the default theme color */\n",
       "  color: var(--sklearn-color-text-on-default-background);\n",
       "}\n",
       "\n",
       "/* On hover, darken the color of the background */\n",
       "#sk-container-id-1 div.sk-label:hover label.sk-toggleable__label {\n",
       "  color: var(--sklearn-color-text);\n",
       "  background-color: var(--sklearn-color-unfitted-level-2);\n",
       "}\n",
       "\n",
       "/* Label box, darken color on hover, fitted */\n",
       "#sk-container-id-1 div.sk-label.fitted:hover label.sk-toggleable__label.fitted {\n",
       "  color: var(--sklearn-color-text);\n",
       "  background-color: var(--sklearn-color-fitted-level-2);\n",
       "}\n",
       "\n",
       "/* Estimator label */\n",
       "\n",
       "#sk-container-id-1 div.sk-label label {\n",
       "  font-family: monospace;\n",
       "  font-weight: bold;\n",
       "  display: inline-block;\n",
       "  line-height: 1.2em;\n",
       "}\n",
       "\n",
       "#sk-container-id-1 div.sk-label-container {\n",
       "  text-align: center;\n",
       "}\n",
       "\n",
       "/* Estimator-specific */\n",
       "#sk-container-id-1 div.sk-estimator {\n",
       "  font-family: monospace;\n",
       "  border: 1px dotted var(--sklearn-color-border-box);\n",
       "  border-radius: 0.25em;\n",
       "  box-sizing: border-box;\n",
       "  margin-bottom: 0.5em;\n",
       "  /* unfitted */\n",
       "  background-color: var(--sklearn-color-unfitted-level-0);\n",
       "}\n",
       "\n",
       "#sk-container-id-1 div.sk-estimator.fitted {\n",
       "  /* fitted */\n",
       "  background-color: var(--sklearn-color-fitted-level-0);\n",
       "}\n",
       "\n",
       "/* on hover */\n",
       "#sk-container-id-1 div.sk-estimator:hover {\n",
       "  /* unfitted */\n",
       "  background-color: var(--sklearn-color-unfitted-level-2);\n",
       "}\n",
       "\n",
       "#sk-container-id-1 div.sk-estimator.fitted:hover {\n",
       "  /* fitted */\n",
       "  background-color: var(--sklearn-color-fitted-level-2);\n",
       "}\n",
       "\n",
       "/* Specification for estimator info (e.g. \"i\" and \"?\") */\n",
       "\n",
       "/* Common style for \"i\" and \"?\" */\n",
       "\n",
       ".sk-estimator-doc-link,\n",
       "a:link.sk-estimator-doc-link,\n",
       "a:visited.sk-estimator-doc-link {\n",
       "  float: right;\n",
       "  font-size: smaller;\n",
       "  line-height: 1em;\n",
       "  font-family: monospace;\n",
       "  background-color: var(--sklearn-color-background);\n",
       "  border-radius: 1em;\n",
       "  height: 1em;\n",
       "  width: 1em;\n",
       "  text-decoration: none !important;\n",
       "  margin-left: 1ex;\n",
       "  /* unfitted */\n",
       "  border: var(--sklearn-color-unfitted-level-1) 1pt solid;\n",
       "  color: var(--sklearn-color-unfitted-level-1);\n",
       "}\n",
       "\n",
       ".sk-estimator-doc-link.fitted,\n",
       "a:link.sk-estimator-doc-link.fitted,\n",
       "a:visited.sk-estimator-doc-link.fitted {\n",
       "  /* fitted */\n",
       "  border: var(--sklearn-color-fitted-level-1) 1pt solid;\n",
       "  color: var(--sklearn-color-fitted-level-1);\n",
       "}\n",
       "\n",
       "/* On hover */\n",
       "div.sk-estimator:hover .sk-estimator-doc-link:hover,\n",
       ".sk-estimator-doc-link:hover,\n",
       "div.sk-label-container:hover .sk-estimator-doc-link:hover,\n",
       ".sk-estimator-doc-link:hover {\n",
       "  /* unfitted */\n",
       "  background-color: var(--sklearn-color-unfitted-level-3);\n",
       "  color: var(--sklearn-color-background);\n",
       "  text-decoration: none;\n",
       "}\n",
       "\n",
       "div.sk-estimator.fitted:hover .sk-estimator-doc-link.fitted:hover,\n",
       ".sk-estimator-doc-link.fitted:hover,\n",
       "div.sk-label-container:hover .sk-estimator-doc-link.fitted:hover,\n",
       ".sk-estimator-doc-link.fitted:hover {\n",
       "  /* fitted */\n",
       "  background-color: var(--sklearn-color-fitted-level-3);\n",
       "  color: var(--sklearn-color-background);\n",
       "  text-decoration: none;\n",
       "}\n",
       "\n",
       "/* Span, style for the box shown on hovering the info icon */\n",
       ".sk-estimator-doc-link span {\n",
       "  display: none;\n",
       "  z-index: 9999;\n",
       "  position: relative;\n",
       "  font-weight: normal;\n",
       "  right: .2ex;\n",
       "  padding: .5ex;\n",
       "  margin: .5ex;\n",
       "  width: min-content;\n",
       "  min-width: 20ex;\n",
       "  max-width: 50ex;\n",
       "  color: var(--sklearn-color-text);\n",
       "  box-shadow: 2pt 2pt 4pt #999;\n",
       "  /* unfitted */\n",
       "  background: var(--sklearn-color-unfitted-level-0);\n",
       "  border: .5pt solid var(--sklearn-color-unfitted-level-3);\n",
       "}\n",
       "\n",
       ".sk-estimator-doc-link.fitted span {\n",
       "  /* fitted */\n",
       "  background: var(--sklearn-color-fitted-level-0);\n",
       "  border: var(--sklearn-color-fitted-level-3);\n",
       "}\n",
       "\n",
       ".sk-estimator-doc-link:hover span {\n",
       "  display: block;\n",
       "}\n",
       "\n",
       "/* \"?\"-specific style due to the `<a>` HTML tag */\n",
       "\n",
       "#sk-container-id-1 a.estimator_doc_link {\n",
       "  float: right;\n",
       "  font-size: 1rem;\n",
       "  line-height: 1em;\n",
       "  font-family: monospace;\n",
       "  background-color: var(--sklearn-color-background);\n",
       "  border-radius: 1rem;\n",
       "  height: 1rem;\n",
       "  width: 1rem;\n",
       "  text-decoration: none;\n",
       "  /* unfitted */\n",
       "  color: var(--sklearn-color-unfitted-level-1);\n",
       "  border: var(--sklearn-color-unfitted-level-1) 1pt solid;\n",
       "}\n",
       "\n",
       "#sk-container-id-1 a.estimator_doc_link.fitted {\n",
       "  /* fitted */\n",
       "  border: var(--sklearn-color-fitted-level-1) 1pt solid;\n",
       "  color: var(--sklearn-color-fitted-level-1);\n",
       "}\n",
       "\n",
       "/* On hover */\n",
       "#sk-container-id-1 a.estimator_doc_link:hover {\n",
       "  /* unfitted */\n",
       "  background-color: var(--sklearn-color-unfitted-level-3);\n",
       "  color: var(--sklearn-color-background);\n",
       "  text-decoration: none;\n",
       "}\n",
       "\n",
       "#sk-container-id-1 a.estimator_doc_link.fitted:hover {\n",
       "  /* fitted */\n",
       "  background-color: var(--sklearn-color-fitted-level-3);\n",
       "}\n",
       "</style><div id=\"sk-container-id-1\" class=\"sk-top-container\"><div class=\"sk-text-repr-fallback\"><pre>DecisionTreeClassifier(max_depth=3, random_state=42)</pre><b>In a Jupyter environment, please rerun this cell to show the HTML representation or trust the notebook. <br />On GitHub, the HTML representation is unable to render, please try loading this page with nbviewer.org.</b></div><div class=\"sk-container\" hidden><div class=\"sk-item\"><div class=\"sk-estimator fitted sk-toggleable\"><input class=\"sk-toggleable__control sk-hidden--visually\" id=\"sk-estimator-id-1\" type=\"checkbox\" checked><label for=\"sk-estimator-id-1\" class=\"sk-toggleable__label fitted sk-toggleable__label-arrow fitted\">&nbsp;&nbsp;DecisionTreeClassifier<a class=\"sk-estimator-doc-link fitted\" rel=\"noreferrer\" target=\"_blank\" href=\"https://scikit-learn.org/1.5/modules/generated/sklearn.tree.DecisionTreeClassifier.html\">?<span>Documentation for DecisionTreeClassifier</span></a><span class=\"sk-estimator-doc-link fitted\">i<span>Fitted</span></span></label><div class=\"sk-toggleable__content fitted\"><pre>DecisionTreeClassifier(max_depth=3, random_state=42)</pre></div> </div></div></div></div>"
      ],
      "text/plain": [
       "DecisionTreeClassifier(max_depth=3, random_state=42)"
      ]
     },
     "execution_count": 9,
     "metadata": {},
     "output_type": "execute_result"
    }
   ],
   "source": [
    "modelo_dt = DecisionTreeClassifier(random_state=42,\n",
    "                                   max_depth=3)\n",
    "\n",
    "modelo_dt.fit(x_train, y_train)"
   ]
  },
  {
   "cell_type": "code",
   "execution_count": 10,
   "metadata": {
    "colab": {
     "base_uri": "https://localhost:8080/"
    },
    "id": "LMo8Nm5ncmk-",
    "outputId": "9f6acd47-9cf7-4a06-a027-1dfe48e2056d"
   },
   "outputs": [
    {
     "name": "stdout",
     "output_type": "stream",
     "text": [
      "recall do DT: 0.143\n"
     ]
    }
   ],
   "source": [
    "from sklearn.metrics import recall_score\n",
    "\n",
    "recall_dt = recall_score(y_test, modelo_dt.predict(x_test))\n",
    "print(f'recall do DT: {recall_dt:.3f}')"
   ]
  },
  {
   "cell_type": "markdown",
   "metadata": {
    "id": "bJEDR61-fk4b"
   },
   "source": [
    "# LogisticRegression"
   ]
  },
  {
   "cell_type": "code",
   "execution_count": 11,
   "metadata": {
    "id": "wUWhCk2FdVxw"
   },
   "outputs": [],
   "source": [
    "from sklearn.linear_model import LogisticRegression\n",
    "from sklearn.pipeline import make_pipeline\n",
    "from sklearn.preprocessing import StandardScaler"
   ]
  },
  {
   "cell_type": "code",
   "execution_count": 12,
   "metadata": {
    "colab": {
     "base_uri": "https://localhost:8080/",
     "height": 141
    },
    "id": "0e1EDJq0fw7A",
    "outputId": "6e8146b2-553b-49b1-8bee-3800f2cf8489"
   },
   "outputs": [
    {
     "data": {
      "text/html": [
       "<style>#sk-container-id-2 {\n",
       "  /* Definition of color scheme common for light and dark mode */\n",
       "  --sklearn-color-text: black;\n",
       "  --sklearn-color-line: gray;\n",
       "  /* Definition of color scheme for unfitted estimators */\n",
       "  --sklearn-color-unfitted-level-0: #fff5e6;\n",
       "  --sklearn-color-unfitted-level-1: #f6e4d2;\n",
       "  --sklearn-color-unfitted-level-2: #ffe0b3;\n",
       "  --sklearn-color-unfitted-level-3: chocolate;\n",
       "  /* Definition of color scheme for fitted estimators */\n",
       "  --sklearn-color-fitted-level-0: #f0f8ff;\n",
       "  --sklearn-color-fitted-level-1: #d4ebff;\n",
       "  --sklearn-color-fitted-level-2: #b3dbfd;\n",
       "  --sklearn-color-fitted-level-3: cornflowerblue;\n",
       "\n",
       "  /* Specific color for light theme */\n",
       "  --sklearn-color-text-on-default-background: var(--sg-text-color, var(--theme-code-foreground, var(--jp-content-font-color1, black)));\n",
       "  --sklearn-color-background: var(--sg-background-color, var(--theme-background, var(--jp-layout-color0, white)));\n",
       "  --sklearn-color-border-box: var(--sg-text-color, var(--theme-code-foreground, var(--jp-content-font-color1, black)));\n",
       "  --sklearn-color-icon: #696969;\n",
       "\n",
       "  @media (prefers-color-scheme: dark) {\n",
       "    /* Redefinition of color scheme for dark theme */\n",
       "    --sklearn-color-text-on-default-background: var(--sg-text-color, var(--theme-code-foreground, var(--jp-content-font-color1, white)));\n",
       "    --sklearn-color-background: var(--sg-background-color, var(--theme-background, var(--jp-layout-color0, #111)));\n",
       "    --sklearn-color-border-box: var(--sg-text-color, var(--theme-code-foreground, var(--jp-content-font-color1, white)));\n",
       "    --sklearn-color-icon: #878787;\n",
       "  }\n",
       "}\n",
       "\n",
       "#sk-container-id-2 {\n",
       "  color: var(--sklearn-color-text);\n",
       "}\n",
       "\n",
       "#sk-container-id-2 pre {\n",
       "  padding: 0;\n",
       "}\n",
       "\n",
       "#sk-container-id-2 input.sk-hidden--visually {\n",
       "  border: 0;\n",
       "  clip: rect(1px 1px 1px 1px);\n",
       "  clip: rect(1px, 1px, 1px, 1px);\n",
       "  height: 1px;\n",
       "  margin: -1px;\n",
       "  overflow: hidden;\n",
       "  padding: 0;\n",
       "  position: absolute;\n",
       "  width: 1px;\n",
       "}\n",
       "\n",
       "#sk-container-id-2 div.sk-dashed-wrapped {\n",
       "  border: 1px dashed var(--sklearn-color-line);\n",
       "  margin: 0 0.4em 0.5em 0.4em;\n",
       "  box-sizing: border-box;\n",
       "  padding-bottom: 0.4em;\n",
       "  background-color: var(--sklearn-color-background);\n",
       "}\n",
       "\n",
       "#sk-container-id-2 div.sk-container {\n",
       "  /* jupyter's `normalize.less` sets `[hidden] { display: none; }`\n",
       "     but bootstrap.min.css set `[hidden] { display: none !important; }`\n",
       "     so we also need the `!important` here to be able to override the\n",
       "     default hidden behavior on the sphinx rendered scikit-learn.org.\n",
       "     See: https://github.com/scikit-learn/scikit-learn/issues/21755 */\n",
       "  display: inline-block !important;\n",
       "  position: relative;\n",
       "}\n",
       "\n",
       "#sk-container-id-2 div.sk-text-repr-fallback {\n",
       "  display: none;\n",
       "}\n",
       "\n",
       "div.sk-parallel-item,\n",
       "div.sk-serial,\n",
       "div.sk-item {\n",
       "  /* draw centered vertical line to link estimators */\n",
       "  background-image: linear-gradient(var(--sklearn-color-text-on-default-background), var(--sklearn-color-text-on-default-background));\n",
       "  background-size: 2px 100%;\n",
       "  background-repeat: no-repeat;\n",
       "  background-position: center center;\n",
       "}\n",
       "\n",
       "/* Parallel-specific style estimator block */\n",
       "\n",
       "#sk-container-id-2 div.sk-parallel-item::after {\n",
       "  content: \"\";\n",
       "  width: 100%;\n",
       "  border-bottom: 2px solid var(--sklearn-color-text-on-default-background);\n",
       "  flex-grow: 1;\n",
       "}\n",
       "\n",
       "#sk-container-id-2 div.sk-parallel {\n",
       "  display: flex;\n",
       "  align-items: stretch;\n",
       "  justify-content: center;\n",
       "  background-color: var(--sklearn-color-background);\n",
       "  position: relative;\n",
       "}\n",
       "\n",
       "#sk-container-id-2 div.sk-parallel-item {\n",
       "  display: flex;\n",
       "  flex-direction: column;\n",
       "}\n",
       "\n",
       "#sk-container-id-2 div.sk-parallel-item:first-child::after {\n",
       "  align-self: flex-end;\n",
       "  width: 50%;\n",
       "}\n",
       "\n",
       "#sk-container-id-2 div.sk-parallel-item:last-child::after {\n",
       "  align-self: flex-start;\n",
       "  width: 50%;\n",
       "}\n",
       "\n",
       "#sk-container-id-2 div.sk-parallel-item:only-child::after {\n",
       "  width: 0;\n",
       "}\n",
       "\n",
       "/* Serial-specific style estimator block */\n",
       "\n",
       "#sk-container-id-2 div.sk-serial {\n",
       "  display: flex;\n",
       "  flex-direction: column;\n",
       "  align-items: center;\n",
       "  background-color: var(--sklearn-color-background);\n",
       "  padding-right: 1em;\n",
       "  padding-left: 1em;\n",
       "}\n",
       "\n",
       "\n",
       "/* Toggleable style: style used for estimator/Pipeline/ColumnTransformer box that is\n",
       "clickable and can be expanded/collapsed.\n",
       "- Pipeline and ColumnTransformer use this feature and define the default style\n",
       "- Estimators will overwrite some part of the style using the `sk-estimator` class\n",
       "*/\n",
       "\n",
       "/* Pipeline and ColumnTransformer style (default) */\n",
       "\n",
       "#sk-container-id-2 div.sk-toggleable {\n",
       "  /* Default theme specific background. It is overwritten whether we have a\n",
       "  specific estimator or a Pipeline/ColumnTransformer */\n",
       "  background-color: var(--sklearn-color-background);\n",
       "}\n",
       "\n",
       "/* Toggleable label */\n",
       "#sk-container-id-2 label.sk-toggleable__label {\n",
       "  cursor: pointer;\n",
       "  display: block;\n",
       "  width: 100%;\n",
       "  margin-bottom: 0;\n",
       "  padding: 0.5em;\n",
       "  box-sizing: border-box;\n",
       "  text-align: center;\n",
       "}\n",
       "\n",
       "#sk-container-id-2 label.sk-toggleable__label-arrow:before {\n",
       "  /* Arrow on the left of the label */\n",
       "  content: \"▸\";\n",
       "  float: left;\n",
       "  margin-right: 0.25em;\n",
       "  color: var(--sklearn-color-icon);\n",
       "}\n",
       "\n",
       "#sk-container-id-2 label.sk-toggleable__label-arrow:hover:before {\n",
       "  color: var(--sklearn-color-text);\n",
       "}\n",
       "\n",
       "/* Toggleable content - dropdown */\n",
       "\n",
       "#sk-container-id-2 div.sk-toggleable__content {\n",
       "  max-height: 0;\n",
       "  max-width: 0;\n",
       "  overflow: hidden;\n",
       "  text-align: left;\n",
       "  /* unfitted */\n",
       "  background-color: var(--sklearn-color-unfitted-level-0);\n",
       "}\n",
       "\n",
       "#sk-container-id-2 div.sk-toggleable__content.fitted {\n",
       "  /* fitted */\n",
       "  background-color: var(--sklearn-color-fitted-level-0);\n",
       "}\n",
       "\n",
       "#sk-container-id-2 div.sk-toggleable__content pre {\n",
       "  margin: 0.2em;\n",
       "  border-radius: 0.25em;\n",
       "  color: var(--sklearn-color-text);\n",
       "  /* unfitted */\n",
       "  background-color: var(--sklearn-color-unfitted-level-0);\n",
       "}\n",
       "\n",
       "#sk-container-id-2 div.sk-toggleable__content.fitted pre {\n",
       "  /* unfitted */\n",
       "  background-color: var(--sklearn-color-fitted-level-0);\n",
       "}\n",
       "\n",
       "#sk-container-id-2 input.sk-toggleable__control:checked~div.sk-toggleable__content {\n",
       "  /* Expand drop-down */\n",
       "  max-height: 200px;\n",
       "  max-width: 100%;\n",
       "  overflow: auto;\n",
       "}\n",
       "\n",
       "#sk-container-id-2 input.sk-toggleable__control:checked~label.sk-toggleable__label-arrow:before {\n",
       "  content: \"▾\";\n",
       "}\n",
       "\n",
       "/* Pipeline/ColumnTransformer-specific style */\n",
       "\n",
       "#sk-container-id-2 div.sk-label input.sk-toggleable__control:checked~label.sk-toggleable__label {\n",
       "  color: var(--sklearn-color-text);\n",
       "  background-color: var(--sklearn-color-unfitted-level-2);\n",
       "}\n",
       "\n",
       "#sk-container-id-2 div.sk-label.fitted input.sk-toggleable__control:checked~label.sk-toggleable__label {\n",
       "  background-color: var(--sklearn-color-fitted-level-2);\n",
       "}\n",
       "\n",
       "/* Estimator-specific style */\n",
       "\n",
       "/* Colorize estimator box */\n",
       "#sk-container-id-2 div.sk-estimator input.sk-toggleable__control:checked~label.sk-toggleable__label {\n",
       "  /* unfitted */\n",
       "  background-color: var(--sklearn-color-unfitted-level-2);\n",
       "}\n",
       "\n",
       "#sk-container-id-2 div.sk-estimator.fitted input.sk-toggleable__control:checked~label.sk-toggleable__label {\n",
       "  /* fitted */\n",
       "  background-color: var(--sklearn-color-fitted-level-2);\n",
       "}\n",
       "\n",
       "#sk-container-id-2 div.sk-label label.sk-toggleable__label,\n",
       "#sk-container-id-2 div.sk-label label {\n",
       "  /* The background is the default theme color */\n",
       "  color: var(--sklearn-color-text-on-default-background);\n",
       "}\n",
       "\n",
       "/* On hover, darken the color of the background */\n",
       "#sk-container-id-2 div.sk-label:hover label.sk-toggleable__label {\n",
       "  color: var(--sklearn-color-text);\n",
       "  background-color: var(--sklearn-color-unfitted-level-2);\n",
       "}\n",
       "\n",
       "/* Label box, darken color on hover, fitted */\n",
       "#sk-container-id-2 div.sk-label.fitted:hover label.sk-toggleable__label.fitted {\n",
       "  color: var(--sklearn-color-text);\n",
       "  background-color: var(--sklearn-color-fitted-level-2);\n",
       "}\n",
       "\n",
       "/* Estimator label */\n",
       "\n",
       "#sk-container-id-2 div.sk-label label {\n",
       "  font-family: monospace;\n",
       "  font-weight: bold;\n",
       "  display: inline-block;\n",
       "  line-height: 1.2em;\n",
       "}\n",
       "\n",
       "#sk-container-id-2 div.sk-label-container {\n",
       "  text-align: center;\n",
       "}\n",
       "\n",
       "/* Estimator-specific */\n",
       "#sk-container-id-2 div.sk-estimator {\n",
       "  font-family: monospace;\n",
       "  border: 1px dotted var(--sklearn-color-border-box);\n",
       "  border-radius: 0.25em;\n",
       "  box-sizing: border-box;\n",
       "  margin-bottom: 0.5em;\n",
       "  /* unfitted */\n",
       "  background-color: var(--sklearn-color-unfitted-level-0);\n",
       "}\n",
       "\n",
       "#sk-container-id-2 div.sk-estimator.fitted {\n",
       "  /* fitted */\n",
       "  background-color: var(--sklearn-color-fitted-level-0);\n",
       "}\n",
       "\n",
       "/* on hover */\n",
       "#sk-container-id-2 div.sk-estimator:hover {\n",
       "  /* unfitted */\n",
       "  background-color: var(--sklearn-color-unfitted-level-2);\n",
       "}\n",
       "\n",
       "#sk-container-id-2 div.sk-estimator.fitted:hover {\n",
       "  /* fitted */\n",
       "  background-color: var(--sklearn-color-fitted-level-2);\n",
       "}\n",
       "\n",
       "/* Specification for estimator info (e.g. \"i\" and \"?\") */\n",
       "\n",
       "/* Common style for \"i\" and \"?\" */\n",
       "\n",
       ".sk-estimator-doc-link,\n",
       "a:link.sk-estimator-doc-link,\n",
       "a:visited.sk-estimator-doc-link {\n",
       "  float: right;\n",
       "  font-size: smaller;\n",
       "  line-height: 1em;\n",
       "  font-family: monospace;\n",
       "  background-color: var(--sklearn-color-background);\n",
       "  border-radius: 1em;\n",
       "  height: 1em;\n",
       "  width: 1em;\n",
       "  text-decoration: none !important;\n",
       "  margin-left: 1ex;\n",
       "  /* unfitted */\n",
       "  border: var(--sklearn-color-unfitted-level-1) 1pt solid;\n",
       "  color: var(--sklearn-color-unfitted-level-1);\n",
       "}\n",
       "\n",
       ".sk-estimator-doc-link.fitted,\n",
       "a:link.sk-estimator-doc-link.fitted,\n",
       "a:visited.sk-estimator-doc-link.fitted {\n",
       "  /* fitted */\n",
       "  border: var(--sklearn-color-fitted-level-1) 1pt solid;\n",
       "  color: var(--sklearn-color-fitted-level-1);\n",
       "}\n",
       "\n",
       "/* On hover */\n",
       "div.sk-estimator:hover .sk-estimator-doc-link:hover,\n",
       ".sk-estimator-doc-link:hover,\n",
       "div.sk-label-container:hover .sk-estimator-doc-link:hover,\n",
       ".sk-estimator-doc-link:hover {\n",
       "  /* unfitted */\n",
       "  background-color: var(--sklearn-color-unfitted-level-3);\n",
       "  color: var(--sklearn-color-background);\n",
       "  text-decoration: none;\n",
       "}\n",
       "\n",
       "div.sk-estimator.fitted:hover .sk-estimator-doc-link.fitted:hover,\n",
       ".sk-estimator-doc-link.fitted:hover,\n",
       "div.sk-label-container:hover .sk-estimator-doc-link.fitted:hover,\n",
       ".sk-estimator-doc-link.fitted:hover {\n",
       "  /* fitted */\n",
       "  background-color: var(--sklearn-color-fitted-level-3);\n",
       "  color: var(--sklearn-color-background);\n",
       "  text-decoration: none;\n",
       "}\n",
       "\n",
       "/* Span, style for the box shown on hovering the info icon */\n",
       ".sk-estimator-doc-link span {\n",
       "  display: none;\n",
       "  z-index: 9999;\n",
       "  position: relative;\n",
       "  font-weight: normal;\n",
       "  right: .2ex;\n",
       "  padding: .5ex;\n",
       "  margin: .5ex;\n",
       "  width: min-content;\n",
       "  min-width: 20ex;\n",
       "  max-width: 50ex;\n",
       "  color: var(--sklearn-color-text);\n",
       "  box-shadow: 2pt 2pt 4pt #999;\n",
       "  /* unfitted */\n",
       "  background: var(--sklearn-color-unfitted-level-0);\n",
       "  border: .5pt solid var(--sklearn-color-unfitted-level-3);\n",
       "}\n",
       "\n",
       ".sk-estimator-doc-link.fitted span {\n",
       "  /* fitted */\n",
       "  background: var(--sklearn-color-fitted-level-0);\n",
       "  border: var(--sklearn-color-fitted-level-3);\n",
       "}\n",
       "\n",
       ".sk-estimator-doc-link:hover span {\n",
       "  display: block;\n",
       "}\n",
       "\n",
       "/* \"?\"-specific style due to the `<a>` HTML tag */\n",
       "\n",
       "#sk-container-id-2 a.estimator_doc_link {\n",
       "  float: right;\n",
       "  font-size: 1rem;\n",
       "  line-height: 1em;\n",
       "  font-family: monospace;\n",
       "  background-color: var(--sklearn-color-background);\n",
       "  border-radius: 1rem;\n",
       "  height: 1rem;\n",
       "  width: 1rem;\n",
       "  text-decoration: none;\n",
       "  /* unfitted */\n",
       "  color: var(--sklearn-color-unfitted-level-1);\n",
       "  border: var(--sklearn-color-unfitted-level-1) 1pt solid;\n",
       "}\n",
       "\n",
       "#sk-container-id-2 a.estimator_doc_link.fitted {\n",
       "  /* fitted */\n",
       "  border: var(--sklearn-color-fitted-level-1) 1pt solid;\n",
       "  color: var(--sklearn-color-fitted-level-1);\n",
       "}\n",
       "\n",
       "/* On hover */\n",
       "#sk-container-id-2 a.estimator_doc_link:hover {\n",
       "  /* unfitted */\n",
       "  background-color: var(--sklearn-color-unfitted-level-3);\n",
       "  color: var(--sklearn-color-background);\n",
       "  text-decoration: none;\n",
       "}\n",
       "\n",
       "#sk-container-id-2 a.estimator_doc_link.fitted:hover {\n",
       "  /* fitted */\n",
       "  background-color: var(--sklearn-color-fitted-level-3);\n",
       "}\n",
       "</style><div id=\"sk-container-id-2\" class=\"sk-top-container\"><div class=\"sk-text-repr-fallback\"><pre>Pipeline(steps=[(&#x27;standardscaler&#x27;, StandardScaler()),\n",
       "                (&#x27;logisticregression&#x27;, LogisticRegression())])</pre><b>In a Jupyter environment, please rerun this cell to show the HTML representation or trust the notebook. <br />On GitHub, the HTML representation is unable to render, please try loading this page with nbviewer.org.</b></div><div class=\"sk-container\" hidden><div class=\"sk-item sk-dashed-wrapped\"><div class=\"sk-label-container\"><div class=\"sk-label fitted sk-toggleable\"><input class=\"sk-toggleable__control sk-hidden--visually\" id=\"sk-estimator-id-2\" type=\"checkbox\" ><label for=\"sk-estimator-id-2\" class=\"sk-toggleable__label fitted sk-toggleable__label-arrow fitted\">&nbsp;&nbsp;Pipeline<a class=\"sk-estimator-doc-link fitted\" rel=\"noreferrer\" target=\"_blank\" href=\"https://scikit-learn.org/1.5/modules/generated/sklearn.pipeline.Pipeline.html\">?<span>Documentation for Pipeline</span></a><span class=\"sk-estimator-doc-link fitted\">i<span>Fitted</span></span></label><div class=\"sk-toggleable__content fitted\"><pre>Pipeline(steps=[(&#x27;standardscaler&#x27;, StandardScaler()),\n",
       "                (&#x27;logisticregression&#x27;, LogisticRegression())])</pre></div> </div></div><div class=\"sk-serial\"><div class=\"sk-item\"><div class=\"sk-estimator fitted sk-toggleable\"><input class=\"sk-toggleable__control sk-hidden--visually\" id=\"sk-estimator-id-3\" type=\"checkbox\" ><label for=\"sk-estimator-id-3\" class=\"sk-toggleable__label fitted sk-toggleable__label-arrow fitted\">&nbsp;StandardScaler<a class=\"sk-estimator-doc-link fitted\" rel=\"noreferrer\" target=\"_blank\" href=\"https://scikit-learn.org/1.5/modules/generated/sklearn.preprocessing.StandardScaler.html\">?<span>Documentation for StandardScaler</span></a></label><div class=\"sk-toggleable__content fitted\"><pre>StandardScaler()</pre></div> </div></div><div class=\"sk-item\"><div class=\"sk-estimator fitted sk-toggleable\"><input class=\"sk-toggleable__control sk-hidden--visually\" id=\"sk-estimator-id-4\" type=\"checkbox\" ><label for=\"sk-estimator-id-4\" class=\"sk-toggleable__label fitted sk-toggleable__label-arrow fitted\">&nbsp;LogisticRegression<a class=\"sk-estimator-doc-link fitted\" rel=\"noreferrer\" target=\"_blank\" href=\"https://scikit-learn.org/1.5/modules/generated/sklearn.linear_model.LogisticRegression.html\">?<span>Documentation for LogisticRegression</span></a></label><div class=\"sk-toggleable__content fitted\"><pre>LogisticRegression()</pre></div> </div></div></div></div></div></div>"
      ],
      "text/plain": [
       "Pipeline(steps=[('standardscaler', StandardScaler()),\n",
       "                ('logisticregression', LogisticRegression())])"
      ]
     },
     "execution_count": 12,
     "metadata": {},
     "output_type": "execute_result"
    }
   ],
   "source": [
    "logistic_pipeline = make_pipeline(StandardScaler(), LogisticRegression())\n",
    "logistic_pipeline.fit(x_train, y_train)"
   ]
  },
  {
   "cell_type": "code",
   "execution_count": 13,
   "metadata": {
    "colab": {
     "base_uri": "https://localhost:8080/"
    },
    "id": "wEsdbILOgMc-",
    "outputId": "b4a4ca0b-a074-429f-9312-c0608d8902eb"
   },
   "outputs": [
    {
     "name": "stdout",
     "output_type": "stream",
     "text": [
      "recall do LR: 0.253\n"
     ]
    }
   ],
   "source": [
    "recall_lr = recall_score(y_test, logistic_pipeline.predict(x_test))\n",
    "print(f'recall do LR: {recall_lr:.3f}')"
   ]
  },
  {
   "cell_type": "markdown",
   "metadata": {
    "id": "pdvZq6mRm582"
   },
   "source": [
    "# GridSearchCV"
   ]
  },
  {
   "cell_type": "code",
   "execution_count": 14,
   "metadata": {
    "id": "u_3TWu4ygnGC"
   },
   "outputs": [],
   "source": [
    "from sklearn.model_selection import GridSearchCV"
   ]
  },
  {
   "cell_type": "markdown",
   "metadata": {
    "id": "xhUVwb9IA362"
   },
   "source": [
    "## DecisionTreeClassifier com GridSerachCV"
   ]
  },
  {
   "cell_type": "code",
   "execution_count": 15,
   "metadata": {
    "id": "sLJTbYonnCX5"
   },
   "outputs": [],
   "source": [
    "import numpy as np\n",
    "\n",
    "param_grid_dt={\n",
    "    'criterion': ['gini', 'entropy'],\n",
    "    'max_depth': np.linspace(6, 12, 4, dtype=int),\n",
    "    'min_samples_split': np.linspace(5, 20, 4, dtype=int),\n",
    "    'min_samples_leaf': np.linspace(5, 20, 4, dtype=int),\n",
    "    'max_features': ['sqrt', 'log2'],\n",
    "    'splitter': ['best', 'random']\n",
    "}"
   ]
  },
  {
   "cell_type": "code",
   "execution_count": 16,
   "metadata": {
    "colab": {
     "base_uri": "https://localhost:8080/",
     "height": 134
    },
    "id": "3Ii-SxWLm16b",
    "outputId": "e1ac8c3d-3c41-45ba-cb99-d447272bf400"
   },
   "outputs": [
    {
     "name": "stderr",
     "output_type": "stream",
     "text": [
      "c:\\Users\\enama\\AppData\\Local\\Programs\\Python\\Python312\\Lib\\site-packages\\numpy\\ma\\core.py:2881: RuntimeWarning: invalid value encountered in cast\n",
      "  _data = np.array(data, dtype=dtype, copy=copy,\n"
     ]
    },
    {
     "data": {
      "text/html": [
       "<style>#sk-container-id-3 {\n",
       "  /* Definition of color scheme common for light and dark mode */\n",
       "  --sklearn-color-text: black;\n",
       "  --sklearn-color-line: gray;\n",
       "  /* Definition of color scheme for unfitted estimators */\n",
       "  --sklearn-color-unfitted-level-0: #fff5e6;\n",
       "  --sklearn-color-unfitted-level-1: #f6e4d2;\n",
       "  --sklearn-color-unfitted-level-2: #ffe0b3;\n",
       "  --sklearn-color-unfitted-level-3: chocolate;\n",
       "  /* Definition of color scheme for fitted estimators */\n",
       "  --sklearn-color-fitted-level-0: #f0f8ff;\n",
       "  --sklearn-color-fitted-level-1: #d4ebff;\n",
       "  --sklearn-color-fitted-level-2: #b3dbfd;\n",
       "  --sklearn-color-fitted-level-3: cornflowerblue;\n",
       "\n",
       "  /* Specific color for light theme */\n",
       "  --sklearn-color-text-on-default-background: var(--sg-text-color, var(--theme-code-foreground, var(--jp-content-font-color1, black)));\n",
       "  --sklearn-color-background: var(--sg-background-color, var(--theme-background, var(--jp-layout-color0, white)));\n",
       "  --sklearn-color-border-box: var(--sg-text-color, var(--theme-code-foreground, var(--jp-content-font-color1, black)));\n",
       "  --sklearn-color-icon: #696969;\n",
       "\n",
       "  @media (prefers-color-scheme: dark) {\n",
       "    /* Redefinition of color scheme for dark theme */\n",
       "    --sklearn-color-text-on-default-background: var(--sg-text-color, var(--theme-code-foreground, var(--jp-content-font-color1, white)));\n",
       "    --sklearn-color-background: var(--sg-background-color, var(--theme-background, var(--jp-layout-color0, #111)));\n",
       "    --sklearn-color-border-box: var(--sg-text-color, var(--theme-code-foreground, var(--jp-content-font-color1, white)));\n",
       "    --sklearn-color-icon: #878787;\n",
       "  }\n",
       "}\n",
       "\n",
       "#sk-container-id-3 {\n",
       "  color: var(--sklearn-color-text);\n",
       "}\n",
       "\n",
       "#sk-container-id-3 pre {\n",
       "  padding: 0;\n",
       "}\n",
       "\n",
       "#sk-container-id-3 input.sk-hidden--visually {\n",
       "  border: 0;\n",
       "  clip: rect(1px 1px 1px 1px);\n",
       "  clip: rect(1px, 1px, 1px, 1px);\n",
       "  height: 1px;\n",
       "  margin: -1px;\n",
       "  overflow: hidden;\n",
       "  padding: 0;\n",
       "  position: absolute;\n",
       "  width: 1px;\n",
       "}\n",
       "\n",
       "#sk-container-id-3 div.sk-dashed-wrapped {\n",
       "  border: 1px dashed var(--sklearn-color-line);\n",
       "  margin: 0 0.4em 0.5em 0.4em;\n",
       "  box-sizing: border-box;\n",
       "  padding-bottom: 0.4em;\n",
       "  background-color: var(--sklearn-color-background);\n",
       "}\n",
       "\n",
       "#sk-container-id-3 div.sk-container {\n",
       "  /* jupyter's `normalize.less` sets `[hidden] { display: none; }`\n",
       "     but bootstrap.min.css set `[hidden] { display: none !important; }`\n",
       "     so we also need the `!important` here to be able to override the\n",
       "     default hidden behavior on the sphinx rendered scikit-learn.org.\n",
       "     See: https://github.com/scikit-learn/scikit-learn/issues/21755 */\n",
       "  display: inline-block !important;\n",
       "  position: relative;\n",
       "}\n",
       "\n",
       "#sk-container-id-3 div.sk-text-repr-fallback {\n",
       "  display: none;\n",
       "}\n",
       "\n",
       "div.sk-parallel-item,\n",
       "div.sk-serial,\n",
       "div.sk-item {\n",
       "  /* draw centered vertical line to link estimators */\n",
       "  background-image: linear-gradient(var(--sklearn-color-text-on-default-background), var(--sklearn-color-text-on-default-background));\n",
       "  background-size: 2px 100%;\n",
       "  background-repeat: no-repeat;\n",
       "  background-position: center center;\n",
       "}\n",
       "\n",
       "/* Parallel-specific style estimator block */\n",
       "\n",
       "#sk-container-id-3 div.sk-parallel-item::after {\n",
       "  content: \"\";\n",
       "  width: 100%;\n",
       "  border-bottom: 2px solid var(--sklearn-color-text-on-default-background);\n",
       "  flex-grow: 1;\n",
       "}\n",
       "\n",
       "#sk-container-id-3 div.sk-parallel {\n",
       "  display: flex;\n",
       "  align-items: stretch;\n",
       "  justify-content: center;\n",
       "  background-color: var(--sklearn-color-background);\n",
       "  position: relative;\n",
       "}\n",
       "\n",
       "#sk-container-id-3 div.sk-parallel-item {\n",
       "  display: flex;\n",
       "  flex-direction: column;\n",
       "}\n",
       "\n",
       "#sk-container-id-3 div.sk-parallel-item:first-child::after {\n",
       "  align-self: flex-end;\n",
       "  width: 50%;\n",
       "}\n",
       "\n",
       "#sk-container-id-3 div.sk-parallel-item:last-child::after {\n",
       "  align-self: flex-start;\n",
       "  width: 50%;\n",
       "}\n",
       "\n",
       "#sk-container-id-3 div.sk-parallel-item:only-child::after {\n",
       "  width: 0;\n",
       "}\n",
       "\n",
       "/* Serial-specific style estimator block */\n",
       "\n",
       "#sk-container-id-3 div.sk-serial {\n",
       "  display: flex;\n",
       "  flex-direction: column;\n",
       "  align-items: center;\n",
       "  background-color: var(--sklearn-color-background);\n",
       "  padding-right: 1em;\n",
       "  padding-left: 1em;\n",
       "}\n",
       "\n",
       "\n",
       "/* Toggleable style: style used for estimator/Pipeline/ColumnTransformer box that is\n",
       "clickable and can be expanded/collapsed.\n",
       "- Pipeline and ColumnTransformer use this feature and define the default style\n",
       "- Estimators will overwrite some part of the style using the `sk-estimator` class\n",
       "*/\n",
       "\n",
       "/* Pipeline and ColumnTransformer style (default) */\n",
       "\n",
       "#sk-container-id-3 div.sk-toggleable {\n",
       "  /* Default theme specific background. It is overwritten whether we have a\n",
       "  specific estimator or a Pipeline/ColumnTransformer */\n",
       "  background-color: var(--sklearn-color-background);\n",
       "}\n",
       "\n",
       "/* Toggleable label */\n",
       "#sk-container-id-3 label.sk-toggleable__label {\n",
       "  cursor: pointer;\n",
       "  display: block;\n",
       "  width: 100%;\n",
       "  margin-bottom: 0;\n",
       "  padding: 0.5em;\n",
       "  box-sizing: border-box;\n",
       "  text-align: center;\n",
       "}\n",
       "\n",
       "#sk-container-id-3 label.sk-toggleable__label-arrow:before {\n",
       "  /* Arrow on the left of the label */\n",
       "  content: \"▸\";\n",
       "  float: left;\n",
       "  margin-right: 0.25em;\n",
       "  color: var(--sklearn-color-icon);\n",
       "}\n",
       "\n",
       "#sk-container-id-3 label.sk-toggleable__label-arrow:hover:before {\n",
       "  color: var(--sklearn-color-text);\n",
       "}\n",
       "\n",
       "/* Toggleable content - dropdown */\n",
       "\n",
       "#sk-container-id-3 div.sk-toggleable__content {\n",
       "  max-height: 0;\n",
       "  max-width: 0;\n",
       "  overflow: hidden;\n",
       "  text-align: left;\n",
       "  /* unfitted */\n",
       "  background-color: var(--sklearn-color-unfitted-level-0);\n",
       "}\n",
       "\n",
       "#sk-container-id-3 div.sk-toggleable__content.fitted {\n",
       "  /* fitted */\n",
       "  background-color: var(--sklearn-color-fitted-level-0);\n",
       "}\n",
       "\n",
       "#sk-container-id-3 div.sk-toggleable__content pre {\n",
       "  margin: 0.2em;\n",
       "  border-radius: 0.25em;\n",
       "  color: var(--sklearn-color-text);\n",
       "  /* unfitted */\n",
       "  background-color: var(--sklearn-color-unfitted-level-0);\n",
       "}\n",
       "\n",
       "#sk-container-id-3 div.sk-toggleable__content.fitted pre {\n",
       "  /* unfitted */\n",
       "  background-color: var(--sklearn-color-fitted-level-0);\n",
       "}\n",
       "\n",
       "#sk-container-id-3 input.sk-toggleable__control:checked~div.sk-toggleable__content {\n",
       "  /* Expand drop-down */\n",
       "  max-height: 200px;\n",
       "  max-width: 100%;\n",
       "  overflow: auto;\n",
       "}\n",
       "\n",
       "#sk-container-id-3 input.sk-toggleable__control:checked~label.sk-toggleable__label-arrow:before {\n",
       "  content: \"▾\";\n",
       "}\n",
       "\n",
       "/* Pipeline/ColumnTransformer-specific style */\n",
       "\n",
       "#sk-container-id-3 div.sk-label input.sk-toggleable__control:checked~label.sk-toggleable__label {\n",
       "  color: var(--sklearn-color-text);\n",
       "  background-color: var(--sklearn-color-unfitted-level-2);\n",
       "}\n",
       "\n",
       "#sk-container-id-3 div.sk-label.fitted input.sk-toggleable__control:checked~label.sk-toggleable__label {\n",
       "  background-color: var(--sklearn-color-fitted-level-2);\n",
       "}\n",
       "\n",
       "/* Estimator-specific style */\n",
       "\n",
       "/* Colorize estimator box */\n",
       "#sk-container-id-3 div.sk-estimator input.sk-toggleable__control:checked~label.sk-toggleable__label {\n",
       "  /* unfitted */\n",
       "  background-color: var(--sklearn-color-unfitted-level-2);\n",
       "}\n",
       "\n",
       "#sk-container-id-3 div.sk-estimator.fitted input.sk-toggleable__control:checked~label.sk-toggleable__label {\n",
       "  /* fitted */\n",
       "  background-color: var(--sklearn-color-fitted-level-2);\n",
       "}\n",
       "\n",
       "#sk-container-id-3 div.sk-label label.sk-toggleable__label,\n",
       "#sk-container-id-3 div.sk-label label {\n",
       "  /* The background is the default theme color */\n",
       "  color: var(--sklearn-color-text-on-default-background);\n",
       "}\n",
       "\n",
       "/* On hover, darken the color of the background */\n",
       "#sk-container-id-3 div.sk-label:hover label.sk-toggleable__label {\n",
       "  color: var(--sklearn-color-text);\n",
       "  background-color: var(--sklearn-color-unfitted-level-2);\n",
       "}\n",
       "\n",
       "/* Label box, darken color on hover, fitted */\n",
       "#sk-container-id-3 div.sk-label.fitted:hover label.sk-toggleable__label.fitted {\n",
       "  color: var(--sklearn-color-text);\n",
       "  background-color: var(--sklearn-color-fitted-level-2);\n",
       "}\n",
       "\n",
       "/* Estimator label */\n",
       "\n",
       "#sk-container-id-3 div.sk-label label {\n",
       "  font-family: monospace;\n",
       "  font-weight: bold;\n",
       "  display: inline-block;\n",
       "  line-height: 1.2em;\n",
       "}\n",
       "\n",
       "#sk-container-id-3 div.sk-label-container {\n",
       "  text-align: center;\n",
       "}\n",
       "\n",
       "/* Estimator-specific */\n",
       "#sk-container-id-3 div.sk-estimator {\n",
       "  font-family: monospace;\n",
       "  border: 1px dotted var(--sklearn-color-border-box);\n",
       "  border-radius: 0.25em;\n",
       "  box-sizing: border-box;\n",
       "  margin-bottom: 0.5em;\n",
       "  /* unfitted */\n",
       "  background-color: var(--sklearn-color-unfitted-level-0);\n",
       "}\n",
       "\n",
       "#sk-container-id-3 div.sk-estimator.fitted {\n",
       "  /* fitted */\n",
       "  background-color: var(--sklearn-color-fitted-level-0);\n",
       "}\n",
       "\n",
       "/* on hover */\n",
       "#sk-container-id-3 div.sk-estimator:hover {\n",
       "  /* unfitted */\n",
       "  background-color: var(--sklearn-color-unfitted-level-2);\n",
       "}\n",
       "\n",
       "#sk-container-id-3 div.sk-estimator.fitted:hover {\n",
       "  /* fitted */\n",
       "  background-color: var(--sklearn-color-fitted-level-2);\n",
       "}\n",
       "\n",
       "/* Specification for estimator info (e.g. \"i\" and \"?\") */\n",
       "\n",
       "/* Common style for \"i\" and \"?\" */\n",
       "\n",
       ".sk-estimator-doc-link,\n",
       "a:link.sk-estimator-doc-link,\n",
       "a:visited.sk-estimator-doc-link {\n",
       "  float: right;\n",
       "  font-size: smaller;\n",
       "  line-height: 1em;\n",
       "  font-family: monospace;\n",
       "  background-color: var(--sklearn-color-background);\n",
       "  border-radius: 1em;\n",
       "  height: 1em;\n",
       "  width: 1em;\n",
       "  text-decoration: none !important;\n",
       "  margin-left: 1ex;\n",
       "  /* unfitted */\n",
       "  border: var(--sklearn-color-unfitted-level-1) 1pt solid;\n",
       "  color: var(--sklearn-color-unfitted-level-1);\n",
       "}\n",
       "\n",
       ".sk-estimator-doc-link.fitted,\n",
       "a:link.sk-estimator-doc-link.fitted,\n",
       "a:visited.sk-estimator-doc-link.fitted {\n",
       "  /* fitted */\n",
       "  border: var(--sklearn-color-fitted-level-1) 1pt solid;\n",
       "  color: var(--sklearn-color-fitted-level-1);\n",
       "}\n",
       "\n",
       "/* On hover */\n",
       "div.sk-estimator:hover .sk-estimator-doc-link:hover,\n",
       ".sk-estimator-doc-link:hover,\n",
       "div.sk-label-container:hover .sk-estimator-doc-link:hover,\n",
       ".sk-estimator-doc-link:hover {\n",
       "  /* unfitted */\n",
       "  background-color: var(--sklearn-color-unfitted-level-3);\n",
       "  color: var(--sklearn-color-background);\n",
       "  text-decoration: none;\n",
       "}\n",
       "\n",
       "div.sk-estimator.fitted:hover .sk-estimator-doc-link.fitted:hover,\n",
       ".sk-estimator-doc-link.fitted:hover,\n",
       "div.sk-label-container:hover .sk-estimator-doc-link.fitted:hover,\n",
       ".sk-estimator-doc-link.fitted:hover {\n",
       "  /* fitted */\n",
       "  background-color: var(--sklearn-color-fitted-level-3);\n",
       "  color: var(--sklearn-color-background);\n",
       "  text-decoration: none;\n",
       "}\n",
       "\n",
       "/* Span, style for the box shown on hovering the info icon */\n",
       ".sk-estimator-doc-link span {\n",
       "  display: none;\n",
       "  z-index: 9999;\n",
       "  position: relative;\n",
       "  font-weight: normal;\n",
       "  right: .2ex;\n",
       "  padding: .5ex;\n",
       "  margin: .5ex;\n",
       "  width: min-content;\n",
       "  min-width: 20ex;\n",
       "  max-width: 50ex;\n",
       "  color: var(--sklearn-color-text);\n",
       "  box-shadow: 2pt 2pt 4pt #999;\n",
       "  /* unfitted */\n",
       "  background: var(--sklearn-color-unfitted-level-0);\n",
       "  border: .5pt solid var(--sklearn-color-unfitted-level-3);\n",
       "}\n",
       "\n",
       ".sk-estimator-doc-link.fitted span {\n",
       "  /* fitted */\n",
       "  background: var(--sklearn-color-fitted-level-0);\n",
       "  border: var(--sklearn-color-fitted-level-3);\n",
       "}\n",
       "\n",
       ".sk-estimator-doc-link:hover span {\n",
       "  display: block;\n",
       "}\n",
       "\n",
       "/* \"?\"-specific style due to the `<a>` HTML tag */\n",
       "\n",
       "#sk-container-id-3 a.estimator_doc_link {\n",
       "  float: right;\n",
       "  font-size: 1rem;\n",
       "  line-height: 1em;\n",
       "  font-family: monospace;\n",
       "  background-color: var(--sklearn-color-background);\n",
       "  border-radius: 1rem;\n",
       "  height: 1rem;\n",
       "  width: 1rem;\n",
       "  text-decoration: none;\n",
       "  /* unfitted */\n",
       "  color: var(--sklearn-color-unfitted-level-1);\n",
       "  border: var(--sklearn-color-unfitted-level-1) 1pt solid;\n",
       "}\n",
       "\n",
       "#sk-container-id-3 a.estimator_doc_link.fitted {\n",
       "  /* fitted */\n",
       "  border: var(--sklearn-color-fitted-level-1) 1pt solid;\n",
       "  color: var(--sklearn-color-fitted-level-1);\n",
       "}\n",
       "\n",
       "/* On hover */\n",
       "#sk-container-id-3 a.estimator_doc_link:hover {\n",
       "  /* unfitted */\n",
       "  background-color: var(--sklearn-color-unfitted-level-3);\n",
       "  color: var(--sklearn-color-background);\n",
       "  text-decoration: none;\n",
       "}\n",
       "\n",
       "#sk-container-id-3 a.estimator_doc_link.fitted:hover {\n",
       "  /* fitted */\n",
       "  background-color: var(--sklearn-color-fitted-level-3);\n",
       "}\n",
       "</style><div id=\"sk-container-id-3\" class=\"sk-top-container\"><div class=\"sk-text-repr-fallback\"><pre>GridSearchCV(cv=StratifiedKFold(n_splits=5, random_state=42, shuffle=True),\n",
       "             estimator=DecisionTreeClassifier(random_state=42), n_jobs=-1,\n",
       "             param_grid={&#x27;criterion&#x27;: [&#x27;gini&#x27;, &#x27;entropy&#x27;],\n",
       "                         &#x27;max_depth&#x27;: array([ 6,  8, 10, 12]),\n",
       "                         &#x27;max_features&#x27;: [&#x27;sqrt&#x27;, &#x27;log2&#x27;],\n",
       "                         &#x27;min_samples_leaf&#x27;: array([ 5, 10, 15, 20]),\n",
       "                         &#x27;min_samples_split&#x27;: array([ 5, 10, 15, 20]),\n",
       "                         &#x27;splitter&#x27;: [&#x27;best&#x27;, &#x27;random&#x27;]},\n",
       "             scoring=&#x27;recall&#x27;)</pre><b>In a Jupyter environment, please rerun this cell to show the HTML representation or trust the notebook. <br />On GitHub, the HTML representation is unable to render, please try loading this page with nbviewer.org.</b></div><div class=\"sk-container\" hidden><div class=\"sk-item sk-dashed-wrapped\"><div class=\"sk-label-container\"><div class=\"sk-label fitted sk-toggleable\"><input class=\"sk-toggleable__control sk-hidden--visually\" id=\"sk-estimator-id-5\" type=\"checkbox\" ><label for=\"sk-estimator-id-5\" class=\"sk-toggleable__label fitted sk-toggleable__label-arrow fitted\">&nbsp;&nbsp;GridSearchCV<a class=\"sk-estimator-doc-link fitted\" rel=\"noreferrer\" target=\"_blank\" href=\"https://scikit-learn.org/1.5/modules/generated/sklearn.model_selection.GridSearchCV.html\">?<span>Documentation for GridSearchCV</span></a><span class=\"sk-estimator-doc-link fitted\">i<span>Fitted</span></span></label><div class=\"sk-toggleable__content fitted\"><pre>GridSearchCV(cv=StratifiedKFold(n_splits=5, random_state=42, shuffle=True),\n",
       "             estimator=DecisionTreeClassifier(random_state=42), n_jobs=-1,\n",
       "             param_grid={&#x27;criterion&#x27;: [&#x27;gini&#x27;, &#x27;entropy&#x27;],\n",
       "                         &#x27;max_depth&#x27;: array([ 6,  8, 10, 12]),\n",
       "                         &#x27;max_features&#x27;: [&#x27;sqrt&#x27;, &#x27;log2&#x27;],\n",
       "                         &#x27;min_samples_leaf&#x27;: array([ 5, 10, 15, 20]),\n",
       "                         &#x27;min_samples_split&#x27;: array([ 5, 10, 15, 20]),\n",
       "                         &#x27;splitter&#x27;: [&#x27;best&#x27;, &#x27;random&#x27;]},\n",
       "             scoring=&#x27;recall&#x27;)</pre></div> </div></div><div class=\"sk-parallel\"><div class=\"sk-parallel-item\"><div class=\"sk-item\"><div class=\"sk-label-container\"><div class=\"sk-label fitted sk-toggleable\"><input class=\"sk-toggleable__control sk-hidden--visually\" id=\"sk-estimator-id-6\" type=\"checkbox\" ><label for=\"sk-estimator-id-6\" class=\"sk-toggleable__label fitted sk-toggleable__label-arrow fitted\">best_estimator_: DecisionTreeClassifier</label><div class=\"sk-toggleable__content fitted\"><pre>DecisionTreeClassifier(max_depth=np.int64(12), max_features=&#x27;sqrt&#x27;,\n",
       "                       min_samples_leaf=np.int64(15),\n",
       "                       min_samples_split=np.int64(5), random_state=42)</pre></div> </div></div><div class=\"sk-serial\"><div class=\"sk-item\"><div class=\"sk-estimator fitted sk-toggleable\"><input class=\"sk-toggleable__control sk-hidden--visually\" id=\"sk-estimator-id-7\" type=\"checkbox\" ><label for=\"sk-estimator-id-7\" class=\"sk-toggleable__label fitted sk-toggleable__label-arrow fitted\">&nbsp;DecisionTreeClassifier<a class=\"sk-estimator-doc-link fitted\" rel=\"noreferrer\" target=\"_blank\" href=\"https://scikit-learn.org/1.5/modules/generated/sklearn.tree.DecisionTreeClassifier.html\">?<span>Documentation for DecisionTreeClassifier</span></a></label><div class=\"sk-toggleable__content fitted\"><pre>DecisionTreeClassifier(max_depth=np.int64(12), max_features=&#x27;sqrt&#x27;,\n",
       "                       min_samples_leaf=np.int64(15),\n",
       "                       min_samples_split=np.int64(5), random_state=42)</pre></div> </div></div></div></div></div></div></div></div></div>"
      ],
      "text/plain": [
       "GridSearchCV(cv=StratifiedKFold(n_splits=5, random_state=42, shuffle=True),\n",
       "             estimator=DecisionTreeClassifier(random_state=42), n_jobs=-1,\n",
       "             param_grid={'criterion': ['gini', 'entropy'],\n",
       "                         'max_depth': array([ 6,  8, 10, 12]),\n",
       "                         'max_features': ['sqrt', 'log2'],\n",
       "                         'min_samples_leaf': array([ 5, 10, 15, 20]),\n",
       "                         'min_samples_split': array([ 5, 10, 15, 20]),\n",
       "                         'splitter': ['best', 'random']},\n",
       "             scoring='recall')"
      ]
     },
     "execution_count": 16,
     "metadata": {},
     "output_type": "execute_result"
    }
   ],
   "source": [
    "from sklearn.model_selection import StratifiedKFold\n",
    "\n",
    "cv = StratifiedKFold(shuffle=True, random_state=42)\n",
    "\n",
    "dt_grid_search = GridSearchCV(\n",
    "    estimator=DecisionTreeClassifier(random_state=42),\n",
    "    param_grid=param_grid_dt,\n",
    "    scoring='recall',\n",
    "    n_jobs=-1,\n",
    "    cv=cv\n",
    ")\n",
    "\n",
    "dt_grid_search.fit(x_train, y_train)"
   ]
  },
  {
   "cell_type": "markdown",
   "metadata": {
    "id": "Bwfq3wCP2gE2"
   },
   "source": [
    "### Obtendo informações do GridSearchCV"
   ]
  },
  {
   "cell_type": "code",
   "execution_count": 17,
   "metadata": {
    "colab": {
     "base_uri": "https://localhost:8080/"
    },
    "id": "IUG5PLnzp56v",
    "outputId": "8e7b42a9-f7b9-4905-fbc8-5819aed37fd4"
   },
   "outputs": [
    {
     "data": {
      "text/plain": [
       "{'criterion': 'gini',\n",
       " 'max_depth': np.int64(12),\n",
       " 'max_features': 'sqrt',\n",
       " 'min_samples_leaf': np.int64(15),\n",
       " 'min_samples_split': np.int64(5),\n",
       " 'splitter': 'best'}"
      ]
     },
     "execution_count": 17,
     "metadata": {},
     "output_type": "execute_result"
    }
   ],
   "source": [
    "# Melhores hiperparametros de acordo com o GridSearchCV\n",
    "\n",
    "dt_grid_search.best_params_"
   ]
  },
  {
   "cell_type": "code",
   "execution_count": 18,
   "metadata": {
    "colab": {
     "base_uri": "https://localhost:8080/",
     "height": 371
    },
    "id": "1aIm3UU_2rcl",
    "outputId": "9dbfa3a2-8e7f-457e-fdf2-d892b4c67cb0"
   },
   "outputs": [
    {
     "data": {
      "text/html": [
       "<div>\n",
       "<style scoped>\n",
       "    .dataframe tbody tr th:only-of-type {\n",
       "        vertical-align: middle;\n",
       "    }\n",
       "\n",
       "    .dataframe tbody tr th {\n",
       "        vertical-align: top;\n",
       "    }\n",
       "\n",
       "    .dataframe thead th {\n",
       "        text-align: right;\n",
       "    }\n",
       "</style>\n",
       "<table border=\"1\" class=\"dataframe\">\n",
       "  <thead>\n",
       "    <tr style=\"text-align: right;\">\n",
       "      <th></th>\n",
       "      <th>mean_fit_time</th>\n",
       "      <th>std_fit_time</th>\n",
       "      <th>mean_score_time</th>\n",
       "      <th>std_score_time</th>\n",
       "      <th>param_criterion</th>\n",
       "      <th>param_max_depth</th>\n",
       "      <th>param_max_features</th>\n",
       "      <th>param_min_samples_leaf</th>\n",
       "      <th>param_min_samples_split</th>\n",
       "      <th>param_splitter</th>\n",
       "      <th>params</th>\n",
       "      <th>split0_test_score</th>\n",
       "      <th>split1_test_score</th>\n",
       "      <th>split2_test_score</th>\n",
       "      <th>split3_test_score</th>\n",
       "      <th>split4_test_score</th>\n",
       "      <th>mean_test_score</th>\n",
       "      <th>std_test_score</th>\n",
       "      <th>rank_test_score</th>\n",
       "    </tr>\n",
       "  </thead>\n",
       "  <tbody>\n",
       "    <tr>\n",
       "      <th>0</th>\n",
       "      <td>0.012241</td>\n",
       "      <td>0.001518</td>\n",
       "      <td>0.004853</td>\n",
       "      <td>0.000655</td>\n",
       "      <td>gini</td>\n",
       "      <td>6</td>\n",
       "      <td>sqrt</td>\n",
       "      <td>5</td>\n",
       "      <td>5</td>\n",
       "      <td>best</td>\n",
       "      <td>{'criterion': 'gini', 'max_depth': 6, 'max_fea...</td>\n",
       "      <td>0.213608</td>\n",
       "      <td>0.145570</td>\n",
       "      <td>0.205696</td>\n",
       "      <td>0.164557</td>\n",
       "      <td>0.200949</td>\n",
       "      <td>0.186076</td>\n",
       "      <td>0.026336</td>\n",
       "      <td>251</td>\n",
       "    </tr>\n",
       "    <tr>\n",
       "      <th>1</th>\n",
       "      <td>0.006718</td>\n",
       "      <td>0.000596</td>\n",
       "      <td>0.003610</td>\n",
       "      <td>0.000850</td>\n",
       "      <td>gini</td>\n",
       "      <td>6</td>\n",
       "      <td>sqrt</td>\n",
       "      <td>5</td>\n",
       "      <td>5</td>\n",
       "      <td>random</td>\n",
       "      <td>{'criterion': 'gini', 'max_depth': 6, 'max_fea...</td>\n",
       "      <td>0.193038</td>\n",
       "      <td>0.132911</td>\n",
       "      <td>0.132911</td>\n",
       "      <td>0.112342</td>\n",
       "      <td>0.161392</td>\n",
       "      <td>0.146519</td>\n",
       "      <td>0.028013</td>\n",
       "      <td>493</td>\n",
       "    </tr>\n",
       "    <tr>\n",
       "      <th>2</th>\n",
       "      <td>0.011123</td>\n",
       "      <td>0.001682</td>\n",
       "      <td>0.004305</td>\n",
       "      <td>0.000749</td>\n",
       "      <td>gini</td>\n",
       "      <td>6</td>\n",
       "      <td>sqrt</td>\n",
       "      <td>5</td>\n",
       "      <td>10</td>\n",
       "      <td>best</td>\n",
       "      <td>{'criterion': 'gini', 'max_depth': 6, 'max_fea...</td>\n",
       "      <td>0.213608</td>\n",
       "      <td>0.145570</td>\n",
       "      <td>0.205696</td>\n",
       "      <td>0.164557</td>\n",
       "      <td>0.200949</td>\n",
       "      <td>0.186076</td>\n",
       "      <td>0.026336</td>\n",
       "      <td>251</td>\n",
       "    </tr>\n",
       "  </tbody>\n",
       "</table>\n",
       "</div>"
      ],
      "text/plain": [
       "   mean_fit_time  std_fit_time  mean_score_time  std_score_time  \\\n",
       "0       0.012241      0.001518         0.004853        0.000655   \n",
       "1       0.006718      0.000596         0.003610        0.000850   \n",
       "2       0.011123      0.001682         0.004305        0.000749   \n",
       "\n",
       "  param_criterion  param_max_depth param_max_features  param_min_samples_leaf  \\\n",
       "0            gini                6               sqrt                       5   \n",
       "1            gini                6               sqrt                       5   \n",
       "2            gini                6               sqrt                       5   \n",
       "\n",
       "   param_min_samples_split param_splitter  \\\n",
       "0                        5           best   \n",
       "1                        5         random   \n",
       "2                       10           best   \n",
       "\n",
       "                                              params  split0_test_score  \\\n",
       "0  {'criterion': 'gini', 'max_depth': 6, 'max_fea...           0.213608   \n",
       "1  {'criterion': 'gini', 'max_depth': 6, 'max_fea...           0.193038   \n",
       "2  {'criterion': 'gini', 'max_depth': 6, 'max_fea...           0.213608   \n",
       "\n",
       "   split1_test_score  split2_test_score  split3_test_score  split4_test_score  \\\n",
       "0           0.145570           0.205696           0.164557           0.200949   \n",
       "1           0.132911           0.132911           0.112342           0.161392   \n",
       "2           0.145570           0.205696           0.164557           0.200949   \n",
       "\n",
       "   mean_test_score  std_test_score  rank_test_score  \n",
       "0         0.186076        0.026336              251  \n",
       "1         0.146519        0.028013              493  \n",
       "2         0.186076        0.026336              251  "
      ]
     },
     "execution_count": 18,
     "metadata": {},
     "output_type": "execute_result"
    }
   ],
   "source": [
    "# Gerar uma DF com os resultados do GridSearchCV\n",
    "\n",
    "df_cv_results_dt = pd.DataFrame(dt_grid_search.cv_results_)\n",
    "df_cv_results_dt.head(3)"
   ]
  },
  {
   "cell_type": "code",
   "execution_count": 19,
   "metadata": {
    "colab": {
     "base_uri": "https://localhost:8080/",
     "height": 170
    },
    "id": "f0lHzCFN29y8",
    "outputId": "626937c9-aa52-4296-b3aa-d2e9293ce3a9"
   },
   "outputs": [
    {
     "data": {
      "text/html": [
       "<div>\n",
       "<style scoped>\n",
       "    .dataframe tbody tr th:only-of-type {\n",
       "        vertical-align: middle;\n",
       "    }\n",
       "\n",
       "    .dataframe tbody tr th {\n",
       "        vertical-align: top;\n",
       "    }\n",
       "\n",
       "    .dataframe thead th {\n",
       "        text-align: right;\n",
       "    }\n",
       "</style>\n",
       "<table border=\"1\" class=\"dataframe\">\n",
       "  <thead>\n",
       "    <tr style=\"text-align: right;\">\n",
       "      <th></th>\n",
       "      <th>mean_fit_time</th>\n",
       "      <th>std_fit_time</th>\n",
       "      <th>mean_score_time</th>\n",
       "      <th>std_score_time</th>\n",
       "      <th>param_criterion</th>\n",
       "      <th>param_max_depth</th>\n",
       "      <th>param_max_features</th>\n",
       "      <th>param_min_samples_leaf</th>\n",
       "      <th>param_min_samples_split</th>\n",
       "      <th>param_splitter</th>\n",
       "      <th>params</th>\n",
       "      <th>split0_test_score</th>\n",
       "      <th>split1_test_score</th>\n",
       "      <th>split2_test_score</th>\n",
       "      <th>split3_test_score</th>\n",
       "      <th>split4_test_score</th>\n",
       "      <th>mean_test_score</th>\n",
       "      <th>std_test_score</th>\n",
       "      <th>rank_test_score</th>\n",
       "    </tr>\n",
       "  </thead>\n",
       "  <tbody>\n",
       "    <tr>\n",
       "      <th>208</th>\n",
       "      <td>0.015206</td>\n",
       "      <td>0.001178</td>\n",
       "      <td>0.003478</td>\n",
       "      <td>0.000792</td>\n",
       "      <td>gini</td>\n",
       "      <td>12</td>\n",
       "      <td>sqrt</td>\n",
       "      <td>15</td>\n",
       "      <td>5</td>\n",
       "      <td>best</td>\n",
       "      <td>{'criterion': 'gini', 'max_depth': 12, 'max_fe...</td>\n",
       "      <td>0.242089</td>\n",
       "      <td>0.324367</td>\n",
       "      <td>0.272152</td>\n",
       "      <td>0.245253</td>\n",
       "      <td>0.232595</td>\n",
       "      <td>0.263291</td>\n",
       "      <td>0.033244</td>\n",
       "      <td>1</td>\n",
       "    </tr>\n",
       "  </tbody>\n",
       "</table>\n",
       "</div>"
      ],
      "text/plain": [
       "     mean_fit_time  std_fit_time  mean_score_time  std_score_time  \\\n",
       "208       0.015206      0.001178         0.003478        0.000792   \n",
       "\n",
       "    param_criterion  param_max_depth param_max_features  \\\n",
       "208            gini               12               sqrt   \n",
       "\n",
       "     param_min_samples_leaf  param_min_samples_split param_splitter  \\\n",
       "208                      15                        5           best   \n",
       "\n",
       "                                                params  split0_test_score  \\\n",
       "208  {'criterion': 'gini', 'max_depth': 12, 'max_fe...           0.242089   \n",
       "\n",
       "     split1_test_score  split2_test_score  split3_test_score  \\\n",
       "208           0.324367           0.272152           0.245253   \n",
       "\n",
       "     split4_test_score  mean_test_score  std_test_score  rank_test_score  \n",
       "208           0.232595         0.263291        0.033244                1  "
      ]
     },
     "execution_count": 19,
     "metadata": {},
     "output_type": "execute_result"
    }
   ],
   "source": [
    "# Selecionando, dentro da DF gerada acima, o index onde apresenta os melhores hiperparametros (mesmos dados do `.best_params_`)\n",
    "\n",
    "df_cv_results_dt.loc[[dt_grid_search.best_index_]]\n",
    "\n",
    "# Importante procurar o 'mean_test_score', para validar o quanto a performance melhorou ou piorou"
   ]
  },
  {
   "cell_type": "code",
   "execution_count": 20,
   "metadata": {
    "colab": {
     "base_uri": "https://localhost:8080/",
     "height": 564
    },
    "id": "rEHT4r073sWK",
    "outputId": "176544a1-82ec-4586-8dd2-97a6659a97c1"
   },
   "outputs": [
    {
     "data": {
      "image/png": "[encoded data removed]",
      "text/plain": [
       "<Figure size 1000x600 with 1 Axes>"
      ]
     },
     "metadata": {},
     "output_type": "display_data"
    }
   ],
   "source": [
    "import matplotlib.pyplot as plt\n",
    "\n",
    "plt.figure(figsize=(10,6))\n",
    "plt.scatter(\n",
    "    df_cv_results_dt['param_max_depth'],\n",
    "    df_cv_results_dt['mean_test_score']\n",
    ")\n",
    "\n",
    "plt.title('max_depth vs mean_test_score')\n",
    "plt.xlabel('max_depth')\n",
    "plt.ylabel('recall')\n",
    "plt.show()"
   ]
  },
  {
   "cell_type": "code",
   "execution_count": 21,
   "metadata": {
    "colab": {
     "base_uri": "https://localhost:8080/",
     "height": 564
    },
    "id": "rRs1JuuF5LKJ",
    "outputId": "28e99b61-44f6-4d6b-caf7-87a180f8b844"
   },
   "outputs": [
    {
     "data": {
      "image/png": "[encoded data removed]",
      "text/plain": [
       "<Figure size 1000x600 with 1 Axes>"
      ]
     },
     "metadata": {},
     "output_type": "display_data"
    }
   ],
   "source": [
    "plt.figure(figsize=(10,6))\n",
    "plt.scatter(\n",
    "    df_cv_results_dt['param_min_samples_leaf'],\n",
    "    df_cv_results_dt['mean_test_score']\n",
    ")\n",
    "\n",
    "plt.title('param_min_samples_leaf vs mean_test_score')\n",
    "plt.xlabel('param_min_samples_leaf')\n",
    "plt.ylabel('recall')\n",
    "plt.show()"
   ]
  },
  {
   "cell_type": "code",
   "execution_count": 22,
   "metadata": {
    "colab": {
     "base_uri": "https://localhost:8080/",
     "height": 542
    },
    "id": "fzd_bk2z5g3r",
    "outputId": "00e4fd96-f51f-45d0-f01f-dfe2e90e1419"
   },
   "outputs": [
    {
     "data": {
      "application/vnd.plotly.v1+json": {
       "config": {
        "plotlyServerURL": "https://plot.ly"
       },
       "data": [
        {
         "hovertemplate": "param_criterion=%{x}<br>mean_test_score=%{y}<extra></extra>",
         "legendgroup": "",
         "marker": {
          "color": "#636efa",
          "symbol": "circle"
         },
         "mode": "markers",
         "name": "",
         "orientation": "v",
         "showlegend": false,
         "type": "scatter",
         "x": [
          "gini",
          "gini",
          "gini",
          "gini",
          "gini",
          "gini",
          "gini",
          "gini",
          "gini",
          "gini",
          "gini",
          "gini",
          "gini",
          "gini",
          "gini",
          "gini",
          "gini",
          "gini",
          "gini",
          "gini",
          "gini",
          "gini",
          "gini",
          "gini",
          "gini",
          "gini",
          "gini",
          "gini",
          "gini",
          "gini",
          "gini",
          "gini",
          "gini",
          "gini",
          "gini",
          "gini",
          "gini",
          "gini",
          "gini",
          "gini",
          "gini",
          "gini",
          "gini",
          "gini",
          "gini",
          "gini",
          "gini",
          "gini",
          "gini",
          "gini",
          "gini",
          "gini",
          "gini",
          "gini",
          "gini",
          "gini",
          "gini",
          "gini",
          "gini",
          "gini",
          "gini",
          "gini",
          "gini",
          "gini",
          "gini",
          "gini",
          "gini",
          "gini",
          "gini",
          "gini",
          "gini",
          "gini",
          "gini",
          "gini",
          "gini",
          "gini",
          "gini",
          "gini",
          "gini",
          "gini",
          "gini",
          "gini",
          "gini",
          "gini",
          "gini",
          "gini",
          "gini",
          "gini",
          "gini",
          "gini",
          "gini",
          "gini",
          "gini",
          "gini",
          "gini",
          "gini",
          "gini",
          "gini",
          "gini",
          "gini",
          "gini",
          "gini",
          "gini",
          "gini",
          "gini",
          "gini",
          "gini",
          "gini",
          "gini",
          "gini",
          "gini",
          "gini",
          "gini",
          "gini",
          "gini",
          "gini",
          "gini",
          "gini",
          "gini",
          "gini",
          "gini",
          "gini",
          "gini",
          "gini",
          "gini",
          "gini",
          "gini",
          "gini",
          "gini",
          "gini",
          "gini",
          "gini",
          "gini",
          "gini",
          "gini",
          "gini",
          "gini",
          "gini",
          "gini",
          "gini",
          "gini",
          "gini",
          "gini",
          "gini",
          "gini",
          "gini",
          "gini",
          "gini",
          "gini",
          "gini",
          "gini",
          "gini",
          "gini",
          "gini",
          "gini",
          "gini",
          "gini",
          "gini",
          "gini",
          "gini",
          "gini",
          "gini",
          "gini",
          "gini",
          "gini",
          "gini",
          "gini",
          "gini",
          "gini",
          "gini",
          "gini",
          "gini",
          "gini",
          "gini",
          "gini",
          "gini",
          "gini",
          "gini",
          "gini",
          "gini",
          "gini",
          "gini",
          "gini",
          "gini",
          "gini",
          "gini",
          "gini",
          "gini",
          "gini",
          "gini",
          "gini",
          "gini",
          "gini",
          "gini",
          "gini",
          "gini",
          "gini",
          "gini",
          "gini",
          "gini",
          "gini",
          "gini",
          "gini",
          "gini",
          "gini",
          "gini",
          "gini",
          "gini",
          "gini",
          "gini",
          "gini",
          "gini",
          "gini",
          "gini",
          "gini",
          "gini",
          "gini",
          "gini",
          "gini",
          "gini",
          "gini",
          "gini",
          "gini",
          "gini",
          "gini",
          "gini",
          "gini",
          "gini",
          "gini",
          "gini",
          "gini",
          "gini",
          "gini",
          "gini",
          "gini",
          "gini",
          "gini",
          "gini",
          "gini",
          "gini",
          "gini",
          "gini",
          "gini",
          "gini",
          "gini",
          "gini",
          "gini",
          "gini",
          "gini",
          "gini",
          "gini",
          "gini",
          "gini",
          "gini",
          "gini",
          "gini",
          "entropy",
          "entropy",
          "entropy",
          "entropy",
          "entropy",
          "entropy",
          "entropy",
          "entropy",
          "entropy",
          "entropy",
          "entropy",
          "entropy",
          "entropy",
          "entropy",
          "entropy",
          "entropy",
          "entropy",
          "entropy",
          "entropy",
          "entropy",
          "entropy",
          "entropy",
          "entropy",
          "entropy",
          "entropy",
          "entropy",
          "entropy",
          "entropy",
          "entropy",
          "entropy",
          "entropy",
          "entropy",
          "entropy",
          "entropy",
          "entropy",
          "entropy",
          "entropy",
          "entropy",
          "entropy",
          "entropy",
          "entropy",
          "entropy",
          "entropy",
          "entropy",
          "entropy",
          "entropy",
          "entropy",
          "entropy",
          "entropy",
          "entropy",
          "entropy",
          "entropy",
          "entropy",
          "entropy",
          "entropy",
          "entropy",
          "entropy",
          "entropy",
          "entropy",
          "entropy",
          "entropy",
          "entropy",
          "entropy",
          "entropy",
          "entropy",
          "entropy",
          "entropy",
          "entropy",
          "entropy",
          "entropy",
          "entropy",
          "entropy",
          "entropy",
          "entropy",
          "entropy",
          "entropy",
          "entropy",
          "entropy",
          "entropy",
          "entropy",
          "entropy",
          "entropy",
          "entropy",
          "entropy",
          "entropy",
          "entropy",
          "entropy",
          "entropy",
          "entropy",
          "entropy",
          "entropy",
          "entropy",
          "entropy",
          "entropy",
          "entropy",
          "entropy",
          "entropy",
          "entropy",
          "entropy",
          "entropy",
          "entropy",
          "entropy",
          "entropy",
          "entropy",
          "entropy",
          "entropy",
          "entropy",
          "entropy",
          "entropy",
          "entropy",
          "entropy",
          "entropy",
          "entropy",
          "entropy",
          "entropy",
          "entropy",
          "entropy",
          "entropy",
          "entropy",
          "entropy",
          "entropy",
          "entropy",
          "entropy",
          "entropy",
          "entropy",
          "entropy",
          "entropy",
          "entropy",
          "entropy",
          "entropy",
          "entropy",
          "entropy",
          "entropy",
          "entropy",
          "entropy",
          "entropy",
          "entropy",
          "entropy",
          "entropy",
          "entropy",
          "entropy",
          "entropy",
          "entropy",
          "entropy",
          "entropy",
          "entropy",
          "entropy",
          "entropy",
          "entropy",
          "entropy",
          "entropy",
          "entropy",
          "entropy",
          "entropy",
          "entropy",
          "entropy",
          "entropy",
          "entropy",
          "entropy",
          "entropy",
          "entropy",
          "entropy",
          "entropy",
          "entropy",
          "entropy",
          "entropy",
          "entropy",
          "entropy",
          "entropy",
          "entropy",
          "entropy",
          "entropy",
          "entropy",
          "entropy",
          "entropy",
          "entropy",
          "entropy",
          "entropy",
          "entropy",
          "entropy",
          "entropy",
          "entropy",
          "entropy",
          "entropy",
          "entropy",
          "entropy",
          "entropy",
          "entropy",
          "entropy",
          "entropy",
          "entropy",
          "entropy",
          "entropy",
          "entropy",
          "entropy",
          "entropy",
          "entropy",
          "entropy",
          "entropy",
          "entropy",
          "entropy",
          "entropy",
          "entropy",
          "entropy",
          "entropy",
          "entropy",
          "entropy",
          "entropy",
          "entropy",
          "entropy",
          "entropy",
          "entropy",
          "entropy",
          "entropy",
          "entropy",
          "entropy",
          "entropy",
          "entropy",
          "entropy",
          "entropy",
          "entropy",
          "entropy",
          "entropy",
          "entropy",
          "entropy",
          "entropy",
          "entropy",
          "entropy",
          "entropy",
          "entropy",
          "entropy",
          "entropy",
          "entropy",
          "entropy",
          "entropy",
          "entropy",
          "entropy",
          "entropy",
          "entropy",
          "entropy",
          "entropy",
          "entropy",
          "entropy",
          "entropy",
          "entropy",
          "entropy",
          "entropy",
          "entropy",
          "entropy",
          "entropy",
          "entropy",
          "entropy",
          "entropy",
          "entropy",
          "entropy",
          "entropy"
         ],
         "xaxis": "x",
         "y": [
          0.1860759493670886,
          0.14651898734177213,
          0.1860759493670886,
          0.14651898734177213,
          0.1791139240506329,
          0.1560126582278481,
          0.1569620253164557,
          0.15253164556962026,
          0.1512658227848101,
          0.1626582278481013,
          0.1512658227848101,
          0.1626582278481013,
          0.1512658227848101,
          0.1626582278481013,
          0.1512658227848101,
          0.1626582278481013,
          0.1800632911392405,
          0.17626582278481012,
          0.1800632911392405,
          0.17626582278481012,
          0.1800632911392405,
          0.17626582278481012,
          0.1800632911392405,
          0.17626582278481012,
          0.22025316455696203,
          0.1579113924050633,
          0.22025316455696203,
          0.1579113924050633,
          0.22025316455696203,
          0.1579113924050633,
          0.22025316455696203,
          0.1579113924050633,
          0.1860759493670886,
          0.14651898734177213,
          0.1860759493670886,
          0.14651898734177213,
          0.1791139240506329,
          0.1560126582278481,
          0.1569620253164557,
          0.15253164556962026,
          0.1512658227848101,
          0.1626582278481013,
          0.1512658227848101,
          0.1626582278481013,
          0.1512658227848101,
          0.1626582278481013,
          0.1512658227848101,
          0.1626582278481013,
          0.1800632911392405,
          0.17626582278481012,
          0.1800632911392405,
          0.17626582278481012,
          0.1800632911392405,
          0.17626582278481012,
          0.1800632911392405,
          0.17626582278481012,
          0.22025316455696203,
          0.1579113924050633,
          0.22025316455696203,
          0.1579113924050633,
          0.22025316455696203,
          0.1579113924050633,
          0.22025316455696203,
          0.1579113924050633,
          0.18797468354430377,
          0.17753164556962026,
          0.18797468354430377,
          0.17753164556962026,
          0.23069620253164555,
          0.19113924050632913,
          0.2170886075949367,
          0.1569620253164557,
          0.17341772151898732,
          0.18639240506329116,
          0.17341772151898732,
          0.18639240506329116,
          0.17341772151898732,
          0.18639240506329116,
          0.17341772151898732,
          0.18639240506329116,
          0.19556962025316457,
          0.1481012658227848,
          0.19556962025316457,
          0.1481012658227848,
          0.19556962025316457,
          0.1481012658227848,
          0.19556962025316457,
          0.1481012658227848,
          0.2,
          0.16582278481012658,
          0.2,
          0.16582278481012658,
          0.2,
          0.16582278481012658,
          0.2,
          0.16582278481012658,
          0.18797468354430377,
          0.17753164556962026,
          0.18797468354430377,
          0.17753164556962026,
          0.23069620253164555,
          0.19113924050632913,
          0.2170886075949367,
          0.1569620253164557,
          0.17341772151898732,
          0.18639240506329116,
          0.17341772151898732,
          0.18639240506329116,
          0.17341772151898732,
          0.18639240506329116,
          0.17341772151898732,
          0.18639240506329116,
          0.19556962025316457,
          0.1481012658227848,
          0.19556962025316457,
          0.1481012658227848,
          0.19556962025316457,
          0.1481012658227848,
          0.19556962025316457,
          0.1481012658227848,
          0.2,
          0.16582278481012658,
          0.2,
          0.16582278481012658,
          0.2,
          0.16582278481012658,
          0.2,
          0.16582278481012658,
          0.2246835443037975,
          0.1841772151898734,
          0.2246835443037975,
          0.1841772151898734,
          0.21772151898734177,
          0.1712025316455696,
          0.22848101265822782,
          0.20474683544303796,
          0.1920886075949367,
          0.164873417721519,
          0.1920886075949367,
          0.164873417721519,
          0.1920886075949367,
          0.164873417721519,
          0.1920886075949367,
          0.164873417721519,
          0.23291139240506328,
          0.17436708860759495,
          0.23291139240506328,
          0.17436708860759495,
          0.23291139240506328,
          0.17436708860759495,
          0.23291139240506328,
          0.17436708860759495,
          0.2060126582278481,
          0.17373417721518988,
          0.2060126582278481,
          0.17373417721518988,
          0.2060126582278481,
          0.17373417721518988,
          0.2060126582278481,
          0.17373417721518988,
          0.2246835443037975,
          0.1841772151898734,
          0.2246835443037975,
          0.1841772151898734,
          0.21772151898734177,
          0.1712025316455696,
          0.22848101265822782,
          0.20474683544303796,
          0.1920886075949367,
          0.164873417721519,
          0.1920886075949367,
          0.164873417721519,
          0.1920886075949367,
          0.164873417721519,
          0.1920886075949367,
          0.164873417721519,
          0.23291139240506328,
          0.17436708860759495,
          0.23291139240506328,
          0.17436708860759495,
          0.23291139240506328,
          0.17436708860759495,
          0.23291139240506328,
          0.17436708860759495,
          0.2060126582278481,
          0.17373417721518988,
          0.2060126582278481,
          0.17373417721518988,
          0.2060126582278481,
          0.17373417721518988,
          0.2060126582278481,
          0.17373417721518988,
          0.2180379746835443,
          0.17468354430379746,
          0.2180379746835443,
          0.17468354430379746,
          0.23607594936708862,
          0.18607594936708863,
          0.2417721518987342,
          0.1939873417721519,
          0.2208860759493671,
          0.19050632911392407,
          0.2208860759493671,
          0.19050632911392407,
          0.2208860759493671,
          0.19050632911392407,
          0.2208860759493671,
          0.19050632911392407,
          0.2632911392405063,
          0.1598101265822785,
          0.2632911392405063,
          0.1598101265822785,
          0.2632911392405063,
          0.1598101265822785,
          0.2632911392405063,
          0.1598101265822785,
          0.24746835443037973,
          0.1712025316455696,
          0.24746835443037973,
          0.1712025316455696,
          0.24746835443037973,
          0.1712025316455696,
          0.24746835443037973,
          0.1712025316455696,
          0.2180379746835443,
          0.17468354430379746,
          0.2180379746835443,
          0.17468354430379746,
          0.23607594936708862,
          0.18607594936708863,
          0.2417721518987342,
          0.1939873417721519,
          0.2208860759493671,
          0.19050632911392407,
          0.2208860759493671,
          0.19050632911392407,
          0.2208860759493671,
          0.19050632911392407,
          0.2208860759493671,
          0.19050632911392407,
          0.2632911392405063,
          0.1598101265822785,
          0.2632911392405063,
          0.1598101265822785,
          0.2632911392405063,
          0.1598101265822785,
          0.2632911392405063,
          0.1598101265822785,
          0.24746835443037973,
          0.1712025316455696,
          0.24746835443037973,
          0.1712025316455696,
          0.24746835443037973,
          0.1712025316455696,
          0.24746835443037973,
          0.1712025316455696,
          0.17848101265822786,
          0.1471518987341772,
          0.17848101265822786,
          0.1471518987341772,
          0.18101265822784812,
          0.16044303797468354,
          0.17721518987341772,
          0.15316455696202533,
          0.1490506329113924,
          0.1626582278481013,
          0.1490506329113924,
          0.1626582278481013,
          0.1490506329113924,
          0.1626582278481013,
          0.1490506329113924,
          0.1626582278481013,
          0.17215189873417722,
          0.17056962025316455,
          0.17215189873417722,
          0.17056962025316455,
          0.17215189873417722,
          0.17056962025316455,
          0.17215189873417722,
          0.17056962025316455,
          0.1879746835443038,
          0.1550632911392405,
          0.1879746835443038,
          0.1550632911392405,
          0.1879746835443038,
          0.1550632911392405,
          0.1879746835443038,
          0.1550632911392405,
          0.17848101265822786,
          0.1471518987341772,
          0.17848101265822786,
          0.1471518987341772,
          0.18101265822784812,
          0.16044303797468354,
          0.17721518987341772,
          0.15316455696202533,
          0.1490506329113924,
          0.1626582278481013,
          0.1490506329113924,
          0.1626582278481013,
          0.1490506329113924,
          0.1626582278481013,
          0.1490506329113924,
          0.1626582278481013,
          0.17215189873417722,
          0.17056962025316455,
          0.17215189873417722,
          0.17056962025316455,
          0.17215189873417722,
          0.17056962025316455,
          0.17215189873417722,
          0.17056962025316455,
          0.1879746835443038,
          0.1550632911392405,
          0.1879746835443038,
          0.1550632911392405,
          0.1879746835443038,
          0.1550632911392405,
          0.1879746835443038,
          0.1550632911392405,
          0.2126582278481013,
          0.18639240506329113,
          0.2126582278481013,
          0.18639240506329113,
          0.19145569620253164,
          0.17025316455696202,
          0.19841772151898734,
          0.15981012658227847,
          0.2079113924050633,
          0.18639240506329116,
          0.2079113924050633,
          0.18639240506329116,
          0.2079113924050633,
          0.18639240506329116,
          0.2079113924050633,
          0.18639240506329116,
          0.21265822784810123,
          0.14335443037974685,
          0.21265822784810123,
          0.14335443037974685,
          0.21265822784810123,
          0.14335443037974685,
          0.21265822784810123,
          0.14335443037974685,
          0.2060126582278481,
          0.16360759493670887,
          0.2060126582278481,
          0.16360759493670887,
          0.2060126582278481,
          0.16360759493670887,
          0.2060126582278481,
          0.16360759493670887,
          0.2126582278481013,
          0.18639240506329113,
          0.2126582278481013,
          0.18639240506329113,
          0.19145569620253164,
          0.17025316455696202,
          0.19841772151898734,
          0.15981012658227847,
          0.2079113924050633,
          0.18639240506329116,
          0.2079113924050633,
          0.18639240506329116,
          0.2079113924050633,
          0.18639240506329116,
          0.2079113924050633,
          0.18639240506329116,
          0.21265822784810123,
          0.14335443037974685,
          0.21265822784810123,
          0.14335443037974685,
          0.21265822784810123,
          0.14335443037974685,
          0.21265822784810123,
          0.14335443037974685,
          0.2060126582278481,
          0.16360759493670887,
          0.2060126582278481,
          0.16360759493670887,
          0.2060126582278481,
          0.16360759493670887,
          0.2060126582278481,
          0.16360759493670887,
          0.2170886075949367,
          0.1841772151898734,
          0.2170886075949367,
          0.1841772151898734,
          0.22531645569620254,
          0.1569620253164557,
          0.1867088607594937,
          0.20443037974683548,
          0.2193037974683544,
          0.1680379746835443,
          0.2193037974683544,
          0.1680379746835443,
          0.2193037974683544,
          0.1680379746835443,
          0.2193037974683544,
          0.1680379746835443,
          0.25854430379746834,
          0.16107594936708863,
          0.25854430379746834,
          0.16107594936708863,
          0.25854430379746834,
          0.16107594936708863,
          0.25854430379746834,
          0.16107594936708863,
          0.20411392405063294,
          0.17373417721518988,
          0.20411392405063294,
          0.17373417721518988,
          0.20411392405063294,
          0.17373417721518988,
          0.20411392405063294,
          0.17373417721518988,
          0.2170886075949367,
          0.1841772151898734,
          0.2170886075949367,
          0.1841772151898734,
          0.22531645569620254,
          0.1569620253164557,
          0.1867088607594937,
          0.20443037974683548,
          0.2193037974683544,
          0.1680379746835443,
          0.2193037974683544,
          0.1680379746835443,
          0.2193037974683544,
          0.1680379746835443,
          0.2193037974683544,
          0.1680379746835443,
          0.25854430379746834,
          0.16107594936708863,
          0.25854430379746834,
          0.16107594936708863,
          0.25854430379746834,
          0.16107594936708863,
          0.25854430379746834,
          0.16107594936708863,
          0.20411392405063294,
          0.17373417721518988,
          0.20411392405063294,
          0.17373417721518988,
          0.20411392405063294,
          0.17373417721518988,
          0.20411392405063294,
          0.17373417721518988,
          0.2471518987341772,
          0.1829113924050633,
          0.2471518987341772,
          0.1829113924050633,
          0.22626582278481008,
          0.18892405063291134,
          0.24240506329113926,
          0.19430379746835444,
          0.24556962025316453,
          0.19018987341772153,
          0.24556962025316453,
          0.19018987341772153,
          0.24556962025316453,
          0.19018987341772153,
          0.24556962025316453,
          0.19018987341772153,
          0.24430379746835446,
          0.14367088607594938,
          0.24430379746835446,
          0.14367088607594938,
          0.24430379746835446,
          0.14367088607594938,
          0.24430379746835446,
          0.14367088607594938,
          0.22689873417721515,
          0.1712025316455696,
          0.22689873417721515,
          0.1712025316455696,
          0.22689873417721515,
          0.1712025316455696,
          0.22689873417721515,
          0.1712025316455696,
          0.2471518987341772,
          0.1829113924050633,
          0.2471518987341772,
          0.1829113924050633,
          0.22626582278481008,
          0.18892405063291134,
          0.24240506329113926,
          0.19430379746835444,
          0.24556962025316453,
          0.19018987341772153,
          0.24556962025316453,
          0.19018987341772153,
          0.24556962025316453,
          0.19018987341772153,
          0.24556962025316453,
          0.19018987341772153,
          0.24430379746835446,
          0.14367088607594938,
          0.24430379746835446,
          0.14367088607594938,
          0.24430379746835446,
          0.14367088607594938,
          0.24430379746835446,
          0.14367088607594938,
          0.22689873417721515,
          0.1712025316455696,
          0.22689873417721515,
          0.1712025316455696,
          0.22689873417721515,
          0.1712025316455696,
          0.22689873417721515,
          0.1712025316455696
         ],
         "yaxis": "y"
        }
       ],
       "layout": {
        "legend": {
         "tracegroupgap": 0
        },
        "margin": {
         "t": 60
        },
        "template": {
         "data": {
          "bar": [
           {
            "error_x": {
             "color": "#2a3f5f"
            },
            "error_y": {
             "color": "#2a3f5f"
            },
            "marker": {
             "line": {
              "color": "#E5ECF6",
              "width": 0.5
             },
             "pattern": {
              "fillmode": "overlay",
              "size": 10,
              "solidity": 0.2
             }
            },
            "type": "bar"
           }
          ],
          "barpolar": [
           {
            "marker": {
             "line": {
              "color": "#E5ECF6",
              "width": 0.5
             },
             "pattern": {
              "fillmode": "overlay",
              "size": 10,
              "solidity": 0.2
             }
            },
            "type": "barpolar"
           }
          ],
          "carpet": [
           {
            "aaxis": {
             "endlinecolor": "#2a3f5f",
             "gridcolor": "white",
             "linecolor": "white",
             "minorgridcolor": "white",
             "startlinecolor": "#2a3f5f"
            },
            "baxis": {
             "endlinecolor": "#2a3f5f",
             "gridcolor": "white",
             "linecolor": "white",
             "minorgridcolor": "white",
             "startlinecolor": "#2a3f5f"
            },
            "type": "carpet"
           }
          ],
          "choropleth": [
           {
            "colorbar": {
             "outlinewidth": 0,
             "ticks": ""
            },
            "type": "choropleth"
           }
          ],
          "contour": [
           {
            "colorbar": {
             "outlinewidth": 0,
             "ticks": ""
            },
            "colorscale": [
             [
              0,
              "#0d0887"
             ],
             [
              0.1111111111111111,
              "#46039f"
             ],
             [
              0.2222222222222222,
              "#7201a8"
             ],
             [
              0.3333333333333333,
              "#9c179e"
             ],
             [
              0.4444444444444444,
              "#bd3786"
             ],
             [
              0.5555555555555556,
              "#d8576b"
             ],
             [
              0.6666666666666666,
              "#ed7953"
             ],
             [
              0.7777777777777778,
              "#fb9f3a"
             ],
             [
              0.8888888888888888,
              "#fdca26"
             ],
             [
              1,
              "#f0f921"
             ]
            ],
            "type": "contour"
           }
          ],
          "contourcarpet": [
           {
            "colorbar": {
             "outlinewidth": 0,
             "ticks": ""
            },
            "type": "contourcarpet"
           }
          ],
          "heatmap": [
           {
            "colorbar": {
             "outlinewidth": 0,
             "ticks": ""
            },
            "colorscale": [
             [
              0,
              "#0d0887"
             ],
             [
              0.1111111111111111,
              "#46039f"
             ],
             [
              0.2222222222222222,
              "#7201a8"
             ],
             [
              0.3333333333333333,
              "#9c179e"
             ],
             [
              0.4444444444444444,
              "#bd3786"
             ],
             [
              0.5555555555555556,
              "#d8576b"
             ],
             [
              0.6666666666666666,
              "#ed7953"
             ],
             [
              0.7777777777777778,
              "#fb9f3a"
             ],
             [
              0.8888888888888888,
              "#fdca26"
             ],
             [
              1,
              "#f0f921"
             ]
            ],
            "type": "heatmap"
           }
          ],
          "heatmapgl": [
           {
            "colorbar": {
             "outlinewidth": 0,
             "ticks": ""
            },
            "colorscale": [
             [
              0,
              "#0d0887"
             ],
             [
              0.1111111111111111,
              "#46039f"
             ],
             [
              0.2222222222222222,
              "#7201a8"
             ],
             [
              0.3333333333333333,
              "#9c179e"
             ],
             [
              0.4444444444444444,
              "#bd3786"
             ],
             [
              0.5555555555555556,
              "#d8576b"
             ],
             [
              0.6666666666666666,
              "#ed7953"
             ],
             [
              0.7777777777777778,
              "#fb9f3a"
             ],
             [
              0.8888888888888888,
              "#fdca26"
             ],
             [
              1,
              "#f0f921"
             ]
            ],
            "type": "heatmapgl"
           }
          ],
          "histogram": [
           {
            "marker": {
             "pattern": {
              "fillmode": "overlay",
              "size": 10,
              "solidity": 0.2
             }
            },
            "type": "histogram"
           }
          ],
          "histogram2d": [
           {
            "colorbar": {
             "outlinewidth": 0,
             "ticks": ""
            },
            "colorscale": [
             [
              0,
              "#0d0887"
             ],
             [
              0.1111111111111111,
              "#46039f"
             ],
             [
              0.2222222222222222,
              "#7201a8"
             ],
             [
              0.3333333333333333,
              "#9c179e"
             ],
             [
              0.4444444444444444,
              "#bd3786"
             ],
             [
              0.5555555555555556,
              "#d8576b"
             ],
             [
              0.6666666666666666,
              "#ed7953"
             ],
             [
              0.7777777777777778,
              "#fb9f3a"
             ],
             [
              0.8888888888888888,
              "#fdca26"
             ],
             [
              1,
              "#f0f921"
             ]
            ],
            "type": "histogram2d"
           }
          ],
          "histogram2dcontour": [
           {
            "colorbar": {
             "outlinewidth": 0,
             "ticks": ""
            },
            "colorscale": [
             [
              0,
              "#0d0887"
             ],
             [
              0.1111111111111111,
              "#46039f"
             ],
             [
              0.2222222222222222,
              "#7201a8"
             ],
             [
              0.3333333333333333,
              "#9c179e"
             ],
             [
              0.4444444444444444,
              "#bd3786"
             ],
             [
              0.5555555555555556,
              "#d8576b"
             ],
             [
              0.6666666666666666,
              "#ed7953"
             ],
             [
              0.7777777777777778,
              "#fb9f3a"
             ],
             [
              0.8888888888888888,
              "#fdca26"
             ],
             [
              1,
              "#f0f921"
             ]
            ],
            "type": "histogram2dcontour"
           }
          ],
          "mesh3d": [
           {
            "colorbar": {
             "outlinewidth": 0,
             "ticks": ""
            },
            "type": "mesh3d"
           }
          ],
          "parcoords": [
           {
            "line": {
             "colorbar": {
              "outlinewidth": 0,
              "ticks": ""
             }
            },
            "type": "parcoords"
           }
          ],
          "pie": [
           {
            "automargin": true,
            "type": "pie"
           }
          ],
          "scatter": [
           {
            "fillpattern": {
             "fillmode": "overlay",
             "size": 10,
             "solidity": 0.2
            },
            "type": "scatter"
           }
          ],
          "scatter3d": [
           {
            "line": {
             "colorbar": {
              "outlinewidth": 0,
              "ticks": ""
             }
            },
            "marker": {
             "colorbar": {
              "outlinewidth": 0,
              "ticks": ""
             }
            },
            "type": "scatter3d"
           }
          ],
          "scattercarpet": [
           {
            "marker": {
             "colorbar": {
              "outlinewidth": 0,
              "ticks": ""
             }
            },
            "type": "scattercarpet"
           }
          ],
          "scattergeo": [
           {
            "marker": {
             "colorbar": {
              "outlinewidth": 0,
              "ticks": ""
             }
            },
            "type": "scattergeo"
           }
          ],
          "scattergl": [
           {
            "marker": {
             "colorbar": {
              "outlinewidth": 0,
              "ticks": ""
             }
            },
            "type": "scattergl"
           }
          ],
          "scattermapbox": [
           {
            "marker": {
             "colorbar": {
              "outlinewidth": 0,
              "ticks": ""
             }
            },
            "type": "scattermapbox"
           }
          ],
          "scatterpolar": [
           {
            "marker": {
             "colorbar": {
              "outlinewidth": 0,
              "ticks": ""
             }
            },
            "type": "scatterpolar"
           }
          ],
          "scatterpolargl": [
           {
            "marker": {
             "colorbar": {
              "outlinewidth": 0,
              "ticks": ""
             }
            },
            "type": "scatterpolargl"
           }
          ],
          "scatterternary": [
           {
            "marker": {
             "colorbar": {
              "outlinewidth": 0,
              "ticks": ""
             }
            },
            "type": "scatterternary"
           }
          ],
          "surface": [
           {
            "colorbar": {
             "outlinewidth": 0,
             "ticks": ""
            },
            "colorscale": [
             [
              0,
              "#0d0887"
             ],
             [
              0.1111111111111111,
              "#46039f"
             ],
             [
              0.2222222222222222,
              "#7201a8"
             ],
             [
              0.3333333333333333,
              "#9c179e"
             ],
             [
              0.4444444444444444,
              "#bd3786"
             ],
             [
              0.5555555555555556,
              "#d8576b"
             ],
             [
              0.6666666666666666,
              "#ed7953"
             ],
             [
              0.7777777777777778,
              "#fb9f3a"
             ],
             [
              0.8888888888888888,
              "#fdca26"
             ],
             [
              1,
              "#f0f921"
             ]
            ],
            "type": "surface"
           }
          ],
          "table": [
           {
            "cells": {
             "fill": {
              "color": "#EBF0F8"
             },
             "line": {
              "color": "white"
             }
            },
            "header": {
             "fill": {
              "color": "#C8D4E3"
             },
             "line": {
              "color": "white"
             }
            },
            "type": "table"
           }
          ]
         },
         "layout": {
          "annotationdefaults": {
           "arrowcolor": "#2a3f5f",
           "arrowhead": 0,
           "arrowwidth": 1
          },
          "autotypenumbers": "strict",
          "coloraxis": {
           "colorbar": {
            "outlinewidth": 0,
            "ticks": ""
           }
          },
          "colorscale": {
           "diverging": [
            [
             0,
             "#8e0152"
            ],
            [
             0.1,
             "#c51b7d"
            ],
            [
             0.2,
             "#de77ae"
            ],
            [
             0.3,
             "#f1b6da"
            ],
            [
             0.4,
             "#fde0ef"
            ],
            [
             0.5,
             "#f7f7f7"
            ],
            [
             0.6,
             "#e6f5d0"
            ],
            [
             0.7,
             "#b8e186"
            ],
            [
             0.8,
             "#7fbc41"
            ],
            [
             0.9,
             "#4d9221"
            ],
            [
             1,
             "#276419"
            ]
           ],
           "sequential": [
            [
             0,
             "#0d0887"
            ],
            [
             0.1111111111111111,
             "#46039f"
            ],
            [
             0.2222222222222222,
             "#7201a8"
            ],
            [
             0.3333333333333333,
             "#9c179e"
            ],
            [
             0.4444444444444444,
             "#bd3786"
            ],
            [
             0.5555555555555556,
             "#d8576b"
            ],
            [
             0.6666666666666666,
             "#ed7953"
            ],
            [
             0.7777777777777778,
             "#fb9f3a"
            ],
            [
             0.8888888888888888,
             "#fdca26"
            ],
            [
             1,
             "#f0f921"
            ]
           ],
           "sequentialminus": [
            [
             0,
             "#0d0887"
            ],
            [
             0.1111111111111111,
             "#46039f"
            ],
            [
             0.2222222222222222,
             "#7201a8"
            ],
            [
             0.3333333333333333,
             "#9c179e"
            ],
            [
             0.4444444444444444,
             "#bd3786"
            ],
            [
             0.5555555555555556,
             "#d8576b"
            ],
            [
             0.6666666666666666,
             "#ed7953"
            ],
            [
             0.7777777777777778,
             "#fb9f3a"
            ],
            [
             0.8888888888888888,
             "#fdca26"
            ],
            [
             1,
             "#f0f921"
            ]
           ]
          },
          "colorway": [
           "#636efa",
           "#EF553B",
           "#00cc96",
           "#ab63fa",
           "#FFA15A",
           "#19d3f3",
           "#FF6692",
           "#B6E880",
           "#FF97FF",
           "#FECB52"
          ],
          "font": {
           "color": "#2a3f5f"
          },
          "geo": {
           "bgcolor": "white",
           "lakecolor": "white",
           "landcolor": "#E5ECF6",
           "showlakes": true,
           "showland": true,
           "subunitcolor": "white"
          },
          "hoverlabel": {
           "align": "left"
          },
          "hovermode": "closest",
          "mapbox": {
           "style": "light"
          },
          "paper_bgcolor": "white",
          "plot_bgcolor": "#E5ECF6",
          "polar": {
           "angularaxis": {
            "gridcolor": "white",
            "linecolor": "white",
            "ticks": ""
           },
           "bgcolor": "#E5ECF6",
           "radialaxis": {
            "gridcolor": "white",
            "linecolor": "white",
            "ticks": ""
           }
          },
          "scene": {
           "xaxis": {
            "backgroundcolor": "#E5ECF6",
            "gridcolor": "white",
            "gridwidth": 2,
            "linecolor": "white",
            "showbackground": true,
            "ticks": "",
            "zerolinecolor": "white"
           },
           "yaxis": {
            "backgroundcolor": "#E5ECF6",
            "gridcolor": "white",
            "gridwidth": 2,
            "linecolor": "white",
            "showbackground": true,
            "ticks": "",
            "zerolinecolor": "white"
           },
           "zaxis": {
            "backgroundcolor": "#E5ECF6",
            "gridcolor": "white",
            "gridwidth": 2,
            "linecolor": "white",
            "showbackground": true,
            "ticks": "",
            "zerolinecolor": "white"
           }
          },
          "shapedefaults": {
           "line": {
            "color": "#2a3f5f"
           }
          },
          "ternary": {
           "aaxis": {
            "gridcolor": "white",
            "linecolor": "white",
            "ticks": ""
           },
           "baxis": {
            "gridcolor": "white",
            "linecolor": "white",
            "ticks": ""
           },
           "bgcolor": "#E5ECF6",
           "caxis": {
            "gridcolor": "white",
            "linecolor": "white",
            "ticks": ""
           }
          },
          "title": {
           "x": 0.05
          },
          "xaxis": {
           "automargin": true,
           "gridcolor": "white",
           "linecolor": "white",
           "ticks": "",
           "title": {
            "standoff": 15
           },
           "zerolinecolor": "white",
           "zerolinewidth": 2
          },
          "yaxis": {
           "automargin": true,
           "gridcolor": "white",
           "linecolor": "white",
           "ticks": "",
           "title": {
            "standoff": 15
           },
           "zerolinecolor": "white",
           "zerolinewidth": 2
          }
         }
        },
        "xaxis": {
         "anchor": "y",
         "domain": [
          0,
          1
         ],
         "title": {
          "text": "param_criterion"
         }
        },
        "yaxis": {
         "anchor": "x",
         "domain": [
          0,
          1
         ],
         "title": {
          "text": "mean_test_score"
         }
        }
       }
      }
     },
     "metadata": {},
     "output_type": "display_data"
    }
   ],
   "source": [
    "import plotly.express as px\n",
    "\n",
    "fig = px.scatter(\n",
    "    df_cv_results_dt,\n",
    "    x='param_criterion',\n",
    "    y='mean_test_score',\n",
    ")\n",
    "\n",
    "fig.show();"
   ]
  },
  {
   "cell_type": "code",
   "execution_count": 23,
   "metadata": {
    "colab": {
     "base_uri": "https://localhost:8080/",
     "height": 542
    },
    "id": "tH1lApUj87eI",
    "outputId": "ad09bde1-b6b7-4e0d-b5a4-5ebfcb395a2f"
   },
   "outputs": [
    {
     "data": {
      "application/vnd.plotly.v1+json": {
       "config": {
        "plotlyServerURL": "https://plot.ly"
       },
       "data": [
        {
         "hovertemplate": "param_max_features=%{x}<br>mean_test_score=%{y}<extra></extra>",
         "legendgroup": "",
         "marker": {
          "color": "#636efa",
          "symbol": "circle"
         },
         "mode": "markers",
         "name": "",
         "orientation": "v",
         "showlegend": false,
         "type": "scatter",
         "x": [
          "sqrt",
          "sqrt",
          "sqrt",
          "sqrt",
          "sqrt",
          "sqrt",
          "sqrt",
          "sqrt",
          "sqrt",
          "sqrt",
          "sqrt",
          "sqrt",
          "sqrt",
          "sqrt",
          "sqrt",
          "sqrt",
          "sqrt",
          "sqrt",
          "sqrt",
          "sqrt",
          "sqrt",
          "sqrt",
          "sqrt",
          "sqrt",
          "sqrt",
          "sqrt",
          "sqrt",
          "sqrt",
          "sqrt",
          "sqrt",
          "sqrt",
          "sqrt",
          "log2",
          "log2",
          "log2",
          "log2",
          "log2",
          "log2",
          "log2",
          "log2",
          "log2",
          "log2",
          "log2",
          "log2",
          "log2",
          "log2",
          "log2",
          "log2",
          "log2",
          "log2",
          "log2",
          "log2",
          "log2",
          "log2",
          "log2",
          "log2",
          "log2",
          "log2",
          "log2",
          "log2",
          "log2",
          "log2",
          "log2",
          "log2",
          "sqrt",
          "sqrt",
          "sqrt",
          "sqrt",
          "sqrt",
          "sqrt",
          "sqrt",
          "sqrt",
          "sqrt",
          "sqrt",
          "sqrt",
          "sqrt",
          "sqrt",
          "sqrt",
          "sqrt",
          "sqrt",
          "sqrt",
          "sqrt",
          "sqrt",
          "sqrt",
          "sqrt",
          "sqrt",
          "sqrt",
          "sqrt",
          "sqrt",
          "sqrt",
          "sqrt",
          "sqrt",
          "sqrt",
          "sqrt",
          "sqrt",
          "sqrt",
          "log2",
          "log2",
          "log2",
          "log2",
          "log2",
          "log2",
          "log2",
          "log2",
          "log2",
          "log2",
          "log2",
          "log2",
          "log2",
          "log2",
          "log2",
          "log2",
          "log2",
          "log2",
          "log2",
          "log2",
          "log2",
          "log2",
          "log2",
          "log2",
          "log2",
          "log2",
          "log2",
          "log2",
          "log2",
          "log2",
          "log2",
          "log2",
          "sqrt",
          "sqrt",
          "sqrt",
          "sqrt",
          "sqrt",
          "sqrt",
          "sqrt",
          "sqrt",
          "sqrt",
          "sqrt",
          "sqrt",
          "sqrt",
          "sqrt",
          "sqrt",
          "sqrt",
          "sqrt",
          "sqrt",
          "sqrt",
          "sqrt",
          "sqrt",
          "sqrt",
          "sqrt",
          "sqrt",
          "sqrt",
          "sqrt",
          "sqrt",
          "sqrt",
          "sqrt",
          "sqrt",
          "sqrt",
          "sqrt",
          "sqrt",
          "log2",
          "log2",
          "log2",
          "log2",
          "log2",
          "log2",
          "log2",
          "log2",
          "log2",
          "log2",
          "log2",
          "log2",
          "log2",
          "log2",
          "log2",
          "log2",
          "log2",
          "log2",
          "log2",
          "log2",
          "log2",
          "log2",
          "log2",
          "log2",
          "log2",
          "log2",
          "log2",
          "log2",
          "log2",
          "log2",
          "log2",
          "log2",
          "sqrt",
          "sqrt",
          "sqrt",
          "sqrt",
          "sqrt",
          "sqrt",
          "sqrt",
          "sqrt",
          "sqrt",
          "sqrt",
          "sqrt",
          "sqrt",
          "sqrt",
          "sqrt",
          "sqrt",
          "sqrt",
          "sqrt",
          "sqrt",
          "sqrt",
          "sqrt",
          "sqrt",
          "sqrt",
          "sqrt",
          "sqrt",
          "sqrt",
          "sqrt",
          "sqrt",
          "sqrt",
          "sqrt",
          "sqrt",
          "sqrt",
          "sqrt",
          "log2",
          "log2",
          "log2",
          "log2",
          "log2",
          "log2",
          "log2",
          "log2",
          "log2",
          "log2",
          "log2",
          "log2",
          "log2",
          "log2",
          "log2",
          "log2",
          "log2",
          "log2",
          "log2",
          "log2",
          "log2",
          "log2",
          "log2",
          "log2",
          "log2",
          "log2",
          "log2",
          "log2",
          "log2",
          "log2",
          "log2",
          "log2",
          "sqrt",
          "sqrt",
          "sqrt",
          "sqrt",
          "sqrt",
          "sqrt",
          "sqrt",
          "sqrt",
          "sqrt",
          "sqrt",
          "sqrt",
          "sqrt",
          "sqrt",
          "sqrt",
          "sqrt",
          "sqrt",
          "sqrt",
          "sqrt",
          "sqrt",
          "sqrt",
          "sqrt",
          "sqrt",
          "sqrt",
          "sqrt",
          "sqrt",
          "sqrt",
          "sqrt",
          "sqrt",
          "sqrt",
          "sqrt",
          "sqrt",
          "sqrt",
          "log2",
          "log2",
          "log2",
          "log2",
          "log2",
          "log2",
          "log2",
          "log2",
          "log2",
          "log2",
          "log2",
          "log2",
          "log2",
          "log2",
          "log2",
          "log2",
          "log2",
          "log2",
          "log2",
          "log2",
          "log2",
          "log2",
          "log2",
          "log2",
          "log2",
          "log2",
          "log2",
          "log2",
          "log2",
          "log2",
          "log2",
          "log2",
          "sqrt",
          "sqrt",
          "sqrt",
          "sqrt",
          "sqrt",
          "sqrt",
          "sqrt",
          "sqrt",
          "sqrt",
          "sqrt",
          "sqrt",
          "sqrt",
          "sqrt",
          "sqrt",
          "sqrt",
          "sqrt",
          "sqrt",
          "sqrt",
          "sqrt",
          "sqrt",
          "sqrt",
          "sqrt",
          "sqrt",
          "sqrt",
          "sqrt",
          "sqrt",
          "sqrt",
          "sqrt",
          "sqrt",
          "sqrt",
          "sqrt",
          "sqrt",
          "log2",
          "log2",
          "log2",
          "log2",
          "log2",
          "log2",
          "log2",
          "log2",
          "log2",
          "log2",
          "log2",
          "log2",
          "log2",
          "log2",
          "log2",
          "log2",
          "log2",
          "log2",
          "log2",
          "log2",
          "log2",
          "log2",
          "log2",
          "log2",
          "log2",
          "log2",
          "log2",
          "log2",
          "log2",
          "log2",
          "log2",
          "log2",
          "sqrt",
          "sqrt",
          "sqrt",
          "sqrt",
          "sqrt",
          "sqrt",
          "sqrt",
          "sqrt",
          "sqrt",
          "sqrt",
          "sqrt",
          "sqrt",
          "sqrt",
          "sqrt",
          "sqrt",
          "sqrt",
          "sqrt",
          "sqrt",
          "sqrt",
          "sqrt",
          "sqrt",
          "sqrt",
          "sqrt",
          "sqrt",
          "sqrt",
          "sqrt",
          "sqrt",
          "sqrt",
          "sqrt",
          "sqrt",
          "sqrt",
          "sqrt",
          "log2",
          "log2",
          "log2",
          "log2",
          "log2",
          "log2",
          "log2",
          "log2",
          "log2",
          "log2",
          "log2",
          "log2",
          "log2",
          "log2",
          "log2",
          "log2",
          "log2",
          "log2",
          "log2",
          "log2",
          "log2",
          "log2",
          "log2",
          "log2",
          "log2",
          "log2",
          "log2",
          "log2",
          "log2",
          "log2",
          "log2",
          "log2",
          "sqrt",
          "sqrt",
          "sqrt",
          "sqrt",
          "sqrt",
          "sqrt",
          "sqrt",
          "sqrt",
          "sqrt",
          "sqrt",
          "sqrt",
          "sqrt",
          "sqrt",
          "sqrt",
          "sqrt",
          "sqrt",
          "sqrt",
          "sqrt",
          "sqrt",
          "sqrt",
          "sqrt",
          "sqrt",
          "sqrt",
          "sqrt",
          "sqrt",
          "sqrt",
          "sqrt",
          "sqrt",
          "sqrt",
          "sqrt",
          "sqrt",
          "sqrt",
          "log2",
          "log2",
          "log2",
          "log2",
          "log2",
          "log2",
          "log2",
          "log2",
          "log2",
          "log2",
          "log2",
          "log2",
          "log2",
          "log2",
          "log2",
          "log2",
          "log2",
          "log2",
          "log2",
          "log2",
          "log2",
          "log2",
          "log2",
          "log2",
          "log2",
          "log2",
          "log2",
          "log2",
          "log2",
          "log2",
          "log2",
          "log2"
         ],
         "xaxis": "x",
         "y": [
          0.1860759493670886,
          0.14651898734177213,
          0.1860759493670886,
          0.14651898734177213,
          0.1791139240506329,
          0.1560126582278481,
          0.1569620253164557,
          0.15253164556962026,
          0.1512658227848101,
          0.1626582278481013,
          0.1512658227848101,
          0.1626582278481013,
          0.1512658227848101,
          0.1626582278481013,
          0.1512658227848101,
          0.1626582278481013,
          0.1800632911392405,
          0.17626582278481012,
          0.1800632911392405,
          0.17626582278481012,
          0.1800632911392405,
          0.17626582278481012,
          0.1800632911392405,
          0.17626582278481012,
          0.22025316455696203,
          0.1579113924050633,
          0.22025316455696203,
          0.1579113924050633,
          0.22025316455696203,
          0.1579113924050633,
          0.22025316455696203,
          0.1579113924050633,
          0.1860759493670886,
          0.14651898734177213,
          0.1860759493670886,
          0.14651898734177213,
          0.1791139240506329,
          0.1560126582278481,
          0.1569620253164557,
          0.15253164556962026,
          0.1512658227848101,
          0.1626582278481013,
          0.1512658227848101,
          0.1626582278481013,
          0.1512658227848101,
          0.1626582278481013,
          0.1512658227848101,
          0.1626582278481013,
          0.1800632911392405,
          0.17626582278481012,
          0.1800632911392405,
          0.17626582278481012,
          0.1800632911392405,
          0.17626582278481012,
          0.1800632911392405,
          0.17626582278481012,
          0.22025316455696203,
          0.1579113924050633,
          0.22025316455696203,
          0.1579113924050633,
          0.22025316455696203,
          0.1579113924050633,
          0.22025316455696203,
          0.1579113924050633,
          0.18797468354430377,
          0.17753164556962026,
          0.18797468354430377,
          0.17753164556962026,
          0.23069620253164555,
          0.19113924050632913,
          0.2170886075949367,
          0.1569620253164557,
          0.17341772151898732,
          0.18639240506329116,
          0.17341772151898732,
          0.18639240506329116,
          0.17341772151898732,
          0.18639240506329116,
          0.17341772151898732,
          0.18639240506329116,
          0.19556962025316457,
          0.1481012658227848,
          0.19556962025316457,
          0.1481012658227848,
          0.19556962025316457,
          0.1481012658227848,
          0.19556962025316457,
          0.1481012658227848,
          0.2,
          0.16582278481012658,
          0.2,
          0.16582278481012658,
          0.2,
          0.16582278481012658,
          0.2,
          0.16582278481012658,
          0.18797468354430377,
          0.17753164556962026,
          0.18797468354430377,
          0.17753164556962026,
          0.23069620253164555,
          0.19113924050632913,
          0.2170886075949367,
          0.1569620253164557,
          0.17341772151898732,
          0.18639240506329116,
          0.17341772151898732,
          0.18639240506329116,
          0.17341772151898732,
          0.18639240506329116,
          0.17341772151898732,
          0.18639240506329116,
          0.19556962025316457,
          0.1481012658227848,
          0.19556962025316457,
          0.1481012658227848,
          0.19556962025316457,
          0.1481012658227848,
          0.19556962025316457,
          0.1481012658227848,
          0.2,
          0.16582278481012658,
          0.2,
          0.16582278481012658,
          0.2,
          0.16582278481012658,
          0.2,
          0.16582278481012658,
          0.2246835443037975,
          0.1841772151898734,
          0.2246835443037975,
          0.1841772151898734,
          0.21772151898734177,
          0.1712025316455696,
          0.22848101265822782,
          0.20474683544303796,
          0.1920886075949367,
          0.164873417721519,
          0.1920886075949367,
          0.164873417721519,
          0.1920886075949367,
          0.164873417721519,
          0.1920886075949367,
          0.164873417721519,
          0.23291139240506328,
          0.17436708860759495,
          0.23291139240506328,
          0.17436708860759495,
          0.23291139240506328,
          0.17436708860759495,
          0.23291139240506328,
          0.17436708860759495,
          0.2060126582278481,
          0.17373417721518988,
          0.2060126582278481,
          0.17373417721518988,
          0.2060126582278481,
          0.17373417721518988,
          0.2060126582278481,
          0.17373417721518988,
          0.2246835443037975,
          0.1841772151898734,
          0.2246835443037975,
          0.1841772151898734,
          0.21772151898734177,
          0.1712025316455696,
          0.22848101265822782,
          0.20474683544303796,
          0.1920886075949367,
          0.164873417721519,
          0.1920886075949367,
          0.164873417721519,
          0.1920886075949367,
          0.164873417721519,
          0.1920886075949367,
          0.164873417721519,
          0.23291139240506328,
          0.17436708860759495,
          0.23291139240506328,
          0.17436708860759495,
          0.23291139240506328,
          0.17436708860759495,
          0.23291139240506328,
          0.17436708860759495,
          0.2060126582278481,
          0.17373417721518988,
          0.2060126582278481,
          0.17373417721518988,
          0.2060126582278481,
          0.17373417721518988,
          0.2060126582278481,
          0.17373417721518988,
          0.2180379746835443,
          0.17468354430379746,
          0.2180379746835443,
          0.17468354430379746,
          0.23607594936708862,
          0.18607594936708863,
          0.2417721518987342,
          0.1939873417721519,
          0.2208860759493671,
          0.19050632911392407,
          0.2208860759493671,
          0.19050632911392407,
          0.2208860759493671,
          0.19050632911392407,
          0.2208860759493671,
          0.19050632911392407,
          0.2632911392405063,
          0.1598101265822785,
          0.2632911392405063,
          0.1598101265822785,
          0.2632911392405063,
          0.1598101265822785,
          0.2632911392405063,
          0.1598101265822785,
          0.24746835443037973,
          0.1712025316455696,
          0.24746835443037973,
          0.1712025316455696,
          0.24746835443037973,
          0.1712025316455696,
          0.24746835443037973,
          0.1712025316455696,
          0.2180379746835443,
          0.17468354430379746,
          0.2180379746835443,
          0.17468354430379746,
          0.23607594936708862,
          0.18607594936708863,
          0.2417721518987342,
          0.1939873417721519,
          0.2208860759493671,
          0.19050632911392407,
          0.2208860759493671,
          0.19050632911392407,
          0.2208860759493671,
          0.19050632911392407,
          0.2208860759493671,
          0.19050632911392407,
          0.2632911392405063,
          0.1598101265822785,
          0.2632911392405063,
          0.1598101265822785,
          0.2632911392405063,
          0.1598101265822785,
          0.2632911392405063,
          0.1598101265822785,
          0.24746835443037973,
          0.1712025316455696,
          0.24746835443037973,
          0.1712025316455696,
          0.24746835443037973,
          0.1712025316455696,
          0.24746835443037973,
          0.1712025316455696,
          0.17848101265822786,
          0.1471518987341772,
          0.17848101265822786,
          0.1471518987341772,
          0.18101265822784812,
          0.16044303797468354,
          0.17721518987341772,
          0.15316455696202533,
          0.1490506329113924,
          0.1626582278481013,
          0.1490506329113924,
          0.1626582278481013,
          0.1490506329113924,
          0.1626582278481013,
          0.1490506329113924,
          0.1626582278481013,
          0.17215189873417722,
          0.17056962025316455,
          0.17215189873417722,
          0.17056962025316455,
          0.17215189873417722,
          0.17056962025316455,
          0.17215189873417722,
          0.17056962025316455,
          0.1879746835443038,
          0.1550632911392405,
          0.1879746835443038,
          0.1550632911392405,
          0.1879746835443038,
          0.1550632911392405,
          0.1879746835443038,
          0.1550632911392405,
          0.17848101265822786,
          0.1471518987341772,
          0.17848101265822786,
          0.1471518987341772,
          0.18101265822784812,
          0.16044303797468354,
          0.17721518987341772,
          0.15316455696202533,
          0.1490506329113924,
          0.1626582278481013,
          0.1490506329113924,
          0.1626582278481013,
          0.1490506329113924,
          0.1626582278481013,
          0.1490506329113924,
          0.1626582278481013,
          0.17215189873417722,
          0.17056962025316455,
          0.17215189873417722,
          0.17056962025316455,
          0.17215189873417722,
          0.17056962025316455,
          0.17215189873417722,
          0.17056962025316455,
          0.1879746835443038,
          0.1550632911392405,
          0.1879746835443038,
          0.1550632911392405,
          0.1879746835443038,
          0.1550632911392405,
          0.1879746835443038,
          0.1550632911392405,
          0.2126582278481013,
          0.18639240506329113,
          0.2126582278481013,
          0.18639240506329113,
          0.19145569620253164,
          0.17025316455696202,
          0.19841772151898734,
          0.15981012658227847,
          0.2079113924050633,
          0.18639240506329116,
          0.2079113924050633,
          0.18639240506329116,
          0.2079113924050633,
          0.18639240506329116,
          0.2079113924050633,
          0.18639240506329116,
          0.21265822784810123,
          0.14335443037974685,
          0.21265822784810123,
          0.14335443037974685,
          0.21265822784810123,
          0.14335443037974685,
          0.21265822784810123,
          0.14335443037974685,
          0.2060126582278481,
          0.16360759493670887,
          0.2060126582278481,
          0.16360759493670887,
          0.2060126582278481,
          0.16360759493670887,
          0.2060126582278481,
          0.16360759493670887,
          0.2126582278481013,
          0.18639240506329113,
          0.2126582278481013,
          0.18639240506329113,
          0.19145569620253164,
          0.17025316455696202,
          0.19841772151898734,
          0.15981012658227847,
          0.2079113924050633,
          0.18639240506329116,
          0.2079113924050633,
          0.18639240506329116,
          0.2079113924050633,
          0.18639240506329116,
          0.2079113924050633,
          0.18639240506329116,
          0.21265822784810123,
          0.14335443037974685,
          0.21265822784810123,
          0.14335443037974685,
          0.21265822784810123,
          0.14335443037974685,
          0.21265822784810123,
          0.14335443037974685,
          0.2060126582278481,
          0.16360759493670887,
          0.2060126582278481,
          0.16360759493670887,
          0.2060126582278481,
          0.16360759493670887,
          0.2060126582278481,
          0.16360759493670887,
          0.2170886075949367,
          0.1841772151898734,
          0.2170886075949367,
          0.1841772151898734,
          0.22531645569620254,
          0.1569620253164557,
          0.1867088607594937,
          0.20443037974683548,
          0.2193037974683544,
          0.1680379746835443,
          0.2193037974683544,
          0.1680379746835443,
          0.2193037974683544,
          0.1680379746835443,
          0.2193037974683544,
          0.1680379746835443,
          0.25854430379746834,
          0.16107594936708863,
          0.25854430379746834,
          0.16107594936708863,
          0.25854430379746834,
          0.16107594936708863,
          0.25854430379746834,
          0.16107594936708863,
          0.20411392405063294,
          0.17373417721518988,
          0.20411392405063294,
          0.17373417721518988,
          0.20411392405063294,
          0.17373417721518988,
          0.20411392405063294,
          0.17373417721518988,
          0.2170886075949367,
          0.1841772151898734,
          0.2170886075949367,
          0.1841772151898734,
          0.22531645569620254,
          0.1569620253164557,
          0.1867088607594937,
          0.20443037974683548,
          0.2193037974683544,
          0.1680379746835443,
          0.2193037974683544,
          0.1680379746835443,
          0.2193037974683544,
          0.1680379746835443,
          0.2193037974683544,
          0.1680379746835443,
          0.25854430379746834,
          0.16107594936708863,
          0.25854430379746834,
          0.16107594936708863,
          0.25854430379746834,
          0.16107594936708863,
          0.25854430379746834,
          0.16107594936708863,
          0.20411392405063294,
          0.17373417721518988,
          0.20411392405063294,
          0.17373417721518988,
          0.20411392405063294,
          0.17373417721518988,
          0.20411392405063294,
          0.17373417721518988,
          0.2471518987341772,
          0.1829113924050633,
          0.2471518987341772,
          0.1829113924050633,
          0.22626582278481008,
          0.18892405063291134,
          0.24240506329113926,
          0.19430379746835444,
          0.24556962025316453,
          0.19018987341772153,
          0.24556962025316453,
          0.19018987341772153,
          0.24556962025316453,
          0.19018987341772153,
          0.24556962025316453,
          0.19018987341772153,
          0.24430379746835446,
          0.14367088607594938,
          0.24430379746835446,
          0.14367088607594938,
          0.24430379746835446,
          0.14367088607594938,
          0.24430379746835446,
          0.14367088607594938,
          0.22689873417721515,
          0.1712025316455696,
          0.22689873417721515,
          0.1712025316455696,
          0.22689873417721515,
          0.1712025316455696,
          0.22689873417721515,
          0.1712025316455696,
          0.2471518987341772,
          0.1829113924050633,
          0.2471518987341772,
          0.1829113924050633,
          0.22626582278481008,
          0.18892405063291134,
          0.24240506329113926,
          0.19430379746835444,
          0.24556962025316453,
          0.19018987341772153,
          0.24556962025316453,
          0.19018987341772153,
          0.24556962025316453,
          0.19018987341772153,
          0.24556962025316453,
          0.19018987341772153,
          0.24430379746835446,
          0.14367088607594938,
          0.24430379746835446,
          0.14367088607594938,
          0.24430379746835446,
          0.14367088607594938,
          0.24430379746835446,
          0.14367088607594938,
          0.22689873417721515,
          0.1712025316455696,
          0.22689873417721515,
          0.1712025316455696,
          0.22689873417721515,
          0.1712025316455696,
          0.22689873417721515,
          0.1712025316455696
         ],
         "yaxis": "y"
        }
       ],
       "layout": {
        "legend": {
         "tracegroupgap": 0
        },
        "margin": {
         "t": 60
        },
        "template": {
         "data": {
          "bar": [
           {
            "error_x": {
             "color": "#2a3f5f"
            },
            "error_y": {
             "color": "#2a3f5f"
            },
            "marker": {
             "line": {
              "color": "#E5ECF6",
              "width": 0.5
             },
             "pattern": {
              "fillmode": "overlay",
              "size": 10,
              "solidity": 0.2
             }
            },
            "type": "bar"
           }
          ],
          "barpolar": [
           {
            "marker": {
             "line": {
              "color": "#E5ECF6",
              "width": 0.5
             },
             "pattern": {
              "fillmode": "overlay",
              "size": 10,
              "solidity": 0.2
             }
            },
            "type": "barpolar"
           }
          ],
          "carpet": [
           {
            "aaxis": {
             "endlinecolor": "#2a3f5f",
             "gridcolor": "white",
             "linecolor": "white",
             "minorgridcolor": "white",
             "startlinecolor": "#2a3f5f"
            },
            "baxis": {
             "endlinecolor": "#2a3f5f",
             "gridcolor": "white",
             "linecolor": "white",
             "minorgridcolor": "white",
             "startlinecolor": "#2a3f5f"
            },
            "type": "carpet"
           }
          ],
          "choropleth": [
           {
            "colorbar": {
             "outlinewidth": 0,
             "ticks": ""
            },
            "type": "choropleth"
           }
          ],
          "contour": [
           {
            "colorbar": {
             "outlinewidth": 0,
             "ticks": ""
            },
            "colorscale": [
             [
              0,
              "#0d0887"
             ],
             [
              0.1111111111111111,
              "#46039f"
             ],
             [
              0.2222222222222222,
              "#7201a8"
             ],
             [
              0.3333333333333333,
              "#9c179e"
             ],
             [
              0.4444444444444444,
              "#bd3786"
             ],
             [
              0.5555555555555556,
              "#d8576b"
             ],
             [
              0.6666666666666666,
              "#ed7953"
             ],
             [
              0.7777777777777778,
              "#fb9f3a"
             ],
             [
              0.8888888888888888,
              "#fdca26"
             ],
             [
              1,
              "#f0f921"
             ]
            ],
            "type": "contour"
           }
          ],
          "contourcarpet": [
           {
            "colorbar": {
             "outlinewidth": 0,
             "ticks": ""
            },
            "type": "contourcarpet"
           }
          ],
          "heatmap": [
           {
            "colorbar": {
             "outlinewidth": 0,
             "ticks": ""
            },
            "colorscale": [
             [
              0,
              "#0d0887"
             ],
             [
              0.1111111111111111,
              "#46039f"
             ],
             [
              0.2222222222222222,
              "#7201a8"
             ],
             [
              0.3333333333333333,
              "#9c179e"
             ],
             [
              0.4444444444444444,
              "#bd3786"
             ],
             [
              0.5555555555555556,
              "#d8576b"
             ],
             [
              0.6666666666666666,
              "#ed7953"
             ],
             [
              0.7777777777777778,
              "#fb9f3a"
             ],
             [
              0.8888888888888888,
              "#fdca26"
             ],
             [
              1,
              "#f0f921"
             ]
            ],
            "type": "heatmap"
           }
          ],
          "heatmapgl": [
           {
            "colorbar": {
             "outlinewidth": 0,
             "ticks": ""
            },
            "colorscale": [
             [
              0,
              "#0d0887"
             ],
             [
              0.1111111111111111,
              "#46039f"
             ],
             [
              0.2222222222222222,
              "#7201a8"
             ],
             [
              0.3333333333333333,
              "#9c179e"
             ],
             [
              0.4444444444444444,
              "#bd3786"
             ],
             [
              0.5555555555555556,
              "#d8576b"
             ],
             [
              0.6666666666666666,
              "#ed7953"
             ],
             [
              0.7777777777777778,
              "#fb9f3a"
             ],
             [
              0.8888888888888888,
              "#fdca26"
             ],
             [
              1,
              "#f0f921"
             ]
            ],
            "type": "heatmapgl"
           }
          ],
          "histogram": [
           {
            "marker": {
             "pattern": {
              "fillmode": "overlay",
              "size": 10,
              "solidity": 0.2
             }
            },
            "type": "histogram"
           }
          ],
          "histogram2d": [
           {
            "colorbar": {
             "outlinewidth": 0,
             "ticks": ""
            },
            "colorscale": [
             [
              0,
              "#0d0887"
             ],
             [
              0.1111111111111111,
              "#46039f"
             ],
             [
              0.2222222222222222,
              "#7201a8"
             ],
             [
              0.3333333333333333,
              "#9c179e"
             ],
             [
              0.4444444444444444,
              "#bd3786"
             ],
             [
              0.5555555555555556,
              "#d8576b"
             ],
             [
              0.6666666666666666,
              "#ed7953"
             ],
             [
              0.7777777777777778,
              "#fb9f3a"
             ],
             [
              0.8888888888888888,
              "#fdca26"
             ],
             [
              1,
              "#f0f921"
             ]
            ],
            "type": "histogram2d"
           }
          ],
          "histogram2dcontour": [
           {
            "colorbar": {
             "outlinewidth": 0,
             "ticks": ""
            },
            "colorscale": [
             [
              0,
              "#0d0887"
             ],
             [
              0.1111111111111111,
              "#46039f"
             ],
             [
              0.2222222222222222,
              "#7201a8"
             ],
             [
              0.3333333333333333,
              "#9c179e"
             ],
             [
              0.4444444444444444,
              "#bd3786"
             ],
             [
              0.5555555555555556,
              "#d8576b"
             ],
             [
              0.6666666666666666,
              "#ed7953"
             ],
             [
              0.7777777777777778,
              "#fb9f3a"
             ],
             [
              0.8888888888888888,
              "#fdca26"
             ],
             [
              1,
              "#f0f921"
             ]
            ],
            "type": "histogram2dcontour"
           }
          ],
          "mesh3d": [
           {
            "colorbar": {
             "outlinewidth": 0,
             "ticks": ""
            },
            "type": "mesh3d"
           }
          ],
          "parcoords": [
           {
            "line": {
             "colorbar": {
              "outlinewidth": 0,
              "ticks": ""
             }
            },
            "type": "parcoords"
           }
          ],
          "pie": [
           {
            "automargin": true,
            "type": "pie"
           }
          ],
          "scatter": [
           {
            "fillpattern": {
             "fillmode": "overlay",
             "size": 10,
             "solidity": 0.2
            },
            "type": "scatter"
           }
          ],
          "scatter3d": [
           {
            "line": {
             "colorbar": {
              "outlinewidth": 0,
              "ticks": ""
             }
            },
            "marker": {
             "colorbar": {
              "outlinewidth": 0,
              "ticks": ""
             }
            },
            "type": "scatter3d"
           }
          ],
          "scattercarpet": [
           {
            "marker": {
             "colorbar": {
              "outlinewidth": 0,
              "ticks": ""
             }
            },
            "type": "scattercarpet"
           }
          ],
          "scattergeo": [
           {
            "marker": {
             "colorbar": {
              "outlinewidth": 0,
              "ticks": ""
             }
            },
            "type": "scattergeo"
           }
          ],
          "scattergl": [
           {
            "marker": {
             "colorbar": {
              "outlinewidth": 0,
              "ticks": ""
             }
            },
            "type": "scattergl"
           }
          ],
          "scattermapbox": [
           {
            "marker": {
             "colorbar": {
              "outlinewidth": 0,
              "ticks": ""
             }
            },
            "type": "scattermapbox"
           }
          ],
          "scatterpolar": [
           {
            "marker": {
             "colorbar": {
              "outlinewidth": 0,
              "ticks": ""
             }
            },
            "type": "scatterpolar"
           }
          ],
          "scatterpolargl": [
           {
            "marker": {
             "colorbar": {
              "outlinewidth": 0,
              "ticks": ""
             }
            },
            "type": "scatterpolargl"
           }
          ],
          "scatterternary": [
           {
            "marker": {
             "colorbar": {
              "outlinewidth": 0,
              "ticks": ""
             }
            },
            "type": "scatterternary"
           }
          ],
          "surface": [
           {
            "colorbar": {
             "outlinewidth": 0,
             "ticks": ""
            },
            "colorscale": [
             [
              0,
              "#0d0887"
             ],
             [
              0.1111111111111111,
              "#46039f"
             ],
             [
              0.2222222222222222,
              "#7201a8"
             ],
             [
              0.3333333333333333,
              "#9c179e"
             ],
             [
              0.4444444444444444,
              "#bd3786"
             ],
             [
              0.5555555555555556,
              "#d8576b"
             ],
             [
              0.6666666666666666,
              "#ed7953"
             ],
             [
              0.7777777777777778,
              "#fb9f3a"
             ],
             [
              0.8888888888888888,
              "#fdca26"
             ],
             [
              1,
              "#f0f921"
             ]
            ],
            "type": "surface"
           }
          ],
          "table": [
           {
            "cells": {
             "fill": {
              "color": "#EBF0F8"
             },
             "line": {
              "color": "white"
             }
            },
            "header": {
             "fill": {
              "color": "#C8D4E3"
             },
             "line": {
              "color": "white"
             }
            },
            "type": "table"
           }
          ]
         },
         "layout": {
          "annotationdefaults": {
           "arrowcolor": "#2a3f5f",
           "arrowhead": 0,
           "arrowwidth": 1
          },
          "autotypenumbers": "strict",
          "coloraxis": {
           "colorbar": {
            "outlinewidth": 0,
            "ticks": ""
           }
          },
          "colorscale": {
           "diverging": [
            [
             0,
             "#8e0152"
            ],
            [
             0.1,
             "#c51b7d"
            ],
            [
             0.2,
             "#de77ae"
            ],
            [
             0.3,
             "#f1b6da"
            ],
            [
             0.4,
             "#fde0ef"
            ],
            [
             0.5,
             "#f7f7f7"
            ],
            [
             0.6,
             "#e6f5d0"
            ],
            [
             0.7,
             "#b8e186"
            ],
            [
             0.8,
             "#7fbc41"
            ],
            [
             0.9,
             "#4d9221"
            ],
            [
             1,
             "#276419"
            ]
           ],
           "sequential": [
            [
             0,
             "#0d0887"
            ],
            [
             0.1111111111111111,
             "#46039f"
            ],
            [
             0.2222222222222222,
             "#7201a8"
            ],
            [
             0.3333333333333333,
             "#9c179e"
            ],
            [
             0.4444444444444444,
             "#bd3786"
            ],
            [
             0.5555555555555556,
             "#d8576b"
            ],
            [
             0.6666666666666666,
             "#ed7953"
            ],
            [
             0.7777777777777778,
             "#fb9f3a"
            ],
            [
             0.8888888888888888,
             "#fdca26"
            ],
            [
             1,
             "#f0f921"
            ]
           ],
           "sequentialminus": [
            [
             0,
             "#0d0887"
            ],
            [
             0.1111111111111111,
             "#46039f"
            ],
            [
             0.2222222222222222,
             "#7201a8"
            ],
            [
             0.3333333333333333,
             "#9c179e"
            ],
            [
             0.4444444444444444,
             "#bd3786"
            ],
            [
             0.5555555555555556,
             "#d8576b"
            ],
            [
             0.6666666666666666,
             "#ed7953"
            ],
            [
             0.7777777777777778,
             "#fb9f3a"
            ],
            [
             0.8888888888888888,
             "#fdca26"
            ],
            [
             1,
             "#f0f921"
            ]
           ]
          },
          "colorway": [
           "#636efa",
           "#EF553B",
           "#00cc96",
           "#ab63fa",
           "#FFA15A",
           "#19d3f3",
           "#FF6692",
           "#B6E880",
           "#FF97FF",
           "#FECB52"
          ],
          "font": {
           "color": "#2a3f5f"
          },
          "geo": {
           "bgcolor": "white",
           "lakecolor": "white",
           "landcolor": "#E5ECF6",
           "showlakes": true,
           "showland": true,
           "subunitcolor": "white"
          },
          "hoverlabel": {
           "align": "left"
          },
          "hovermode": "closest",
          "mapbox": {
           "style": "light"
          },
          "paper_bgcolor": "white",
          "plot_bgcolor": "#E5ECF6",
          "polar": {
           "angularaxis": {
            "gridcolor": "white",
            "linecolor": "white",
            "ticks": ""
           },
           "bgcolor": "#E5ECF6",
           "radialaxis": {
            "gridcolor": "white",
            "linecolor": "white",
            "ticks": ""
           }
          },
          "scene": {
           "xaxis": {
            "backgroundcolor": "#E5ECF6",
            "gridcolor": "white",
            "gridwidth": 2,
            "linecolor": "white",
            "showbackground": true,
            "ticks": "",
            "zerolinecolor": "white"
           },
           "yaxis": {
            "backgroundcolor": "#E5ECF6",
            "gridcolor": "white",
            "gridwidth": 2,
            "linecolor": "white",
            "showbackground": true,
            "ticks": "",
            "zerolinecolor": "white"
           },
           "zaxis": {
            "backgroundcolor": "#E5ECF6",
            "gridcolor": "white",
            "gridwidth": 2,
            "linecolor": "white",
            "showbackground": true,
            "ticks": "",
            "zerolinecolor": "white"
           }
          },
          "shapedefaults": {
           "line": {
            "color": "#2a3f5f"
           }
          },
          "ternary": {
           "aaxis": {
            "gridcolor": "white",
            "linecolor": "white",
            "ticks": ""
           },
           "baxis": {
            "gridcolor": "white",
            "linecolor": "white",
            "ticks": ""
           },
           "bgcolor": "#E5ECF6",
           "caxis": {
            "gridcolor": "white",
            "linecolor": "white",
            "ticks": ""
           }
          },
          "title": {
           "x": 0.05
          },
          "xaxis": {
           "automargin": true,
           "gridcolor": "white",
           "linecolor": "white",
           "ticks": "",
           "title": {
            "standoff": 15
           },
           "zerolinecolor": "white",
           "zerolinewidth": 2
          },
          "yaxis": {
           "automargin": true,
           "gridcolor": "white",
           "linecolor": "white",
           "ticks": "",
           "title": {
            "standoff": 15
           },
           "zerolinecolor": "white",
           "zerolinewidth": 2
          }
         }
        },
        "xaxis": {
         "anchor": "y",
         "domain": [
          0,
          1
         ],
         "title": {
          "text": "param_max_features"
         }
        },
        "yaxis": {
         "anchor": "x",
         "domain": [
          0,
          1
         ],
         "title": {
          "text": "mean_test_score"
         }
        }
       }
      }
     },
     "metadata": {},
     "output_type": "display_data"
    }
   ],
   "source": [
    "fig = px.scatter(\n",
    "    df_cv_results_dt,\n",
    "    x='param_max_features',\n",
    "    y='mean_test_score',\n",
    ")\n",
    "\n",
    "fig.show();"
   ]
  },
  {
   "cell_type": "code",
   "execution_count": 24,
   "metadata": {
    "colab": {
     "base_uri": "https://localhost:8080/",
     "height": 542
    },
    "id": "2za-p1L09T6d",
    "outputId": "928aaca3-3201-47f8-fea4-e23de20ea958"
   },
   "outputs": [
    {
     "data": {
      "application/vnd.plotly.v1+json": {
       "config": {
        "plotlyServerURL": "https://plot.ly"
       },
       "data": [
        {
         "hovertemplate": "param_min_samples_split=%{x}<br>mean_test_score=%{y}<extra></extra>",
         "legendgroup": "",
         "marker": {
          "color": "#636efa",
          "symbol": "circle"
         },
         "mode": "markers",
         "name": "",
         "orientation": "v",
         "showlegend": false,
         "type": "scatter",
         "x": [
          5,
          5,
          10,
          10,
          15,
          15,
          20,
          20,
          5,
          5,
          10,
          10,
          15,
          15,
          20,
          20,
          5,
          5,
          10,
          10,
          15,
          15,
          20,
          20,
          5,
          5,
          10,
          10,
          15,
          15,
          20,
          20,
          5,
          5,
          10,
          10,
          15,
          15,
          20,
          20,
          5,
          5,
          10,
          10,
          15,
          15,
          20,
          20,
          5,
          5,
          10,
          10,
          15,
          15,
          20,
          20,
          5,
          5,
          10,
          10,
          15,
          15,
          20,
          20,
          5,
          5,
          10,
          10,
          15,
          15,
          20,
          20,
          5,
          5,
          10,
          10,
          15,
          15,
          20,
          20,
          5,
          5,
          10,
          10,
          15,
          15,
          20,
          20,
          5,
          5,
          10,
          10,
          15,
          15,
          20,
          20,
          5,
          5,
          10,
          10,
          15,
          15,
          20,
          20,
          5,
          5,
          10,
          10,
          15,
          15,
          20,
          20,
          5,
          5,
          10,
          10,
          15,
          15,
          20,
          20,
          5,
          5,
          10,
          10,
          15,
          15,
          20,
          20,
          5,
          5,
          10,
          10,
          15,
          15,
          20,
          20,
          5,
          5,
          10,
          10,
          15,
          15,
          20,
          20,
          5,
          5,
          10,
          10,
          15,
          15,
          20,
          20,
          5,
          5,
          10,
          10,
          15,
          15,
          20,
          20,
          5,
          5,
          10,
          10,
          15,
          15,
          20,
          20,
          5,
          5,
          10,
          10,
          15,
          15,
          20,
          20,
          5,
          5,
          10,
          10,
          15,
          15,
          20,
          20,
          5,
          5,
          10,
          10,
          15,
          15,
          20,
          20,
          5,
          5,
          10,
          10,
          15,
          15,
          20,
          20,
          5,
          5,
          10,
          10,
          15,
          15,
          20,
          20,
          5,
          5,
          10,
          10,
          15,
          15,
          20,
          20,
          5,
          5,
          10,
          10,
          15,
          15,
          20,
          20,
          5,
          5,
          10,
          10,
          15,
          15,
          20,
          20,
          5,
          5,
          10,
          10,
          15,
          15,
          20,
          20,
          5,
          5,
          10,
          10,
          15,
          15,
          20,
          20,
          5,
          5,
          10,
          10,
          15,
          15,
          20,
          20,
          5,
          5,
          10,
          10,
          15,
          15,
          20,
          20,
          5,
          5,
          10,
          10,
          15,
          15,
          20,
          20,
          5,
          5,
          10,
          10,
          15,
          15,
          20,
          20,
          5,
          5,
          10,
          10,
          15,
          15,
          20,
          20,
          5,
          5,
          10,
          10,
          15,
          15,
          20,
          20,
          5,
          5,
          10,
          10,
          15,
          15,
          20,
          20,
          5,
          5,
          10,
          10,
          15,
          15,
          20,
          20,
          5,
          5,
          10,
          10,
          15,
          15,
          20,
          20,
          5,
          5,
          10,
          10,
          15,
          15,
          20,
          20,
          5,
          5,
          10,
          10,
          15,
          15,
          20,
          20,
          5,
          5,
          10,
          10,
          15,
          15,
          20,
          20,
          5,
          5,
          10,
          10,
          15,
          15,
          20,
          20,
          5,
          5,
          10,
          10,
          15,
          15,
          20,
          20,
          5,
          5,
          10,
          10,
          15,
          15,
          20,
          20,
          5,
          5,
          10,
          10,
          15,
          15,
          20,
          20,
          5,
          5,
          10,
          10,
          15,
          15,
          20,
          20,
          5,
          5,
          10,
          10,
          15,
          15,
          20,
          20,
          5,
          5,
          10,
          10,
          15,
          15,
          20,
          20,
          5,
          5,
          10,
          10,
          15,
          15,
          20,
          20,
          5,
          5,
          10,
          10,
          15,
          15,
          20,
          20,
          5,
          5,
          10,
          10,
          15,
          15,
          20,
          20,
          5,
          5,
          10,
          10,
          15,
          15,
          20,
          20,
          5,
          5,
          10,
          10,
          15,
          15,
          20,
          20,
          5,
          5,
          10,
          10,
          15,
          15,
          20,
          20,
          5,
          5,
          10,
          10,
          15,
          15,
          20,
          20,
          5,
          5,
          10,
          10,
          15,
          15,
          20,
          20,
          5,
          5,
          10,
          10,
          15,
          15,
          20,
          20,
          5,
          5,
          10,
          10,
          15,
          15,
          20,
          20,
          5,
          5,
          10,
          10,
          15,
          15,
          20,
          20,
          5,
          5,
          10,
          10,
          15,
          15,
          20,
          20,
          5,
          5,
          10,
          10,
          15,
          15,
          20,
          20,
          5,
          5,
          10,
          10,
          15,
          15,
          20,
          20
         ],
         "xaxis": "x",
         "y": [
          0.1860759493670886,
          0.14651898734177213,
          0.1860759493670886,
          0.14651898734177213,
          0.1791139240506329,
          0.1560126582278481,
          0.1569620253164557,
          0.15253164556962026,
          0.1512658227848101,
          0.1626582278481013,
          0.1512658227848101,
          0.1626582278481013,
          0.1512658227848101,
          0.1626582278481013,
          0.1512658227848101,
          0.1626582278481013,
          0.1800632911392405,
          0.17626582278481012,
          0.1800632911392405,
          0.17626582278481012,
          0.1800632911392405,
          0.17626582278481012,
          0.1800632911392405,
          0.17626582278481012,
          0.22025316455696203,
          0.1579113924050633,
          0.22025316455696203,
          0.1579113924050633,
          0.22025316455696203,
          0.1579113924050633,
          0.22025316455696203,
          0.1579113924050633,
          0.1860759493670886,
          0.14651898734177213,
          0.1860759493670886,
          0.14651898734177213,
          0.1791139240506329,
          0.1560126582278481,
          0.1569620253164557,
          0.15253164556962026,
          0.1512658227848101,
          0.1626582278481013,
          0.1512658227848101,
          0.1626582278481013,
          0.1512658227848101,
          0.1626582278481013,
          0.1512658227848101,
          0.1626582278481013,
          0.1800632911392405,
          0.17626582278481012,
          0.1800632911392405,
          0.17626582278481012,
          0.1800632911392405,
          0.17626582278481012,
          0.1800632911392405,
          0.17626582278481012,
          0.22025316455696203,
          0.1579113924050633,
          0.22025316455696203,
          0.1579113924050633,
          0.22025316455696203,
          0.1579113924050633,
          0.22025316455696203,
          0.1579113924050633,
          0.18797468354430377,
          0.17753164556962026,
          0.18797468354430377,
          0.17753164556962026,
          0.23069620253164555,
          0.19113924050632913,
          0.2170886075949367,
          0.1569620253164557,
          0.17341772151898732,
          0.18639240506329116,
          0.17341772151898732,
          0.18639240506329116,
          0.17341772151898732,
          0.18639240506329116,
          0.17341772151898732,
          0.18639240506329116,
          0.19556962025316457,
          0.1481012658227848,
          0.19556962025316457,
          0.1481012658227848,
          0.19556962025316457,
          0.1481012658227848,
          0.19556962025316457,
          0.1481012658227848,
          0.2,
          0.16582278481012658,
          0.2,
          0.16582278481012658,
          0.2,
          0.16582278481012658,
          0.2,
          0.16582278481012658,
          0.18797468354430377,
          0.17753164556962026,
          0.18797468354430377,
          0.17753164556962026,
          0.23069620253164555,
          0.19113924050632913,
          0.2170886075949367,
          0.1569620253164557,
          0.17341772151898732,
          0.18639240506329116,
          0.17341772151898732,
          0.18639240506329116,
          0.17341772151898732,
          0.18639240506329116,
          0.17341772151898732,
          0.18639240506329116,
          0.19556962025316457,
          0.1481012658227848,
          0.19556962025316457,
          0.1481012658227848,
          0.19556962025316457,
          0.1481012658227848,
          0.19556962025316457,
          0.1481012658227848,
          0.2,
          0.16582278481012658,
          0.2,
          0.16582278481012658,
          0.2,
          0.16582278481012658,
          0.2,
          0.16582278481012658,
          0.2246835443037975,
          0.1841772151898734,
          0.2246835443037975,
          0.1841772151898734,
          0.21772151898734177,
          0.1712025316455696,
          0.22848101265822782,
          0.20474683544303796,
          0.1920886075949367,
          0.164873417721519,
          0.1920886075949367,
          0.164873417721519,
          0.1920886075949367,
          0.164873417721519,
          0.1920886075949367,
          0.164873417721519,
          0.23291139240506328,
          0.17436708860759495,
          0.23291139240506328,
          0.17436708860759495,
          0.23291139240506328,
          0.17436708860759495,
          0.23291139240506328,
          0.17436708860759495,
          0.2060126582278481,
          0.17373417721518988,
          0.2060126582278481,
          0.17373417721518988,
          0.2060126582278481,
          0.17373417721518988,
          0.2060126582278481,
          0.17373417721518988,
          0.2246835443037975,
          0.1841772151898734,
          0.2246835443037975,
          0.1841772151898734,
          0.21772151898734177,
          0.1712025316455696,
          0.22848101265822782,
          0.20474683544303796,
          0.1920886075949367,
          0.164873417721519,
          0.1920886075949367,
          0.164873417721519,
          0.1920886075949367,
          0.164873417721519,
          0.1920886075949367,
          0.164873417721519,
          0.23291139240506328,
          0.17436708860759495,
          0.23291139240506328,
          0.17436708860759495,
          0.23291139240506328,
          0.17436708860759495,
          0.23291139240506328,
          0.17436708860759495,
          0.2060126582278481,
          0.17373417721518988,
          0.2060126582278481,
          0.17373417721518988,
          0.2060126582278481,
          0.17373417721518988,
          0.2060126582278481,
          0.17373417721518988,
          0.2180379746835443,
          0.17468354430379746,
          0.2180379746835443,
          0.17468354430379746,
          0.23607594936708862,
          0.18607594936708863,
          0.2417721518987342,
          0.1939873417721519,
          0.2208860759493671,
          0.19050632911392407,
          0.2208860759493671,
          0.19050632911392407,
          0.2208860759493671,
          0.19050632911392407,
          0.2208860759493671,
          0.19050632911392407,
          0.2632911392405063,
          0.1598101265822785,
          0.2632911392405063,
          0.1598101265822785,
          0.2632911392405063,
          0.1598101265822785,
          0.2632911392405063,
          0.1598101265822785,
          0.24746835443037973,
          0.1712025316455696,
          0.24746835443037973,
          0.1712025316455696,
          0.24746835443037973,
          0.1712025316455696,
          0.24746835443037973,
          0.1712025316455696,
          0.2180379746835443,
          0.17468354430379746,
          0.2180379746835443,
          0.17468354430379746,
          0.23607594936708862,
          0.18607594936708863,
          0.2417721518987342,
          0.1939873417721519,
          0.2208860759493671,
          0.19050632911392407,
          0.2208860759493671,
          0.19050632911392407,
          0.2208860759493671,
          0.19050632911392407,
          0.2208860759493671,
          0.19050632911392407,
          0.2632911392405063,
          0.1598101265822785,
          0.2632911392405063,
          0.1598101265822785,
          0.2632911392405063,
          0.1598101265822785,
          0.2632911392405063,
          0.1598101265822785,
          0.24746835443037973,
          0.1712025316455696,
          0.24746835443037973,
          0.1712025316455696,
          0.24746835443037973,
          0.1712025316455696,
          0.24746835443037973,
          0.1712025316455696,
          0.17848101265822786,
          0.1471518987341772,
          0.17848101265822786,
          0.1471518987341772,
          0.18101265822784812,
          0.16044303797468354,
          0.17721518987341772,
          0.15316455696202533,
          0.1490506329113924,
          0.1626582278481013,
          0.1490506329113924,
          0.1626582278481013,
          0.1490506329113924,
          0.1626582278481013,
          0.1490506329113924,
          0.1626582278481013,
          0.17215189873417722,
          0.17056962025316455,
          0.17215189873417722,
          0.17056962025316455,
          0.17215189873417722,
          0.17056962025316455,
          0.17215189873417722,
          0.17056962025316455,
          0.1879746835443038,
          0.1550632911392405,
          0.1879746835443038,
          0.1550632911392405,
          0.1879746835443038,
          0.1550632911392405,
          0.1879746835443038,
          0.1550632911392405,
          0.17848101265822786,
          0.1471518987341772,
          0.17848101265822786,
          0.1471518987341772,
          0.18101265822784812,
          0.16044303797468354,
          0.17721518987341772,
          0.15316455696202533,
          0.1490506329113924,
          0.1626582278481013,
          0.1490506329113924,
          0.1626582278481013,
          0.1490506329113924,
          0.1626582278481013,
          0.1490506329113924,
          0.1626582278481013,
          0.17215189873417722,
          0.17056962025316455,
          0.17215189873417722,
          0.17056962025316455,
          0.17215189873417722,
          0.17056962025316455,
          0.17215189873417722,
          0.17056962025316455,
          0.1879746835443038,
          0.1550632911392405,
          0.1879746835443038,
          0.1550632911392405,
          0.1879746835443038,
          0.1550632911392405,
          0.1879746835443038,
          0.1550632911392405,
          0.2126582278481013,
          0.18639240506329113,
          0.2126582278481013,
          0.18639240506329113,
          0.19145569620253164,
          0.17025316455696202,
          0.19841772151898734,
          0.15981012658227847,
          0.2079113924050633,
          0.18639240506329116,
          0.2079113924050633,
          0.18639240506329116,
          0.2079113924050633,
          0.18639240506329116,
          0.2079113924050633,
          0.18639240506329116,
          0.21265822784810123,
          0.14335443037974685,
          0.21265822784810123,
          0.14335443037974685,
          0.21265822784810123,
          0.14335443037974685,
          0.21265822784810123,
          0.14335443037974685,
          0.2060126582278481,
          0.16360759493670887,
          0.2060126582278481,
          0.16360759493670887,
          0.2060126582278481,
          0.16360759493670887,
          0.2060126582278481,
          0.16360759493670887,
          0.2126582278481013,
          0.18639240506329113,
          0.2126582278481013,
          0.18639240506329113,
          0.19145569620253164,
          0.17025316455696202,
          0.19841772151898734,
          0.15981012658227847,
          0.2079113924050633,
          0.18639240506329116,
          0.2079113924050633,
          0.18639240506329116,
          0.2079113924050633,
          0.18639240506329116,
          0.2079113924050633,
          0.18639240506329116,
          0.21265822784810123,
          0.14335443037974685,
          0.21265822784810123,
          0.14335443037974685,
          0.21265822784810123,
          0.14335443037974685,
          0.21265822784810123,
          0.14335443037974685,
          0.2060126582278481,
          0.16360759493670887,
          0.2060126582278481,
          0.16360759493670887,
          0.2060126582278481,
          0.16360759493670887,
          0.2060126582278481,
          0.16360759493670887,
          0.2170886075949367,
          0.1841772151898734,
          0.2170886075949367,
          0.1841772151898734,
          0.22531645569620254,
          0.1569620253164557,
          0.1867088607594937,
          0.20443037974683548,
          0.2193037974683544,
          0.1680379746835443,
          0.2193037974683544,
          0.1680379746835443,
          0.2193037974683544,
          0.1680379746835443,
          0.2193037974683544,
          0.1680379746835443,
          0.25854430379746834,
          0.16107594936708863,
          0.25854430379746834,
          0.16107594936708863,
          0.25854430379746834,
          0.16107594936708863,
          0.25854430379746834,
          0.16107594936708863,
          0.20411392405063294,
          0.17373417721518988,
          0.20411392405063294,
          0.17373417721518988,
          0.20411392405063294,
          0.17373417721518988,
          0.20411392405063294,
          0.17373417721518988,
          0.2170886075949367,
          0.1841772151898734,
          0.2170886075949367,
          0.1841772151898734,
          0.22531645569620254,
          0.1569620253164557,
          0.1867088607594937,
          0.20443037974683548,
          0.2193037974683544,
          0.1680379746835443,
          0.2193037974683544,
          0.1680379746835443,
          0.2193037974683544,
          0.1680379746835443,
          0.2193037974683544,
          0.1680379746835443,
          0.25854430379746834,
          0.16107594936708863,
          0.25854430379746834,
          0.16107594936708863,
          0.25854430379746834,
          0.16107594936708863,
          0.25854430379746834,
          0.16107594936708863,
          0.20411392405063294,
          0.17373417721518988,
          0.20411392405063294,
          0.17373417721518988,
          0.20411392405063294,
          0.17373417721518988,
          0.20411392405063294,
          0.17373417721518988,
          0.2471518987341772,
          0.1829113924050633,
          0.2471518987341772,
          0.1829113924050633,
          0.22626582278481008,
          0.18892405063291134,
          0.24240506329113926,
          0.19430379746835444,
          0.24556962025316453,
          0.19018987341772153,
          0.24556962025316453,
          0.19018987341772153,
          0.24556962025316453,
          0.19018987341772153,
          0.24556962025316453,
          0.19018987341772153,
          0.24430379746835446,
          0.14367088607594938,
          0.24430379746835446,
          0.14367088607594938,
          0.24430379746835446,
          0.14367088607594938,
          0.24430379746835446,
          0.14367088607594938,
          0.22689873417721515,
          0.1712025316455696,
          0.22689873417721515,
          0.1712025316455696,
          0.22689873417721515,
          0.1712025316455696,
          0.22689873417721515,
          0.1712025316455696,
          0.2471518987341772,
          0.1829113924050633,
          0.2471518987341772,
          0.1829113924050633,
          0.22626582278481008,
          0.18892405063291134,
          0.24240506329113926,
          0.19430379746835444,
          0.24556962025316453,
          0.19018987341772153,
          0.24556962025316453,
          0.19018987341772153,
          0.24556962025316453,
          0.19018987341772153,
          0.24556962025316453,
          0.19018987341772153,
          0.24430379746835446,
          0.14367088607594938,
          0.24430379746835446,
          0.14367088607594938,
          0.24430379746835446,
          0.14367088607594938,
          0.24430379746835446,
          0.14367088607594938,
          0.22689873417721515,
          0.1712025316455696,
          0.22689873417721515,
          0.1712025316455696,
          0.22689873417721515,
          0.1712025316455696,
          0.22689873417721515,
          0.1712025316455696
         ],
         "yaxis": "y"
        }
       ],
       "layout": {
        "legend": {
         "tracegroupgap": 0
        },
        "margin": {
         "t": 60
        },
        "template": {
         "data": {
          "bar": [
           {
            "error_x": {
             "color": "#2a3f5f"
            },
            "error_y": {
             "color": "#2a3f5f"
            },
            "marker": {
             "line": {
              "color": "#E5ECF6",
              "width": 0.5
             },
             "pattern": {
              "fillmode": "overlay",
              "size": 10,
              "solidity": 0.2
             }
            },
            "type": "bar"
           }
          ],
          "barpolar": [
           {
            "marker": {
             "line": {
              "color": "#E5ECF6",
              "width": 0.5
             },
             "pattern": {
              "fillmode": "overlay",
              "size": 10,
              "solidity": 0.2
             }
            },
            "type": "barpolar"
           }
          ],
          "carpet": [
           {
            "aaxis": {
             "endlinecolor": "#2a3f5f",
             "gridcolor": "white",
             "linecolor": "white",
             "minorgridcolor": "white",
             "startlinecolor": "#2a3f5f"
            },
            "baxis": {
             "endlinecolor": "#2a3f5f",
             "gridcolor": "white",
             "linecolor": "white",
             "minorgridcolor": "white",
             "startlinecolor": "#2a3f5f"
            },
            "type": "carpet"
           }
          ],
          "choropleth": [
           {
            "colorbar": {
             "outlinewidth": 0,
             "ticks": ""
            },
            "type": "choropleth"
           }
          ],
          "contour": [
           {
            "colorbar": {
             "outlinewidth": 0,
             "ticks": ""
            },
            "colorscale": [
             [
              0,
              "#0d0887"
             ],
             [
              0.1111111111111111,
              "#46039f"
             ],
             [
              0.2222222222222222,
              "#7201a8"
             ],
             [
              0.3333333333333333,
              "#9c179e"
             ],
             [
              0.4444444444444444,
              "#bd3786"
             ],
             [
              0.5555555555555556,
              "#d8576b"
             ],
             [
              0.6666666666666666,
              "#ed7953"
             ],
             [
              0.7777777777777778,
              "#fb9f3a"
             ],
             [
              0.8888888888888888,
              "#fdca26"
             ],
             [
              1,
              "#f0f921"
             ]
            ],
            "type": "contour"
           }
          ],
          "contourcarpet": [
           {
            "colorbar": {
             "outlinewidth": 0,
             "ticks": ""
            },
            "type": "contourcarpet"
           }
          ],
          "heatmap": [
           {
            "colorbar": {
             "outlinewidth": 0,
             "ticks": ""
            },
            "colorscale": [
             [
              0,
              "#0d0887"
             ],
             [
              0.1111111111111111,
              "#46039f"
             ],
             [
              0.2222222222222222,
              "#7201a8"
             ],
             [
              0.3333333333333333,
              "#9c179e"
             ],
             [
              0.4444444444444444,
              "#bd3786"
             ],
             [
              0.5555555555555556,
              "#d8576b"
             ],
             [
              0.6666666666666666,
              "#ed7953"
             ],
             [
              0.7777777777777778,
              "#fb9f3a"
             ],
             [
              0.8888888888888888,
              "#fdca26"
             ],
             [
              1,
              "#f0f921"
             ]
            ],
            "type": "heatmap"
           }
          ],
          "heatmapgl": [
           {
            "colorbar": {
             "outlinewidth": 0,
             "ticks": ""
            },
            "colorscale": [
             [
              0,
              "#0d0887"
             ],
             [
              0.1111111111111111,
              "#46039f"
             ],
             [
              0.2222222222222222,
              "#7201a8"
             ],
             [
              0.3333333333333333,
              "#9c179e"
             ],
             [
              0.4444444444444444,
              "#bd3786"
             ],
             [
              0.5555555555555556,
              "#d8576b"
             ],
             [
              0.6666666666666666,
              "#ed7953"
             ],
             [
              0.7777777777777778,
              "#fb9f3a"
             ],
             [
              0.8888888888888888,
              "#fdca26"
             ],
             [
              1,
              "#f0f921"
             ]
            ],
            "type": "heatmapgl"
           }
          ],
          "histogram": [
           {
            "marker": {
             "pattern": {
              "fillmode": "overlay",
              "size": 10,
              "solidity": 0.2
             }
            },
            "type": "histogram"
           }
          ],
          "histogram2d": [
           {
            "colorbar": {
             "outlinewidth": 0,
             "ticks": ""
            },
            "colorscale": [
             [
              0,
              "#0d0887"
             ],
             [
              0.1111111111111111,
              "#46039f"
             ],
             [
              0.2222222222222222,
              "#7201a8"
             ],
             [
              0.3333333333333333,
              "#9c179e"
             ],
             [
              0.4444444444444444,
              "#bd3786"
             ],
             [
              0.5555555555555556,
              "#d8576b"
             ],
             [
              0.6666666666666666,
              "#ed7953"
             ],
             [
              0.7777777777777778,
              "#fb9f3a"
             ],
             [
              0.8888888888888888,
              "#fdca26"
             ],
             [
              1,
              "#f0f921"
             ]
            ],
            "type": "histogram2d"
           }
          ],
          "histogram2dcontour": [
           {
            "colorbar": {
             "outlinewidth": 0,
             "ticks": ""
            },
            "colorscale": [
             [
              0,
              "#0d0887"
             ],
             [
              0.1111111111111111,
              "#46039f"
             ],
             [
              0.2222222222222222,
              "#7201a8"
             ],
             [
              0.3333333333333333,
              "#9c179e"
             ],
             [
              0.4444444444444444,
              "#bd3786"
             ],
             [
              0.5555555555555556,
              "#d8576b"
             ],
             [
              0.6666666666666666,
              "#ed7953"
             ],
             [
              0.7777777777777778,
              "#fb9f3a"
             ],
             [
              0.8888888888888888,
              "#fdca26"
             ],
             [
              1,
              "#f0f921"
             ]
            ],
            "type": "histogram2dcontour"
           }
          ],
          "mesh3d": [
           {
            "colorbar": {
             "outlinewidth": 0,
             "ticks": ""
            },
            "type": "mesh3d"
           }
          ],
          "parcoords": [
           {
            "line": {
             "colorbar": {
              "outlinewidth": 0,
              "ticks": ""
             }
            },
            "type": "parcoords"
           }
          ],
          "pie": [
           {
            "automargin": true,
            "type": "pie"
           }
          ],
          "scatter": [
           {
            "fillpattern": {
             "fillmode": "overlay",
             "size": 10,
             "solidity": 0.2
            },
            "type": "scatter"
           }
          ],
          "scatter3d": [
           {
            "line": {
             "colorbar": {
              "outlinewidth": 0,
              "ticks": ""
             }
            },
            "marker": {
             "colorbar": {
              "outlinewidth": 0,
              "ticks": ""
             }
            },
            "type": "scatter3d"
           }
          ],
          "scattercarpet": [
           {
            "marker": {
             "colorbar": {
              "outlinewidth": 0,
              "ticks": ""
             }
            },
            "type": "scattercarpet"
           }
          ],
          "scattergeo": [
           {
            "marker": {
             "colorbar": {
              "outlinewidth": 0,
              "ticks": ""
             }
            },
            "type": "scattergeo"
           }
          ],
          "scattergl": [
           {
            "marker": {
             "colorbar": {
              "outlinewidth": 0,
              "ticks": ""
             }
            },
            "type": "scattergl"
           }
          ],
          "scattermapbox": [
           {
            "marker": {
             "colorbar": {
              "outlinewidth": 0,
              "ticks": ""
             }
            },
            "type": "scattermapbox"
           }
          ],
          "scatterpolar": [
           {
            "marker": {
             "colorbar": {
              "outlinewidth": 0,
              "ticks": ""
             }
            },
            "type": "scatterpolar"
           }
          ],
          "scatterpolargl": [
           {
            "marker": {
             "colorbar": {
              "outlinewidth": 0,
              "ticks": ""
             }
            },
            "type": "scatterpolargl"
           }
          ],
          "scatterternary": [
           {
            "marker": {
             "colorbar": {
              "outlinewidth": 0,
              "ticks": ""
             }
            },
            "type": "scatterternary"
           }
          ],
          "surface": [
           {
            "colorbar": {
             "outlinewidth": 0,
             "ticks": ""
            },
            "colorscale": [
             [
              0,
              "#0d0887"
             ],
             [
              0.1111111111111111,
              "#46039f"
             ],
             [
              0.2222222222222222,
              "#7201a8"
             ],
             [
              0.3333333333333333,
              "#9c179e"
             ],
             [
              0.4444444444444444,
              "#bd3786"
             ],
             [
              0.5555555555555556,
              "#d8576b"
             ],
             [
              0.6666666666666666,
              "#ed7953"
             ],
             [
              0.7777777777777778,
              "#fb9f3a"
             ],
             [
              0.8888888888888888,
              "#fdca26"
             ],
             [
              1,
              "#f0f921"
             ]
            ],
            "type": "surface"
           }
          ],
          "table": [
           {
            "cells": {
             "fill": {
              "color": "#EBF0F8"
             },
             "line": {
              "color": "white"
             }
            },
            "header": {
             "fill": {
              "color": "#C8D4E3"
             },
             "line": {
              "color": "white"
             }
            },
            "type": "table"
           }
          ]
         },
         "layout": {
          "annotationdefaults": {
           "arrowcolor": "#2a3f5f",
           "arrowhead": 0,
           "arrowwidth": 1
          },
          "autotypenumbers": "strict",
          "coloraxis": {
           "colorbar": {
            "outlinewidth": 0,
            "ticks": ""
           }
          },
          "colorscale": {
           "diverging": [
            [
             0,
             "#8e0152"
            ],
            [
             0.1,
             "#c51b7d"
            ],
            [
             0.2,
             "#de77ae"
            ],
            [
             0.3,
             "#f1b6da"
            ],
            [
             0.4,
             "#fde0ef"
            ],
            [
             0.5,
             "#f7f7f7"
            ],
            [
             0.6,
             "#e6f5d0"
            ],
            [
             0.7,
             "#b8e186"
            ],
            [
             0.8,
             "#7fbc41"
            ],
            [
             0.9,
             "#4d9221"
            ],
            [
             1,
             "#276419"
            ]
           ],
           "sequential": [
            [
             0,
             "#0d0887"
            ],
            [
             0.1111111111111111,
             "#46039f"
            ],
            [
             0.2222222222222222,
             "#7201a8"
            ],
            [
             0.3333333333333333,
             "#9c179e"
            ],
            [
             0.4444444444444444,
             "#bd3786"
            ],
            [
             0.5555555555555556,
             "#d8576b"
            ],
            [
             0.6666666666666666,
             "#ed7953"
            ],
            [
             0.7777777777777778,
             "#fb9f3a"
            ],
            [
             0.8888888888888888,
             "#fdca26"
            ],
            [
             1,
             "#f0f921"
            ]
           ],
           "sequentialminus": [
            [
             0,
             "#0d0887"
            ],
            [
             0.1111111111111111,
             "#46039f"
            ],
            [
             0.2222222222222222,
             "#7201a8"
            ],
            [
             0.3333333333333333,
             "#9c179e"
            ],
            [
             0.4444444444444444,
             "#bd3786"
            ],
            [
             0.5555555555555556,
             "#d8576b"
            ],
            [
             0.6666666666666666,
             "#ed7953"
            ],
            [
             0.7777777777777778,
             "#fb9f3a"
            ],
            [
             0.8888888888888888,
             "#fdca26"
            ],
            [
             1,
             "#f0f921"
            ]
           ]
          },
          "colorway": [
           "#636efa",
           "#EF553B",
           "#00cc96",
           "#ab63fa",
           "#FFA15A",
           "#19d3f3",
           "#FF6692",
           "#B6E880",
           "#FF97FF",
           "#FECB52"
          ],
          "font": {
           "color": "#2a3f5f"
          },
          "geo": {
           "bgcolor": "white",
           "lakecolor": "white",
           "landcolor": "#E5ECF6",
           "showlakes": true,
           "showland": true,
           "subunitcolor": "white"
          },
          "hoverlabel": {
           "align": "left"
          },
          "hovermode": "closest",
          "mapbox": {
           "style": "light"
          },
          "paper_bgcolor": "white",
          "plot_bgcolor": "#E5ECF6",
          "polar": {
           "angularaxis": {
            "gridcolor": "white",
            "linecolor": "white",
            "ticks": ""
           },
           "bgcolor": "#E5ECF6",
           "radialaxis": {
            "gridcolor": "white",
            "linecolor": "white",
            "ticks": ""
           }
          },
          "scene": {
           "xaxis": {
            "backgroundcolor": "#E5ECF6",
            "gridcolor": "white",
            "gridwidth": 2,
            "linecolor": "white",
            "showbackground": true,
            "ticks": "",
            "zerolinecolor": "white"
           },
           "yaxis": {
            "backgroundcolor": "#E5ECF6",
            "gridcolor": "white",
            "gridwidth": 2,
            "linecolor": "white",
            "showbackground": true,
            "ticks": "",
            "zerolinecolor": "white"
           },
           "zaxis": {
            "backgroundcolor": "#E5ECF6",
            "gridcolor": "white",
            "gridwidth": 2,
            "linecolor": "white",
            "showbackground": true,
            "ticks": "",
            "zerolinecolor": "white"
           }
          },
          "shapedefaults": {
           "line": {
            "color": "#2a3f5f"
           }
          },
          "ternary": {
           "aaxis": {
            "gridcolor": "white",
            "linecolor": "white",
            "ticks": ""
           },
           "baxis": {
            "gridcolor": "white",
            "linecolor": "white",
            "ticks": ""
           },
           "bgcolor": "#E5ECF6",
           "caxis": {
            "gridcolor": "white",
            "linecolor": "white",
            "ticks": ""
           }
          },
          "title": {
           "x": 0.05
          },
          "xaxis": {
           "automargin": true,
           "gridcolor": "white",
           "linecolor": "white",
           "ticks": "",
           "title": {
            "standoff": 15
           },
           "zerolinecolor": "white",
           "zerolinewidth": 2
          },
          "yaxis": {
           "automargin": true,
           "gridcolor": "white",
           "linecolor": "white",
           "ticks": "",
           "title": {
            "standoff": 15
           },
           "zerolinecolor": "white",
           "zerolinewidth": 2
          }
         }
        },
        "xaxis": {
         "anchor": "y",
         "domain": [
          0,
          1
         ],
         "title": {
          "text": "param_min_samples_split"
         }
        },
        "yaxis": {
         "anchor": "x",
         "domain": [
          0,
          1
         ],
         "title": {
          "text": "mean_test_score"
         }
        }
       }
      }
     },
     "metadata": {},
     "output_type": "display_data"
    }
   ],
   "source": [
    "fig = px.scatter(\n",
    "    df_cv_results_dt,\n",
    "    x='param_min_samples_split',\n",
    "    y='mean_test_score',\n",
    ")\n",
    "\n",
    "fig.show();"
   ]
  },
  {
   "cell_type": "code",
   "execution_count": 25,
   "metadata": {
    "colab": {
     "base_uri": "https://localhost:8080/",
     "height": 542
    },
    "id": "LJIN5kHv9-kf",
    "outputId": "b5694c18-c98d-4f29-883b-dab05968aef5"
   },
   "outputs": [
    {
     "data": {
      "application/vnd.plotly.v1+json": {
       "config": {
        "plotlyServerURL": "https://plot.ly"
       },
       "data": [
        {
         "hovertemplate": "param_splitter=%{x}<br>mean_test_score=%{y}<extra></extra>",
         "legendgroup": "",
         "marker": {
          "color": "#636efa",
          "symbol": "circle"
         },
         "mode": "markers",
         "name": "",
         "orientation": "v",
         "showlegend": false,
         "type": "scatter",
         "x": [
          "best",
          "random",
          "best",
          "random",
          "best",
          "random",
          "best",
          "random",
          "best",
          "random",
          "best",
          "random",
          "best",
          "random",
          "best",
          "random",
          "best",
          "random",
          "best",
          "random",
          "best",
          "random",
          "best",
          "random",
          "best",
          "random",
          "best",
          "random",
          "best",
          "random",
          "best",
          "random",
          "best",
          "random",
          "best",
          "random",
          "best",
          "random",
          "best",
          "random",
          "best",
          "random",
          "best",
          "random",
          "best",
          "random",
          "best",
          "random",
          "best",
          "random",
          "best",
          "random",
          "best",
          "random",
          "best",
          "random",
          "best",
          "random",
          "best",
          "random",
          "best",
          "random",
          "best",
          "random",
          "best",
          "random",
          "best",
          "random",
          "best",
          "random",
          "best",
          "random",
          "best",
          "random",
          "best",
          "random",
          "best",
          "random",
          "best",
          "random",
          "best",
          "random",
          "best",
          "random",
          "best",
          "random",
          "best",
          "random",
          "best",
          "random",
          "best",
          "random",
          "best",
          "random",
          "best",
          "random",
          "best",
          "random",
          "best",
          "random",
          "best",
          "random",
          "best",
          "random",
          "best",
          "random",
          "best",
          "random",
          "best",
          "random",
          "best",
          "random",
          "best",
          "random",
          "best",
          "random",
          "best",
          "random",
          "best",
          "random",
          "best",
          "random",
          "best",
          "random",
          "best",
          "random",
          "best",
          "random",
          "best",
          "random",
          "best",
          "random",
          "best",
          "random",
          "best",
          "random",
          "best",
          "random",
          "best",
          "random",
          "best",
          "random",
          "best",
          "random",
          "best",
          "random",
          "best",
          "random",
          "best",
          "random",
          "best",
          "random",
          "best",
          "random",
          "best",
          "random",
          "best",
          "random",
          "best",
          "random",
          "best",
          "random",
          "best",
          "random",
          "best",
          "random",
          "best",
          "random",
          "best",
          "random",
          "best",
          "random",
          "best",
          "random",
          "best",
          "random",
          "best",
          "random",
          "best",
          "random",
          "best",
          "random",
          "best",
          "random",
          "best",
          "random",
          "best",
          "random",
          "best",
          "random",
          "best",
          "random",
          "best",
          "random",
          "best",
          "random",
          "best",
          "random",
          "best",
          "random",
          "best",
          "random",
          "best",
          "random",
          "best",
          "random",
          "best",
          "random",
          "best",
          "random",
          "best",
          "random",
          "best",
          "random",
          "best",
          "random",
          "best",
          "random",
          "best",
          "random",
          "best",
          "random",
          "best",
          "random",
          "best",
          "random",
          "best",
          "random",
          "best",
          "random",
          "best",
          "random",
          "best",
          "random",
          "best",
          "random",
          "best",
          "random",
          "best",
          "random",
          "best",
          "random",
          "best",
          "random",
          "best",
          "random",
          "best",
          "random",
          "best",
          "random",
          "best",
          "random",
          "best",
          "random",
          "best",
          "random",
          "best",
          "random",
          "best",
          "random",
          "best",
          "random",
          "best",
          "random",
          "best",
          "random",
          "best",
          "random",
          "best",
          "random",
          "best",
          "random",
          "best",
          "random",
          "best",
          "random",
          "best",
          "random",
          "best",
          "random",
          "best",
          "random",
          "best",
          "random",
          "best",
          "random",
          "best",
          "random",
          "best",
          "random",
          "best",
          "random",
          "best",
          "random",
          "best",
          "random",
          "best",
          "random",
          "best",
          "random",
          "best",
          "random",
          "best",
          "random",
          "best",
          "random",
          "best",
          "random",
          "best",
          "random",
          "best",
          "random",
          "best",
          "random",
          "best",
          "random",
          "best",
          "random",
          "best",
          "random",
          "best",
          "random",
          "best",
          "random",
          "best",
          "random",
          "best",
          "random",
          "best",
          "random",
          "best",
          "random",
          "best",
          "random",
          "best",
          "random",
          "best",
          "random",
          "best",
          "random",
          "best",
          "random",
          "best",
          "random",
          "best",
          "random",
          "best",
          "random",
          "best",
          "random",
          "best",
          "random",
          "best",
          "random",
          "best",
          "random",
          "best",
          "random",
          "best",
          "random",
          "best",
          "random",
          "best",
          "random",
          "best",
          "random",
          "best",
          "random",
          "best",
          "random",
          "best",
          "random",
          "best",
          "random",
          "best",
          "random",
          "best",
          "random",
          "best",
          "random",
          "best",
          "random",
          "best",
          "random",
          "best",
          "random",
          "best",
          "random",
          "best",
          "random",
          "best",
          "random",
          "best",
          "random",
          "best",
          "random",
          "best",
          "random",
          "best",
          "random",
          "best",
          "random",
          "best",
          "random",
          "best",
          "random",
          "best",
          "random",
          "best",
          "random",
          "best",
          "random",
          "best",
          "random",
          "best",
          "random",
          "best",
          "random",
          "best",
          "random",
          "best",
          "random",
          "best",
          "random",
          "best",
          "random",
          "best",
          "random",
          "best",
          "random",
          "best",
          "random",
          "best",
          "random",
          "best",
          "random",
          "best",
          "random",
          "best",
          "random",
          "best",
          "random",
          "best",
          "random",
          "best",
          "random",
          "best",
          "random",
          "best",
          "random",
          "best",
          "random",
          "best",
          "random",
          "best",
          "random",
          "best",
          "random",
          "best",
          "random",
          "best",
          "random",
          "best",
          "random",
          "best",
          "random",
          "best",
          "random",
          "best",
          "random",
          "best",
          "random",
          "best",
          "random",
          "best",
          "random",
          "best",
          "random",
          "best",
          "random",
          "best",
          "random",
          "best",
          "random",
          "best",
          "random",
          "best",
          "random",
          "best",
          "random",
          "best",
          "random",
          "best",
          "random",
          "best",
          "random",
          "best",
          "random",
          "best",
          "random",
          "best",
          "random",
          "best",
          "random",
          "best",
          "random",
          "best",
          "random",
          "best",
          "random",
          "best",
          "random"
         ],
         "xaxis": "x",
         "y": [
          0.1860759493670886,
          0.14651898734177213,
          0.1860759493670886,
          0.14651898734177213,
          0.1791139240506329,
          0.1560126582278481,
          0.1569620253164557,
          0.15253164556962026,
          0.1512658227848101,
          0.1626582278481013,
          0.1512658227848101,
          0.1626582278481013,
          0.1512658227848101,
          0.1626582278481013,
          0.1512658227848101,
          0.1626582278481013,
          0.1800632911392405,
          0.17626582278481012,
          0.1800632911392405,
          0.17626582278481012,
          0.1800632911392405,
          0.17626582278481012,
          0.1800632911392405,
          0.17626582278481012,
          0.22025316455696203,
          0.1579113924050633,
          0.22025316455696203,
          0.1579113924050633,
          0.22025316455696203,
          0.1579113924050633,
          0.22025316455696203,
          0.1579113924050633,
          0.1860759493670886,
          0.14651898734177213,
          0.1860759493670886,
          0.14651898734177213,
          0.1791139240506329,
          0.1560126582278481,
          0.1569620253164557,
          0.15253164556962026,
          0.1512658227848101,
          0.1626582278481013,
          0.1512658227848101,
          0.1626582278481013,
          0.1512658227848101,
          0.1626582278481013,
          0.1512658227848101,
          0.1626582278481013,
          0.1800632911392405,
          0.17626582278481012,
          0.1800632911392405,
          0.17626582278481012,
          0.1800632911392405,
          0.17626582278481012,
          0.1800632911392405,
          0.17626582278481012,
          0.22025316455696203,
          0.1579113924050633,
          0.22025316455696203,
          0.1579113924050633,
          0.22025316455696203,
          0.1579113924050633,
          0.22025316455696203,
          0.1579113924050633,
          0.18797468354430377,
          0.17753164556962026,
          0.18797468354430377,
          0.17753164556962026,
          0.23069620253164555,
          0.19113924050632913,
          0.2170886075949367,
          0.1569620253164557,
          0.17341772151898732,
          0.18639240506329116,
          0.17341772151898732,
          0.18639240506329116,
          0.17341772151898732,
          0.18639240506329116,
          0.17341772151898732,
          0.18639240506329116,
          0.19556962025316457,
          0.1481012658227848,
          0.19556962025316457,
          0.1481012658227848,
          0.19556962025316457,
          0.1481012658227848,
          0.19556962025316457,
          0.1481012658227848,
          0.2,
          0.16582278481012658,
          0.2,
          0.16582278481012658,
          0.2,
          0.16582278481012658,
          0.2,
          0.16582278481012658,
          0.18797468354430377,
          0.17753164556962026,
          0.18797468354430377,
          0.17753164556962026,
          0.23069620253164555,
          0.19113924050632913,
          0.2170886075949367,
          0.1569620253164557,
          0.17341772151898732,
          0.18639240506329116,
          0.17341772151898732,
          0.18639240506329116,
          0.17341772151898732,
          0.18639240506329116,
          0.17341772151898732,
          0.18639240506329116,
          0.19556962025316457,
          0.1481012658227848,
          0.19556962025316457,
          0.1481012658227848,
          0.19556962025316457,
          0.1481012658227848,
          0.19556962025316457,
          0.1481012658227848,
          0.2,
          0.16582278481012658,
          0.2,
          0.16582278481012658,
          0.2,
          0.16582278481012658,
          0.2,
          0.16582278481012658,
          0.2246835443037975,
          0.1841772151898734,
          0.2246835443037975,
          0.1841772151898734,
          0.21772151898734177,
          0.1712025316455696,
          0.22848101265822782,
          0.20474683544303796,
          0.1920886075949367,
          0.164873417721519,
          0.1920886075949367,
          0.164873417721519,
          0.1920886075949367,
          0.164873417721519,
          0.1920886075949367,
          0.164873417721519,
          0.23291139240506328,
          0.17436708860759495,
          0.23291139240506328,
          0.17436708860759495,
          0.23291139240506328,
          0.17436708860759495,
          0.23291139240506328,
          0.17436708860759495,
          0.2060126582278481,
          0.17373417721518988,
          0.2060126582278481,
          0.17373417721518988,
          0.2060126582278481,
          0.17373417721518988,
          0.2060126582278481,
          0.17373417721518988,
          0.2246835443037975,
          0.1841772151898734,
          0.2246835443037975,
          0.1841772151898734,
          0.21772151898734177,
          0.1712025316455696,
          0.22848101265822782,
          0.20474683544303796,
          0.1920886075949367,
          0.164873417721519,
          0.1920886075949367,
          0.164873417721519,
          0.1920886075949367,
          0.164873417721519,
          0.1920886075949367,
          0.164873417721519,
          0.23291139240506328,
          0.17436708860759495,
          0.23291139240506328,
          0.17436708860759495,
          0.23291139240506328,
          0.17436708860759495,
          0.23291139240506328,
          0.17436708860759495,
          0.2060126582278481,
          0.17373417721518988,
          0.2060126582278481,
          0.17373417721518988,
          0.2060126582278481,
          0.17373417721518988,
          0.2060126582278481,
          0.17373417721518988,
          0.2180379746835443,
          0.17468354430379746,
          0.2180379746835443,
          0.17468354430379746,
          0.23607594936708862,
          0.18607594936708863,
          0.2417721518987342,
          0.1939873417721519,
          0.2208860759493671,
          0.19050632911392407,
          0.2208860759493671,
          0.19050632911392407,
          0.2208860759493671,
          0.19050632911392407,
          0.2208860759493671,
          0.19050632911392407,
          0.2632911392405063,
          0.1598101265822785,
          0.2632911392405063,
          0.1598101265822785,
          0.2632911392405063,
          0.1598101265822785,
          0.2632911392405063,
          0.1598101265822785,
          0.24746835443037973,
          0.1712025316455696,
          0.24746835443037973,
          0.1712025316455696,
          0.24746835443037973,
          0.1712025316455696,
          0.24746835443037973,
          0.1712025316455696,
          0.2180379746835443,
          0.17468354430379746,
          0.2180379746835443,
          0.17468354430379746,
          0.23607594936708862,
          0.18607594936708863,
          0.2417721518987342,
          0.1939873417721519,
          0.2208860759493671,
          0.19050632911392407,
          0.2208860759493671,
          0.19050632911392407,
          0.2208860759493671,
          0.19050632911392407,
          0.2208860759493671,
          0.19050632911392407,
          0.2632911392405063,
          0.1598101265822785,
          0.2632911392405063,
          0.1598101265822785,
          0.2632911392405063,
          0.1598101265822785,
          0.2632911392405063,
          0.1598101265822785,
          0.24746835443037973,
          0.1712025316455696,
          0.24746835443037973,
          0.1712025316455696,
          0.24746835443037973,
          0.1712025316455696,
          0.24746835443037973,
          0.1712025316455696,
          0.17848101265822786,
          0.1471518987341772,
          0.17848101265822786,
          0.1471518987341772,
          0.18101265822784812,
          0.16044303797468354,
          0.17721518987341772,
          0.15316455696202533,
          0.1490506329113924,
          0.1626582278481013,
          0.1490506329113924,
          0.1626582278481013,
          0.1490506329113924,
          0.1626582278481013,
          0.1490506329113924,
          0.1626582278481013,
          0.17215189873417722,
          0.17056962025316455,
          0.17215189873417722,
          0.17056962025316455,
          0.17215189873417722,
          0.17056962025316455,
          0.17215189873417722,
          0.17056962025316455,
          0.1879746835443038,
          0.1550632911392405,
          0.1879746835443038,
          0.1550632911392405,
          0.1879746835443038,
          0.1550632911392405,
          0.1879746835443038,
          0.1550632911392405,
          0.17848101265822786,
          0.1471518987341772,
          0.17848101265822786,
          0.1471518987341772,
          0.18101265822784812,
          0.16044303797468354,
          0.17721518987341772,
          0.15316455696202533,
          0.1490506329113924,
          0.1626582278481013,
          0.1490506329113924,
          0.1626582278481013,
          0.1490506329113924,
          0.1626582278481013,
          0.1490506329113924,
          0.1626582278481013,
          0.17215189873417722,
          0.17056962025316455,
          0.17215189873417722,
          0.17056962025316455,
          0.17215189873417722,
          0.17056962025316455,
          0.17215189873417722,
          0.17056962025316455,
          0.1879746835443038,
          0.1550632911392405,
          0.1879746835443038,
          0.1550632911392405,
          0.1879746835443038,
          0.1550632911392405,
          0.1879746835443038,
          0.1550632911392405,
          0.2126582278481013,
          0.18639240506329113,
          0.2126582278481013,
          0.18639240506329113,
          0.19145569620253164,
          0.17025316455696202,
          0.19841772151898734,
          0.15981012658227847,
          0.2079113924050633,
          0.18639240506329116,
          0.2079113924050633,
          0.18639240506329116,
          0.2079113924050633,
          0.18639240506329116,
          0.2079113924050633,
          0.18639240506329116,
          0.21265822784810123,
          0.14335443037974685,
          0.21265822784810123,
          0.14335443037974685,
          0.21265822784810123,
          0.14335443037974685,
          0.21265822784810123,
          0.14335443037974685,
          0.2060126582278481,
          0.16360759493670887,
          0.2060126582278481,
          0.16360759493670887,
          0.2060126582278481,
          0.16360759493670887,
          0.2060126582278481,
          0.16360759493670887,
          0.2126582278481013,
          0.18639240506329113,
          0.2126582278481013,
          0.18639240506329113,
          0.19145569620253164,
          0.17025316455696202,
          0.19841772151898734,
          0.15981012658227847,
          0.2079113924050633,
          0.18639240506329116,
          0.2079113924050633,
          0.18639240506329116,
          0.2079113924050633,
          0.18639240506329116,
          0.2079113924050633,
          0.18639240506329116,
          0.21265822784810123,
          0.14335443037974685,
          0.21265822784810123,
          0.14335443037974685,
          0.21265822784810123,
          0.14335443037974685,
          0.21265822784810123,
          0.14335443037974685,
          0.2060126582278481,
          0.16360759493670887,
          0.2060126582278481,
          0.16360759493670887,
          0.2060126582278481,
          0.16360759493670887,
          0.2060126582278481,
          0.16360759493670887,
          0.2170886075949367,
          0.1841772151898734,
          0.2170886075949367,
          0.1841772151898734,
          0.22531645569620254,
          0.1569620253164557,
          0.1867088607594937,
          0.20443037974683548,
          0.2193037974683544,
          0.1680379746835443,
          0.2193037974683544,
          0.1680379746835443,
          0.2193037974683544,
          0.1680379746835443,
          0.2193037974683544,
          0.1680379746835443,
          0.25854430379746834,
          0.16107594936708863,
          0.25854430379746834,
          0.16107594936708863,
          0.25854430379746834,
          0.16107594936708863,
          0.25854430379746834,
          0.16107594936708863,
          0.20411392405063294,
          0.17373417721518988,
          0.20411392405063294,
          0.17373417721518988,
          0.20411392405063294,
          0.17373417721518988,
          0.20411392405063294,
          0.17373417721518988,
          0.2170886075949367,
          0.1841772151898734,
          0.2170886075949367,
          0.1841772151898734,
          0.22531645569620254,
          0.1569620253164557,
          0.1867088607594937,
          0.20443037974683548,
          0.2193037974683544,
          0.1680379746835443,
          0.2193037974683544,
          0.1680379746835443,
          0.2193037974683544,
          0.1680379746835443,
          0.2193037974683544,
          0.1680379746835443,
          0.25854430379746834,
          0.16107594936708863,
          0.25854430379746834,
          0.16107594936708863,
          0.25854430379746834,
          0.16107594936708863,
          0.25854430379746834,
          0.16107594936708863,
          0.20411392405063294,
          0.17373417721518988,
          0.20411392405063294,
          0.17373417721518988,
          0.20411392405063294,
          0.17373417721518988,
          0.20411392405063294,
          0.17373417721518988,
          0.2471518987341772,
          0.1829113924050633,
          0.2471518987341772,
          0.1829113924050633,
          0.22626582278481008,
          0.18892405063291134,
          0.24240506329113926,
          0.19430379746835444,
          0.24556962025316453,
          0.19018987341772153,
          0.24556962025316453,
          0.19018987341772153,
          0.24556962025316453,
          0.19018987341772153,
          0.24556962025316453,
          0.19018987341772153,
          0.24430379746835446,
          0.14367088607594938,
          0.24430379746835446,
          0.14367088607594938,
          0.24430379746835446,
          0.14367088607594938,
          0.24430379746835446,
          0.14367088607594938,
          0.22689873417721515,
          0.1712025316455696,
          0.22689873417721515,
          0.1712025316455696,
          0.22689873417721515,
          0.1712025316455696,
          0.22689873417721515,
          0.1712025316455696,
          0.2471518987341772,
          0.1829113924050633,
          0.2471518987341772,
          0.1829113924050633,
          0.22626582278481008,
          0.18892405063291134,
          0.24240506329113926,
          0.19430379746835444,
          0.24556962025316453,
          0.19018987341772153,
          0.24556962025316453,
          0.19018987341772153,
          0.24556962025316453,
          0.19018987341772153,
          0.24556962025316453,
          0.19018987341772153,
          0.24430379746835446,
          0.14367088607594938,
          0.24430379746835446,
          0.14367088607594938,
          0.24430379746835446,
          0.14367088607594938,
          0.24430379746835446,
          0.14367088607594938,
          0.22689873417721515,
          0.1712025316455696,
          0.22689873417721515,
          0.1712025316455696,
          0.22689873417721515,
          0.1712025316455696,
          0.22689873417721515,
          0.1712025316455696
         ],
         "yaxis": "y"
        }
       ],
       "layout": {
        "legend": {
         "tracegroupgap": 0
        },
        "margin": {
         "t": 60
        },
        "template": {
         "data": {
          "bar": [
           {
            "error_x": {
             "color": "#2a3f5f"
            },
            "error_y": {
             "color": "#2a3f5f"
            },
            "marker": {
             "line": {
              "color": "#E5ECF6",
              "width": 0.5
             },
             "pattern": {
              "fillmode": "overlay",
              "size": 10,
              "solidity": 0.2
             }
            },
            "type": "bar"
           }
          ],
          "barpolar": [
           {
            "marker": {
             "line": {
              "color": "#E5ECF6",
              "width": 0.5
             },
             "pattern": {
              "fillmode": "overlay",
              "size": 10,
              "solidity": 0.2
             }
            },
            "type": "barpolar"
           }
          ],
          "carpet": [
           {
            "aaxis": {
             "endlinecolor": "#2a3f5f",
             "gridcolor": "white",
             "linecolor": "white",
             "minorgridcolor": "white",
             "startlinecolor": "#2a3f5f"
            },
            "baxis": {
             "endlinecolor": "#2a3f5f",
             "gridcolor": "white",
             "linecolor": "white",
             "minorgridcolor": "white",
             "startlinecolor": "#2a3f5f"
            },
            "type": "carpet"
           }
          ],
          "choropleth": [
           {
            "colorbar": {
             "outlinewidth": 0,
             "ticks": ""
            },
            "type": "choropleth"
           }
          ],
          "contour": [
           {
            "colorbar": {
             "outlinewidth": 0,
             "ticks": ""
            },
            "colorscale": [
             [
              0,
              "#0d0887"
             ],
             [
              0.1111111111111111,
              "#46039f"
             ],
             [
              0.2222222222222222,
              "#7201a8"
             ],
             [
              0.3333333333333333,
              "#9c179e"
             ],
             [
              0.4444444444444444,
              "#bd3786"
             ],
             [
              0.5555555555555556,
              "#d8576b"
             ],
             [
              0.6666666666666666,
              "#ed7953"
             ],
             [
              0.7777777777777778,
              "#fb9f3a"
             ],
             [
              0.8888888888888888,
              "#fdca26"
             ],
             [
              1,
              "#f0f921"
             ]
            ],
            "type": "contour"
           }
          ],
          "contourcarpet": [
           {
            "colorbar": {
             "outlinewidth": 0,
             "ticks": ""
            },
            "type": "contourcarpet"
           }
          ],
          "heatmap": [
           {
            "colorbar": {
             "outlinewidth": 0,
             "ticks": ""
            },
            "colorscale": [
             [
              0,
              "#0d0887"
             ],
             [
              0.1111111111111111,
              "#46039f"
             ],
             [
              0.2222222222222222,
              "#7201a8"
             ],
             [
              0.3333333333333333,
              "#9c179e"
             ],
             [
              0.4444444444444444,
              "#bd3786"
             ],
             [
              0.5555555555555556,
              "#d8576b"
             ],
             [
              0.6666666666666666,
              "#ed7953"
             ],
             [
              0.7777777777777778,
              "#fb9f3a"
             ],
             [
              0.8888888888888888,
              "#fdca26"
             ],
             [
              1,
              "#f0f921"
             ]
            ],
            "type": "heatmap"
           }
          ],
          "heatmapgl": [
           {
            "colorbar": {
             "outlinewidth": 0,
             "ticks": ""
            },
            "colorscale": [
             [
              0,
              "#0d0887"
             ],
             [
              0.1111111111111111,
              "#46039f"
             ],
             [
              0.2222222222222222,
              "#7201a8"
             ],
             [
              0.3333333333333333,
              "#9c179e"
             ],
             [
              0.4444444444444444,
              "#bd3786"
             ],
             [
              0.5555555555555556,
              "#d8576b"
             ],
             [
              0.6666666666666666,
              "#ed7953"
             ],
             [
              0.7777777777777778,
              "#fb9f3a"
             ],
             [
              0.8888888888888888,
              "#fdca26"
             ],
             [
              1,
              "#f0f921"
             ]
            ],
            "type": "heatmapgl"
           }
          ],
          "histogram": [
           {
            "marker": {
             "pattern": {
              "fillmode": "overlay",
              "size": 10,
              "solidity": 0.2
             }
            },
            "type": "histogram"
           }
          ],
          "histogram2d": [
           {
            "colorbar": {
             "outlinewidth": 0,
             "ticks": ""
            },
            "colorscale": [
             [
              0,
              "#0d0887"
             ],
             [
              0.1111111111111111,
              "#46039f"
             ],
             [
              0.2222222222222222,
              "#7201a8"
             ],
             [
              0.3333333333333333,
              "#9c179e"
             ],
             [
              0.4444444444444444,
              "#bd3786"
             ],
             [
              0.5555555555555556,
              "#d8576b"
             ],
             [
              0.6666666666666666,
              "#ed7953"
             ],
             [
              0.7777777777777778,
              "#fb9f3a"
             ],
             [
              0.8888888888888888,
              "#fdca26"
             ],
             [
              1,
              "#f0f921"
             ]
            ],
            "type": "histogram2d"
           }
          ],
          "histogram2dcontour": [
           {
            "colorbar": {
             "outlinewidth": 0,
             "ticks": ""
            },
            "colorscale": [
             [
              0,
              "#0d0887"
             ],
             [
              0.1111111111111111,
              "#46039f"
             ],
             [
              0.2222222222222222,
              "#7201a8"
             ],
             [
              0.3333333333333333,
              "#9c179e"
             ],
             [
              0.4444444444444444,
              "#bd3786"
             ],
             [
              0.5555555555555556,
              "#d8576b"
             ],
             [
              0.6666666666666666,
              "#ed7953"
             ],
             [
              0.7777777777777778,
              "#fb9f3a"
             ],
             [
              0.8888888888888888,
              "#fdca26"
             ],
             [
              1,
              "#f0f921"
             ]
            ],
            "type": "histogram2dcontour"
           }
          ],
          "mesh3d": [
           {
            "colorbar": {
             "outlinewidth": 0,
             "ticks": ""
            },
            "type": "mesh3d"
           }
          ],
          "parcoords": [
           {
            "line": {
             "colorbar": {
              "outlinewidth": 0,
              "ticks": ""
             }
            },
            "type": "parcoords"
           }
          ],
          "pie": [
           {
            "automargin": true,
            "type": "pie"
           }
          ],
          "scatter": [
           {
            "fillpattern": {
             "fillmode": "overlay",
             "size": 10,
             "solidity": 0.2
            },
            "type": "scatter"
           }
          ],
          "scatter3d": [
           {
            "line": {
             "colorbar": {
              "outlinewidth": 0,
              "ticks": ""
             }
            },
            "marker": {
             "colorbar": {
              "outlinewidth": 0,
              "ticks": ""
             }
            },
            "type": "scatter3d"
           }
          ],
          "scattercarpet": [
           {
            "marker": {
             "colorbar": {
              "outlinewidth": 0,
              "ticks": ""
             }
            },
            "type": "scattercarpet"
           }
          ],
          "scattergeo": [
           {
            "marker": {
             "colorbar": {
              "outlinewidth": 0,
              "ticks": ""
             }
            },
            "type": "scattergeo"
           }
          ],
          "scattergl": [
           {
            "marker": {
             "colorbar": {
              "outlinewidth": 0,
              "ticks": ""
             }
            },
            "type": "scattergl"
           }
          ],
          "scattermapbox": [
           {
            "marker": {
             "colorbar": {
              "outlinewidth": 0,
              "ticks": ""
             }
            },
            "type": "scattermapbox"
           }
          ],
          "scatterpolar": [
           {
            "marker": {
             "colorbar": {
              "outlinewidth": 0,
              "ticks": ""
             }
            },
            "type": "scatterpolar"
           }
          ],
          "scatterpolargl": [
           {
            "marker": {
             "colorbar": {
              "outlinewidth": 0,
              "ticks": ""
             }
            },
            "type": "scatterpolargl"
           }
          ],
          "scatterternary": [
           {
            "marker": {
             "colorbar": {
              "outlinewidth": 0,
              "ticks": ""
             }
            },
            "type": "scatterternary"
           }
          ],
          "surface": [
           {
            "colorbar": {
             "outlinewidth": 0,
             "ticks": ""
            },
            "colorscale": [
             [
              0,
              "#0d0887"
             ],
             [
              0.1111111111111111,
              "#46039f"
             ],
             [
              0.2222222222222222,
              "#7201a8"
             ],
             [
              0.3333333333333333,
              "#9c179e"
             ],
             [
              0.4444444444444444,
              "#bd3786"
             ],
             [
              0.5555555555555556,
              "#d8576b"
             ],
             [
              0.6666666666666666,
              "#ed7953"
             ],
             [
              0.7777777777777778,
              "#fb9f3a"
             ],
             [
              0.8888888888888888,
              "#fdca26"
             ],
             [
              1,
              "#f0f921"
             ]
            ],
            "type": "surface"
           }
          ],
          "table": [
           {
            "cells": {
             "fill": {
              "color": "#EBF0F8"
             },
             "line": {
              "color": "white"
             }
            },
            "header": {
             "fill": {
              "color": "#C8D4E3"
             },
             "line": {
              "color": "white"
             }
            },
            "type": "table"
           }
          ]
         },
         "layout": {
          "annotationdefaults": {
           "arrowcolor": "#2a3f5f",
           "arrowhead": 0,
           "arrowwidth": 1
          },
          "autotypenumbers": "strict",
          "coloraxis": {
           "colorbar": {
            "outlinewidth": 0,
            "ticks": ""
           }
          },
          "colorscale": {
           "diverging": [
            [
             0,
             "#8e0152"
            ],
            [
             0.1,
             "#c51b7d"
            ],
            [
             0.2,
             "#de77ae"
            ],
            [
             0.3,
             "#f1b6da"
            ],
            [
             0.4,
             "#fde0ef"
            ],
            [
             0.5,
             "#f7f7f7"
            ],
            [
             0.6,
             "#e6f5d0"
            ],
            [
             0.7,
             "#b8e186"
            ],
            [
             0.8,
             "#7fbc41"
            ],
            [
             0.9,
             "#4d9221"
            ],
            [
             1,
             "#276419"
            ]
           ],
           "sequential": [
            [
             0,
             "#0d0887"
            ],
            [
             0.1111111111111111,
             "#46039f"
            ],
            [
             0.2222222222222222,
             "#7201a8"
            ],
            [
             0.3333333333333333,
             "#9c179e"
            ],
            [
             0.4444444444444444,
             "#bd3786"
            ],
            [
             0.5555555555555556,
             "#d8576b"
            ],
            [
             0.6666666666666666,
             "#ed7953"
            ],
            [
             0.7777777777777778,
             "#fb9f3a"
            ],
            [
             0.8888888888888888,
             "#fdca26"
            ],
            [
             1,
             "#f0f921"
            ]
           ],
           "sequentialminus": [
            [
             0,
             "#0d0887"
            ],
            [
             0.1111111111111111,
             "#46039f"
            ],
            [
             0.2222222222222222,
             "#7201a8"
            ],
            [
             0.3333333333333333,
             "#9c179e"
            ],
            [
             0.4444444444444444,
             "#bd3786"
            ],
            [
             0.5555555555555556,
             "#d8576b"
            ],
            [
             0.6666666666666666,
             "#ed7953"
            ],
            [
             0.7777777777777778,
             "#fb9f3a"
            ],
            [
             0.8888888888888888,
             "#fdca26"
            ],
            [
             1,
             "#f0f921"
            ]
           ]
          },
          "colorway": [
           "#636efa",
           "#EF553B",
           "#00cc96",
           "#ab63fa",
           "#FFA15A",
           "#19d3f3",
           "#FF6692",
           "#B6E880",
           "#FF97FF",
           "#FECB52"
          ],
          "font": {
           "color": "#2a3f5f"
          },
          "geo": {
           "bgcolor": "white",
           "lakecolor": "white",
           "landcolor": "#E5ECF6",
           "showlakes": true,
           "showland": true,
           "subunitcolor": "white"
          },
          "hoverlabel": {
           "align": "left"
          },
          "hovermode": "closest",
          "mapbox": {
           "style": "light"
          },
          "paper_bgcolor": "white",
          "plot_bgcolor": "#E5ECF6",
          "polar": {
           "angularaxis": {
            "gridcolor": "white",
            "linecolor": "white",
            "ticks": ""
           },
           "bgcolor": "#E5ECF6",
           "radialaxis": {
            "gridcolor": "white",
            "linecolor": "white",
            "ticks": ""
           }
          },
          "scene": {
           "xaxis": {
            "backgroundcolor": "#E5ECF6",
            "gridcolor": "white",
            "gridwidth": 2,
            "linecolor": "white",
            "showbackground": true,
            "ticks": "",
            "zerolinecolor": "white"
           },
           "yaxis": {
            "backgroundcolor": "#E5ECF6",
            "gridcolor": "white",
            "gridwidth": 2,
            "linecolor": "white",
            "showbackground": true,
            "ticks": "",
            "zerolinecolor": "white"
           },
           "zaxis": {
            "backgroundcolor": "#E5ECF6",
            "gridcolor": "white",
            "gridwidth": 2,
            "linecolor": "white",
            "showbackground": true,
            "ticks": "",
            "zerolinecolor": "white"
           }
          },
          "shapedefaults": {
           "line": {
            "color": "#2a3f5f"
           }
          },
          "ternary": {
           "aaxis": {
            "gridcolor": "white",
            "linecolor": "white",
            "ticks": ""
           },
           "baxis": {
            "gridcolor": "white",
            "linecolor": "white",
            "ticks": ""
           },
           "bgcolor": "#E5ECF6",
           "caxis": {
            "gridcolor": "white",
            "linecolor": "white",
            "ticks": ""
           }
          },
          "title": {
           "x": 0.05
          },
          "xaxis": {
           "automargin": true,
           "gridcolor": "white",
           "linecolor": "white",
           "ticks": "",
           "title": {
            "standoff": 15
           },
           "zerolinecolor": "white",
           "zerolinewidth": 2
          },
          "yaxis": {
           "automargin": true,
           "gridcolor": "white",
           "linecolor": "white",
           "ticks": "",
           "title": {
            "standoff": 15
           },
           "zerolinecolor": "white",
           "zerolinewidth": 2
          }
         }
        },
        "xaxis": {
         "anchor": "y",
         "domain": [
          0,
          1
         ],
         "title": {
          "text": "param_splitter"
         }
        },
        "yaxis": {
         "anchor": "x",
         "domain": [
          0,
          1
         ],
         "title": {
          "text": "mean_test_score"
         }
        }
       }
      }
     },
     "metadata": {},
     "output_type": "display_data"
    }
   ],
   "source": [
    "fig = px.scatter(\n",
    "    df_cv_results_dt,\n",
    "    x='param_splitter',\n",
    "    y='mean_test_score',\n",
    ")\n",
    "\n",
    "fig.show();"
   ]
  },
  {
   "cell_type": "markdown",
   "metadata": {
    "id": "KUgXyvoQAxH6"
   },
   "source": [
    "## LogisticRegression com GridSearchCV"
   ]
  },
  {
   "cell_type": "code",
   "execution_count": 26,
   "metadata": {
    "id": "wqgkPiepBXJE"
   },
   "outputs": [],
   "source": [
    "max_iter = np.linspace(100, 300, 5, dtype=int)\n",
    "c = [0.001, 0.01, 0.1, 1, 10]\n",
    "\n",
    "param_grid_lr = [\n",
    "    {'logisticregression__solver': ['newton-cg', 'lbfgs'],\n",
    "     'logisticregression__penalty': ['l2'],\n",
    "     'logisticregression__max_iter': max_iter,\n",
    "     'logisticregression__C': c},\n",
    "    {'logisticregression__solver': ['liblinear'],\n",
    "     'logisticregression__penalty': ['l1', 'l2'],\n",
    "     'logisticregression__max_iter': max_iter,\n",
    "     'logisticregression__C': c}\n",
    "]"
   ]
  },
  {
   "cell_type": "code",
   "execution_count": 27,
   "metadata": {
    "colab": {
     "base_uri": "https://localhost:8080/"
    },
    "id": "DQIVOsp4TLJg",
    "outputId": "3164ccf9-2285-4bb6-fd2a-5bb540ecc3c7"
   },
   "outputs": [
    {
     "data": {
      "text/html": [
       "<style>#sk-container-id-4 {\n",
       "  /* Definition of color scheme common for light and dark mode */\n",
       "  --sklearn-color-text: black;\n",
       "  --sklearn-color-line: gray;\n",
       "  /* Definition of color scheme for unfitted estimators */\n",
       "  --sklearn-color-unfitted-level-0: #fff5e6;\n",
       "  --sklearn-color-unfitted-level-1: #f6e4d2;\n",
       "  --sklearn-color-unfitted-level-2: #ffe0b3;\n",
       "  --sklearn-color-unfitted-level-3: chocolate;\n",
       "  /* Definition of color scheme for fitted estimators */\n",
       "  --sklearn-color-fitted-level-0: #f0f8ff;\n",
       "  --sklearn-color-fitted-level-1: #d4ebff;\n",
       "  --sklearn-color-fitted-level-2: #b3dbfd;\n",
       "  --sklearn-color-fitted-level-3: cornflowerblue;\n",
       "\n",
       "  /* Specific color for light theme */\n",
       "  --sklearn-color-text-on-default-background: var(--sg-text-color, var(--theme-code-foreground, var(--jp-content-font-color1, black)));\n",
       "  --sklearn-color-background: var(--sg-background-color, var(--theme-background, var(--jp-layout-color0, white)));\n",
       "  --sklearn-color-border-box: var(--sg-text-color, var(--theme-code-foreground, var(--jp-content-font-color1, black)));\n",
       "  --sklearn-color-icon: #696969;\n",
       "\n",
       "  @media (prefers-color-scheme: dark) {\n",
       "    /* Redefinition of color scheme for dark theme */\n",
       "    --sklearn-color-text-on-default-background: var(--sg-text-color, var(--theme-code-foreground, var(--jp-content-font-color1, white)));\n",
       "    --sklearn-color-background: var(--sg-background-color, var(--theme-background, var(--jp-layout-color0, #111)));\n",
       "    --sklearn-color-border-box: var(--sg-text-color, var(--theme-code-foreground, var(--jp-content-font-color1, white)));\n",
       "    --sklearn-color-icon: #878787;\n",
       "  }\n",
       "}\n",
       "\n",
       "#sk-container-id-4 {\n",
       "  color: var(--sklearn-color-text);\n",
       "}\n",
       "\n",
       "#sk-container-id-4 pre {\n",
       "  padding: 0;\n",
       "}\n",
       "\n",
       "#sk-container-id-4 input.sk-hidden--visually {\n",
       "  border: 0;\n",
       "  clip: rect(1px 1px 1px 1px);\n",
       "  clip: rect(1px, 1px, 1px, 1px);\n",
       "  height: 1px;\n",
       "  margin: -1px;\n",
       "  overflow: hidden;\n",
       "  padding: 0;\n",
       "  position: absolute;\n",
       "  width: 1px;\n",
       "}\n",
       "\n",
       "#sk-container-id-4 div.sk-dashed-wrapped {\n",
       "  border: 1px dashed var(--sklearn-color-line);\n",
       "  margin: 0 0.4em 0.5em 0.4em;\n",
       "  box-sizing: border-box;\n",
       "  padding-bottom: 0.4em;\n",
       "  background-color: var(--sklearn-color-background);\n",
       "}\n",
       "\n",
       "#sk-container-id-4 div.sk-container {\n",
       "  /* jupyter's `normalize.less` sets `[hidden] { display: none; }`\n",
       "     but bootstrap.min.css set `[hidden] { display: none !important; }`\n",
       "     so we also need the `!important` here to be able to override the\n",
       "     default hidden behavior on the sphinx rendered scikit-learn.org.\n",
       "     See: https://github.com/scikit-learn/scikit-learn/issues/21755 */\n",
       "  display: inline-block !important;\n",
       "  position: relative;\n",
       "}\n",
       "\n",
       "#sk-container-id-4 div.sk-text-repr-fallback {\n",
       "  display: none;\n",
       "}\n",
       "\n",
       "div.sk-parallel-item,\n",
       "div.sk-serial,\n",
       "div.sk-item {\n",
       "  /* draw centered vertical line to link estimators */\n",
       "  background-image: linear-gradient(var(--sklearn-color-text-on-default-background), var(--sklearn-color-text-on-default-background));\n",
       "  background-size: 2px 100%;\n",
       "  background-repeat: no-repeat;\n",
       "  background-position: center center;\n",
       "}\n",
       "\n",
       "/* Parallel-specific style estimator block */\n",
       "\n",
       "#sk-container-id-4 div.sk-parallel-item::after {\n",
       "  content: \"\";\n",
       "  width: 100%;\n",
       "  border-bottom: 2px solid var(--sklearn-color-text-on-default-background);\n",
       "  flex-grow: 1;\n",
       "}\n",
       "\n",
       "#sk-container-id-4 div.sk-parallel {\n",
       "  display: flex;\n",
       "  align-items: stretch;\n",
       "  justify-content: center;\n",
       "  background-color: var(--sklearn-color-background);\n",
       "  position: relative;\n",
       "}\n",
       "\n",
       "#sk-container-id-4 div.sk-parallel-item {\n",
       "  display: flex;\n",
       "  flex-direction: column;\n",
       "}\n",
       "\n",
       "#sk-container-id-4 div.sk-parallel-item:first-child::after {\n",
       "  align-self: flex-end;\n",
       "  width: 50%;\n",
       "}\n",
       "\n",
       "#sk-container-id-4 div.sk-parallel-item:last-child::after {\n",
       "  align-self: flex-start;\n",
       "  width: 50%;\n",
       "}\n",
       "\n",
       "#sk-container-id-4 div.sk-parallel-item:only-child::after {\n",
       "  width: 0;\n",
       "}\n",
       "\n",
       "/* Serial-specific style estimator block */\n",
       "\n",
       "#sk-container-id-4 div.sk-serial {\n",
       "  display: flex;\n",
       "  flex-direction: column;\n",
       "  align-items: center;\n",
       "  background-color: var(--sklearn-color-background);\n",
       "  padding-right: 1em;\n",
       "  padding-left: 1em;\n",
       "}\n",
       "\n",
       "\n",
       "/* Toggleable style: style used for estimator/Pipeline/ColumnTransformer box that is\n",
       "clickable and can be expanded/collapsed.\n",
       "- Pipeline and ColumnTransformer use this feature and define the default style\n",
       "- Estimators will overwrite some part of the style using the `sk-estimator` class\n",
       "*/\n",
       "\n",
       "/* Pipeline and ColumnTransformer style (default) */\n",
       "\n",
       "#sk-container-id-4 div.sk-toggleable {\n",
       "  /* Default theme specific background. It is overwritten whether we have a\n",
       "  specific estimator or a Pipeline/ColumnTransformer */\n",
       "  background-color: var(--sklearn-color-background);\n",
       "}\n",
       "\n",
       "/* Toggleable label */\n",
       "#sk-container-id-4 label.sk-toggleable__label {\n",
       "  cursor: pointer;\n",
       "  display: block;\n",
       "  width: 100%;\n",
       "  margin-bottom: 0;\n",
       "  padding: 0.5em;\n",
       "  box-sizing: border-box;\n",
       "  text-align: center;\n",
       "}\n",
       "\n",
       "#sk-container-id-4 label.sk-toggleable__label-arrow:before {\n",
       "  /* Arrow on the left of the label */\n",
       "  content: \"▸\";\n",
       "  float: left;\n",
       "  margin-right: 0.25em;\n",
       "  color: var(--sklearn-color-icon);\n",
       "}\n",
       "\n",
       "#sk-container-id-4 label.sk-toggleable__label-arrow:hover:before {\n",
       "  color: var(--sklearn-color-text);\n",
       "}\n",
       "\n",
       "/* Toggleable content - dropdown */\n",
       "\n",
       "#sk-container-id-4 div.sk-toggleable__content {\n",
       "  max-height: 0;\n",
       "  max-width: 0;\n",
       "  overflow: hidden;\n",
       "  text-align: left;\n",
       "  /* unfitted */\n",
       "  background-color: var(--sklearn-color-unfitted-level-0);\n",
       "}\n",
       "\n",
       "#sk-container-id-4 div.sk-toggleable__content.fitted {\n",
       "  /* fitted */\n",
       "  background-color: var(--sklearn-color-fitted-level-0);\n",
       "}\n",
       "\n",
       "#sk-container-id-4 div.sk-toggleable__content pre {\n",
       "  margin: 0.2em;\n",
       "  border-radius: 0.25em;\n",
       "  color: var(--sklearn-color-text);\n",
       "  /* unfitted */\n",
       "  background-color: var(--sklearn-color-unfitted-level-0);\n",
       "}\n",
       "\n",
       "#sk-container-id-4 div.sk-toggleable__content.fitted pre {\n",
       "  /* unfitted */\n",
       "  background-color: var(--sklearn-color-fitted-level-0);\n",
       "}\n",
       "\n",
       "#sk-container-id-4 input.sk-toggleable__control:checked~div.sk-toggleable__content {\n",
       "  /* Expand drop-down */\n",
       "  max-height: 200px;\n",
       "  max-width: 100%;\n",
       "  overflow: auto;\n",
       "}\n",
       "\n",
       "#sk-container-id-4 input.sk-toggleable__control:checked~label.sk-toggleable__label-arrow:before {\n",
       "  content: \"▾\";\n",
       "}\n",
       "\n",
       "/* Pipeline/ColumnTransformer-specific style */\n",
       "\n",
       "#sk-container-id-4 div.sk-label input.sk-toggleable__control:checked~label.sk-toggleable__label {\n",
       "  color: var(--sklearn-color-text);\n",
       "  background-color: var(--sklearn-color-unfitted-level-2);\n",
       "}\n",
       "\n",
       "#sk-container-id-4 div.sk-label.fitted input.sk-toggleable__control:checked~label.sk-toggleable__label {\n",
       "  background-color: var(--sklearn-color-fitted-level-2);\n",
       "}\n",
       "\n",
       "/* Estimator-specific style */\n",
       "\n",
       "/* Colorize estimator box */\n",
       "#sk-container-id-4 div.sk-estimator input.sk-toggleable__control:checked~label.sk-toggleable__label {\n",
       "  /* unfitted */\n",
       "  background-color: var(--sklearn-color-unfitted-level-2);\n",
       "}\n",
       "\n",
       "#sk-container-id-4 div.sk-estimator.fitted input.sk-toggleable__control:checked~label.sk-toggleable__label {\n",
       "  /* fitted */\n",
       "  background-color: var(--sklearn-color-fitted-level-2);\n",
       "}\n",
       "\n",
       "#sk-container-id-4 div.sk-label label.sk-toggleable__label,\n",
       "#sk-container-id-4 div.sk-label label {\n",
       "  /* The background is the default theme color */\n",
       "  color: var(--sklearn-color-text-on-default-background);\n",
       "}\n",
       "\n",
       "/* On hover, darken the color of the background */\n",
       "#sk-container-id-4 div.sk-label:hover label.sk-toggleable__label {\n",
       "  color: var(--sklearn-color-text);\n",
       "  background-color: var(--sklearn-color-unfitted-level-2);\n",
       "}\n",
       "\n",
       "/* Label box, darken color on hover, fitted */\n",
       "#sk-container-id-4 div.sk-label.fitted:hover label.sk-toggleable__label.fitted {\n",
       "  color: var(--sklearn-color-text);\n",
       "  background-color: var(--sklearn-color-fitted-level-2);\n",
       "}\n",
       "\n",
       "/* Estimator label */\n",
       "\n",
       "#sk-container-id-4 div.sk-label label {\n",
       "  font-family: monospace;\n",
       "  font-weight: bold;\n",
       "  display: inline-block;\n",
       "  line-height: 1.2em;\n",
       "}\n",
       "\n",
       "#sk-container-id-4 div.sk-label-container {\n",
       "  text-align: center;\n",
       "}\n",
       "\n",
       "/* Estimator-specific */\n",
       "#sk-container-id-4 div.sk-estimator {\n",
       "  font-family: monospace;\n",
       "  border: 1px dotted var(--sklearn-color-border-box);\n",
       "  border-radius: 0.25em;\n",
       "  box-sizing: border-box;\n",
       "  margin-bottom: 0.5em;\n",
       "  /* unfitted */\n",
       "  background-color: var(--sklearn-color-unfitted-level-0);\n",
       "}\n",
       "\n",
       "#sk-container-id-4 div.sk-estimator.fitted {\n",
       "  /* fitted */\n",
       "  background-color: var(--sklearn-color-fitted-level-0);\n",
       "}\n",
       "\n",
       "/* on hover */\n",
       "#sk-container-id-4 div.sk-estimator:hover {\n",
       "  /* unfitted */\n",
       "  background-color: var(--sklearn-color-unfitted-level-2);\n",
       "}\n",
       "\n",
       "#sk-container-id-4 div.sk-estimator.fitted:hover {\n",
       "  /* fitted */\n",
       "  background-color: var(--sklearn-color-fitted-level-2);\n",
       "}\n",
       "\n",
       "/* Specification for estimator info (e.g. \"i\" and \"?\") */\n",
       "\n",
       "/* Common style for \"i\" and \"?\" */\n",
       "\n",
       ".sk-estimator-doc-link,\n",
       "a:link.sk-estimator-doc-link,\n",
       "a:visited.sk-estimator-doc-link {\n",
       "  float: right;\n",
       "  font-size: smaller;\n",
       "  line-height: 1em;\n",
       "  font-family: monospace;\n",
       "  background-color: var(--sklearn-color-background);\n",
       "  border-radius: 1em;\n",
       "  height: 1em;\n",
       "  width: 1em;\n",
       "  text-decoration: none !important;\n",
       "  margin-left: 1ex;\n",
       "  /* unfitted */\n",
       "  border: var(--sklearn-color-unfitted-level-1) 1pt solid;\n",
       "  color: var(--sklearn-color-unfitted-level-1);\n",
       "}\n",
       "\n",
       ".sk-estimator-doc-link.fitted,\n",
       "a:link.sk-estimator-doc-link.fitted,\n",
       "a:visited.sk-estimator-doc-link.fitted {\n",
       "  /* fitted */\n",
       "  border: var(--sklearn-color-fitted-level-1) 1pt solid;\n",
       "  color: var(--sklearn-color-fitted-level-1);\n",
       "}\n",
       "\n",
       "/* On hover */\n",
       "div.sk-estimator:hover .sk-estimator-doc-link:hover,\n",
       ".sk-estimator-doc-link:hover,\n",
       "div.sk-label-container:hover .sk-estimator-doc-link:hover,\n",
       ".sk-estimator-doc-link:hover {\n",
       "  /* unfitted */\n",
       "  background-color: var(--sklearn-color-unfitted-level-3);\n",
       "  color: var(--sklearn-color-background);\n",
       "  text-decoration: none;\n",
       "}\n",
       "\n",
       "div.sk-estimator.fitted:hover .sk-estimator-doc-link.fitted:hover,\n",
       ".sk-estimator-doc-link.fitted:hover,\n",
       "div.sk-label-container:hover .sk-estimator-doc-link.fitted:hover,\n",
       ".sk-estimator-doc-link.fitted:hover {\n",
       "  /* fitted */\n",
       "  background-color: var(--sklearn-color-fitted-level-3);\n",
       "  color: var(--sklearn-color-background);\n",
       "  text-decoration: none;\n",
       "}\n",
       "\n",
       "/* Span, style for the box shown on hovering the info icon */\n",
       ".sk-estimator-doc-link span {\n",
       "  display: none;\n",
       "  z-index: 9999;\n",
       "  position: relative;\n",
       "  font-weight: normal;\n",
       "  right: .2ex;\n",
       "  padding: .5ex;\n",
       "  margin: .5ex;\n",
       "  width: min-content;\n",
       "  min-width: 20ex;\n",
       "  max-width: 50ex;\n",
       "  color: var(--sklearn-color-text);\n",
       "  box-shadow: 2pt 2pt 4pt #999;\n",
       "  /* unfitted */\n",
       "  background: var(--sklearn-color-unfitted-level-0);\n",
       "  border: .5pt solid var(--sklearn-color-unfitted-level-3);\n",
       "}\n",
       "\n",
       ".sk-estimator-doc-link.fitted span {\n",
       "  /* fitted */\n",
       "  background: var(--sklearn-color-fitted-level-0);\n",
       "  border: var(--sklearn-color-fitted-level-3);\n",
       "}\n",
       "\n",
       ".sk-estimator-doc-link:hover span {\n",
       "  display: block;\n",
       "}\n",
       "\n",
       "/* \"?\"-specific style due to the `<a>` HTML tag */\n",
       "\n",
       "#sk-container-id-4 a.estimator_doc_link {\n",
       "  float: right;\n",
       "  font-size: 1rem;\n",
       "  line-height: 1em;\n",
       "  font-family: monospace;\n",
       "  background-color: var(--sklearn-color-background);\n",
       "  border-radius: 1rem;\n",
       "  height: 1rem;\n",
       "  width: 1rem;\n",
       "  text-decoration: none;\n",
       "  /* unfitted */\n",
       "  color: var(--sklearn-color-unfitted-level-1);\n",
       "  border: var(--sklearn-color-unfitted-level-1) 1pt solid;\n",
       "}\n",
       "\n",
       "#sk-container-id-4 a.estimator_doc_link.fitted {\n",
       "  /* fitted */\n",
       "  border: var(--sklearn-color-fitted-level-1) 1pt solid;\n",
       "  color: var(--sklearn-color-fitted-level-1);\n",
       "}\n",
       "\n",
       "/* On hover */\n",
       "#sk-container-id-4 a.estimator_doc_link:hover {\n",
       "  /* unfitted */\n",
       "  background-color: var(--sklearn-color-unfitted-level-3);\n",
       "  color: var(--sklearn-color-background);\n",
       "  text-decoration: none;\n",
       "}\n",
       "\n",
       "#sk-container-id-4 a.estimator_doc_link.fitted:hover {\n",
       "  /* fitted */\n",
       "  background-color: var(--sklearn-color-fitted-level-3);\n",
       "}\n",
       "</style><div id=\"sk-container-id-4\" class=\"sk-top-container\"><div class=\"sk-text-repr-fallback\"><pre>GridSearchCV(cv=StratifiedKFold(n_splits=5, random_state=42, shuffle=True),\n",
       "             estimator=Pipeline(steps=[(&#x27;standardscaler&#x27;, StandardScaler()),\n",
       "                                       (&#x27;logisticregression&#x27;,\n",
       "                                        LogisticRegression())]),\n",
       "             n_jobs=-1,\n",
       "             param_grid=[{&#x27;logisticregression__C&#x27;: [0.001, 0.01, 0.1, 1, 10],\n",
       "                          &#x27;logisticregression__max_iter&#x27;: array([100, 150, 200, 250, 300]),\n",
       "                          &#x27;logisticregression__penalty&#x27;: [&#x27;l2&#x27;],\n",
       "                          &#x27;logisticregression__solver&#x27;: [&#x27;newton-cg&#x27;, &#x27;lbfgs&#x27;]},\n",
       "                         {&#x27;logisticregression__C&#x27;: [0.001, 0.01, 0.1, 1, 10],\n",
       "                          &#x27;logisticregression__max_iter&#x27;: array([100, 150, 200, 250, 300]),\n",
       "                          &#x27;logisticregression__penalty&#x27;: [&#x27;l1&#x27;, &#x27;l2&#x27;],\n",
       "                          &#x27;logisticregression__solver&#x27;: [&#x27;liblinear&#x27;]}],\n",
       "             scoring=&#x27;recall&#x27;)</pre><b>In a Jupyter environment, please rerun this cell to show the HTML representation or trust the notebook. <br />On GitHub, the HTML representation is unable to render, please try loading this page with nbviewer.org.</b></div><div class=\"sk-container\" hidden><div class=\"sk-item sk-dashed-wrapped\"><div class=\"sk-label-container\"><div class=\"sk-label fitted sk-toggleable\"><input class=\"sk-toggleable__control sk-hidden--visually\" id=\"sk-estimator-id-8\" type=\"checkbox\" ><label for=\"sk-estimator-id-8\" class=\"sk-toggleable__label fitted sk-toggleable__label-arrow fitted\">&nbsp;&nbsp;GridSearchCV<a class=\"sk-estimator-doc-link fitted\" rel=\"noreferrer\" target=\"_blank\" href=\"https://scikit-learn.org/1.5/modules/generated/sklearn.model_selection.GridSearchCV.html\">?<span>Documentation for GridSearchCV</span></a><span class=\"sk-estimator-doc-link fitted\">i<span>Fitted</span></span></label><div class=\"sk-toggleable__content fitted\"><pre>GridSearchCV(cv=StratifiedKFold(n_splits=5, random_state=42, shuffle=True),\n",
       "             estimator=Pipeline(steps=[(&#x27;standardscaler&#x27;, StandardScaler()),\n",
       "                                       (&#x27;logisticregression&#x27;,\n",
       "                                        LogisticRegression())]),\n",
       "             n_jobs=-1,\n",
       "             param_grid=[{&#x27;logisticregression__C&#x27;: [0.001, 0.01, 0.1, 1, 10],\n",
       "                          &#x27;logisticregression__max_iter&#x27;: array([100, 150, 200, 250, 300]),\n",
       "                          &#x27;logisticregression__penalty&#x27;: [&#x27;l2&#x27;],\n",
       "                          &#x27;logisticregression__solver&#x27;: [&#x27;newton-cg&#x27;, &#x27;lbfgs&#x27;]},\n",
       "                         {&#x27;logisticregression__C&#x27;: [0.001, 0.01, 0.1, 1, 10],\n",
       "                          &#x27;logisticregression__max_iter&#x27;: array([100, 150, 200, 250, 300]),\n",
       "                          &#x27;logisticregression__penalty&#x27;: [&#x27;l1&#x27;, &#x27;l2&#x27;],\n",
       "                          &#x27;logisticregression__solver&#x27;: [&#x27;liblinear&#x27;]}],\n",
       "             scoring=&#x27;recall&#x27;)</pre></div> </div></div><div class=\"sk-parallel\"><div class=\"sk-parallel-item\"><div class=\"sk-item\"><div class=\"sk-label-container\"><div class=\"sk-label fitted sk-toggleable\"><input class=\"sk-toggleable__control sk-hidden--visually\" id=\"sk-estimator-id-9\" type=\"checkbox\" ><label for=\"sk-estimator-id-9\" class=\"sk-toggleable__label fitted sk-toggleable__label-arrow fitted\">best_estimator_: Pipeline</label><div class=\"sk-toggleable__content fitted\"><pre>Pipeline(steps=[(&#x27;standardscaler&#x27;, StandardScaler()),\n",
       "                (&#x27;logisticregression&#x27;,\n",
       "                 LogisticRegression(C=0.001, max_iter=np.int64(100),\n",
       "                                    solver=&#x27;liblinear&#x27;))])</pre></div> </div></div><div class=\"sk-serial\"><div class=\"sk-item\"><div class=\"sk-serial\"><div class=\"sk-item\"><div class=\"sk-estimator fitted sk-toggleable\"><input class=\"sk-toggleable__control sk-hidden--visually\" id=\"sk-estimator-id-10\" type=\"checkbox\" ><label for=\"sk-estimator-id-10\" class=\"sk-toggleable__label fitted sk-toggleable__label-arrow fitted\">&nbsp;StandardScaler<a class=\"sk-estimator-doc-link fitted\" rel=\"noreferrer\" target=\"_blank\" href=\"https://scikit-learn.org/1.5/modules/generated/sklearn.preprocessing.StandardScaler.html\">?<span>Documentation for StandardScaler</span></a></label><div class=\"sk-toggleable__content fitted\"><pre>StandardScaler()</pre></div> </div></div><div class=\"sk-item\"><div class=\"sk-estimator fitted sk-toggleable\"><input class=\"sk-toggleable__control sk-hidden--visually\" id=\"sk-estimator-id-11\" type=\"checkbox\" ><label for=\"sk-estimator-id-11\" class=\"sk-toggleable__label fitted sk-toggleable__label-arrow fitted\">&nbsp;LogisticRegression<a class=\"sk-estimator-doc-link fitted\" rel=\"noreferrer\" target=\"_blank\" href=\"https://scikit-learn.org/1.5/modules/generated/sklearn.linear_model.LogisticRegression.html\">?<span>Documentation for LogisticRegression</span></a></label><div class=\"sk-toggleable__content fitted\"><pre>LogisticRegression(C=0.001, max_iter=np.int64(100), solver=&#x27;liblinear&#x27;)</pre></div> </div></div></div></div></div></div></div></div></div></div></div>"
      ],
      "text/plain": [
       "GridSearchCV(cv=StratifiedKFold(n_splits=5, random_state=42, shuffle=True),\n",
       "             estimator=Pipeline(steps=[('standardscaler', StandardScaler()),\n",
       "                                       ('logisticregression',\n",
       "                                        LogisticRegression())]),\n",
       "             n_jobs=-1,\n",
       "             param_grid=[{'logisticregression__C': [0.001, 0.01, 0.1, 1, 10],\n",
       "                          'logisticregression__max_iter': array([100, 150, 200, 250, 300]),\n",
       "                          'logisticregression__penalty': ['l2'],\n",
       "                          'logisticregression__solver': ['newton-cg', 'lbfgs']},\n",
       "                         {'logisticregression__C': [0.001, 0.01, 0.1, 1, 10],\n",
       "                          'logisticregression__max_iter': array([100, 150, 200, 250, 300]),\n",
       "                          'logisticregression__penalty': ['l1', 'l2'],\n",
       "                          'logisticregression__solver': ['liblinear']}],\n",
       "             scoring='recall')"
      ]
     },
     "execution_count": 27,
     "metadata": {},
     "output_type": "execute_result"
    }
   ],
   "source": [
    "lr_grid_search = GridSearchCV(\n",
    "    estimator=make_pipeline(StandardScaler(), LogisticRegression()),\n",
    "    param_grid=param_grid_lr,\n",
    "    scoring='recall',\n",
    "    n_jobs=-1,\n",
    "    cv=cv\n",
    ")\n",
    "\n",
    "lr_grid_search.fit(x_train, y_train)"
   ]
  },
  {
   "cell_type": "code",
   "execution_count": 28,
   "metadata": {
    "colab": {
     "base_uri": "https://localhost:8080/"
    },
    "id": "ckqOmbUpTTn3",
    "outputId": "761729ac-97f0-4646-f53d-d6a04b0ce24a"
   },
   "outputs": [
    {
     "data": {
      "text/plain": [
       "{'logisticregression__C': 0.001,\n",
       " 'logisticregression__max_iter': np.int64(100),\n",
       " 'logisticregression__penalty': 'l2',\n",
       " 'logisticregression__solver': 'liblinear'}"
      ]
     },
     "execution_count": 28,
     "metadata": {},
     "output_type": "execute_result"
    }
   ],
   "source": [
    "lr_grid_search.best_params_"
   ]
  },
  {
   "cell_type": "code",
   "execution_count": 29,
   "metadata": {
    "colab": {
     "base_uri": "https://localhost:8080/"
    },
    "id": "fdp73BVCV9no",
    "outputId": "6030eba1-6c8a-4d6d-f850-990a78f4c823"
   },
   "outputs": [
    {
     "data": {
      "text/html": [
       "<div>\n",
       "<style scoped>\n",
       "    .dataframe tbody tr th:only-of-type {\n",
       "        vertical-align: middle;\n",
       "    }\n",
       "\n",
       "    .dataframe tbody tr th {\n",
       "        vertical-align: top;\n",
       "    }\n",
       "\n",
       "    .dataframe thead th {\n",
       "        text-align: right;\n",
       "    }\n",
       "</style>\n",
       "<table border=\"1\" class=\"dataframe\">\n",
       "  <thead>\n",
       "    <tr style=\"text-align: right;\">\n",
       "      <th></th>\n",
       "      <th>mean_fit_time</th>\n",
       "      <th>std_fit_time</th>\n",
       "      <th>mean_score_time</th>\n",
       "      <th>std_score_time</th>\n",
       "      <th>param_logisticregression__C</th>\n",
       "      <th>param_logisticregression__max_iter</th>\n",
       "      <th>param_logisticregression__penalty</th>\n",
       "      <th>param_logisticregression__solver</th>\n",
       "      <th>params</th>\n",
       "      <th>split0_test_score</th>\n",
       "      <th>split1_test_score</th>\n",
       "      <th>split2_test_score</th>\n",
       "      <th>split3_test_score</th>\n",
       "      <th>split4_test_score</th>\n",
       "      <th>mean_test_score</th>\n",
       "      <th>std_test_score</th>\n",
       "      <th>rank_test_score</th>\n",
       "    </tr>\n",
       "  </thead>\n",
       "  <tbody>\n",
       "    <tr>\n",
       "      <th>0</th>\n",
       "      <td>0.012051</td>\n",
       "      <td>0.001794</td>\n",
       "      <td>0.003215</td>\n",
       "      <td>0.000394</td>\n",
       "      <td>0.001</td>\n",
       "      <td>100</td>\n",
       "      <td>l2</td>\n",
       "      <td>newton-cg</td>\n",
       "      <td>{'logisticregression__C': 0.001, 'logisticregr...</td>\n",
       "      <td>0.102848</td>\n",
       "      <td>0.101266</td>\n",
       "      <td>0.115506</td>\n",
       "      <td>0.088608</td>\n",
       "      <td>0.079114</td>\n",
       "      <td>0.097468</td>\n",
       "      <td>0.012523</td>\n",
       "      <td>86</td>\n",
       "    </tr>\n",
       "    <tr>\n",
       "      <th>1</th>\n",
       "      <td>0.007229</td>\n",
       "      <td>0.000720</td>\n",
       "      <td>0.002631</td>\n",
       "      <td>0.000797</td>\n",
       "      <td>0.001</td>\n",
       "      <td>100</td>\n",
       "      <td>l2</td>\n",
       "      <td>lbfgs</td>\n",
       "      <td>{'logisticregression__C': 0.001, 'logisticregr...</td>\n",
       "      <td>0.102848</td>\n",
       "      <td>0.101266</td>\n",
       "      <td>0.113924</td>\n",
       "      <td>0.087025</td>\n",
       "      <td>0.079114</td>\n",
       "      <td>0.096835</td>\n",
       "      <td>0.012313</td>\n",
       "      <td>91</td>\n",
       "    </tr>\n",
       "    <tr>\n",
       "      <th>2</th>\n",
       "      <td>0.009039</td>\n",
       "      <td>0.000443</td>\n",
       "      <td>0.002709</td>\n",
       "      <td>0.000400</td>\n",
       "      <td>0.001</td>\n",
       "      <td>150</td>\n",
       "      <td>l2</td>\n",
       "      <td>newton-cg</td>\n",
       "      <td>{'logisticregression__C': 0.001, 'logisticregr...</td>\n",
       "      <td>0.102848</td>\n",
       "      <td>0.101266</td>\n",
       "      <td>0.115506</td>\n",
       "      <td>0.088608</td>\n",
       "      <td>0.079114</td>\n",
       "      <td>0.097468</td>\n",
       "      <td>0.012523</td>\n",
       "      <td>86</td>\n",
       "    </tr>\n",
       "  </tbody>\n",
       "</table>\n",
       "</div>"
      ],
      "text/plain": [
       "   mean_fit_time  std_fit_time  mean_score_time  std_score_time  \\\n",
       "0       0.012051      0.001794         0.003215        0.000394   \n",
       "1       0.007229      0.000720         0.002631        0.000797   \n",
       "2       0.009039      0.000443         0.002709        0.000400   \n",
       "\n",
       "   param_logisticregression__C  param_logisticregression__max_iter  \\\n",
       "0                        0.001                                 100   \n",
       "1                        0.001                                 100   \n",
       "2                        0.001                                 150   \n",
       "\n",
       "  param_logisticregression__penalty param_logisticregression__solver  \\\n",
       "0                                l2                        newton-cg   \n",
       "1                                l2                            lbfgs   \n",
       "2                                l2                        newton-cg   \n",
       "\n",
       "                                              params  split0_test_score  \\\n",
       "0  {'logisticregression__C': 0.001, 'logisticregr...           0.102848   \n",
       "1  {'logisticregression__C': 0.001, 'logisticregr...           0.102848   \n",
       "2  {'logisticregression__C': 0.001, 'logisticregr...           0.102848   \n",
       "\n",
       "   split1_test_score  split2_test_score  split3_test_score  split4_test_score  \\\n",
       "0           0.101266           0.115506           0.088608           0.079114   \n",
       "1           0.101266           0.113924           0.087025           0.079114   \n",
       "2           0.101266           0.115506           0.088608           0.079114   \n",
       "\n",
       "   mean_test_score  std_test_score  rank_test_score  \n",
       "0         0.097468        0.012523               86  \n",
       "1         0.096835        0.012313               91  \n",
       "2         0.097468        0.012523               86  "
      ]
     },
     "execution_count": 29,
     "metadata": {},
     "output_type": "execute_result"
    }
   ],
   "source": [
    "# Gerar uma DF com os resultados do GridSearchCV\n",
    "\n",
    "df_cv_results_lr = pd.DataFrame(lr_grid_search.cv_results_)\n",
    "df_cv_results_lr.head(3)"
   ]
  },
  {
   "cell_type": "code",
   "execution_count": 30,
   "metadata": {
    "colab": {
     "base_uri": "https://localhost:8080/"
    },
    "id": "kMxFjwwHWI_Y",
    "outputId": "53eb620f-512e-4293-f847-bd767c25aa91"
   },
   "outputs": [
    {
     "data": {
      "text/html": [
       "<div>\n",
       "<style scoped>\n",
       "    .dataframe tbody tr th:only-of-type {\n",
       "        vertical-align: middle;\n",
       "    }\n",
       "\n",
       "    .dataframe tbody tr th {\n",
       "        vertical-align: top;\n",
       "    }\n",
       "\n",
       "    .dataframe thead th {\n",
       "        text-align: right;\n",
       "    }\n",
       "</style>\n",
       "<table border=\"1\" class=\"dataframe\">\n",
       "  <thead>\n",
       "    <tr style=\"text-align: right;\">\n",
       "      <th></th>\n",
       "      <th>mean_fit_time</th>\n",
       "      <th>std_fit_time</th>\n",
       "      <th>mean_score_time</th>\n",
       "      <th>std_score_time</th>\n",
       "      <th>param_logisticregression__C</th>\n",
       "      <th>param_logisticregression__max_iter</th>\n",
       "      <th>param_logisticregression__penalty</th>\n",
       "      <th>param_logisticregression__solver</th>\n",
       "      <th>params</th>\n",
       "      <th>split0_test_score</th>\n",
       "      <th>split1_test_score</th>\n",
       "      <th>split2_test_score</th>\n",
       "      <th>split3_test_score</th>\n",
       "      <th>split4_test_score</th>\n",
       "      <th>mean_test_score</th>\n",
       "      <th>std_test_score</th>\n",
       "      <th>rank_test_score</th>\n",
       "    </tr>\n",
       "  </thead>\n",
       "  <tbody>\n",
       "    <tr>\n",
       "      <th>51</th>\n",
       "      <td>0.013011</td>\n",
       "      <td>0.001207</td>\n",
       "      <td>0.004257</td>\n",
       "      <td>0.000593</td>\n",
       "      <td>0.001</td>\n",
       "      <td>100</td>\n",
       "      <td>l2</td>\n",
       "      <td>liblinear</td>\n",
       "      <td>{'logisticregression__C': 0.001, 'logisticregr...</td>\n",
       "      <td>0.251582</td>\n",
       "      <td>0.254747</td>\n",
       "      <td>0.265823</td>\n",
       "      <td>0.248418</td>\n",
       "      <td>0.235759</td>\n",
       "      <td>0.251266</td>\n",
       "      <td>0.009723</td>\n",
       "      <td>1</td>\n",
       "    </tr>\n",
       "  </tbody>\n",
       "</table>\n",
       "</div>"
      ],
      "text/plain": [
       "    mean_fit_time  std_fit_time  mean_score_time  std_score_time  \\\n",
       "51       0.013011      0.001207         0.004257        0.000593   \n",
       "\n",
       "    param_logisticregression__C  param_logisticregression__max_iter  \\\n",
       "51                        0.001                                 100   \n",
       "\n",
       "   param_logisticregression__penalty param_logisticregression__solver  \\\n",
       "51                                l2                        liblinear   \n",
       "\n",
       "                                               params  split0_test_score  \\\n",
       "51  {'logisticregression__C': 0.001, 'logisticregr...           0.251582   \n",
       "\n",
       "    split1_test_score  split2_test_score  split3_test_score  \\\n",
       "51           0.254747           0.265823           0.248418   \n",
       "\n",
       "    split4_test_score  mean_test_score  std_test_score  rank_test_score  \n",
       "51           0.235759         0.251266        0.009723                1  "
      ]
     },
     "execution_count": 30,
     "metadata": {},
     "output_type": "execute_result"
    }
   ],
   "source": [
    "# Selecionando, dentro da DF gerada acima, o index onde apresenta os melhores hiperparametros (mesmos dados do `.best_params_`)\n",
    "\n",
    "df_cv_results_lr.loc[[lr_grid_search.best_index_]]\n",
    "\n",
    "# Importante procurar o 'mean_test_score', para validar o quanto a performance melhorou ou piorou"
   ]
  },
  {
   "cell_type": "code",
   "execution_count": 31,
   "metadata": {
    "colab": {
     "base_uri": "https://localhost:8080/"
    },
    "id": "tdUy8ttwXNN4",
    "outputId": "a0ddd8be-1e70-4f46-8faa-cf5d4a57c1e3"
   },
   "outputs": [
    {
     "data": {
      "application/vnd.plotly.v1+json": {
       "config": {
        "plotlyServerURL": "https://plot.ly"
       },
       "data": [
        {
         "hovertemplate": "param_logisticregression__max_iter=%{x}<br>mean_test_score=%{y}<extra></extra>",
         "legendgroup": "",
         "marker": {
          "color": "#636efa",
          "symbol": "circle"
         },
         "mode": "markers",
         "name": "",
         "orientation": "v",
         "showlegend": false,
         "type": "scatter",
         "x": [
          100,
          100,
          150,
          150,
          200,
          200,
          250,
          250,
          300,
          300,
          100,
          100,
          150,
          150,
          200,
          200,
          250,
          250,
          300,
          300,
          100,
          100,
          150,
          150,
          200,
          200,
          250,
          250,
          300,
          300,
          100,
          100,
          150,
          150,
          200,
          200,
          250,
          250,
          300,
          300,
          100,
          100,
          150,
          150,
          200,
          200,
          250,
          250,
          300,
          300,
          100,
          100,
          150,
          150,
          200,
          200,
          250,
          250,
          300,
          300,
          100,
          100,
          150,
          150,
          200,
          200,
          250,
          250,
          300,
          300,
          100,
          100,
          150,
          150,
          200,
          200,
          250,
          250,
          300,
          300,
          100,
          100,
          150,
          150,
          200,
          200,
          250,
          250,
          300,
          300,
          100,
          100,
          150,
          150,
          200,
          200,
          250,
          250,
          300,
          300
         ],
         "xaxis": "x",
         "y": [
          0.09746835443037975,
          0.09683544303797469,
          0.09746835443037975,
          0.09683544303797469,
          0.09746835443037975,
          0.09683544303797469,
          0.09746835443037975,
          0.09683544303797469,
          0.09746835443037975,
          0.09683544303797469,
          0.21772151898734177,
          0.2180379746835443,
          0.21772151898734177,
          0.2180379746835443,
          0.21772151898734177,
          0.2180379746835443,
          0.21772151898734177,
          0.2180379746835443,
          0.21772151898734177,
          0.2180379746835443,
          0.23037974683544302,
          0.23037974683544302,
          0.23037974683544302,
          0.23037974683544302,
          0.23037974683544302,
          0.23037974683544302,
          0.23037974683544302,
          0.23037974683544302,
          0.23037974683544302,
          0.23037974683544302,
          0.23101265822784808,
          0.23101265822784808,
          0.23101265822784808,
          0.23101265822784808,
          0.23101265822784808,
          0.23101265822784808,
          0.23101265822784808,
          0.23101265822784808,
          0.23101265822784808,
          0.23101265822784808,
          0.23101265822784808,
          0.23101265822784808,
          0.23101265822784808,
          0.23101265822784808,
          0.23101265822784808,
          0.23101265822784808,
          0.23101265822784808,
          0.23101265822784808,
          0.23101265822784808,
          0.23101265822784808,
          0,
          0.2512658227848101,
          0,
          0.2512658227848101,
          0,
          0.2512658227848101,
          0,
          0.2512658227848101,
          0,
          0.2512658227848101,
          0.20854430379746836,
          0.23322784810126582,
          0.20854430379746836,
          0.23322784810126582,
          0.20854430379746836,
          0.23322784810126582,
          0.20854430379746836,
          0.23322784810126582,
          0.20854430379746836,
          0.23322784810126582,
          0.22974683544303795,
          0.23101265822784808,
          0.22974683544303795,
          0.23101265822784808,
          0.22974683544303795,
          0.23101265822784808,
          0.22974683544303795,
          0.23101265822784808,
          0.22974683544303795,
          0.23101265822784808,
          0.23069620253164555,
          0.23101265822784808,
          0.23069620253164555,
          0.23101265822784808,
          0.23069620253164555,
          0.23101265822784808,
          0.23069620253164555,
          0.23101265822784808,
          0.23069620253164555,
          0.23101265822784808,
          0.23101265822784808,
          0.23101265822784808,
          0.23101265822784808,
          0.23101265822784808,
          0.23101265822784808,
          0.23101265822784808,
          0.23101265822784808,
          0.23101265822784808,
          0.23101265822784808,
          0.23101265822784808
         ],
         "yaxis": "y"
        }
       ],
       "layout": {
        "legend": {
         "tracegroupgap": 0
        },
        "margin": {
         "t": 60
        },
        "template": {
         "data": {
          "bar": [
           {
            "error_x": {
             "color": "#2a3f5f"
            },
            "error_y": {
             "color": "#2a3f5f"
            },
            "marker": {
             "line": {
              "color": "#E5ECF6",
              "width": 0.5
             },
             "pattern": {
              "fillmode": "overlay",
              "size": 10,
              "solidity": 0.2
             }
            },
            "type": "bar"
           }
          ],
          "barpolar": [
           {
            "marker": {
             "line": {
              "color": "#E5ECF6",
              "width": 0.5
             },
             "pattern": {
              "fillmode": "overlay",
              "size": 10,
              "solidity": 0.2
             }
            },
            "type": "barpolar"
           }
          ],
          "carpet": [
           {
            "aaxis": {
             "endlinecolor": "#2a3f5f",
             "gridcolor": "white",
             "linecolor": "white",
             "minorgridcolor": "white",
             "startlinecolor": "#2a3f5f"
            },
            "baxis": {
             "endlinecolor": "#2a3f5f",
             "gridcolor": "white",
             "linecolor": "white",
             "minorgridcolor": "white",
             "startlinecolor": "#2a3f5f"
            },
            "type": "carpet"
           }
          ],
          "choropleth": [
           {
            "colorbar": {
             "outlinewidth": 0,
             "ticks": ""
            },
            "type": "choropleth"
           }
          ],
          "contour": [
           {
            "colorbar": {
             "outlinewidth": 0,
             "ticks": ""
            },
            "colorscale": [
             [
              0,
              "#0d0887"
             ],
             [
              0.1111111111111111,
              "#46039f"
             ],
             [
              0.2222222222222222,
              "#7201a8"
             ],
             [
              0.3333333333333333,
              "#9c179e"
             ],
             [
              0.4444444444444444,
              "#bd3786"
             ],
             [
              0.5555555555555556,
              "#d8576b"
             ],
             [
              0.6666666666666666,
              "#ed7953"
             ],
             [
              0.7777777777777778,
              "#fb9f3a"
             ],
             [
              0.8888888888888888,
              "#fdca26"
             ],
             [
              1,
              "#f0f921"
             ]
            ],
            "type": "contour"
           }
          ],
          "contourcarpet": [
           {
            "colorbar": {
             "outlinewidth": 0,
             "ticks": ""
            },
            "type": "contourcarpet"
           }
          ],
          "heatmap": [
           {
            "colorbar": {
             "outlinewidth": 0,
             "ticks": ""
            },
            "colorscale": [
             [
              0,
              "#0d0887"
             ],
             [
              0.1111111111111111,
              "#46039f"
             ],
             [
              0.2222222222222222,
              "#7201a8"
             ],
             [
              0.3333333333333333,
              "#9c179e"
             ],
             [
              0.4444444444444444,
              "#bd3786"
             ],
             [
              0.5555555555555556,
              "#d8576b"
             ],
             [
              0.6666666666666666,
              "#ed7953"
             ],
             [
              0.7777777777777778,
              "#fb9f3a"
             ],
             [
              0.8888888888888888,
              "#fdca26"
             ],
             [
              1,
              "#f0f921"
             ]
            ],
            "type": "heatmap"
           }
          ],
          "heatmapgl": [
           {
            "colorbar": {
             "outlinewidth": 0,
             "ticks": ""
            },
            "colorscale": [
             [
              0,
              "#0d0887"
             ],
             [
              0.1111111111111111,
              "#46039f"
             ],
             [
              0.2222222222222222,
              "#7201a8"
             ],
             [
              0.3333333333333333,
              "#9c179e"
             ],
             [
              0.4444444444444444,
              "#bd3786"
             ],
             [
              0.5555555555555556,
              "#d8576b"
             ],
             [
              0.6666666666666666,
              "#ed7953"
             ],
             [
              0.7777777777777778,
              "#fb9f3a"
             ],
             [
              0.8888888888888888,
              "#fdca26"
             ],
             [
              1,
              "#f0f921"
             ]
            ],
            "type": "heatmapgl"
           }
          ],
          "histogram": [
           {
            "marker": {
             "pattern": {
              "fillmode": "overlay",
              "size": 10,
              "solidity": 0.2
             }
            },
            "type": "histogram"
           }
          ],
          "histogram2d": [
           {
            "colorbar": {
             "outlinewidth": 0,
             "ticks": ""
            },
            "colorscale": [
             [
              0,
              "#0d0887"
             ],
             [
              0.1111111111111111,
              "#46039f"
             ],
             [
              0.2222222222222222,
              "#7201a8"
             ],
             [
              0.3333333333333333,
              "#9c179e"
             ],
             [
              0.4444444444444444,
              "#bd3786"
             ],
             [
              0.5555555555555556,
              "#d8576b"
             ],
             [
              0.6666666666666666,
              "#ed7953"
             ],
             [
              0.7777777777777778,
              "#fb9f3a"
             ],
             [
              0.8888888888888888,
              "#fdca26"
             ],
             [
              1,
              "#f0f921"
             ]
            ],
            "type": "histogram2d"
           }
          ],
          "histogram2dcontour": [
           {
            "colorbar": {
             "outlinewidth": 0,
             "ticks": ""
            },
            "colorscale": [
             [
              0,
              "#0d0887"
             ],
             [
              0.1111111111111111,
              "#46039f"
             ],
             [
              0.2222222222222222,
              "#7201a8"
             ],
             [
              0.3333333333333333,
              "#9c179e"
             ],
             [
              0.4444444444444444,
              "#bd3786"
             ],
             [
              0.5555555555555556,
              "#d8576b"
             ],
             [
              0.6666666666666666,
              "#ed7953"
             ],
             [
              0.7777777777777778,
              "#fb9f3a"
             ],
             [
              0.8888888888888888,
              "#fdca26"
             ],
             [
              1,
              "#f0f921"
             ]
            ],
            "type": "histogram2dcontour"
           }
          ],
          "mesh3d": [
           {
            "colorbar": {
             "outlinewidth": 0,
             "ticks": ""
            },
            "type": "mesh3d"
           }
          ],
          "parcoords": [
           {
            "line": {
             "colorbar": {
              "outlinewidth": 0,
              "ticks": ""
             }
            },
            "type": "parcoords"
           }
          ],
          "pie": [
           {
            "automargin": true,
            "type": "pie"
           }
          ],
          "scatter": [
           {
            "fillpattern": {
             "fillmode": "overlay",
             "size": 10,
             "solidity": 0.2
            },
            "type": "scatter"
           }
          ],
          "scatter3d": [
           {
            "line": {
             "colorbar": {
              "outlinewidth": 0,
              "ticks": ""
             }
            },
            "marker": {
             "colorbar": {
              "outlinewidth": 0,
              "ticks": ""
             }
            },
            "type": "scatter3d"
           }
          ],
          "scattercarpet": [
           {
            "marker": {
             "colorbar": {
              "outlinewidth": 0,
              "ticks": ""
             }
            },
            "type": "scattercarpet"
           }
          ],
          "scattergeo": [
           {
            "marker": {
             "colorbar": {
              "outlinewidth": 0,
              "ticks": ""
             }
            },
            "type": "scattergeo"
           }
          ],
          "scattergl": [
           {
            "marker": {
             "colorbar": {
              "outlinewidth": 0,
              "ticks": ""
             }
            },
            "type": "scattergl"
           }
          ],
          "scattermapbox": [
           {
            "marker": {
             "colorbar": {
              "outlinewidth": 0,
              "ticks": ""
             }
            },
            "type": "scattermapbox"
           }
          ],
          "scatterpolar": [
           {
            "marker": {
             "colorbar": {
              "outlinewidth": 0,
              "ticks": ""
             }
            },
            "type": "scatterpolar"
           }
          ],
          "scatterpolargl": [
           {
            "marker": {
             "colorbar": {
              "outlinewidth": 0,
              "ticks": ""
             }
            },
            "type": "scatterpolargl"
           }
          ],
          "scatterternary": [
           {
            "marker": {
             "colorbar": {
              "outlinewidth": 0,
              "ticks": ""
             }
            },
            "type": "scatterternary"
           }
          ],
          "surface": [
           {
            "colorbar": {
             "outlinewidth": 0,
             "ticks": ""
            },
            "colorscale": [
             [
              0,
              "#0d0887"
             ],
             [
              0.1111111111111111,
              "#46039f"
             ],
             [
              0.2222222222222222,
              "#7201a8"
             ],
             [
              0.3333333333333333,
              "#9c179e"
             ],
             [
              0.4444444444444444,
              "#bd3786"
             ],
             [
              0.5555555555555556,
              "#d8576b"
             ],
             [
              0.6666666666666666,
              "#ed7953"
             ],
             [
              0.7777777777777778,
              "#fb9f3a"
             ],
             [
              0.8888888888888888,
              "#fdca26"
             ],
             [
              1,
              "#f0f921"
             ]
            ],
            "type": "surface"
           }
          ],
          "table": [
           {
            "cells": {
             "fill": {
              "color": "#EBF0F8"
             },
             "line": {
              "color": "white"
             }
            },
            "header": {
             "fill": {
              "color": "#C8D4E3"
             },
             "line": {
              "color": "white"
             }
            },
            "type": "table"
           }
          ]
         },
         "layout": {
          "annotationdefaults": {
           "arrowcolor": "#2a3f5f",
           "arrowhead": 0,
           "arrowwidth": 1
          },
          "autotypenumbers": "strict",
          "coloraxis": {
           "colorbar": {
            "outlinewidth": 0,
            "ticks": ""
           }
          },
          "colorscale": {
           "diverging": [
            [
             0,
             "#8e0152"
            ],
            [
             0.1,
             "#c51b7d"
            ],
            [
             0.2,
             "#de77ae"
            ],
            [
             0.3,
             "#f1b6da"
            ],
            [
             0.4,
             "#fde0ef"
            ],
            [
             0.5,
             "#f7f7f7"
            ],
            [
             0.6,
             "#e6f5d0"
            ],
            [
             0.7,
             "#b8e186"
            ],
            [
             0.8,
             "#7fbc41"
            ],
            [
             0.9,
             "#4d9221"
            ],
            [
             1,
             "#276419"
            ]
           ],
           "sequential": [
            [
             0,
             "#0d0887"
            ],
            [
             0.1111111111111111,
             "#46039f"
            ],
            [
             0.2222222222222222,
             "#7201a8"
            ],
            [
             0.3333333333333333,
             "#9c179e"
            ],
            [
             0.4444444444444444,
             "#bd3786"
            ],
            [
             0.5555555555555556,
             "#d8576b"
            ],
            [
             0.6666666666666666,
             "#ed7953"
            ],
            [
             0.7777777777777778,
             "#fb9f3a"
            ],
            [
             0.8888888888888888,
             "#fdca26"
            ],
            [
             1,
             "#f0f921"
            ]
           ],
           "sequentialminus": [
            [
             0,
             "#0d0887"
            ],
            [
             0.1111111111111111,
             "#46039f"
            ],
            [
             0.2222222222222222,
             "#7201a8"
            ],
            [
             0.3333333333333333,
             "#9c179e"
            ],
            [
             0.4444444444444444,
             "#bd3786"
            ],
            [
             0.5555555555555556,
             "#d8576b"
            ],
            [
             0.6666666666666666,
             "#ed7953"
            ],
            [
             0.7777777777777778,
             "#fb9f3a"
            ],
            [
             0.8888888888888888,
             "#fdca26"
            ],
            [
             1,
             "#f0f921"
            ]
           ]
          },
          "colorway": [
           "#636efa",
           "#EF553B",
           "#00cc96",
           "#ab63fa",
           "#FFA15A",
           "#19d3f3",
           "#FF6692",
           "#B6E880",
           "#FF97FF",
           "#FECB52"
          ],
          "font": {
           "color": "#2a3f5f"
          },
          "geo": {
           "bgcolor": "white",
           "lakecolor": "white",
           "landcolor": "#E5ECF6",
           "showlakes": true,
           "showland": true,
           "subunitcolor": "white"
          },
          "hoverlabel": {
           "align": "left"
          },
          "hovermode": "closest",
          "mapbox": {
           "style": "light"
          },
          "paper_bgcolor": "white",
          "plot_bgcolor": "#E5ECF6",
          "polar": {
           "angularaxis": {
            "gridcolor": "white",
            "linecolor": "white",
            "ticks": ""
           },
           "bgcolor": "#E5ECF6",
           "radialaxis": {
            "gridcolor": "white",
            "linecolor": "white",
            "ticks": ""
           }
          },
          "scene": {
           "xaxis": {
            "backgroundcolor": "#E5ECF6",
            "gridcolor": "white",
            "gridwidth": 2,
            "linecolor": "white",
            "showbackground": true,
            "ticks": "",
            "zerolinecolor": "white"
           },
           "yaxis": {
            "backgroundcolor": "#E5ECF6",
            "gridcolor": "white",
            "gridwidth": 2,
            "linecolor": "white",
            "showbackground": true,
            "ticks": "",
            "zerolinecolor": "white"
           },
           "zaxis": {
            "backgroundcolor": "#E5ECF6",
            "gridcolor": "white",
            "gridwidth": 2,
            "linecolor": "white",
            "showbackground": true,
            "ticks": "",
            "zerolinecolor": "white"
           }
          },
          "shapedefaults": {
           "line": {
            "color": "#2a3f5f"
           }
          },
          "ternary": {
           "aaxis": {
            "gridcolor": "white",
            "linecolor": "white",
            "ticks": ""
           },
           "baxis": {
            "gridcolor": "white",
            "linecolor": "white",
            "ticks": ""
           },
           "bgcolor": "#E5ECF6",
           "caxis": {
            "gridcolor": "white",
            "linecolor": "white",
            "ticks": ""
           }
          },
          "title": {
           "x": 0.05
          },
          "xaxis": {
           "automargin": true,
           "gridcolor": "white",
           "linecolor": "white",
           "ticks": "",
           "title": {
            "standoff": 15
           },
           "zerolinecolor": "white",
           "zerolinewidth": 2
          },
          "yaxis": {
           "automargin": true,
           "gridcolor": "white",
           "linecolor": "white",
           "ticks": "",
           "title": {
            "standoff": 15
           },
           "zerolinecolor": "white",
           "zerolinewidth": 2
          }
         }
        },
        "xaxis": {
         "anchor": "y",
         "domain": [
          0,
          1
         ],
         "title": {
          "text": "param_logisticregression__max_iter"
         }
        },
        "yaxis": {
         "anchor": "x",
         "domain": [
          0,
          1
         ],
         "title": {
          "text": "mean_test_score"
         }
        }
       }
      }
     },
     "metadata": {},
     "output_type": "display_data"
    }
   ],
   "source": [
    "fig = px.scatter(\n",
    "    df_cv_results_lr,\n",
    "    x='param_logisticregression__max_iter',\n",
    "    y='mean_test_score',\n",
    ")\n",
    "\n",
    "fig.show()"
   ]
  },
  {
   "cell_type": "markdown",
   "metadata": {},
   "source": [
    "## KNN"
   ]
  },
  {
   "cell_type": "code",
   "execution_count": 32,
   "metadata": {},
   "outputs": [],
   "source": [
    "from sklearn.neighbors import KNeighborsClassifier\n",
    "from sklearn.preprocessing import StandardScaler\n",
    "from sklearn.pipeline import Pipeline\n",
    "from numpy import linspace"
   ]
  },
  {
   "cell_type": "code",
   "execution_count": 33,
   "metadata": {},
   "outputs": [],
   "source": [
    "param_grid_knn = {\n",
    "    'knn__n_neighbors': linspace(5, 25, 10, dtype=int),\n",
    "    'knn__weights': ['uniform', 'distance'],\n",
    "    'knn__metric': ['euclidean', 'manhattan'],\n",
    "}\n",
    "\n",
    "pipe_knn = Pipeline([\n",
    "    ('scaler', StandardScaler()),\n",
    "    ('knn', KNeighborsClassifier())\n",
    "])\n"
   ]
  },
  {
   "cell_type": "code",
   "execution_count": 34,
   "metadata": {},
   "outputs": [
    {
     "data": {
      "text/html": [
       "<style>#sk-container-id-5 {\n",
       "  /* Definition of color scheme common for light and dark mode */\n",
       "  --sklearn-color-text: black;\n",
       "  --sklearn-color-line: gray;\n",
       "  /* Definition of color scheme for unfitted estimators */\n",
       "  --sklearn-color-unfitted-level-0: #fff5e6;\n",
       "  --sklearn-color-unfitted-level-1: #f6e4d2;\n",
       "  --sklearn-color-unfitted-level-2: #ffe0b3;\n",
       "  --sklearn-color-unfitted-level-3: chocolate;\n",
       "  /* Definition of color scheme for fitted estimators */\n",
       "  --sklearn-color-fitted-level-0: #f0f8ff;\n",
       "  --sklearn-color-fitted-level-1: #d4ebff;\n",
       "  --sklearn-color-fitted-level-2: #b3dbfd;\n",
       "  --sklearn-color-fitted-level-3: cornflowerblue;\n",
       "\n",
       "  /* Specific color for light theme */\n",
       "  --sklearn-color-text-on-default-background: var(--sg-text-color, var(--theme-code-foreground, var(--jp-content-font-color1, black)));\n",
       "  --sklearn-color-background: var(--sg-background-color, var(--theme-background, var(--jp-layout-color0, white)));\n",
       "  --sklearn-color-border-box: var(--sg-text-color, var(--theme-code-foreground, var(--jp-content-font-color1, black)));\n",
       "  --sklearn-color-icon: #696969;\n",
       "\n",
       "  @media (prefers-color-scheme: dark) {\n",
       "    /* Redefinition of color scheme for dark theme */\n",
       "    --sklearn-color-text-on-default-background: var(--sg-text-color, var(--theme-code-foreground, var(--jp-content-font-color1, white)));\n",
       "    --sklearn-color-background: var(--sg-background-color, var(--theme-background, var(--jp-layout-color0, #111)));\n",
       "    --sklearn-color-border-box: var(--sg-text-color, var(--theme-code-foreground, var(--jp-content-font-color1, white)));\n",
       "    --sklearn-color-icon: #878787;\n",
       "  }\n",
       "}\n",
       "\n",
       "#sk-container-id-5 {\n",
       "  color: var(--sklearn-color-text);\n",
       "}\n",
       "\n",
       "#sk-container-id-5 pre {\n",
       "  padding: 0;\n",
       "}\n",
       "\n",
       "#sk-container-id-5 input.sk-hidden--visually {\n",
       "  border: 0;\n",
       "  clip: rect(1px 1px 1px 1px);\n",
       "  clip: rect(1px, 1px, 1px, 1px);\n",
       "  height: 1px;\n",
       "  margin: -1px;\n",
       "  overflow: hidden;\n",
       "  padding: 0;\n",
       "  position: absolute;\n",
       "  width: 1px;\n",
       "}\n",
       "\n",
       "#sk-container-id-5 div.sk-dashed-wrapped {\n",
       "  border: 1px dashed var(--sklearn-color-line);\n",
       "  margin: 0 0.4em 0.5em 0.4em;\n",
       "  box-sizing: border-box;\n",
       "  padding-bottom: 0.4em;\n",
       "  background-color: var(--sklearn-color-background);\n",
       "}\n",
       "\n",
       "#sk-container-id-5 div.sk-container {\n",
       "  /* jupyter's `normalize.less` sets `[hidden] { display: none; }`\n",
       "     but bootstrap.min.css set `[hidden] { display: none !important; }`\n",
       "     so we also need the `!important` here to be able to override the\n",
       "     default hidden behavior on the sphinx rendered scikit-learn.org.\n",
       "     See: https://github.com/scikit-learn/scikit-learn/issues/21755 */\n",
       "  display: inline-block !important;\n",
       "  position: relative;\n",
       "}\n",
       "\n",
       "#sk-container-id-5 div.sk-text-repr-fallback {\n",
       "  display: none;\n",
       "}\n",
       "\n",
       "div.sk-parallel-item,\n",
       "div.sk-serial,\n",
       "div.sk-item {\n",
       "  /* draw centered vertical line to link estimators */\n",
       "  background-image: linear-gradient(var(--sklearn-color-text-on-default-background), var(--sklearn-color-text-on-default-background));\n",
       "  background-size: 2px 100%;\n",
       "  background-repeat: no-repeat;\n",
       "  background-position: center center;\n",
       "}\n",
       "\n",
       "/* Parallel-specific style estimator block */\n",
       "\n",
       "#sk-container-id-5 div.sk-parallel-item::after {\n",
       "  content: \"\";\n",
       "  width: 100%;\n",
       "  border-bottom: 2px solid var(--sklearn-color-text-on-default-background);\n",
       "  flex-grow: 1;\n",
       "}\n",
       "\n",
       "#sk-container-id-5 div.sk-parallel {\n",
       "  display: flex;\n",
       "  align-items: stretch;\n",
       "  justify-content: center;\n",
       "  background-color: var(--sklearn-color-background);\n",
       "  position: relative;\n",
       "}\n",
       "\n",
       "#sk-container-id-5 div.sk-parallel-item {\n",
       "  display: flex;\n",
       "  flex-direction: column;\n",
       "}\n",
       "\n",
       "#sk-container-id-5 div.sk-parallel-item:first-child::after {\n",
       "  align-self: flex-end;\n",
       "  width: 50%;\n",
       "}\n",
       "\n",
       "#sk-container-id-5 div.sk-parallel-item:last-child::after {\n",
       "  align-self: flex-start;\n",
       "  width: 50%;\n",
       "}\n",
       "\n",
       "#sk-container-id-5 div.sk-parallel-item:only-child::after {\n",
       "  width: 0;\n",
       "}\n",
       "\n",
       "/* Serial-specific style estimator block */\n",
       "\n",
       "#sk-container-id-5 div.sk-serial {\n",
       "  display: flex;\n",
       "  flex-direction: column;\n",
       "  align-items: center;\n",
       "  background-color: var(--sklearn-color-background);\n",
       "  padding-right: 1em;\n",
       "  padding-left: 1em;\n",
       "}\n",
       "\n",
       "\n",
       "/* Toggleable style: style used for estimator/Pipeline/ColumnTransformer box that is\n",
       "clickable and can be expanded/collapsed.\n",
       "- Pipeline and ColumnTransformer use this feature and define the default style\n",
       "- Estimators will overwrite some part of the style using the `sk-estimator` class\n",
       "*/\n",
       "\n",
       "/* Pipeline and ColumnTransformer style (default) */\n",
       "\n",
       "#sk-container-id-5 div.sk-toggleable {\n",
       "  /* Default theme specific background. It is overwritten whether we have a\n",
       "  specific estimator or a Pipeline/ColumnTransformer */\n",
       "  background-color: var(--sklearn-color-background);\n",
       "}\n",
       "\n",
       "/* Toggleable label */\n",
       "#sk-container-id-5 label.sk-toggleable__label {\n",
       "  cursor: pointer;\n",
       "  display: block;\n",
       "  width: 100%;\n",
       "  margin-bottom: 0;\n",
       "  padding: 0.5em;\n",
       "  box-sizing: border-box;\n",
       "  text-align: center;\n",
       "}\n",
       "\n",
       "#sk-container-id-5 label.sk-toggleable__label-arrow:before {\n",
       "  /* Arrow on the left of the label */\n",
       "  content: \"▸\";\n",
       "  float: left;\n",
       "  margin-right: 0.25em;\n",
       "  color: var(--sklearn-color-icon);\n",
       "}\n",
       "\n",
       "#sk-container-id-5 label.sk-toggleable__label-arrow:hover:before {\n",
       "  color: var(--sklearn-color-text);\n",
       "}\n",
       "\n",
       "/* Toggleable content - dropdown */\n",
       "\n",
       "#sk-container-id-5 div.sk-toggleable__content {\n",
       "  max-height: 0;\n",
       "  max-width: 0;\n",
       "  overflow: hidden;\n",
       "  text-align: left;\n",
       "  /* unfitted */\n",
       "  background-color: var(--sklearn-color-unfitted-level-0);\n",
       "}\n",
       "\n",
       "#sk-container-id-5 div.sk-toggleable__content.fitted {\n",
       "  /* fitted */\n",
       "  background-color: var(--sklearn-color-fitted-level-0);\n",
       "}\n",
       "\n",
       "#sk-container-id-5 div.sk-toggleable__content pre {\n",
       "  margin: 0.2em;\n",
       "  border-radius: 0.25em;\n",
       "  color: var(--sklearn-color-text);\n",
       "  /* unfitted */\n",
       "  background-color: var(--sklearn-color-unfitted-level-0);\n",
       "}\n",
       "\n",
       "#sk-container-id-5 div.sk-toggleable__content.fitted pre {\n",
       "  /* unfitted */\n",
       "  background-color: var(--sklearn-color-fitted-level-0);\n",
       "}\n",
       "\n",
       "#sk-container-id-5 input.sk-toggleable__control:checked~div.sk-toggleable__content {\n",
       "  /* Expand drop-down */\n",
       "  max-height: 200px;\n",
       "  max-width: 100%;\n",
       "  overflow: auto;\n",
       "}\n",
       "\n",
       "#sk-container-id-5 input.sk-toggleable__control:checked~label.sk-toggleable__label-arrow:before {\n",
       "  content: \"▾\";\n",
       "}\n",
       "\n",
       "/* Pipeline/ColumnTransformer-specific style */\n",
       "\n",
       "#sk-container-id-5 div.sk-label input.sk-toggleable__control:checked~label.sk-toggleable__label {\n",
       "  color: var(--sklearn-color-text);\n",
       "  background-color: var(--sklearn-color-unfitted-level-2);\n",
       "}\n",
       "\n",
       "#sk-container-id-5 div.sk-label.fitted input.sk-toggleable__control:checked~label.sk-toggleable__label {\n",
       "  background-color: var(--sklearn-color-fitted-level-2);\n",
       "}\n",
       "\n",
       "/* Estimator-specific style */\n",
       "\n",
       "/* Colorize estimator box */\n",
       "#sk-container-id-5 div.sk-estimator input.sk-toggleable__control:checked~label.sk-toggleable__label {\n",
       "  /* unfitted */\n",
       "  background-color: var(--sklearn-color-unfitted-level-2);\n",
       "}\n",
       "\n",
       "#sk-container-id-5 div.sk-estimator.fitted input.sk-toggleable__control:checked~label.sk-toggleable__label {\n",
       "  /* fitted */\n",
       "  background-color: var(--sklearn-color-fitted-level-2);\n",
       "}\n",
       "\n",
       "#sk-container-id-5 div.sk-label label.sk-toggleable__label,\n",
       "#sk-container-id-5 div.sk-label label {\n",
       "  /* The background is the default theme color */\n",
       "  color: var(--sklearn-color-text-on-default-background);\n",
       "}\n",
       "\n",
       "/* On hover, darken the color of the background */\n",
       "#sk-container-id-5 div.sk-label:hover label.sk-toggleable__label {\n",
       "  color: var(--sklearn-color-text);\n",
       "  background-color: var(--sklearn-color-unfitted-level-2);\n",
       "}\n",
       "\n",
       "/* Label box, darken color on hover, fitted */\n",
       "#sk-container-id-5 div.sk-label.fitted:hover label.sk-toggleable__label.fitted {\n",
       "  color: var(--sklearn-color-text);\n",
       "  background-color: var(--sklearn-color-fitted-level-2);\n",
       "}\n",
       "\n",
       "/* Estimator label */\n",
       "\n",
       "#sk-container-id-5 div.sk-label label {\n",
       "  font-family: monospace;\n",
       "  font-weight: bold;\n",
       "  display: inline-block;\n",
       "  line-height: 1.2em;\n",
       "}\n",
       "\n",
       "#sk-container-id-5 div.sk-label-container {\n",
       "  text-align: center;\n",
       "}\n",
       "\n",
       "/* Estimator-specific */\n",
       "#sk-container-id-5 div.sk-estimator {\n",
       "  font-family: monospace;\n",
       "  border: 1px dotted var(--sklearn-color-border-box);\n",
       "  border-radius: 0.25em;\n",
       "  box-sizing: border-box;\n",
       "  margin-bottom: 0.5em;\n",
       "  /* unfitted */\n",
       "  background-color: var(--sklearn-color-unfitted-level-0);\n",
       "}\n",
       "\n",
       "#sk-container-id-5 div.sk-estimator.fitted {\n",
       "  /* fitted */\n",
       "  background-color: var(--sklearn-color-fitted-level-0);\n",
       "}\n",
       "\n",
       "/* on hover */\n",
       "#sk-container-id-5 div.sk-estimator:hover {\n",
       "  /* unfitted */\n",
       "  background-color: var(--sklearn-color-unfitted-level-2);\n",
       "}\n",
       "\n",
       "#sk-container-id-5 div.sk-estimator.fitted:hover {\n",
       "  /* fitted */\n",
       "  background-color: var(--sklearn-color-fitted-level-2);\n",
       "}\n",
       "\n",
       "/* Specification for estimator info (e.g. \"i\" and \"?\") */\n",
       "\n",
       "/* Common style for \"i\" and \"?\" */\n",
       "\n",
       ".sk-estimator-doc-link,\n",
       "a:link.sk-estimator-doc-link,\n",
       "a:visited.sk-estimator-doc-link {\n",
       "  float: right;\n",
       "  font-size: smaller;\n",
       "  line-height: 1em;\n",
       "  font-family: monospace;\n",
       "  background-color: var(--sklearn-color-background);\n",
       "  border-radius: 1em;\n",
       "  height: 1em;\n",
       "  width: 1em;\n",
       "  text-decoration: none !important;\n",
       "  margin-left: 1ex;\n",
       "  /* unfitted */\n",
       "  border: var(--sklearn-color-unfitted-level-1) 1pt solid;\n",
       "  color: var(--sklearn-color-unfitted-level-1);\n",
       "}\n",
       "\n",
       ".sk-estimator-doc-link.fitted,\n",
       "a:link.sk-estimator-doc-link.fitted,\n",
       "a:visited.sk-estimator-doc-link.fitted {\n",
       "  /* fitted */\n",
       "  border: var(--sklearn-color-fitted-level-1) 1pt solid;\n",
       "  color: var(--sklearn-color-fitted-level-1);\n",
       "}\n",
       "\n",
       "/* On hover */\n",
       "div.sk-estimator:hover .sk-estimator-doc-link:hover,\n",
       ".sk-estimator-doc-link:hover,\n",
       "div.sk-label-container:hover .sk-estimator-doc-link:hover,\n",
       ".sk-estimator-doc-link:hover {\n",
       "  /* unfitted */\n",
       "  background-color: var(--sklearn-color-unfitted-level-3);\n",
       "  color: var(--sklearn-color-background);\n",
       "  text-decoration: none;\n",
       "}\n",
       "\n",
       "div.sk-estimator.fitted:hover .sk-estimator-doc-link.fitted:hover,\n",
       ".sk-estimator-doc-link.fitted:hover,\n",
       "div.sk-label-container:hover .sk-estimator-doc-link.fitted:hover,\n",
       ".sk-estimator-doc-link.fitted:hover {\n",
       "  /* fitted */\n",
       "  background-color: var(--sklearn-color-fitted-level-3);\n",
       "  color: var(--sklearn-color-background);\n",
       "  text-decoration: none;\n",
       "}\n",
       "\n",
       "/* Span, style for the box shown on hovering the info icon */\n",
       ".sk-estimator-doc-link span {\n",
       "  display: none;\n",
       "  z-index: 9999;\n",
       "  position: relative;\n",
       "  font-weight: normal;\n",
       "  right: .2ex;\n",
       "  padding: .5ex;\n",
       "  margin: .5ex;\n",
       "  width: min-content;\n",
       "  min-width: 20ex;\n",
       "  max-width: 50ex;\n",
       "  color: var(--sklearn-color-text);\n",
       "  box-shadow: 2pt 2pt 4pt #999;\n",
       "  /* unfitted */\n",
       "  background: var(--sklearn-color-unfitted-level-0);\n",
       "  border: .5pt solid var(--sklearn-color-unfitted-level-3);\n",
       "}\n",
       "\n",
       ".sk-estimator-doc-link.fitted span {\n",
       "  /* fitted */\n",
       "  background: var(--sklearn-color-fitted-level-0);\n",
       "  border: var(--sklearn-color-fitted-level-3);\n",
       "}\n",
       "\n",
       ".sk-estimator-doc-link:hover span {\n",
       "  display: block;\n",
       "}\n",
       "\n",
       "/* \"?\"-specific style due to the `<a>` HTML tag */\n",
       "\n",
       "#sk-container-id-5 a.estimator_doc_link {\n",
       "  float: right;\n",
       "  font-size: 1rem;\n",
       "  line-height: 1em;\n",
       "  font-family: monospace;\n",
       "  background-color: var(--sklearn-color-background);\n",
       "  border-radius: 1rem;\n",
       "  height: 1rem;\n",
       "  width: 1rem;\n",
       "  text-decoration: none;\n",
       "  /* unfitted */\n",
       "  color: var(--sklearn-color-unfitted-level-1);\n",
       "  border: var(--sklearn-color-unfitted-level-1) 1pt solid;\n",
       "}\n",
       "\n",
       "#sk-container-id-5 a.estimator_doc_link.fitted {\n",
       "  /* fitted */\n",
       "  border: var(--sklearn-color-fitted-level-1) 1pt solid;\n",
       "  color: var(--sklearn-color-fitted-level-1);\n",
       "}\n",
       "\n",
       "/* On hover */\n",
       "#sk-container-id-5 a.estimator_doc_link:hover {\n",
       "  /* unfitted */\n",
       "  background-color: var(--sklearn-color-unfitted-level-3);\n",
       "  color: var(--sklearn-color-background);\n",
       "  text-decoration: none;\n",
       "}\n",
       "\n",
       "#sk-container-id-5 a.estimator_doc_link.fitted:hover {\n",
       "  /* fitted */\n",
       "  background-color: var(--sklearn-color-fitted-level-3);\n",
       "}\n",
       "</style><div id=\"sk-container-id-5\" class=\"sk-top-container\"><div class=\"sk-text-repr-fallback\"><pre>GridSearchCV(cv=StratifiedKFold(n_splits=5, random_state=42, shuffle=True),\n",
       "             estimator=Pipeline(steps=[(&#x27;scaler&#x27;, StandardScaler()),\n",
       "                                       (&#x27;knn&#x27;, KNeighborsClassifier())]),\n",
       "             n_jobs=-1,\n",
       "             param_grid={&#x27;knn__metric&#x27;: [&#x27;euclidean&#x27;, &#x27;manhattan&#x27;],\n",
       "                         &#x27;knn__n_neighbors&#x27;: array([ 5,  7,  9, 11, 13, 16, 18, 20, 22, 25]),\n",
       "                         &#x27;knn__weights&#x27;: [&#x27;uniform&#x27;, &#x27;distance&#x27;]},\n",
       "             scoring=&#x27;recall&#x27;)</pre><b>In a Jupyter environment, please rerun this cell to show the HTML representation or trust the notebook. <br />On GitHub, the HTML representation is unable to render, please try loading this page with nbviewer.org.</b></div><div class=\"sk-container\" hidden><div class=\"sk-item sk-dashed-wrapped\"><div class=\"sk-label-container\"><div class=\"sk-label fitted sk-toggleable\"><input class=\"sk-toggleable__control sk-hidden--visually\" id=\"sk-estimator-id-12\" type=\"checkbox\" ><label for=\"sk-estimator-id-12\" class=\"sk-toggleable__label fitted sk-toggleable__label-arrow fitted\">&nbsp;&nbsp;GridSearchCV<a class=\"sk-estimator-doc-link fitted\" rel=\"noreferrer\" target=\"_blank\" href=\"https://scikit-learn.org/1.5/modules/generated/sklearn.model_selection.GridSearchCV.html\">?<span>Documentation for GridSearchCV</span></a><span class=\"sk-estimator-doc-link fitted\">i<span>Fitted</span></span></label><div class=\"sk-toggleable__content fitted\"><pre>GridSearchCV(cv=StratifiedKFold(n_splits=5, random_state=42, shuffle=True),\n",
       "             estimator=Pipeline(steps=[(&#x27;scaler&#x27;, StandardScaler()),\n",
       "                                       (&#x27;knn&#x27;, KNeighborsClassifier())]),\n",
       "             n_jobs=-1,\n",
       "             param_grid={&#x27;knn__metric&#x27;: [&#x27;euclidean&#x27;, &#x27;manhattan&#x27;],\n",
       "                         &#x27;knn__n_neighbors&#x27;: array([ 5,  7,  9, 11, 13, 16, 18, 20, 22, 25]),\n",
       "                         &#x27;knn__weights&#x27;: [&#x27;uniform&#x27;, &#x27;distance&#x27;]},\n",
       "             scoring=&#x27;recall&#x27;)</pre></div> </div></div><div class=\"sk-parallel\"><div class=\"sk-parallel-item\"><div class=\"sk-item\"><div class=\"sk-label-container\"><div class=\"sk-label fitted sk-toggleable\"><input class=\"sk-toggleable__control sk-hidden--visually\" id=\"sk-estimator-id-13\" type=\"checkbox\" ><label for=\"sk-estimator-id-13\" class=\"sk-toggleable__label fitted sk-toggleable__label-arrow fitted\">best_estimator_: Pipeline</label><div class=\"sk-toggleable__content fitted\"><pre>Pipeline(steps=[(&#x27;scaler&#x27;, StandardScaler()),\n",
       "                (&#x27;knn&#x27;,\n",
       "                 KNeighborsClassifier(metric=&#x27;manhattan&#x27;,\n",
       "                                      n_neighbors=np.int64(5),\n",
       "                                      weights=&#x27;distance&#x27;))])</pre></div> </div></div><div class=\"sk-serial\"><div class=\"sk-item\"><div class=\"sk-serial\"><div class=\"sk-item\"><div class=\"sk-estimator fitted sk-toggleable\"><input class=\"sk-toggleable__control sk-hidden--visually\" id=\"sk-estimator-id-14\" type=\"checkbox\" ><label for=\"sk-estimator-id-14\" class=\"sk-toggleable__label fitted sk-toggleable__label-arrow fitted\">&nbsp;StandardScaler<a class=\"sk-estimator-doc-link fitted\" rel=\"noreferrer\" target=\"_blank\" href=\"https://scikit-learn.org/1.5/modules/generated/sklearn.preprocessing.StandardScaler.html\">?<span>Documentation for StandardScaler</span></a></label><div class=\"sk-toggleable__content fitted\"><pre>StandardScaler()</pre></div> </div></div><div class=\"sk-item\"><div class=\"sk-estimator fitted sk-toggleable\"><input class=\"sk-toggleable__control sk-hidden--visually\" id=\"sk-estimator-id-15\" type=\"checkbox\" ><label for=\"sk-estimator-id-15\" class=\"sk-toggleable__label fitted sk-toggleable__label-arrow fitted\">&nbsp;KNeighborsClassifier<a class=\"sk-estimator-doc-link fitted\" rel=\"noreferrer\" target=\"_blank\" href=\"https://scikit-learn.org/1.5/modules/generated/sklearn.neighbors.KNeighborsClassifier.html\">?<span>Documentation for KNeighborsClassifier</span></a></label><div class=\"sk-toggleable__content fitted\"><pre>KNeighborsClassifier(metric=&#x27;manhattan&#x27;, n_neighbors=np.int64(5),\n",
       "                     weights=&#x27;distance&#x27;)</pre></div> </div></div></div></div></div></div></div></div></div></div></div>"
      ],
      "text/plain": [
       "GridSearchCV(cv=StratifiedKFold(n_splits=5, random_state=42, shuffle=True),\n",
       "             estimator=Pipeline(steps=[('scaler', StandardScaler()),\n",
       "                                       ('knn', KNeighborsClassifier())]),\n",
       "             n_jobs=-1,\n",
       "             param_grid={'knn__metric': ['euclidean', 'manhattan'],\n",
       "                         'knn__n_neighbors': array([ 5,  7,  9, 11, 13, 16, 18, 20, 22, 25]),\n",
       "                         'knn__weights': ['uniform', 'distance']},\n",
       "             scoring='recall')"
      ]
     },
     "execution_count": 34,
     "metadata": {},
     "output_type": "execute_result"
    }
   ],
   "source": [
    "knn_grid_search = GridSearchCV(\n",
    "    estimator=pipe_knn,\n",
    "    param_grid=param_grid_knn,\n",
    "    scoring='recall',\n",
    "    n_jobs=-1,\n",
    "    cv=cv\n",
    ")\n",
    "\n",
    "knn_grid_search.fit(x_train, y_train)"
   ]
  },
  {
   "cell_type": "code",
   "execution_count": 35,
   "metadata": {},
   "outputs": [
    {
     "data": {
      "text/plain": [
       "{'knn__metric': 'manhattan',\n",
       " 'knn__n_neighbors': np.int64(5),\n",
       " 'knn__weights': 'distance'}"
      ]
     },
     "execution_count": 35,
     "metadata": {},
     "output_type": "execute_result"
    }
   ],
   "source": [
    "knn_grid_search.best_params_"
   ]
  },
  {
   "cell_type": "code",
   "execution_count": 36,
   "metadata": {},
   "outputs": [
    {
     "data": {
      "text/html": [
       "<div>\n",
       "<style scoped>\n",
       "    .dataframe tbody tr th:only-of-type {\n",
       "        vertical-align: middle;\n",
       "    }\n",
       "\n",
       "    .dataframe tbody tr th {\n",
       "        vertical-align: top;\n",
       "    }\n",
       "\n",
       "    .dataframe thead th {\n",
       "        text-align: right;\n",
       "    }\n",
       "</style>\n",
       "<table border=\"1\" class=\"dataframe\">\n",
       "  <thead>\n",
       "    <tr style=\"text-align: right;\">\n",
       "      <th></th>\n",
       "      <th>mean_fit_time</th>\n",
       "      <th>std_fit_time</th>\n",
       "      <th>mean_score_time</th>\n",
       "      <th>std_score_time</th>\n",
       "      <th>param_knn__metric</th>\n",
       "      <th>param_knn__n_neighbors</th>\n",
       "      <th>param_knn__weights</th>\n",
       "      <th>params</th>\n",
       "      <th>split0_test_score</th>\n",
       "      <th>split1_test_score</th>\n",
       "      <th>split2_test_score</th>\n",
       "      <th>split3_test_score</th>\n",
       "      <th>split4_test_score</th>\n",
       "      <th>mean_test_score</th>\n",
       "      <th>std_test_score</th>\n",
       "      <th>rank_test_score</th>\n",
       "    </tr>\n",
       "  </thead>\n",
       "  <tbody>\n",
       "    <tr>\n",
       "      <th>0</th>\n",
       "      <td>0.015393</td>\n",
       "      <td>0.001142</td>\n",
       "      <td>0.351234</td>\n",
       "      <td>0.066365</td>\n",
       "      <td>euclidean</td>\n",
       "      <td>5</td>\n",
       "      <td>uniform</td>\n",
       "      <td>{'knn__metric': 'euclidean', 'knn__n_neighbors...</td>\n",
       "      <td>0.327532</td>\n",
       "      <td>0.324367</td>\n",
       "      <td>0.363924</td>\n",
       "      <td>0.324367</td>\n",
       "      <td>0.294304</td>\n",
       "      <td>0.326899</td>\n",
       "      <td>0.022120</td>\n",
       "      <td>10</td>\n",
       "    </tr>\n",
       "    <tr>\n",
       "      <th>1</th>\n",
       "      <td>0.015725</td>\n",
       "      <td>0.000635</td>\n",
       "      <td>0.239460</td>\n",
       "      <td>0.021111</td>\n",
       "      <td>euclidean</td>\n",
       "      <td>5</td>\n",
       "      <td>distance</td>\n",
       "      <td>{'knn__metric': 'euclidean', 'knn__n_neighbors...</td>\n",
       "      <td>0.371835</td>\n",
       "      <td>0.362342</td>\n",
       "      <td>0.379747</td>\n",
       "      <td>0.351266</td>\n",
       "      <td>0.318038</td>\n",
       "      <td>0.356646</td>\n",
       "      <td>0.021524</td>\n",
       "      <td>2</td>\n",
       "    </tr>\n",
       "    <tr>\n",
       "      <th>2</th>\n",
       "      <td>0.015621</td>\n",
       "      <td>0.000864</td>\n",
       "      <td>0.388145</td>\n",
       "      <td>0.043345</td>\n",
       "      <td>euclidean</td>\n",
       "      <td>7</td>\n",
       "      <td>uniform</td>\n",
       "      <td>{'knn__metric': 'euclidean', 'knn__n_neighbors...</td>\n",
       "      <td>0.310127</td>\n",
       "      <td>0.306962</td>\n",
       "      <td>0.337025</td>\n",
       "      <td>0.316456</td>\n",
       "      <td>0.319620</td>\n",
       "      <td>0.318038</td>\n",
       "      <td>0.010496</td>\n",
       "      <td>15</td>\n",
       "    </tr>\n",
       "  </tbody>\n",
       "</table>\n",
       "</div>"
      ],
      "text/plain": [
       "   mean_fit_time  std_fit_time  mean_score_time  std_score_time  \\\n",
       "0       0.015393      0.001142         0.351234        0.066365   \n",
       "1       0.015725      0.000635         0.239460        0.021111   \n",
       "2       0.015621      0.000864         0.388145        0.043345   \n",
       "\n",
       "  param_knn__metric  param_knn__n_neighbors param_knn__weights  \\\n",
       "0         euclidean                       5            uniform   \n",
       "1         euclidean                       5           distance   \n",
       "2         euclidean                       7            uniform   \n",
       "\n",
       "                                              params  split0_test_score  \\\n",
       "0  {'knn__metric': 'euclidean', 'knn__n_neighbors...           0.327532   \n",
       "1  {'knn__metric': 'euclidean', 'knn__n_neighbors...           0.371835   \n",
       "2  {'knn__metric': 'euclidean', 'knn__n_neighbors...           0.310127   \n",
       "\n",
       "   split1_test_score  split2_test_score  split3_test_score  split4_test_score  \\\n",
       "0           0.324367           0.363924           0.324367           0.294304   \n",
       "1           0.362342           0.379747           0.351266           0.318038   \n",
       "2           0.306962           0.337025           0.316456           0.319620   \n",
       "\n",
       "   mean_test_score  std_test_score  rank_test_score  \n",
       "0         0.326899        0.022120               10  \n",
       "1         0.356646        0.021524                2  \n",
       "2         0.318038        0.010496               15  "
      ]
     },
     "execution_count": 36,
     "metadata": {},
     "output_type": "execute_result"
    }
   ],
   "source": [
    "df_cv_results_knn = pd.DataFrame(knn_grid_search.cv_results_)\n",
    "df_cv_results_knn.head(3)"
   ]
  },
  {
   "cell_type": "code",
   "execution_count": 37,
   "metadata": {},
   "outputs": [
    {
     "data": {
      "text/html": [
       "<div>\n",
       "<style scoped>\n",
       "    .dataframe tbody tr th:only-of-type {\n",
       "        vertical-align: middle;\n",
       "    }\n",
       "\n",
       "    .dataframe tbody tr th {\n",
       "        vertical-align: top;\n",
       "    }\n",
       "\n",
       "    .dataframe thead th {\n",
       "        text-align: right;\n",
       "    }\n",
       "</style>\n",
       "<table border=\"1\" class=\"dataframe\">\n",
       "  <thead>\n",
       "    <tr style=\"text-align: right;\">\n",
       "      <th></th>\n",
       "      <th>mean_fit_time</th>\n",
       "      <th>std_fit_time</th>\n",
       "      <th>mean_score_time</th>\n",
       "      <th>std_score_time</th>\n",
       "      <th>param_knn__metric</th>\n",
       "      <th>param_knn__n_neighbors</th>\n",
       "      <th>param_knn__weights</th>\n",
       "      <th>params</th>\n",
       "      <th>split0_test_score</th>\n",
       "      <th>split1_test_score</th>\n",
       "      <th>split2_test_score</th>\n",
       "      <th>split3_test_score</th>\n",
       "      <th>split4_test_score</th>\n",
       "      <th>mean_test_score</th>\n",
       "      <th>std_test_score</th>\n",
       "      <th>rank_test_score</th>\n",
       "    </tr>\n",
       "  </thead>\n",
       "  <tbody>\n",
       "    <tr>\n",
       "      <th>21</th>\n",
       "      <td>0.016575</td>\n",
       "      <td>0.000717</td>\n",
       "      <td>0.33941</td>\n",
       "      <td>0.036022</td>\n",
       "      <td>manhattan</td>\n",
       "      <td>5</td>\n",
       "      <td>distance</td>\n",
       "      <td>{'knn__metric': 'manhattan', 'knn__n_neighbors...</td>\n",
       "      <td>0.375</td>\n",
       "      <td>0.370253</td>\n",
       "      <td>0.373418</td>\n",
       "      <td>0.356013</td>\n",
       "      <td>0.357595</td>\n",
       "      <td>0.366456</td>\n",
       "      <td>0.008043</td>\n",
       "      <td>1</td>\n",
       "    </tr>\n",
       "  </tbody>\n",
       "</table>\n",
       "</div>"
      ],
      "text/plain": [
       "    mean_fit_time  std_fit_time  mean_score_time  std_score_time  \\\n",
       "21       0.016575      0.000717          0.33941        0.036022   \n",
       "\n",
       "   param_knn__metric  param_knn__n_neighbors param_knn__weights  \\\n",
       "21         manhattan                       5           distance   \n",
       "\n",
       "                                               params  split0_test_score  \\\n",
       "21  {'knn__metric': 'manhattan', 'knn__n_neighbors...              0.375   \n",
       "\n",
       "    split1_test_score  split2_test_score  split3_test_score  \\\n",
       "21           0.370253           0.373418           0.356013   \n",
       "\n",
       "    split4_test_score  mean_test_score  std_test_score  rank_test_score  \n",
       "21           0.357595         0.366456        0.008043                1  "
      ]
     },
     "execution_count": 37,
     "metadata": {},
     "output_type": "execute_result"
    }
   ],
   "source": [
    "df_cv_results_knn.loc[[knn_grid_search.best_index_]]"
   ]
  },
  {
   "cell_type": "code",
   "execution_count": 38,
   "metadata": {},
   "outputs": [
    {
     "data": {
      "application/vnd.plotly.v1+json": {
       "config": {
        "plotlyServerURL": "https://plot.ly"
       },
       "data": [
        {
         "hovertemplate": "param_knn__n_neighbors=%{x}<br>mean_test_score=%{y}<extra></extra>",
         "legendgroup": "",
         "marker": {
          "color": "#636efa",
          "symbol": "circle"
         },
         "mode": "markers",
         "name": "",
         "orientation": "v",
         "showlegend": false,
         "type": "scatter",
         "x": [
          5,
          5,
          7,
          7,
          9,
          9,
          11,
          11,
          13,
          13,
          16,
          16,
          18,
          18,
          20,
          20,
          22,
          22,
          25,
          25,
          5,
          5,
          7,
          7,
          9,
          9,
          11,
          11,
          13,
          13,
          16,
          16,
          18,
          18,
          20,
          20,
          22,
          22,
          25,
          25
         ],
         "xaxis": "x",
         "y": [
          0.3268987341772152,
          0.3566455696202531,
          0.3180379746835443,
          0.35,
          0.29240506329113924,
          0.32974683544303796,
          0.28734177215189877,
          0.32278481012658233,
          0.2800632911392405,
          0.31835443037974687,
          0.2117088607594937,
          0.2990506329113924,
          0.2113924050632911,
          0.2955696202531645,
          0.2022151898734177,
          0.28544303797468357,
          0.20443037974683548,
          0.2775316455696203,
          0.24018987341772155,
          0.2746835443037975,
          0.33797468354430377,
          0.36645569620253166,
          0.32278481012658233,
          0.35632911392405064,
          0.31518987341772153,
          0.34683544303797464,
          0.30094936708860764,
          0.33765822784810123,
          0.29145569620253164,
          0.3306962025316456,
          0.2259493670886076,
          0.31962025316455694,
          0.22183544303797467,
          0.3091772151898734,
          0.22056962025316457,
          0.30379746835443033,
          0.21930379746835443,
          0.3022151898734177,
          0.255379746835443,
          0.29145569620253164
         ],
         "yaxis": "y"
        }
       ],
       "layout": {
        "legend": {
         "tracegroupgap": 0
        },
        "margin": {
         "t": 60
        },
        "template": {
         "data": {
          "bar": [
           {
            "error_x": {
             "color": "#2a3f5f"
            },
            "error_y": {
             "color": "#2a3f5f"
            },
            "marker": {
             "line": {
              "color": "#E5ECF6",
              "width": 0.5
             },
             "pattern": {
              "fillmode": "overlay",
              "size": 10,
              "solidity": 0.2
             }
            },
            "type": "bar"
           }
          ],
          "barpolar": [
           {
            "marker": {
             "line": {
              "color": "#E5ECF6",
              "width": 0.5
             },
             "pattern": {
              "fillmode": "overlay",
              "size": 10,
              "solidity": 0.2
             }
            },
            "type": "barpolar"
           }
          ],
          "carpet": [
           {
            "aaxis": {
             "endlinecolor": "#2a3f5f",
             "gridcolor": "white",
             "linecolor": "white",
             "minorgridcolor": "white",
             "startlinecolor": "#2a3f5f"
            },
            "baxis": {
             "endlinecolor": "#2a3f5f",
             "gridcolor": "white",
             "linecolor": "white",
             "minorgridcolor": "white",
             "startlinecolor": "#2a3f5f"
            },
            "type": "carpet"
           }
          ],
          "choropleth": [
           {
            "colorbar": {
             "outlinewidth": 0,
             "ticks": ""
            },
            "type": "choropleth"
           }
          ],
          "contour": [
           {
            "colorbar": {
             "outlinewidth": 0,
             "ticks": ""
            },
            "colorscale": [
             [
              0,
              "#0d0887"
             ],
             [
              0.1111111111111111,
              "#46039f"
             ],
             [
              0.2222222222222222,
              "#7201a8"
             ],
             [
              0.3333333333333333,
              "#9c179e"
             ],
             [
              0.4444444444444444,
              "#bd3786"
             ],
             [
              0.5555555555555556,
              "#d8576b"
             ],
             [
              0.6666666666666666,
              "#ed7953"
             ],
             [
              0.7777777777777778,
              "#fb9f3a"
             ],
             [
              0.8888888888888888,
              "#fdca26"
             ],
             [
              1,
              "#f0f921"
             ]
            ],
            "type": "contour"
           }
          ],
          "contourcarpet": [
           {
            "colorbar": {
             "outlinewidth": 0,
             "ticks": ""
            },
            "type": "contourcarpet"
           }
          ],
          "heatmap": [
           {
            "colorbar": {
             "outlinewidth": 0,
             "ticks": ""
            },
            "colorscale": [
             [
              0,
              "#0d0887"
             ],
             [
              0.1111111111111111,
              "#46039f"
             ],
             [
              0.2222222222222222,
              "#7201a8"
             ],
             [
              0.3333333333333333,
              "#9c179e"
             ],
             [
              0.4444444444444444,
              "#bd3786"
             ],
             [
              0.5555555555555556,
              "#d8576b"
             ],
             [
              0.6666666666666666,
              "#ed7953"
             ],
             [
              0.7777777777777778,
              "#fb9f3a"
             ],
             [
              0.8888888888888888,
              "#fdca26"
             ],
             [
              1,
              "#f0f921"
             ]
            ],
            "type": "heatmap"
           }
          ],
          "heatmapgl": [
           {
            "colorbar": {
             "outlinewidth": 0,
             "ticks": ""
            },
            "colorscale": [
             [
              0,
              "#0d0887"
             ],
             [
              0.1111111111111111,
              "#46039f"
             ],
             [
              0.2222222222222222,
              "#7201a8"
             ],
             [
              0.3333333333333333,
              "#9c179e"
             ],
             [
              0.4444444444444444,
              "#bd3786"
             ],
             [
              0.5555555555555556,
              "#d8576b"
             ],
             [
              0.6666666666666666,
              "#ed7953"
             ],
             [
              0.7777777777777778,
              "#fb9f3a"
             ],
             [
              0.8888888888888888,
              "#fdca26"
             ],
             [
              1,
              "#f0f921"
             ]
            ],
            "type": "heatmapgl"
           }
          ],
          "histogram": [
           {
            "marker": {
             "pattern": {
              "fillmode": "overlay",
              "size": 10,
              "solidity": 0.2
             }
            },
            "type": "histogram"
           }
          ],
          "histogram2d": [
           {
            "colorbar": {
             "outlinewidth": 0,
             "ticks": ""
            },
            "colorscale": [
             [
              0,
              "#0d0887"
             ],
             [
              0.1111111111111111,
              "#46039f"
             ],
             [
              0.2222222222222222,
              "#7201a8"
             ],
             [
              0.3333333333333333,
              "#9c179e"
             ],
             [
              0.4444444444444444,
              "#bd3786"
             ],
             [
              0.5555555555555556,
              "#d8576b"
             ],
             [
              0.6666666666666666,
              "#ed7953"
             ],
             [
              0.7777777777777778,
              "#fb9f3a"
             ],
             [
              0.8888888888888888,
              "#fdca26"
             ],
             [
              1,
              "#f0f921"
             ]
            ],
            "type": "histogram2d"
           }
          ],
          "histogram2dcontour": [
           {
            "colorbar": {
             "outlinewidth": 0,
             "ticks": ""
            },
            "colorscale": [
             [
              0,
              "#0d0887"
             ],
             [
              0.1111111111111111,
              "#46039f"
             ],
             [
              0.2222222222222222,
              "#7201a8"
             ],
             [
              0.3333333333333333,
              "#9c179e"
             ],
             [
              0.4444444444444444,
              "#bd3786"
             ],
             [
              0.5555555555555556,
              "#d8576b"
             ],
             [
              0.6666666666666666,
              "#ed7953"
             ],
             [
              0.7777777777777778,
              "#fb9f3a"
             ],
             [
              0.8888888888888888,
              "#fdca26"
             ],
             [
              1,
              "#f0f921"
             ]
            ],
            "type": "histogram2dcontour"
           }
          ],
          "mesh3d": [
           {
            "colorbar": {
             "outlinewidth": 0,
             "ticks": ""
            },
            "type": "mesh3d"
           }
          ],
          "parcoords": [
           {
            "line": {
             "colorbar": {
              "outlinewidth": 0,
              "ticks": ""
             }
            },
            "type": "parcoords"
           }
          ],
          "pie": [
           {
            "automargin": true,
            "type": "pie"
           }
          ],
          "scatter": [
           {
            "fillpattern": {
             "fillmode": "overlay",
             "size": 10,
             "solidity": 0.2
            },
            "type": "scatter"
           }
          ],
          "scatter3d": [
           {
            "line": {
             "colorbar": {
              "outlinewidth": 0,
              "ticks": ""
             }
            },
            "marker": {
             "colorbar": {
              "outlinewidth": 0,
              "ticks": ""
             }
            },
            "type": "scatter3d"
           }
          ],
          "scattercarpet": [
           {
            "marker": {
             "colorbar": {
              "outlinewidth": 0,
              "ticks": ""
             }
            },
            "type": "scattercarpet"
           }
          ],
          "scattergeo": [
           {
            "marker": {
             "colorbar": {
              "outlinewidth": 0,
              "ticks": ""
             }
            },
            "type": "scattergeo"
           }
          ],
          "scattergl": [
           {
            "marker": {
             "colorbar": {
              "outlinewidth": 0,
              "ticks": ""
             }
            },
            "type": "scattergl"
           }
          ],
          "scattermapbox": [
           {
            "marker": {
             "colorbar": {
              "outlinewidth": 0,
              "ticks": ""
             }
            },
            "type": "scattermapbox"
           }
          ],
          "scatterpolar": [
           {
            "marker": {
             "colorbar": {
              "outlinewidth": 0,
              "ticks": ""
             }
            },
            "type": "scatterpolar"
           }
          ],
          "scatterpolargl": [
           {
            "marker": {
             "colorbar": {
              "outlinewidth": 0,
              "ticks": ""
             }
            },
            "type": "scatterpolargl"
           }
          ],
          "scatterternary": [
           {
            "marker": {
             "colorbar": {
              "outlinewidth": 0,
              "ticks": ""
             }
            },
            "type": "scatterternary"
           }
          ],
          "surface": [
           {
            "colorbar": {
             "outlinewidth": 0,
             "ticks": ""
            },
            "colorscale": [
             [
              0,
              "#0d0887"
             ],
             [
              0.1111111111111111,
              "#46039f"
             ],
             [
              0.2222222222222222,
              "#7201a8"
             ],
             [
              0.3333333333333333,
              "#9c179e"
             ],
             [
              0.4444444444444444,
              "#bd3786"
             ],
             [
              0.5555555555555556,
              "#d8576b"
             ],
             [
              0.6666666666666666,
              "#ed7953"
             ],
             [
              0.7777777777777778,
              "#fb9f3a"
             ],
             [
              0.8888888888888888,
              "#fdca26"
             ],
             [
              1,
              "#f0f921"
             ]
            ],
            "type": "surface"
           }
          ],
          "table": [
           {
            "cells": {
             "fill": {
              "color": "#EBF0F8"
             },
             "line": {
              "color": "white"
             }
            },
            "header": {
             "fill": {
              "color": "#C8D4E3"
             },
             "line": {
              "color": "white"
             }
            },
            "type": "table"
           }
          ]
         },
         "layout": {
          "annotationdefaults": {
           "arrowcolor": "#2a3f5f",
           "arrowhead": 0,
           "arrowwidth": 1
          },
          "autotypenumbers": "strict",
          "coloraxis": {
           "colorbar": {
            "outlinewidth": 0,
            "ticks": ""
           }
          },
          "colorscale": {
           "diverging": [
            [
             0,
             "#8e0152"
            ],
            [
             0.1,
             "#c51b7d"
            ],
            [
             0.2,
             "#de77ae"
            ],
            [
             0.3,
             "#f1b6da"
            ],
            [
             0.4,
             "#fde0ef"
            ],
            [
             0.5,
             "#f7f7f7"
            ],
            [
             0.6,
             "#e6f5d0"
            ],
            [
             0.7,
             "#b8e186"
            ],
            [
             0.8,
             "#7fbc41"
            ],
            [
             0.9,
             "#4d9221"
            ],
            [
             1,
             "#276419"
            ]
           ],
           "sequential": [
            [
             0,
             "#0d0887"
            ],
            [
             0.1111111111111111,
             "#46039f"
            ],
            [
             0.2222222222222222,
             "#7201a8"
            ],
            [
             0.3333333333333333,
             "#9c179e"
            ],
            [
             0.4444444444444444,
             "#bd3786"
            ],
            [
             0.5555555555555556,
             "#d8576b"
            ],
            [
             0.6666666666666666,
             "#ed7953"
            ],
            [
             0.7777777777777778,
             "#fb9f3a"
            ],
            [
             0.8888888888888888,
             "#fdca26"
            ],
            [
             1,
             "#f0f921"
            ]
           ],
           "sequentialminus": [
            [
             0,
             "#0d0887"
            ],
            [
             0.1111111111111111,
             "#46039f"
            ],
            [
             0.2222222222222222,
             "#7201a8"
            ],
            [
             0.3333333333333333,
             "#9c179e"
            ],
            [
             0.4444444444444444,
             "#bd3786"
            ],
            [
             0.5555555555555556,
             "#d8576b"
            ],
            [
             0.6666666666666666,
             "#ed7953"
            ],
            [
             0.7777777777777778,
             "#fb9f3a"
            ],
            [
             0.8888888888888888,
             "#fdca26"
            ],
            [
             1,
             "#f0f921"
            ]
           ]
          },
          "colorway": [
           "#636efa",
           "#EF553B",
           "#00cc96",
           "#ab63fa",
           "#FFA15A",
           "#19d3f3",
           "#FF6692",
           "#B6E880",
           "#FF97FF",
           "#FECB52"
          ],
          "font": {
           "color": "#2a3f5f"
          },
          "geo": {
           "bgcolor": "white",
           "lakecolor": "white",
           "landcolor": "#E5ECF6",
           "showlakes": true,
           "showland": true,
           "subunitcolor": "white"
          },
          "hoverlabel": {
           "align": "left"
          },
          "hovermode": "closest",
          "mapbox": {
           "style": "light"
          },
          "paper_bgcolor": "white",
          "plot_bgcolor": "#E5ECF6",
          "polar": {
           "angularaxis": {
            "gridcolor": "white",
            "linecolor": "white",
            "ticks": ""
           },
           "bgcolor": "#E5ECF6",
           "radialaxis": {
            "gridcolor": "white",
            "linecolor": "white",
            "ticks": ""
           }
          },
          "scene": {
           "xaxis": {
            "backgroundcolor": "#E5ECF6",
            "gridcolor": "white",
            "gridwidth": 2,
            "linecolor": "white",
            "showbackground": true,
            "ticks": "",
            "zerolinecolor": "white"
           },
           "yaxis": {
            "backgroundcolor": "#E5ECF6",
            "gridcolor": "white",
            "gridwidth": 2,
            "linecolor": "white",
            "showbackground": true,
            "ticks": "",
            "zerolinecolor": "white"
           },
           "zaxis": {
            "backgroundcolor": "#E5ECF6",
            "gridcolor": "white",
            "gridwidth": 2,
            "linecolor": "white",
            "showbackground": true,
            "ticks": "",
            "zerolinecolor": "white"
           }
          },
          "shapedefaults": {
           "line": {
            "color": "#2a3f5f"
           }
          },
          "ternary": {
           "aaxis": {
            "gridcolor": "white",
            "linecolor": "white",
            "ticks": ""
           },
           "baxis": {
            "gridcolor": "white",
            "linecolor": "white",
            "ticks": ""
           },
           "bgcolor": "#E5ECF6",
           "caxis": {
            "gridcolor": "white",
            "linecolor": "white",
            "ticks": ""
           }
          },
          "title": {
           "x": 0.05
          },
          "xaxis": {
           "automargin": true,
           "gridcolor": "white",
           "linecolor": "white",
           "ticks": "",
           "title": {
            "standoff": 15
           },
           "zerolinecolor": "white",
           "zerolinewidth": 2
          },
          "yaxis": {
           "automargin": true,
           "gridcolor": "white",
           "linecolor": "white",
           "ticks": "",
           "title": {
            "standoff": 15
           },
           "zerolinecolor": "white",
           "zerolinewidth": 2
          }
         }
        },
        "xaxis": {
         "anchor": "y",
         "domain": [
          0,
          1
         ],
         "title": {
          "text": "param_knn__n_neighbors"
         }
        },
        "yaxis": {
         "anchor": "x",
         "domain": [
          0,
          1
         ],
         "title": {
          "text": "mean_test_score"
         }
        }
       }
      }
     },
     "metadata": {},
     "output_type": "display_data"
    }
   ],
   "source": [
    "figure = px.scatter(\n",
    "    df_cv_results_knn,\n",
    "    x='param_knn__n_neighbors',\n",
    "    y='mean_test_score',\n",
    ")\n",
    "\n",
    "figure.show()"
   ]
  },
  {
   "cell_type": "markdown",
   "metadata": {},
   "source": [
    "# Nested Cross Validation (Validação Cruzada Aninhada)"
   ]
  },
  {
   "cell_type": "markdown",
   "metadata": {},
   "source": [
    "## Nested Cross Validation - DecisionTreeClassifier"
   ]
  },
  {
   "cell_type": "code",
   "execution_count": 39,
   "metadata": {},
   "outputs": [],
   "source": [
    "inner_cv = StratifiedKFold(shuffle=True, random_state=42)\n",
    "\n",
    "outer_cv = StratifiedKFold(shuffle=True, random_state=42, n_splits=3)"
   ]
  },
  {
   "cell_type": "code",
   "execution_count": 40,
   "metadata": {},
   "outputs": [],
   "source": [
    "# Importando o cross_val_score, para a outer validation\n",
    "from sklearn.model_selection import cross_val_score\n",
    "\n",
    "# Inner validation do GridSearch para DecisionTreeClassifier\n",
    "dt_nested_gs = GridSearchCV(\n",
    "    estimator=DecisionTreeClassifier(random_state=42),\n",
    "    param_grid=param_grid_dt,\n",
    "    scoring='recall',\n",
    "    n_jobs=-1,\n",
    "    cv=inner_cv\n",
    ")\n",
    "\n",
    "dt_nested_scores = cross_val_score(\n",
    "    estimator=dt_nested_gs,\n",
    "    X=x_train,\n",
    "    y=y_train,\n",
    "    cv=outer_cv\n",
    ")"
   ]
  },
  {
   "cell_type": "code",
   "execution_count": 41,
   "metadata": {},
   "outputs": [
    {
     "name": "stdout",
     "output_type": "stream",
     "text": [
      "Resultado de cada iteração do cv externo: [0.23646724 0.24762808 0.20512821]\n",
      "Média: 0.2297411750289676\n"
     ]
    }
   ],
   "source": [
    "print(f'Resultado de cada iteração do cv externo: {dt_nested_scores}')\n",
    "print(f'Média: {dt_nested_scores.mean()}')"
   ]
  },
  {
   "cell_type": "markdown",
   "metadata": {},
   "source": [
    "## Nested Cross Validation - LogisticRegression"
   ]
  },
  {
   "cell_type": "code",
   "execution_count": 42,
   "metadata": {},
   "outputs": [],
   "source": [
    "# Inner validation do GridSearch para LogisticRegression\n",
    "\n",
    "lr_nested_gs = lr_grid_search = GridSearchCV(\n",
    "    estimator=make_pipeline(StandardScaler(), LogisticRegression()),\n",
    "    param_grid=param_grid_lr,\n",
    "    scoring='recall',\n",
    "    n_jobs=-1,\n",
    "    cv=inner_cv\n",
    ")\n",
    "\n",
    "lr_nested_score = cross_val_score(\n",
    "    estimator=lr_nested_gs,\n",
    "    X=x_train,\n",
    "    y=y_train,\n",
    "    cv=outer_cv\n",
    ")"
   ]
  },
  {
   "cell_type": "code",
   "execution_count": 43,
   "metadata": {},
   "outputs": [
    {
     "name": "stdout",
     "output_type": "stream",
     "text": [
      "Resultado de cada iteração do cv externo: [0.24691358 0.27703985 0.2374169 ]\n",
      "Média: 0.2537901108426093\n",
      "Melhores hiperpamâmtros: {'logisticregression__C': 0.001, 'logisticregression__max_iter': np.int64(100), 'logisticregression__penalty': 'l2', 'logisticregression__solver': 'liblinear'}\n"
     ]
    }
   ],
   "source": [
    "print(f'Resultado de cada iteração do cv externo: {lr_nested_score}')\n",
    "print(f'Média: {lr_nested_score.mean()}')\n",
    "\n",
    "lr_nested_gs.fit(x_train, y_train)\n",
    "print(f'Melhores hiperpamâmtros: {lr_nested_gs.best_params_}')"
   ]
  },
  {
   "cell_type": "markdown",
   "metadata": {},
   "source": [
    "# Randomized Search CV"
   ]
  },
  {
   "cell_type": "code",
   "execution_count": 44,
   "metadata": {},
   "outputs": [],
   "source": [
    "from sklearn.model_selection import RandomizedSearchCV"
   ]
  },
  {
   "cell_type": "markdown",
   "metadata": {},
   "source": [
    "## Decision Tree Classifier"
   ]
  },
  {
   "cell_type": "code",
   "execution_count": 45,
   "metadata": {},
   "outputs": [],
   "source": [
    "rs_dt = RandomizedSearchCV(\n",
    "    estimator=DecisionTreeClassifier(random_state=42),\n",
    "    param_distributions=param_grid_dt,\n",
    "    n_iter=100,\n",
    "    scoring=\"recall\",\n",
    "    n_jobs=-1,\n",
    "    cv=inner_cv,\n",
    "    random_state=42,\n",
    ")\n",
    "\n",
    "rs_dt_nested_scores = cross_val_score(rs_dt, x_train, y_train, cv=outer_cv)"
   ]
  },
  {
   "cell_type": "code",
   "execution_count": 46,
   "metadata": {},
   "outputs": [
    {
     "name": "stdout",
     "output_type": "stream",
     "text": [
      "Resultado de cada iteração do cv externo: [0.23646724 0.18975332 0.21272555]\n",
      "Média: 0.21298203440307595\n"
     ]
    }
   ],
   "source": [
    "print(f'Resultado de cada iteração do cv externo: {rs_dt_nested_scores}')\n",
    "print(f'Média: {rs_dt_nested_scores.mean()}')"
   ]
  },
  {
   "cell_type": "code",
   "execution_count": 47,
   "metadata": {},
   "outputs": [
    {
     "data": {
      "text/plain": [
       "{'splitter': 'best',\n",
       " 'min_samples_split': np.int64(5),\n",
       " 'min_samples_leaf': np.int64(15),\n",
       " 'max_features': 'sqrt',\n",
       " 'max_depth': np.int64(12),\n",
       " 'criterion': 'gini'}"
      ]
     },
     "execution_count": 47,
     "metadata": {},
     "output_type": "execute_result"
    }
   ],
   "source": [
    "rs_dt.fit(x_train, y_train)\n",
    "rs_dt.best_params_"
   ]
  },
  {
   "cell_type": "markdown",
   "metadata": {},
   "source": [
    "## LogisticRegression"
   ]
  },
  {
   "cell_type": "code",
   "execution_count": 48,
   "metadata": {},
   "outputs": [
    {
     "name": "stdout",
     "output_type": "stream",
     "text": [
      "Resultado de cada iteração do cv externo: [0.24691358 0.27703985 0.2374169 ]\n",
      "Média: 0.2537901108426093\n"
     ]
    }
   ],
   "source": [
    "rs_lr = RandomizedSearchCV(\n",
    "    estimator=make_pipeline(StandardScaler(), LogisticRegression()),\n",
    "    param_distributions=param_grid_lr,\n",
    "    n_iter=50,\n",
    "    scoring=\"recall\",\n",
    "    n_jobs=-1,\n",
    "    cv=inner_cv,\n",
    "    random_state=42,\n",
    ")\n",
    "\n",
    "rs_lr_nested_scores = cross_val_score(rs_lr, x_train, y_train, cv=outer_cv)\n",
    "\n",
    "print(f'Resultado de cada iteração do cv externo: {rs_lr_nested_scores}')\n",
    "print(f'Média: {rs_lr_nested_scores.mean()}')"
   ]
  },
  {
   "cell_type": "code",
   "execution_count": 49,
   "metadata": {},
   "outputs": [
    {
     "data": {
      "text/plain": [
       "{'logisticregression__solver': 'liblinear',\n",
       " 'logisticregression__penalty': 'l2',\n",
       " 'logisticregression__max_iter': np.int64(150),\n",
       " 'logisticregression__C': 0.001}"
      ]
     },
     "execution_count": 49,
     "metadata": {},
     "output_type": "execute_result"
    }
   ],
   "source": [
    "rs_lr.fit(x_train, y_train)\n",
    "rs_lr.best_params_"
   ]
  },
  {
   "cell_type": "code",
   "execution_count": 50,
   "metadata": {},
   "outputs": [],
   "source": [
    "### More"
   ]
  },
  {
   "cell_type": "code",
   "execution_count": 51,
   "metadata": {},
   "outputs": [],
   "source": [
    "# Número de tentativas aleatórias\n",
    "NUM_TRIALS = 30\n",
    "\n",
    "# Definindo a grade de hiperparâmetros\n",
    "p_grid = {\"max_depth\": [10, 20, 30, 40], \n",
    "          \"min_samples_split\": [2, 5, 10], \n",
    "          \"min_samples_leaf\": [1, 2, 4]}  \n",
    "\n",
    "dt_classifier = DecisionTreeClassifier(random_state=42)\n",
    "\n",
    "# Arrays para armazenar as pontuações.\n",
    "non_nested_scores = np.zeros(NUM_TRIALS)\n",
    "nested_scores = np.zeros(NUM_TRIALS)\n",
    "\n",
    "# Loop para cada tentativa\n",
    "for i in range(NUM_TRIALS):\n",
    "    inner_cv = StratifiedKFold(n_splits=4, shuffle=True, random_state=i)\n",
    "    outer_cv = StratifiedKFold(n_splits=4, shuffle=True, random_state=i)\n",
    "\n",
    "    # Pesquisa e pontuação de parâmetros não aninhados\n",
    "    clf = RandomizedSearchCV(estimator=dt_classifier, \n",
    "                             param_distributions=p_grid, \n",
    "                             cv=outer_cv, \n",
    "                             n_iter=18, \n",
    "                             random_state=i)\n",
    "    clf.fit(x_train, y_train)\n",
    "    non_nested_scores[i] = clf.best_score_\n",
    "\n",
    "    # CV aninhado com otimização de parâmetros\n",
    "    clf = RandomizedSearchCV(estimator=dt_classifier, \n",
    "                             param_distributions=p_grid, \n",
    "                             cv=inner_cv, \n",
    "                             n_iter=18, \n",
    "                             random_state=i)\n",
    "    nested_score = cross_val_score(clf, X=x_train, y=y_train, cv=outer_cv)\n",
    "    nested_scores[i] = nested_score.mean()"
   ]
  },
  {
   "cell_type": "code",
   "execution_count": 52,
   "metadata": {},
   "outputs": [
    {
     "data": {
      "application/vnd.plotly.v1+json": {
       "config": {
        "plotlyServerURL": "https://plot.ly"
       },
       "data": [
        {
         "hovertemplate": "Tipo de CV=Non-Nested CV Score<br>Tentativa Individual #=%{x}<br>Escore=%{y}<extra></extra>",
         "legendgroup": "Non-Nested CV Score",
         "line": {
          "color": "#636efa",
          "dash": "solid"
         },
         "marker": {
          "symbol": "circle"
         },
         "mode": "lines",
         "name": "Non-Nested CV Score",
         "orientation": "v",
         "showlegend": true,
         "type": "scatter",
         "x": [
          0,
          1,
          2,
          3,
          4,
          5,
          6,
          7,
          8,
          9,
          10,
          11,
          12,
          13,
          14,
          15,
          16,
          17,
          18,
          19,
          20,
          21,
          22,
          23,
          24,
          25,
          26,
          27,
          28,
          29
         ],
         "xaxis": "x",
         "y": [
          0.6711368643978229,
          0.6767691306814616,
          0.6731856246399466,
          0.6785092977227347,
          0.6764615859761292,
          0.6759484942094528,
          0.6758464965654642,
          0.6714450801402871,
          0.681888598777169,
          0.6791235902768061,
          0.6766670910976523,
          0.6753355437296444,
          0.6759489555474807,
          0.674413370951675,
          0.6754373316745296,
          0.6766666297596243,
          0.6756421657589212,
          0.6782020046563266,
          0.6797379667105189,
          0.6778950471084841,
          0.6747212511755731,
          0.6788162552705772,
          0.685267186854651,
          0.6723666657607665,
          0.6738001688329424,
          0.6781000908919794,
          0.674209459543339,
          0.6758476708804443,
          0.6786113792463648,
          0.6777927558857505
         ],
         "yaxis": "y"
        },
        {
         "hovertemplate": "Tipo de CV=Nested CV Score<br>Tentativa Individual #=%{x}<br>Escore=%{y}<extra></extra>",
         "legendgroup": "Nested CV Score",
         "line": {
          "color": "#EF553B",
          "dash": "solid"
         },
         "marker": {
          "symbol": "circle"
         },
         "mode": "lines",
         "name": "Nested CV Score",
         "orientation": "v",
         "showlegend": true,
         "type": "scatter",
         "x": [
          0,
          1,
          2,
          3,
          4,
          5,
          6,
          7,
          8,
          9,
          10,
          11,
          12,
          13,
          14,
          15,
          16,
          17,
          18,
          19,
          20,
          21,
          22,
          23,
          24,
          25,
          26,
          27,
          28,
          29
         ],
         "xaxis": "x",
         "y": [
          0.6687823209228371,
          0.6758477547600857,
          0.6722641228991086,
          0.6786115889454685,
          0.6769734614880047,
          0.6749244915467775,
          0.6748229971806375,
          0.6700118287070356,
          0.6798416000075156,
          0.6779975480303214,
          0.6769737970065705,
          0.6740043738200232,
          0.6753347049332301,
          0.6715464486869649,
          0.6746180792166044,
          0.6746187083139152,
          0.6763587914755469,
          0.6777926300662884,
          0.6792255459809742,
          0.6771784213918586,
          0.6720589113563304,
          0.6761537896318724,
          0.683731770018128,
          0.6724690408631415,
          0.6736977517907464,
          0.6770759204700214,
          0.6729804550369892,
          0.6765642965970701,
          0.6753349565721545,
          0.6779975060905008
         ],
         "yaxis": "y"
        }
       ],
       "layout": {
        "legend": {
         "title": {
          "text": "Tipo de CV"
         },
         "tracegroupgap": 0
        },
        "template": {
         "data": {
          "bar": [
           {
            "error_x": {
             "color": "#2a3f5f"
            },
            "error_y": {
             "color": "#2a3f5f"
            },
            "marker": {
             "line": {
              "color": "#E5ECF6",
              "width": 0.5
             },
             "pattern": {
              "fillmode": "overlay",
              "size": 10,
              "solidity": 0.2
             }
            },
            "type": "bar"
           }
          ],
          "barpolar": [
           {
            "marker": {
             "line": {
              "color": "#E5ECF6",
              "width": 0.5
             },
             "pattern": {
              "fillmode": "overlay",
              "size": 10,
              "solidity": 0.2
             }
            },
            "type": "barpolar"
           }
          ],
          "carpet": [
           {
            "aaxis": {
             "endlinecolor": "#2a3f5f",
             "gridcolor": "white",
             "linecolor": "white",
             "minorgridcolor": "white",
             "startlinecolor": "#2a3f5f"
            },
            "baxis": {
             "endlinecolor": "#2a3f5f",
             "gridcolor": "white",
             "linecolor": "white",
             "minorgridcolor": "white",
             "startlinecolor": "#2a3f5f"
            },
            "type": "carpet"
           }
          ],
          "choropleth": [
           {
            "colorbar": {
             "outlinewidth": 0,
             "ticks": ""
            },
            "type": "choropleth"
           }
          ],
          "contour": [
           {
            "colorbar": {
             "outlinewidth": 0,
             "ticks": ""
            },
            "colorscale": [
             [
              0,
              "#0d0887"
             ],
             [
              0.1111111111111111,
              "#46039f"
             ],
             [
              0.2222222222222222,
              "#7201a8"
             ],
             [
              0.3333333333333333,
              "#9c179e"
             ],
             [
              0.4444444444444444,
              "#bd3786"
             ],
             [
              0.5555555555555556,
              "#d8576b"
             ],
             [
              0.6666666666666666,
              "#ed7953"
             ],
             [
              0.7777777777777778,
              "#fb9f3a"
             ],
             [
              0.8888888888888888,
              "#fdca26"
             ],
             [
              1,
              "#f0f921"
             ]
            ],
            "type": "contour"
           }
          ],
          "contourcarpet": [
           {
            "colorbar": {
             "outlinewidth": 0,
             "ticks": ""
            },
            "type": "contourcarpet"
           }
          ],
          "heatmap": [
           {
            "colorbar": {
             "outlinewidth": 0,
             "ticks": ""
            },
            "colorscale": [
             [
              0,
              "#0d0887"
             ],
             [
              0.1111111111111111,
              "#46039f"
             ],
             [
              0.2222222222222222,
              "#7201a8"
             ],
             [
              0.3333333333333333,
              "#9c179e"
             ],
             [
              0.4444444444444444,
              "#bd3786"
             ],
             [
              0.5555555555555556,
              "#d8576b"
             ],
             [
              0.6666666666666666,
              "#ed7953"
             ],
             [
              0.7777777777777778,
              "#fb9f3a"
             ],
             [
              0.8888888888888888,
              "#fdca26"
             ],
             [
              1,
              "#f0f921"
             ]
            ],
            "type": "heatmap"
           }
          ],
          "heatmapgl": [
           {
            "colorbar": {
             "outlinewidth": 0,
             "ticks": ""
            },
            "colorscale": [
             [
              0,
              "#0d0887"
             ],
             [
              0.1111111111111111,
              "#46039f"
             ],
             [
              0.2222222222222222,
              "#7201a8"
             ],
             [
              0.3333333333333333,
              "#9c179e"
             ],
             [
              0.4444444444444444,
              "#bd3786"
             ],
             [
              0.5555555555555556,
              "#d8576b"
             ],
             [
              0.6666666666666666,
              "#ed7953"
             ],
             [
              0.7777777777777778,
              "#fb9f3a"
             ],
             [
              0.8888888888888888,
              "#fdca26"
             ],
             [
              1,
              "#f0f921"
             ]
            ],
            "type": "heatmapgl"
           }
          ],
          "histogram": [
           {
            "marker": {
             "pattern": {
              "fillmode": "overlay",
              "size": 10,
              "solidity": 0.2
             }
            },
            "type": "histogram"
           }
          ],
          "histogram2d": [
           {
            "colorbar": {
             "outlinewidth": 0,
             "ticks": ""
            },
            "colorscale": [
             [
              0,
              "#0d0887"
             ],
             [
              0.1111111111111111,
              "#46039f"
             ],
             [
              0.2222222222222222,
              "#7201a8"
             ],
             [
              0.3333333333333333,
              "#9c179e"
             ],
             [
              0.4444444444444444,
              "#bd3786"
             ],
             [
              0.5555555555555556,
              "#d8576b"
             ],
             [
              0.6666666666666666,
              "#ed7953"
             ],
             [
              0.7777777777777778,
              "#fb9f3a"
             ],
             [
              0.8888888888888888,
              "#fdca26"
             ],
             [
              1,
              "#f0f921"
             ]
            ],
            "type": "histogram2d"
           }
          ],
          "histogram2dcontour": [
           {
            "colorbar": {
             "outlinewidth": 0,
             "ticks": ""
            },
            "colorscale": [
             [
              0,
              "#0d0887"
             ],
             [
              0.1111111111111111,
              "#46039f"
             ],
             [
              0.2222222222222222,
              "#7201a8"
             ],
             [
              0.3333333333333333,
              "#9c179e"
             ],
             [
              0.4444444444444444,
              "#bd3786"
             ],
             [
              0.5555555555555556,
              "#d8576b"
             ],
             [
              0.6666666666666666,
              "#ed7953"
             ],
             [
              0.7777777777777778,
              "#fb9f3a"
             ],
             [
              0.8888888888888888,
              "#fdca26"
             ],
             [
              1,
              "#f0f921"
             ]
            ],
            "type": "histogram2dcontour"
           }
          ],
          "mesh3d": [
           {
            "colorbar": {
             "outlinewidth": 0,
             "ticks": ""
            },
            "type": "mesh3d"
           }
          ],
          "parcoords": [
           {
            "line": {
             "colorbar": {
              "outlinewidth": 0,
              "ticks": ""
             }
            },
            "type": "parcoords"
           }
          ],
          "pie": [
           {
            "automargin": true,
            "type": "pie"
           }
          ],
          "scatter": [
           {
            "fillpattern": {
             "fillmode": "overlay",
             "size": 10,
             "solidity": 0.2
            },
            "type": "scatter"
           }
          ],
          "scatter3d": [
           {
            "line": {
             "colorbar": {
              "outlinewidth": 0,
              "ticks": ""
             }
            },
            "marker": {
             "colorbar": {
              "outlinewidth": 0,
              "ticks": ""
             }
            },
            "type": "scatter3d"
           }
          ],
          "scattercarpet": [
           {
            "marker": {
             "colorbar": {
              "outlinewidth": 0,
              "ticks": ""
             }
            },
            "type": "scattercarpet"
           }
          ],
          "scattergeo": [
           {
            "marker": {
             "colorbar": {
              "outlinewidth": 0,
              "ticks": ""
             }
            },
            "type": "scattergeo"
           }
          ],
          "scattergl": [
           {
            "marker": {
             "colorbar": {
              "outlinewidth": 0,
              "ticks": ""
             }
            },
            "type": "scattergl"
           }
          ],
          "scattermapbox": [
           {
            "marker": {
             "colorbar": {
              "outlinewidth": 0,
              "ticks": ""
             }
            },
            "type": "scattermapbox"
           }
          ],
          "scatterpolar": [
           {
            "marker": {
             "colorbar": {
              "outlinewidth": 0,
              "ticks": ""
             }
            },
            "type": "scatterpolar"
           }
          ],
          "scatterpolargl": [
           {
            "marker": {
             "colorbar": {
              "outlinewidth": 0,
              "ticks": ""
             }
            },
            "type": "scatterpolargl"
           }
          ],
          "scatterternary": [
           {
            "marker": {
             "colorbar": {
              "outlinewidth": 0,
              "ticks": ""
             }
            },
            "type": "scatterternary"
           }
          ],
          "surface": [
           {
            "colorbar": {
             "outlinewidth": 0,
             "ticks": ""
            },
            "colorscale": [
             [
              0,
              "#0d0887"
             ],
             [
              0.1111111111111111,
              "#46039f"
             ],
             [
              0.2222222222222222,
              "#7201a8"
             ],
             [
              0.3333333333333333,
              "#9c179e"
             ],
             [
              0.4444444444444444,
              "#bd3786"
             ],
             [
              0.5555555555555556,
              "#d8576b"
             ],
             [
              0.6666666666666666,
              "#ed7953"
             ],
             [
              0.7777777777777778,
              "#fb9f3a"
             ],
             [
              0.8888888888888888,
              "#fdca26"
             ],
             [
              1,
              "#f0f921"
             ]
            ],
            "type": "surface"
           }
          ],
          "table": [
           {
            "cells": {
             "fill": {
              "color": "#EBF0F8"
             },
             "line": {
              "color": "white"
             }
            },
            "header": {
             "fill": {
              "color": "#C8D4E3"
             },
             "line": {
              "color": "white"
             }
            },
            "type": "table"
           }
          ]
         },
         "layout": {
          "annotationdefaults": {
           "arrowcolor": "#2a3f5f",
           "arrowhead": 0,
           "arrowwidth": 1
          },
          "autotypenumbers": "strict",
          "coloraxis": {
           "colorbar": {
            "outlinewidth": 0,
            "ticks": ""
           }
          },
          "colorscale": {
           "diverging": [
            [
             0,
             "#8e0152"
            ],
            [
             0.1,
             "#c51b7d"
            ],
            [
             0.2,
             "#de77ae"
            ],
            [
             0.3,
             "#f1b6da"
            ],
            [
             0.4,
             "#fde0ef"
            ],
            [
             0.5,
             "#f7f7f7"
            ],
            [
             0.6,
             "#e6f5d0"
            ],
            [
             0.7,
             "#b8e186"
            ],
            [
             0.8,
             "#7fbc41"
            ],
            [
             0.9,
             "#4d9221"
            ],
            [
             1,
             "#276419"
            ]
           ],
           "sequential": [
            [
             0,
             "#0d0887"
            ],
            [
             0.1111111111111111,
             "#46039f"
            ],
            [
             0.2222222222222222,
             "#7201a8"
            ],
            [
             0.3333333333333333,
             "#9c179e"
            ],
            [
             0.4444444444444444,
             "#bd3786"
            ],
            [
             0.5555555555555556,
             "#d8576b"
            ],
            [
             0.6666666666666666,
             "#ed7953"
            ],
            [
             0.7777777777777778,
             "#fb9f3a"
            ],
            [
             0.8888888888888888,
             "#fdca26"
            ],
            [
             1,
             "#f0f921"
            ]
           ],
           "sequentialminus": [
            [
             0,
             "#0d0887"
            ],
            [
             0.1111111111111111,
             "#46039f"
            ],
            [
             0.2222222222222222,
             "#7201a8"
            ],
            [
             0.3333333333333333,
             "#9c179e"
            ],
            [
             0.4444444444444444,
             "#bd3786"
            ],
            [
             0.5555555555555556,
             "#d8576b"
            ],
            [
             0.6666666666666666,
             "#ed7953"
            ],
            [
             0.7777777777777778,
             "#fb9f3a"
            ],
            [
             0.8888888888888888,
             "#fdca26"
            ],
            [
             1,
             "#f0f921"
            ]
           ]
          },
          "colorway": [
           "#636efa",
           "#EF553B",
           "#00cc96",
           "#ab63fa",
           "#FFA15A",
           "#19d3f3",
           "#FF6692",
           "#B6E880",
           "#FF97FF",
           "#FECB52"
          ],
          "font": {
           "color": "#2a3f5f"
          },
          "geo": {
           "bgcolor": "white",
           "lakecolor": "white",
           "landcolor": "#E5ECF6",
           "showlakes": true,
           "showland": true,
           "subunitcolor": "white"
          },
          "hoverlabel": {
           "align": "left"
          },
          "hovermode": "closest",
          "mapbox": {
           "style": "light"
          },
          "paper_bgcolor": "white",
          "plot_bgcolor": "#E5ECF6",
          "polar": {
           "angularaxis": {
            "gridcolor": "white",
            "linecolor": "white",
            "ticks": ""
           },
           "bgcolor": "#E5ECF6",
           "radialaxis": {
            "gridcolor": "white",
            "linecolor": "white",
            "ticks": ""
           }
          },
          "scene": {
           "xaxis": {
            "backgroundcolor": "#E5ECF6",
            "gridcolor": "white",
            "gridwidth": 2,
            "linecolor": "white",
            "showbackground": true,
            "ticks": "",
            "zerolinecolor": "white"
           },
           "yaxis": {
            "backgroundcolor": "#E5ECF6",
            "gridcolor": "white",
            "gridwidth": 2,
            "linecolor": "white",
            "showbackground": true,
            "ticks": "",
            "zerolinecolor": "white"
           },
           "zaxis": {
            "backgroundcolor": "#E5ECF6",
            "gridcolor": "white",
            "gridwidth": 2,
            "linecolor": "white",
            "showbackground": true,
            "ticks": "",
            "zerolinecolor": "white"
           }
          },
          "shapedefaults": {
           "line": {
            "color": "#2a3f5f"
           }
          },
          "ternary": {
           "aaxis": {
            "gridcolor": "white",
            "linecolor": "white",
            "ticks": ""
           },
           "baxis": {
            "gridcolor": "white",
            "linecolor": "white",
            "ticks": ""
           },
           "bgcolor": "#E5ECF6",
           "caxis": {
            "gridcolor": "white",
            "linecolor": "white",
            "ticks": ""
           }
          },
          "title": {
           "x": 0.05
          },
          "xaxis": {
           "automargin": true,
           "gridcolor": "white",
           "linecolor": "white",
           "ticks": "",
           "title": {
            "standoff": 15
           },
           "zerolinecolor": "white",
           "zerolinewidth": 2
          },
          "yaxis": {
           "automargin": true,
           "gridcolor": "white",
           "linecolor": "white",
           "ticks": "",
           "title": {
            "standoff": 15
           },
           "zerolinecolor": "white",
           "zerolinewidth": 2
          }
         }
        },
        "title": {
         "text": "Validação Cruzada Não Aninhada e Aninhada"
        },
        "xaxis": {
         "anchor": "y",
         "domain": [
          0,
          1
         ],
         "title": {
          "text": "Tentativa Individual #"
         }
        },
        "yaxis": {
         "anchor": "x",
         "domain": [
          0,
          1
         ],
         "title": {
          "text": "Escore"
         }
        }
       }
      }
     },
     "metadata": {},
     "output_type": "display_data"
    },
    {
     "data": {
      "application/vnd.plotly.v1+json": {
       "config": {
        "plotlyServerURL": "https://plot.ly"
       },
       "data": [
        {
         "alignmentgroup": "True",
         "hovertemplate": "Tentativa Individual #=%{x}<br>diferença de escores=%{y}<extra></extra>",
         "legendgroup": "",
         "marker": {
          "color": "#636efa",
          "pattern": {
           "shape": ""
          }
         },
         "name": "",
         "offsetgroup": "",
         "orientation": "v",
         "showlegend": false,
         "textposition": "auto",
         "type": "bar",
         "x": [
          0,
          1,
          2,
          3,
          4,
          5,
          6,
          7,
          8,
          9,
          10,
          11,
          12,
          13,
          14,
          15,
          16,
          17,
          18,
          19,
          20,
          21,
          22,
          23,
          24,
          25,
          26,
          27,
          28,
          29
         ],
         "xaxis": "x",
         "y": [
          0.0023545434749858707,
          0.0009213759213758665,
          0.0009215017408379378,
          -0.00010229122273375246,
          -0.0005118755118755924,
          0.0010240026626753274,
          0.0010234993848267093,
          0.00143325143325157,
          0.0020469987696534186,
          0.0011260422464847153,
          -0.00030670590891812566,
          0.0013311699096212326,
          0.0006142506142505777,
          0.002866922264710081,
          0.0008192524579251348,
          0.002047921445709089,
          -0.000716625716625674,
          0.00040937459003820287,
          0.0005124207295447158,
          0.000716625716625563,
          0.0026623398192426873,
          0.0026624656387047585,
          0.0015354168365230292,
          -0.00010237510237498526,
          0.00010241704219593473,
          0.001024170421958015,
          0.0012290045063497734,
          -0.000716625716625785,
          0.0032764226742103553,
          -0.0002047502047503036
         ],
         "yaxis": "y"
        }
       ],
       "layout": {
        "barmode": "relative",
        "legend": {
         "tracegroupgap": 0
        },
        "template": {
         "data": {
          "bar": [
           {
            "error_x": {
             "color": "#2a3f5f"
            },
            "error_y": {
             "color": "#2a3f5f"
            },
            "marker": {
             "line": {
              "color": "#E5ECF6",
              "width": 0.5
             },
             "pattern": {
              "fillmode": "overlay",
              "size": 10,
              "solidity": 0.2
             }
            },
            "type": "bar"
           }
          ],
          "barpolar": [
           {
            "marker": {
             "line": {
              "color": "#E5ECF6",
              "width": 0.5
             },
             "pattern": {
              "fillmode": "overlay",
              "size": 10,
              "solidity": 0.2
             }
            },
            "type": "barpolar"
           }
          ],
          "carpet": [
           {
            "aaxis": {
             "endlinecolor": "#2a3f5f",
             "gridcolor": "white",
             "linecolor": "white",
             "minorgridcolor": "white",
             "startlinecolor": "#2a3f5f"
            },
            "baxis": {
             "endlinecolor": "#2a3f5f",
             "gridcolor": "white",
             "linecolor": "white",
             "minorgridcolor": "white",
             "startlinecolor": "#2a3f5f"
            },
            "type": "carpet"
           }
          ],
          "choropleth": [
           {
            "colorbar": {
             "outlinewidth": 0,
             "ticks": ""
            },
            "type": "choropleth"
           }
          ],
          "contour": [
           {
            "colorbar": {
             "outlinewidth": 0,
             "ticks": ""
            },
            "colorscale": [
             [
              0,
              "#0d0887"
             ],
             [
              0.1111111111111111,
              "#46039f"
             ],
             [
              0.2222222222222222,
              "#7201a8"
             ],
             [
              0.3333333333333333,
              "#9c179e"
             ],
             [
              0.4444444444444444,
              "#bd3786"
             ],
             [
              0.5555555555555556,
              "#d8576b"
             ],
             [
              0.6666666666666666,
              "#ed7953"
             ],
             [
              0.7777777777777778,
              "#fb9f3a"
             ],
             [
              0.8888888888888888,
              "#fdca26"
             ],
             [
              1,
              "#f0f921"
             ]
            ],
            "type": "contour"
           }
          ],
          "contourcarpet": [
           {
            "colorbar": {
             "outlinewidth": 0,
             "ticks": ""
            },
            "type": "contourcarpet"
           }
          ],
          "heatmap": [
           {
            "colorbar": {
             "outlinewidth": 0,
             "ticks": ""
            },
            "colorscale": [
             [
              0,
              "#0d0887"
             ],
             [
              0.1111111111111111,
              "#46039f"
             ],
             [
              0.2222222222222222,
              "#7201a8"
             ],
             [
              0.3333333333333333,
              "#9c179e"
             ],
             [
              0.4444444444444444,
              "#bd3786"
             ],
             [
              0.5555555555555556,
              "#d8576b"
             ],
             [
              0.6666666666666666,
              "#ed7953"
             ],
             [
              0.7777777777777778,
              "#fb9f3a"
             ],
             [
              0.8888888888888888,
              "#fdca26"
             ],
             [
              1,
              "#f0f921"
             ]
            ],
            "type": "heatmap"
           }
          ],
          "heatmapgl": [
           {
            "colorbar": {
             "outlinewidth": 0,
             "ticks": ""
            },
            "colorscale": [
             [
              0,
              "#0d0887"
             ],
             [
              0.1111111111111111,
              "#46039f"
             ],
             [
              0.2222222222222222,
              "#7201a8"
             ],
             [
              0.3333333333333333,
              "#9c179e"
             ],
             [
              0.4444444444444444,
              "#bd3786"
             ],
             [
              0.5555555555555556,
              "#d8576b"
             ],
             [
              0.6666666666666666,
              "#ed7953"
             ],
             [
              0.7777777777777778,
              "#fb9f3a"
             ],
             [
              0.8888888888888888,
              "#fdca26"
             ],
             [
              1,
              "#f0f921"
             ]
            ],
            "type": "heatmapgl"
           }
          ],
          "histogram": [
           {
            "marker": {
             "pattern": {
              "fillmode": "overlay",
              "size": 10,
              "solidity": 0.2
             }
            },
            "type": "histogram"
           }
          ],
          "histogram2d": [
           {
            "colorbar": {
             "outlinewidth": 0,
             "ticks": ""
            },
            "colorscale": [
             [
              0,
              "#0d0887"
             ],
             [
              0.1111111111111111,
              "#46039f"
             ],
             [
              0.2222222222222222,
              "#7201a8"
             ],
             [
              0.3333333333333333,
              "#9c179e"
             ],
             [
              0.4444444444444444,
              "#bd3786"
             ],
             [
              0.5555555555555556,
              "#d8576b"
             ],
             [
              0.6666666666666666,
              "#ed7953"
             ],
             [
              0.7777777777777778,
              "#fb9f3a"
             ],
             [
              0.8888888888888888,
              "#fdca26"
             ],
             [
              1,
              "#f0f921"
             ]
            ],
            "type": "histogram2d"
           }
          ],
          "histogram2dcontour": [
           {
            "colorbar": {
             "outlinewidth": 0,
             "ticks": ""
            },
            "colorscale": [
             [
              0,
              "#0d0887"
             ],
             [
              0.1111111111111111,
              "#46039f"
             ],
             [
              0.2222222222222222,
              "#7201a8"
             ],
             [
              0.3333333333333333,
              "#9c179e"
             ],
             [
              0.4444444444444444,
              "#bd3786"
             ],
             [
              0.5555555555555556,
              "#d8576b"
             ],
             [
              0.6666666666666666,
              "#ed7953"
             ],
             [
              0.7777777777777778,
              "#fb9f3a"
             ],
             [
              0.8888888888888888,
              "#fdca26"
             ],
             [
              1,
              "#f0f921"
             ]
            ],
            "type": "histogram2dcontour"
           }
          ],
          "mesh3d": [
           {
            "colorbar": {
             "outlinewidth": 0,
             "ticks": ""
            },
            "type": "mesh3d"
           }
          ],
          "parcoords": [
           {
            "line": {
             "colorbar": {
              "outlinewidth": 0,
              "ticks": ""
             }
            },
            "type": "parcoords"
           }
          ],
          "pie": [
           {
            "automargin": true,
            "type": "pie"
           }
          ],
          "scatter": [
           {
            "fillpattern": {
             "fillmode": "overlay",
             "size": 10,
             "solidity": 0.2
            },
            "type": "scatter"
           }
          ],
          "scatter3d": [
           {
            "line": {
             "colorbar": {
              "outlinewidth": 0,
              "ticks": ""
             }
            },
            "marker": {
             "colorbar": {
              "outlinewidth": 0,
              "ticks": ""
             }
            },
            "type": "scatter3d"
           }
          ],
          "scattercarpet": [
           {
            "marker": {
             "colorbar": {
              "outlinewidth": 0,
              "ticks": ""
             }
            },
            "type": "scattercarpet"
           }
          ],
          "scattergeo": [
           {
            "marker": {
             "colorbar": {
              "outlinewidth": 0,
              "ticks": ""
             }
            },
            "type": "scattergeo"
           }
          ],
          "scattergl": [
           {
            "marker": {
             "colorbar": {
              "outlinewidth": 0,
              "ticks": ""
             }
            },
            "type": "scattergl"
           }
          ],
          "scattermapbox": [
           {
            "marker": {
             "colorbar": {
              "outlinewidth": 0,
              "ticks": ""
             }
            },
            "type": "scattermapbox"
           }
          ],
          "scatterpolar": [
           {
            "marker": {
             "colorbar": {
              "outlinewidth": 0,
              "ticks": ""
             }
            },
            "type": "scatterpolar"
           }
          ],
          "scatterpolargl": [
           {
            "marker": {
             "colorbar": {
              "outlinewidth": 0,
              "ticks": ""
             }
            },
            "type": "scatterpolargl"
           }
          ],
          "scatterternary": [
           {
            "marker": {
             "colorbar": {
              "outlinewidth": 0,
              "ticks": ""
             }
            },
            "type": "scatterternary"
           }
          ],
          "surface": [
           {
            "colorbar": {
             "outlinewidth": 0,
             "ticks": ""
            },
            "colorscale": [
             [
              0,
              "#0d0887"
             ],
             [
              0.1111111111111111,
              "#46039f"
             ],
             [
              0.2222222222222222,
              "#7201a8"
             ],
             [
              0.3333333333333333,
              "#9c179e"
             ],
             [
              0.4444444444444444,
              "#bd3786"
             ],
             [
              0.5555555555555556,
              "#d8576b"
             ],
             [
              0.6666666666666666,
              "#ed7953"
             ],
             [
              0.7777777777777778,
              "#fb9f3a"
             ],
             [
              0.8888888888888888,
              "#fdca26"
             ],
             [
              1,
              "#f0f921"
             ]
            ],
            "type": "surface"
           }
          ],
          "table": [
           {
            "cells": {
             "fill": {
              "color": "#EBF0F8"
             },
             "line": {
              "color": "white"
             }
            },
            "header": {
             "fill": {
              "color": "#C8D4E3"
             },
             "line": {
              "color": "white"
             }
            },
            "type": "table"
           }
          ]
         },
         "layout": {
          "annotationdefaults": {
           "arrowcolor": "#2a3f5f",
           "arrowhead": 0,
           "arrowwidth": 1
          },
          "autotypenumbers": "strict",
          "coloraxis": {
           "colorbar": {
            "outlinewidth": 0,
            "ticks": ""
           }
          },
          "colorscale": {
           "diverging": [
            [
             0,
             "#8e0152"
            ],
            [
             0.1,
             "#c51b7d"
            ],
            [
             0.2,
             "#de77ae"
            ],
            [
             0.3,
             "#f1b6da"
            ],
            [
             0.4,
             "#fde0ef"
            ],
            [
             0.5,
             "#f7f7f7"
            ],
            [
             0.6,
             "#e6f5d0"
            ],
            [
             0.7,
             "#b8e186"
            ],
            [
             0.8,
             "#7fbc41"
            ],
            [
             0.9,
             "#4d9221"
            ],
            [
             1,
             "#276419"
            ]
           ],
           "sequential": [
            [
             0,
             "#0d0887"
            ],
            [
             0.1111111111111111,
             "#46039f"
            ],
            [
             0.2222222222222222,
             "#7201a8"
            ],
            [
             0.3333333333333333,
             "#9c179e"
            ],
            [
             0.4444444444444444,
             "#bd3786"
            ],
            [
             0.5555555555555556,
             "#d8576b"
            ],
            [
             0.6666666666666666,
             "#ed7953"
            ],
            [
             0.7777777777777778,
             "#fb9f3a"
            ],
            [
             0.8888888888888888,
             "#fdca26"
            ],
            [
             1,
             "#f0f921"
            ]
           ],
           "sequentialminus": [
            [
             0,
             "#0d0887"
            ],
            [
             0.1111111111111111,
             "#46039f"
            ],
            [
             0.2222222222222222,
             "#7201a8"
            ],
            [
             0.3333333333333333,
             "#9c179e"
            ],
            [
             0.4444444444444444,
             "#bd3786"
            ],
            [
             0.5555555555555556,
             "#d8576b"
            ],
            [
             0.6666666666666666,
             "#ed7953"
            ],
            [
             0.7777777777777778,
             "#fb9f3a"
            ],
            [
             0.8888888888888888,
             "#fdca26"
            ],
            [
             1,
             "#f0f921"
            ]
           ]
          },
          "colorway": [
           "#636efa",
           "#EF553B",
           "#00cc96",
           "#ab63fa",
           "#FFA15A",
           "#19d3f3",
           "#FF6692",
           "#B6E880",
           "#FF97FF",
           "#FECB52"
          ],
          "font": {
           "color": "#2a3f5f"
          },
          "geo": {
           "bgcolor": "white",
           "lakecolor": "white",
           "landcolor": "#E5ECF6",
           "showlakes": true,
           "showland": true,
           "subunitcolor": "white"
          },
          "hoverlabel": {
           "align": "left"
          },
          "hovermode": "closest",
          "mapbox": {
           "style": "light"
          },
          "paper_bgcolor": "white",
          "plot_bgcolor": "#E5ECF6",
          "polar": {
           "angularaxis": {
            "gridcolor": "white",
            "linecolor": "white",
            "ticks": ""
           },
           "bgcolor": "#E5ECF6",
           "radialaxis": {
            "gridcolor": "white",
            "linecolor": "white",
            "ticks": ""
           }
          },
          "scene": {
           "xaxis": {
            "backgroundcolor": "#E5ECF6",
            "gridcolor": "white",
            "gridwidth": 2,
            "linecolor": "white",
            "showbackground": true,
            "ticks": "",
            "zerolinecolor": "white"
           },
           "yaxis": {
            "backgroundcolor": "#E5ECF6",
            "gridcolor": "white",
            "gridwidth": 2,
            "linecolor": "white",
            "showbackground": true,
            "ticks": "",
            "zerolinecolor": "white"
           },
           "zaxis": {
            "backgroundcolor": "#E5ECF6",
            "gridcolor": "white",
            "gridwidth": 2,
            "linecolor": "white",
            "showbackground": true,
            "ticks": "",
            "zerolinecolor": "white"
           }
          },
          "shapedefaults": {
           "line": {
            "color": "#2a3f5f"
           }
          },
          "ternary": {
           "aaxis": {
            "gridcolor": "white",
            "linecolor": "white",
            "ticks": ""
           },
           "baxis": {
            "gridcolor": "white",
            "linecolor": "white",
            "ticks": ""
           },
           "bgcolor": "#E5ECF6",
           "caxis": {
            "gridcolor": "white",
            "linecolor": "white",
            "ticks": ""
           }
          },
          "title": {
           "x": 0.05
          },
          "xaxis": {
           "automargin": true,
           "gridcolor": "white",
           "linecolor": "white",
           "ticks": "",
           "title": {
            "standoff": 15
           },
           "zerolinecolor": "white",
           "zerolinewidth": 2
          },
          "yaxis": {
           "automargin": true,
           "gridcolor": "white",
           "linecolor": "white",
           "ticks": "",
           "title": {
            "standoff": 15
           },
           "zerolinecolor": "white",
           "zerolinewidth": 2
          }
         }
        },
        "title": {
         "text": "Diferença de Escores entre CV Não Aninhado e Aninhado"
        },
        "xaxis": {
         "anchor": "y",
         "domain": [
          0,
          1
         ],
         "title": {
          "text": "Tentativa Individual #"
         }
        },
        "yaxis": {
         "anchor": "x",
         "domain": [
          0,
          1
         ],
         "title": {
          "text": "diferença de escores"
         }
        }
       }
      }
     },
     "metadata": {},
     "output_type": "display_data"
    }
   ],
   "source": [
    "score_difference = non_nested_scores - nested_scores\n",
    "\n",
    "# Cria um DataFrame para armazenar os escores\n",
    "df = pd.DataFrame({\n",
    "    'Trial': range(NUM_TRIALS),\n",
    "    'Non-Nested CV Score': non_nested_scores,\n",
    "    'Nested CV Score': nested_scores,\n",
    "    'Score Difference': score_difference\n",
    "})\n",
    "\n",
    "# Cria um gráfico de linha para os escores de CV aninhados e não aninhados\n",
    "fig = px.line(df, x='Trial', y=['Non-Nested CV Score', 'Nested CV Score'],\n",
    "                 labels={'value': 'Escore', 'variable': 'Tipo de CV', 'Trial': 'Tentativa Individual #'},\n",
    "               title='Validação Cruzada Não Aninhada e Aninhada')\n",
    "fig.show()\n",
    "\n",
    "# Cria um gráfico de barras para a diferença de scores\n",
    "fig = px.bar(df, x='Trial', y='Score Difference',\n",
    "             labels={'Score Difference': 'diferença de escores', 'Trial': 'Tentativa Individual #'},\n",
    "             title='Diferença de Escores entre CV Não Aninhado e Aninhado')\n",
    "fig.show()"
   ]
  },
  {
   "cell_type": "markdown",
   "metadata": {},
   "source": [
    "# Otimização Bayesiana"
   ]
  },
  {
   "cell_type": "markdown",
   "metadata": {},
   "source": [
    "## DecisionTreeClassifier"
   ]
  },
  {
   "cell_type": "code",
   "execution_count": 53,
   "metadata": {},
   "outputs": [],
   "source": [
    "from skopt.space import Real, Integer, Categorical\n",
    "\n",
    "space_dt = {\n",
    "    'criterion': Categorical(['gini', 'entropy']),\n",
    "    'max_depth': Integer(6, 12),\n",
    "    'min_samples_split': Integer(5, 20),\n",
    "    'min_samples_leaf': Integer(5, 20),\n",
    "    'max_features': Categorical(['sqrt', 'log2']),\n",
    "    'splitter': Categorical(['best', 'random'])\n",
    "}"
   ]
  },
  {
   "cell_type": "code",
   "execution_count": 54,
   "metadata": {},
   "outputs": [],
   "source": [
    "from skopt import BayesSearchCV"
   ]
  },
  {
   "cell_type": "code",
   "execution_count": 55,
   "metadata": {},
   "outputs": [
    {
     "name": "stderr",
     "output_type": "stream",
     "text": [
      "c:\\Users\\enama\\AppData\\Local\\Programs\\Python\\Python312\\Lib\\site-packages\\numpy\\ma\\core.py:2881: RuntimeWarning:\n",
      "\n",
      "invalid value encountered in cast\n",
      "\n",
      "c:\\Users\\enama\\AppData\\Local\\Programs\\Python\\Python312\\Lib\\site-packages\\numpy\\ma\\core.py:2881: RuntimeWarning:\n",
      "\n",
      "invalid value encountered in cast\n",
      "\n",
      "c:\\Users\\enama\\AppData\\Local\\Programs\\Python\\Python312\\Lib\\site-packages\\numpy\\ma\\core.py:2881: RuntimeWarning:\n",
      "\n",
      "invalid value encountered in cast\n",
      "\n",
      "c:\\Users\\enama\\AppData\\Local\\Programs\\Python\\Python312\\Lib\\site-packages\\skopt\\optimizer\\optimizer.py:517: UserWarning:\n",
      "\n",
      "The objective has been evaluated at point [np.str_('gini'), np.int64(12), np.str_('log2'), np.int64(5), np.int64(5), np.str_('best')] before, using random point ['gini', np.int64(11), 'log2', np.int64(8), np.int64(11), 'random']\n",
      "\n",
      "c:\\Users\\enama\\AppData\\Local\\Programs\\Python\\Python312\\Lib\\site-packages\\numpy\\ma\\core.py:2881: RuntimeWarning:\n",
      "\n",
      "invalid value encountered in cast\n",
      "\n",
      "c:\\Users\\enama\\AppData\\Local\\Programs\\Python\\Python312\\Lib\\site-packages\\numpy\\ma\\core.py:2881: RuntimeWarning:\n",
      "\n",
      "invalid value encountered in cast\n",
      "\n",
      "c:\\Users\\enama\\AppData\\Local\\Programs\\Python\\Python312\\Lib\\site-packages\\numpy\\ma\\core.py:2881: RuntimeWarning:\n",
      "\n",
      "invalid value encountered in cast\n",
      "\n",
      "c:\\Users\\enama\\AppData\\Local\\Programs\\Python\\Python312\\Lib\\site-packages\\numpy\\ma\\core.py:2881: RuntimeWarning:\n",
      "\n",
      "invalid value encountered in cast\n",
      "\n",
      "c:\\Users\\enama\\AppData\\Local\\Programs\\Python\\Python312\\Lib\\site-packages\\numpy\\ma\\core.py:2881: RuntimeWarning:\n",
      "\n",
      "invalid value encountered in cast\n",
      "\n",
      "c:\\Users\\enama\\AppData\\Local\\Programs\\Python\\Python312\\Lib\\site-packages\\numpy\\ma\\core.py:2881: RuntimeWarning:\n",
      "\n",
      "invalid value encountered in cast\n",
      "\n",
      "c:\\Users\\enama\\AppData\\Local\\Programs\\Python\\Python312\\Lib\\site-packages\\skopt\\optimizer\\optimizer.py:517: UserWarning:\n",
      "\n",
      "The objective has been evaluated at point [np.str_('gini'), np.int64(12), np.str_('log2'), np.int64(20), np.int64(20), np.str_('best')] before, using random point ['gini', np.int64(10), 'sqrt', np.int64(13), np.int64(17), 'best']\n",
      "\n",
      "c:\\Users\\enama\\AppData\\Local\\Programs\\Python\\Python312\\Lib\\site-packages\\skopt\\optimizer\\optimizer.py:517: UserWarning:\n",
      "\n",
      "The objective has been evaluated at point [np.str_('gini'), np.int64(12), np.str_('log2'), np.int64(5), np.int64(20), np.str_('best')] before, using random point ['entropy', np.int64(7), 'log2', np.int64(14), np.int64(15), 'random']\n",
      "\n",
      "c:\\Users\\enama\\AppData\\Local\\Programs\\Python\\Python312\\Lib\\site-packages\\numpy\\ma\\core.py:2881: RuntimeWarning:\n",
      "\n",
      "invalid value encountered in cast\n",
      "\n",
      "c:\\Users\\enama\\AppData\\Local\\Programs\\Python\\Python312\\Lib\\site-packages\\numpy\\ma\\core.py:2881: RuntimeWarning:\n",
      "\n",
      "invalid value encountered in cast\n",
      "\n",
      "c:\\Users\\enama\\AppData\\Local\\Programs\\Python\\Python312\\Lib\\site-packages\\numpy\\ma\\core.py:2881: RuntimeWarning:\n",
      "\n",
      "invalid value encountered in cast\n",
      "\n",
      "c:\\Users\\enama\\AppData\\Local\\Programs\\Python\\Python312\\Lib\\site-packages\\skopt\\optimizer\\optimizer.py:517: UserWarning:\n",
      "\n",
      "The objective has been evaluated at point [np.str_('gini'), np.int64(12), np.str_('log2'), np.int64(20), np.int64(6), np.str_('best')] before, using random point ['entropy', np.int64(10), 'sqrt', np.int64(8), np.int64(13), 'best']\n",
      "\n",
      "c:\\Users\\enama\\AppData\\Local\\Programs\\Python\\Python312\\Lib\\site-packages\\skopt\\optimizer\\optimizer.py:517: UserWarning:\n",
      "\n",
      "The objective has been evaluated at point [np.str_('gini'), np.int64(12), np.str_('sqrt'), np.int64(20), np.int64(5), np.str_('best')] before, using random point ['gini', np.int64(10), 'sqrt', np.int64(17), np.int64(16), 'random']\n",
      "\n"
     ]
    },
    {
     "name": "stdout",
     "output_type": "stream",
     "text": [
      "Resultado de cada iteração do cv externo: [0.25949367 0.2278481  0.19620253 0.20886076]\n",
      "Média: 0.2231012658227848\n"
     ]
    }
   ],
   "source": [
    "opt_dt = BayesSearchCV(\n",
    "    estimator=DecisionTreeClassifier(random_state=42),\n",
    "    search_spaces=space_dt,\n",
    "    n_iter=50,\n",
    "    scoring='recall',\n",
    "    n_jobs=-1,\n",
    "    cv=inner_cv,\n",
    "    random_state=42,\n",
    ")\n",
    "\n",
    "bs_dt_nested_scores = cross_val_score(opt_dt, x_train, y_train, cv=outer_cv)\n",
    "\n",
    "print(f'Resultado de cada iteração do cv externo: {bs_dt_nested_scores}')\n",
    "print(f'Média: {bs_dt_nested_scores.mean()}');"
   ]
  },
  {
   "cell_type": "code",
   "execution_count": 56,
   "metadata": {},
   "outputs": [
    {
     "name": "stderr",
     "output_type": "stream",
     "text": [
      "c:\\Users\\enama\\AppData\\Local\\Programs\\Python\\Python312\\Lib\\site-packages\\numpy\\ma\\core.py:2881: RuntimeWarning:\n",
      "\n",
      "invalid value encountered in cast\n",
      "\n",
      "c:\\Users\\enama\\AppData\\Local\\Programs\\Python\\Python312\\Lib\\site-packages\\numpy\\ma\\core.py:2881: RuntimeWarning:\n",
      "\n",
      "invalid value encountered in cast\n",
      "\n",
      "c:\\Users\\enama\\AppData\\Local\\Programs\\Python\\Python312\\Lib\\site-packages\\numpy\\ma\\core.py:2881: RuntimeWarning:\n",
      "\n",
      "invalid value encountered in cast\n",
      "\n",
      "c:\\Users\\enama\\AppData\\Local\\Programs\\Python\\Python312\\Lib\\site-packages\\numpy\\ma\\core.py:2881: RuntimeWarning:\n",
      "\n",
      "invalid value encountered in cast\n",
      "\n",
      "c:\\Users\\enama\\AppData\\Local\\Programs\\Python\\Python312\\Lib\\site-packages\\numpy\\ma\\core.py:2881: RuntimeWarning:\n",
      "\n",
      "invalid value encountered in cast\n",
      "\n",
      "c:\\Users\\enama\\AppData\\Local\\Programs\\Python\\Python312\\Lib\\site-packages\\numpy\\ma\\core.py:2881: RuntimeWarning:\n",
      "\n",
      "invalid value encountered in cast\n",
      "\n"
     ]
    },
    {
     "data": {
      "text/plain": [
       "OrderedDict([('criterion', 'entropy'),\n",
       "             ('max_depth', 11),\n",
       "             ('max_features', 'log2'),\n",
       "             ('min_samples_leaf', 5),\n",
       "             ('min_samples_split', 6),\n",
       "             ('splitter', 'best')])"
      ]
     },
     "execution_count": 56,
     "metadata": {},
     "output_type": "execute_result"
    }
   ],
   "source": [
    "opt_dt.fit(x_train, y_train)\n",
    "opt_dt.best_params_"
   ]
  },
  {
   "cell_type": "markdown",
   "metadata": {},
   "source": [
    "## LogisticRegression"
   ]
  },
  {
   "cell_type": "code",
   "execution_count": 57,
   "metadata": {},
   "outputs": [],
   "source": [
    "max_iter = Integer(100, 300)\n",
    "c = Categorical([0.001, 0.01, 0.1, 1, 10])\n",
    "\n",
    "space_lr = [\n",
    "    {\n",
    "        'logisticregression__solver': Categorical(['newton-cg', 'lbfgs']),\n",
    "        'logisticregression__penalty': Categorical(['l2']),\n",
    "        'logisticregression__max_iter': max_iter,\n",
    "        'logisticregression__C': c\n",
    "    },\n",
    "    {\n",
    "        'logisticregression__solver': Categorical(['liblinear']),\n",
    "        'logisticregression__penalty': Categorical(['l1', 'l2']),\n",
    "        'logisticregression__max_iter': max_iter,\n",
    "        'logisticregression__C': c\n",
    "    },\n",
    "]"
   ]
  },
  {
   "cell_type": "code",
   "execution_count": 58,
   "metadata": {},
   "outputs": [
    {
     "name": "stderr",
     "output_type": "stream",
     "text": [
      "c:\\Users\\enama\\AppData\\Local\\Programs\\Python\\Python312\\Lib\\site-packages\\skopt\\optimizer\\optimizer.py:517: UserWarning:\n",
      "\n",
      "The objective has been evaluated at point [np.int64(10), np.int64(134), np.str_('l2'), np.str_('lbfgs')] before, using random point [0.001, np.int64(217), 'l2', 'lbfgs']\n",
      "\n",
      "c:\\Users\\enama\\AppData\\Local\\Programs\\Python\\Python312\\Lib\\site-packages\\skopt\\optimizer\\optimizer.py:517: UserWarning:\n",
      "\n",
      "The objective has been evaluated at point [np.int64(10), np.int64(134), np.str_('l2'), np.str_('lbfgs')] before, using random point [0.001, np.int64(217), 'l2', 'lbfgs']\n",
      "\n",
      "c:\\Users\\enama\\AppData\\Local\\Programs\\Python\\Python312\\Lib\\site-packages\\skopt\\optimizer\\optimizer.py:517: UserWarning:\n",
      "\n",
      "The objective has been evaluated at point [np.int64(10), np.int64(134), np.str_('l2'), np.str_('lbfgs')] before, using random point [0.001, np.int64(217), 'l2', 'lbfgs']\n",
      "\n",
      "c:\\Users\\enama\\AppData\\Local\\Programs\\Python\\Python312\\Lib\\site-packages\\skopt\\optimizer\\optimizer.py:517: UserWarning:\n",
      "\n",
      "The objective has been evaluated at point [np.int64(10), np.int64(134), np.str_('l2'), np.str_('lbfgs')] before, using random point [0.001, np.int64(217), 'l2', 'lbfgs']\n",
      "\n"
     ]
    },
    {
     "name": "stdout",
     "output_type": "stream",
     "text": [
      "Resultado de cada iteração do cv externo: [0.26835443 0.23797468 0.2443038  0.2556962 ]\n",
      "Média: 0.25158227848101267\n"
     ]
    }
   ],
   "source": [
    "opt_lr = BayesSearchCV(\n",
    "    estimator=make_pipeline(StandardScaler(), LogisticRegression()),\n",
    "    search_spaces=space_lr,\n",
    "    n_iter=50,\n",
    "    scoring='recall',\n",
    "    n_jobs=-1,\n",
    "    cv=inner_cv,\n",
    "    random_state=42, \n",
    ")\n",
    "\n",
    "bs_lr_nested_scores = cross_val_score(opt_lr, x_train, y_train, cv=outer_cv)\n",
    "\n",
    "print(f'Resultado de cada iteração do cv externo: {bs_lr_nested_scores}')\n",
    "print(f'Média: {bs_lr_nested_scores.mean()}');"
   ]
  },
  {
   "cell_type": "code",
   "execution_count": 59,
   "metadata": {},
   "outputs": [
    {
     "name": "stderr",
     "output_type": "stream",
     "text": [
      "c:\\Users\\enama\\AppData\\Local\\Programs\\Python\\Python312\\Lib\\site-packages\\skopt\\optimizer\\optimizer.py:517: UserWarning:\n",
      "\n",
      "The objective has been evaluated at point [np.int64(10), np.int64(134), np.str_('l2'), np.str_('lbfgs')] before, using random point [0.001, np.int64(217), 'l2', 'lbfgs']\n",
      "\n"
     ]
    },
    {
     "data": {
      "text/plain": [
       "OrderedDict([('logisticregression__C', 0.001),\n",
       "             ('logisticregression__max_iter', 150),\n",
       "             ('logisticregression__penalty', 'l2'),\n",
       "             ('logisticregression__solver', 'liblinear')])"
      ]
     },
     "execution_count": 59,
     "metadata": {},
     "output_type": "execute_result"
    }
   ],
   "source": [
    "opt_lr.fit(x_train, y_train)\n",
    "opt_lr.best_params_"
   ]
  },
  {
   "cell_type": "code",
   "execution_count": 60,
   "metadata": {},
   "outputs": [
    {
     "data": {
      "text/plain": [
       "array([0, 1, 0, ..., 0, 0, 0])"
      ]
     },
     "execution_count": 60,
     "metadata": {},
     "output_type": "execute_result"
    }
   ],
   "source": [
    "opt_lr.predict(x_test)"
   ]
  },
  {
   "cell_type": "markdown",
   "metadata": {},
   "source": [
    "## KNN"
   ]
  },
  {
   "cell_type": "code",
   "execution_count": 62,
   "metadata": {},
   "outputs": [],
   "source": [
    "space_knn = {\n",
    "    'knn__n_neighbors': Integer(5, 25),\n",
    "    'knn__weights': Categorical(['uniform', 'distance']),\n",
    "    'knn__metric': Categorical(['euclidean', 'manhattan']),\n",
    "}\n",
    "\n",
    "pipe_knn = Pipeline([\n",
    "    ('scaler', StandardScaler()),\n",
    "    ('knn', KNeighborsClassifier())\n",
    "])"
   ]
  },
  {
   "cell_type": "code",
   "execution_count": 63,
   "metadata": {},
   "outputs": [
    {
     "name": "stderr",
     "output_type": "stream",
     "text": [
      "c:\\Users\\enama\\AppData\\Local\\Programs\\Python\\Python312\\Lib\\site-packages\\skopt\\optimizer\\optimizer.py:517: UserWarning:\n",
      "\n",
      "The objective has been evaluated at point [np.int64(10), np.int64(134), np.str_('l2'), np.str_('lbfgs')] before, using random point [0.001, np.int64(217), 'l2', 'lbfgs']\n",
      "\n",
      "c:\\Users\\enama\\AppData\\Local\\Programs\\Python\\Python312\\Lib\\site-packages\\skopt\\optimizer\\optimizer.py:517: UserWarning:\n",
      "\n",
      "The objective has been evaluated at point [np.int64(10), np.int64(134), np.str_('l2'), np.str_('lbfgs')] before, using random point [0.001, np.int64(217), 'l2', 'lbfgs']\n",
      "\n",
      "c:\\Users\\enama\\AppData\\Local\\Programs\\Python\\Python312\\Lib\\site-packages\\skopt\\optimizer\\optimizer.py:517: UserWarning:\n",
      "\n",
      "The objective has been evaluated at point [np.int64(10), np.int64(134), np.str_('l2'), np.str_('lbfgs')] before, using random point [0.001, np.int64(217), 'l2', 'lbfgs']\n",
      "\n",
      "c:\\Users\\enama\\AppData\\Local\\Programs\\Python\\Python312\\Lib\\site-packages\\skopt\\optimizer\\optimizer.py:517: UserWarning:\n",
      "\n",
      "The objective has been evaluated at point [np.int64(10), np.int64(134), np.str_('l2'), np.str_('lbfgs')] before, using random point [0.001, np.int64(217), 'l2', 'lbfgs']\n",
      "\n"
     ]
    },
    {
     "name": "stdout",
     "output_type": "stream",
     "text": [
      "Resultado de cada iteração do cv externo: [0.26835443 0.23797468 0.2443038  0.2556962 ]\n",
      "Média: 0.25158227848101267\n"
     ]
    }
   ],
   "source": [
    "opt_knn = BayesSearchCV(\n",
    "    estimator=pipe_knn,\n",
    "    search_spaces=space_knn,\n",
    "    n_iter=50,\n",
    "    scoring='recall',\n",
    "    n_jobs=-1,\n",
    "    cv=inner_cv,\n",
    "    random_state=42, \n",
    ")\n",
    "\n",
    "bs_knn_nested_scores = cross_val_score(opt_lr, x_train, y_train, cv=outer_cv)\n",
    "\n",
    "print(f'Resultado de cada iteração do cv externo: {bs_knn_nested_scores}')\n",
    "print(f'Média: {bs_knn_nested_scores.mean()}');"
   ]
  },
  {
   "cell_type": "code",
   "execution_count": null,
   "metadata": {},
   "outputs": [],
   "source": []
  }
 ],
 "metadata": {
  "colab": {
   "provenance": [],
   "toc_visible": true
  },
  "kernelspec": {
   "display_name": "Python 3",
   "name": "python3"
  },
  "language_info": {
   "codemirror_mode": {
    "name": "ipython",
    "version": 3
   },
   "file_extension": ".py",
   "mimetype": "text/x-python",
   "name": "python",
   "nbconvert_exporter": "python",
   "pygments_lexer": "ipython3",
   "version": "3.12.4"
  }
 },
 "nbformat": 4,
 "nbformat_minor": 0
}
