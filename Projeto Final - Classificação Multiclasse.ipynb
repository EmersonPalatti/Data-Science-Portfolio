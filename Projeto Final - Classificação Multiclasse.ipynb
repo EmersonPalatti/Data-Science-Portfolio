{
 "cells": [
  {
   "cell_type": "code",
   "execution_count": 1,
   "metadata": {},
   "outputs": [],
   "source": [
    "import pandas as pd "
   ]
  },
  {
   "cell_type": "code",
   "execution_count": 2,
   "metadata": {},
   "outputs": [
    {
     "data": {
      "text/html": [
       "<div>\n",
       "<style scoped>\n",
       "    .dataframe tbody tr th:only-of-type {\n",
       "        vertical-align: middle;\n",
       "    }\n",
       "\n",
       "    .dataframe tbody tr th {\n",
       "        vertical-align: top;\n",
       "    }\n",
       "\n",
       "    .dataframe thead th {\n",
       "        text-align: right;\n",
       "    }\n",
       "</style>\n",
       "<table border=\"1\" class=\"dataframe\">\n",
       "  <thead>\n",
       "    <tr style=\"text-align: right;\">\n",
       "      <th></th>\n",
       "      <th>acidez fixa</th>\n",
       "      <th>acidez volátil</th>\n",
       "      <th>ácido cítrico</th>\n",
       "      <th>açúcar residual</th>\n",
       "      <th>cloretos</th>\n",
       "      <th>dióxido de enxofre livre</th>\n",
       "      <th>dióxido de enxofre total</th>\n",
       "      <th>densidade</th>\n",
       "      <th>pH</th>\n",
       "      <th>sulfatos</th>\n",
       "      <th>álcool</th>\n",
       "      <th>qualidade</th>\n",
       "    </tr>\n",
       "  </thead>\n",
       "  <tbody>\n",
       "    <tr>\n",
       "      <th>0</th>\n",
       "      <td>7.4</td>\n",
       "      <td>0.70</td>\n",
       "      <td>0.00</td>\n",
       "      <td>1.9</td>\n",
       "      <td>0.076</td>\n",
       "      <td>11.0</td>\n",
       "      <td>34.0</td>\n",
       "      <td>0.9978</td>\n",
       "      <td>3.51</td>\n",
       "      <td>0.56</td>\n",
       "      <td>9.4</td>\n",
       "      <td>mediano</td>\n",
       "    </tr>\n",
       "    <tr>\n",
       "      <th>1</th>\n",
       "      <td>7.8</td>\n",
       "      <td>0.88</td>\n",
       "      <td>0.00</td>\n",
       "      <td>2.6</td>\n",
       "      <td>0.098</td>\n",
       "      <td>25.0</td>\n",
       "      <td>67.0</td>\n",
       "      <td>0.9968</td>\n",
       "      <td>3.20</td>\n",
       "      <td>0.68</td>\n",
       "      <td>9.8</td>\n",
       "      <td>mediano</td>\n",
       "    </tr>\n",
       "    <tr>\n",
       "      <th>2</th>\n",
       "      <td>7.8</td>\n",
       "      <td>0.76</td>\n",
       "      <td>0.04</td>\n",
       "      <td>2.3</td>\n",
       "      <td>0.092</td>\n",
       "      <td>15.0</td>\n",
       "      <td>54.0</td>\n",
       "      <td>0.9970</td>\n",
       "      <td>3.26</td>\n",
       "      <td>0.65</td>\n",
       "      <td>9.8</td>\n",
       "      <td>mediano</td>\n",
       "    </tr>\n",
       "    <tr>\n",
       "      <th>3</th>\n",
       "      <td>11.2</td>\n",
       "      <td>0.28</td>\n",
       "      <td>0.56</td>\n",
       "      <td>1.9</td>\n",
       "      <td>0.075</td>\n",
       "      <td>17.0</td>\n",
       "      <td>60.0</td>\n",
       "      <td>0.9980</td>\n",
       "      <td>3.16</td>\n",
       "      <td>0.58</td>\n",
       "      <td>9.8</td>\n",
       "      <td>mediano</td>\n",
       "    </tr>\n",
       "    <tr>\n",
       "      <th>4</th>\n",
       "      <td>7.4</td>\n",
       "      <td>0.66</td>\n",
       "      <td>0.00</td>\n",
       "      <td>1.8</td>\n",
       "      <td>0.075</td>\n",
       "      <td>13.0</td>\n",
       "      <td>40.0</td>\n",
       "      <td>0.9978</td>\n",
       "      <td>3.51</td>\n",
       "      <td>0.56</td>\n",
       "      <td>9.4</td>\n",
       "      <td>mediano</td>\n",
       "    </tr>\n",
       "  </tbody>\n",
       "</table>\n",
       "</div>"
      ],
      "text/plain": [
       "   acidez fixa  acidez volátil  ácido cítrico  açúcar residual  cloretos  \\\n",
       "0          7.4            0.70           0.00              1.9     0.076   \n",
       "1          7.8            0.88           0.00              2.6     0.098   \n",
       "2          7.8            0.76           0.04              2.3     0.092   \n",
       "3         11.2            0.28           0.56              1.9     0.075   \n",
       "4          7.4            0.66           0.00              1.8     0.075   \n",
       "\n",
       "   dióxido de enxofre livre   dióxido de enxofre total  densidade    pH  \\\n",
       "0                       11.0                      34.0     0.9978  3.51   \n",
       "1                       25.0                      67.0     0.9968  3.20   \n",
       "2                       15.0                      54.0     0.9970  3.26   \n",
       "3                       17.0                      60.0     0.9980  3.16   \n",
       "4                       13.0                      40.0     0.9978  3.51   \n",
       "\n",
       "   sulfatos  álcool qualidade  \n",
       "0      0.56     9.4   mediano  \n",
       "1      0.68     9.8   mediano  \n",
       "2      0.65     9.8   mediano  \n",
       "3      0.58     9.8   mediano  \n",
       "4      0.56     9.4   mediano  "
      ]
     },
     "execution_count": 2,
     "metadata": {},
     "output_type": "execute_result"
    }
   ],
   "source": [
    "df = pd.read_csv('https://raw.githubusercontent.com/alura-cursos/classificacao_multiclasse/main/Dados/df_vinho.csv')\n",
    "df.head()"
   ]
  },
  {
   "cell_type": "code",
   "execution_count": 3,
   "metadata": {},
   "outputs": [
    {
     "name": "stdout",
     "output_type": "stream",
     "text": [
      "<class 'pandas.core.frame.DataFrame'>\n",
      "RangeIndex: 1359 entries, 0 to 1358\n",
      "Data columns (total 12 columns):\n",
      " #   Column                     Non-Null Count  Dtype  \n",
      "---  ------                     --------------  -----  \n",
      " 0   acidez fixa                1359 non-null   float64\n",
      " 1   acidez volátil             1359 non-null   float64\n",
      " 2   ácido cítrico              1359 non-null   float64\n",
      " 3   açúcar residual            1359 non-null   float64\n",
      " 4   cloretos                   1359 non-null   float64\n",
      " 5   dióxido de enxofre livre   1359 non-null   float64\n",
      " 6   dióxido de enxofre total   1359 non-null   float64\n",
      " 7   densidade                  1359 non-null   float64\n",
      " 8   pH                         1359 non-null   float64\n",
      " 9   sulfatos                   1359 non-null   float64\n",
      " 10  álcool                     1359 non-null   float64\n",
      " 11  qualidade                  1359 non-null   object \n",
      "dtypes: float64(11), object(1)\n",
      "memory usage: 127.5+ KB\n"
     ]
    }
   ],
   "source": [
    "df.info()"
   ]
  },
  {
   "cell_type": "markdown",
   "metadata": {},
   "source": [
    "Como os dados já estão em formato float e o modelo que vou usar, `RandomForestClassifer`, pode receber a variável target em formato string/object, não irei codificar nenhuma coluna."
   ]
  },
  {
   "cell_type": "code",
   "execution_count": 4,
   "metadata": {},
   "outputs": [],
   "source": [
    "x = df.drop('qualidade', axis=1)\n",
    "y = df['qualidade']"
   ]
  },
  {
   "cell_type": "code",
   "execution_count": 5,
   "metadata": {},
   "outputs": [],
   "source": [
    "from sklearn.model_selection import train_test_split"
   ]
  },
  {
   "cell_type": "code",
   "execution_count": 6,
   "metadata": {},
   "outputs": [],
   "source": [
    "# Dividindo a parte de teste\n",
    "\n",
    "x, x_test, y, y_test = train_test_split(x, y, test_size=0.15,\n",
    "                                        stratify=y,\n",
    "                                        random_state=0)\n",
    "\n",
    "# Parte de validação e treino\n",
    "\n",
    "x_train, x_val, y_train, y_val = train_test_split(x, y,\n",
    "                                                  stratify=y,\n",
    "                                                  random_state=0)"
   ]
  },
  {
   "cell_type": "code",
   "execution_count": 7,
   "metadata": {},
   "outputs": [],
   "source": [
    "from sklearn.ensemble import RandomForestClassifier\n",
    "from sklearn.metrics import confusion_matrix, ConfusionMatrixDisplay, classification_report"
   ]
  },
  {
   "cell_type": "code",
   "execution_count": 8,
   "metadata": {},
   "outputs": [
    {
     "name": "stderr",
     "output_type": "stream",
     "text": [
      "c:\\Users\\enama\\AppData\\Local\\Programs\\Python\\Python312\\Lib\\site-packages\\sklearn\\metrics\\_classification.py:1531: UndefinedMetricWarning: Precision is ill-defined and being set to 0.0 in labels with no predicted samples. Use `zero_division` parameter to control this behavior.\n",
      "  _warn_prf(average, modifier, f\"{metric.capitalize()} is\", len(result))\n",
      "c:\\Users\\enama\\AppData\\Local\\Programs\\Python\\Python312\\Lib\\site-packages\\sklearn\\metrics\\_classification.py:1531: UndefinedMetricWarning: Precision is ill-defined and being set to 0.0 in labels with no predicted samples. Use `zero_division` parameter to control this behavior.\n",
      "  _warn_prf(average, modifier, f\"{metric.capitalize()} is\", len(result))\n",
      "c:\\Users\\enama\\AppData\\Local\\Programs\\Python\\Python312\\Lib\\site-packages\\sklearn\\metrics\\_classification.py:1531: UndefinedMetricWarning: Precision is ill-defined and being set to 0.0 in labels with no predicted samples. Use `zero_division` parameter to control this behavior.\n",
      "  _warn_prf(average, modifier, f\"{metric.capitalize()} is\", len(result))\n"
     ]
    },
    {
     "name": "stdout",
     "output_type": "stream",
     "text": [
      "              precision    recall  f1-score   support\n",
      "\n",
      "         bom       0.67      0.41      0.51        39\n",
      "     mediano       0.86      0.97      0.91       236\n",
      "        ruim       0.00      0.00      0.00        14\n",
      "\n",
      "    accuracy                           0.84       289\n",
      "   macro avg       0.51      0.46      0.47       289\n",
      "weighted avg       0.79      0.84      0.81       289\n",
      "\n"
     ]
    },
    {
     "data": {
      "image/png": "[encoded data removed]",
      "text/plain": [
       "<Figure size 640x480 with 2 Axes>"
      ]
     },
     "metadata": {},
     "output_type": "display_data"
    }
   ],
   "source": [
    "# Iniciando o modelo\n",
    "\n",
    "rfc = RandomForestClassifier(random_state=0,\n",
    "                             max_depth=10)\n",
    "\n",
    "# Treinando o modelo\n",
    "\n",
    "rfc.fit(x_train, y_train)\n",
    "\n",
    "# Previsão\n",
    "\n",
    "y_pred = rfc.predict(x_val)\n",
    "\n",
    "# Avaliando\n",
    "\n",
    "print(classification_report(y_val, y_pred))\n",
    "ConfusionMatrixDisplay.from_predictions(y_val, y_pred, normalize='true', cmap='Blues');"
   ]
  },
  {
   "cell_type": "code",
   "execution_count": 9,
   "metadata": {},
   "outputs": [
    {
     "data": {
      "text/plain": [
       "qualidade\n",
       "mediano    0.818249\n",
       "bom        0.135394\n",
       "ruim       0.046358\n",
       "Name: proportion, dtype: float64"
      ]
     },
     "execution_count": 9,
     "metadata": {},
     "output_type": "execute_result"
    }
   ],
   "source": [
    "df['qualidade'].value_counts(normalize=True)"
   ]
  },
  {
   "cell_type": "markdown",
   "metadata": {},
   "source": [
    "Como a distribuição do target está bem desbalanceada, será feito o balanceamento dos dados com oversample"
   ]
  },
  {
   "cell_type": "code",
   "execution_count": 10,
   "metadata": {},
   "outputs": [],
   "source": [
    "from imblearn.over_sampling import SMOTE"
   ]
  },
  {
   "cell_type": "code",
   "execution_count": 11,
   "metadata": {},
   "outputs": [
    {
     "data": {
      "text/plain": [
       "qualidade\n",
       "mediano    0.333333\n",
       "bom        0.333333\n",
       "ruim       0.333333\n",
       "Name: proportion, dtype: float64"
      ]
     },
     "execution_count": 11,
     "metadata": {},
     "output_type": "execute_result"
    }
   ],
   "source": [
    "oversample = SMOTE(random_state=0)\n",
    "\n",
    "x_balance, y_balance = oversample.fit_resample(x_train, y_train)\n",
    "y_balance.value_counts(normalize=True)"
   ]
  },
  {
   "cell_type": "code",
   "execution_count": 20,
   "metadata": {},
   "outputs": [
    {
     "name": "stdout",
     "output_type": "stream",
     "text": [
      "              precision    recall  f1-score   support\n",
      "\n",
      "         bom       0.45      0.74      0.56        39\n",
      "     mediano       0.92      0.75      0.83       236\n",
      "        ruim       0.23      0.50      0.31        14\n",
      "\n",
      "    accuracy                           0.74       289\n",
      "   macro avg       0.53      0.67      0.57       289\n",
      "weighted avg       0.82      0.74      0.77       289\n",
      "\n"
     ]
    },
    {
     "data": {
      "text/plain": [
       "<sklearn.metrics._plot.confusion_matrix.ConfusionMatrixDisplay at 0x22216d268d0>"
      ]
     },
     "execution_count": 20,
     "metadata": {},
     "output_type": "execute_result"
    },
    {
     "data": {
      "image/png": "[encoded data removed]",
      "text/plain": [
       "<Figure size 640x480 with 2 Axes>"
      ]
     },
     "metadata": {},
     "output_type": "display_data"
    }
   ],
   "source": [
    "# Treinando o modelo com os dados balanceaDOS \n",
    "\n",
    "rfc.fit(x_balance, y_balance)\n",
    "\n",
    "# Previsão \n",
    "\n",
    "y_pred = rfc.predict(x_val)\n",
    "\n",
    "# Avaliando\n",
    "\n",
    "print(classification_report(y_val, y_pred))\n",
    "ConfusionMatrixDisplay.from_predictions(y_val, y_pred, normalize='true', cmap='Blues')"
   ]
  },
  {
   "cell_type": "markdown",
   "metadata": {},
   "source": [
    "Iniciando a __validação cruzada__"
   ]
  },
  {
   "cell_type": "code",
   "execution_count": 14,
   "metadata": {},
   "outputs": [],
   "source": [
    "from imblearn.pipeline import Pipeline as imbpipeline"
   ]
  },
  {
   "cell_type": "code",
   "execution_count": 15,
   "metadata": {},
   "outputs": [],
   "source": [
    "pipeline = imbpipeline([\n",
    "    ('oversample', SMOTE(random_state=0)),\n",
    "    ('RandomForestClassifier', rfc)\n",
    "])"
   ]
  },
  {
   "cell_type": "code",
   "execution_count": 16,
   "metadata": {},
   "outputs": [],
   "source": [
    "from sklearn.model_selection import cross_validate, cross_val_score, StratifiedKFold"
   ]
  },
  {
   "cell_type": "code",
   "execution_count": 22,
   "metadata": {},
   "outputs": [
    {
     "data": {
      "text/plain": [
       "array([0.73593074, 0.75757576, 0.72294372, 0.76190476, 0.74458874])"
      ]
     },
     "execution_count": 22,
     "metadata": {},
     "output_type": "execute_result"
    }
   ],
   "source": [
    "skf = StratifiedKFold(n_splits=5, shuffle=True, random_state=0)\n",
    "\n",
    "cv_results = cross_validate(pipeline, x, y, cv=skf, scoring='accuracy')\n",
    "\n",
    "cv_results['test_score']"
   ]
  },
  {
   "cell_type": "code",
   "execution_count": 23,
   "metadata": {},
   "outputs": [
    {
     "name": "stdout",
     "output_type": "stream",
     "text": [
      "Intervalo de confiança: [0.7161356247183464, 0.7730418644591428]\n"
     ]
    }
   ],
   "source": [
    "# Intervalo de Confiança \n",
    "\n",
    "mean = cv_results['test_score'].mean()\n",
    "std = cv_results['test_score'].std()\n",
    "\n",
    "print(f'Intervalo de confiança: [{mean-2*std}, {min(mean+2*std, 1)}]')"
   ]
  },
  {
   "cell_type": "markdown",
   "metadata": {},
   "source": [
    "# Testando o modelo com os dados de teste"
   ]
  },
  {
   "cell_type": "code",
   "execution_count": 24,
   "metadata": {},
   "outputs": [
    {
     "name": "stdout",
     "output_type": "stream",
     "text": [
      "              precision    recall  f1-score   support\n",
      "\n",
      "         bom       0.47      0.61      0.53        28\n",
      "     mediano       0.91      0.83      0.87       167\n",
      "        ruim       0.38      0.67      0.48         9\n",
      "\n",
      "    accuracy                           0.79       204\n",
      "   macro avg       0.59      0.70      0.63       204\n",
      "weighted avg       0.82      0.79      0.80       204\n",
      "\n"
     ]
    },
    {
     "data": {
      "text/plain": [
       "<sklearn.metrics._plot.confusion_matrix.ConfusionMatrixDisplay at 0x22213704770>"
      ]
     },
     "execution_count": 24,
     "metadata": {},
     "output_type": "execute_result"
    },
    {
     "data": {
      "image/png": "[encoded data removed]",
      "text/plain": [
       "<Figure size 640x480 with 2 Axes>"
      ]
     },
     "metadata": {},
     "output_type": "display_data"
    }
   ],
   "source": [
    "y_pred = rfc.predict(x_test)\n",
    "\n",
    "print(classification_report(y_test, y_pred))\n",
    "ConfusionMatrixDisplay.from_predictions(y_test, y_pred, normalize='true', cmap='Blues')"
   ]
  },
  {
   "cell_type": "code",
   "execution_count": null,
   "metadata": {},
   "outputs": [],
   "source": []
  }
 ],
 "metadata": {
  "kernelspec": {
   "display_name": "Python 3",
   "language": "python",
   "name": "python3"
  },
  "language_info": {
   "codemirror_mode": {
    "name": "ipython",
    "version": 3
   },
   "file_extension": ".py",
   "mimetype": "text/x-python",
   "name": "python",
   "nbconvert_exporter": "python",
   "pygments_lexer": "ipython3",
   "version": "3.12.4"
  }
 },
 "nbformat": 4,
 "nbformat_minor": 2
}
